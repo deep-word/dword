{
 "cells": [
  {
   "cell_type": "code",
   "execution_count": null,
   "metadata": {},
   "outputs": [],
   "source": [
    "# default_exp core"
   ]
  },
  {
   "cell_type": "markdown",
   "metadata": {},
   "source": [
    "# Core\n",
    "\n",
    "> Core class to login to your DeepWord account and generate synthetic videos"
   ]
  },
  {
   "cell_type": "code",
   "execution_count": null,
   "metadata": {},
   "outputs": [],
   "source": [
    "#exporti\n",
    "import base64\n",
    "import json\n",
    "import os\n",
    "import random\n",
    "import time\n",
    "from pathlib import Path\n",
    "from typing import Dict, List, Union\n",
    "\n",
    "import cv2\n",
    "import pytube\n",
    "import requests\n",
    "import urllib3\n",
    "from pytube import YouTube\n",
    "\n",
    "from dword.utils import *\n",
    "from dword.utils import URLs, _exists, TextDicts\n",
    "from nbdev.showdoc import show_doc\n",
    "\n",
    "urllib3.disable_warnings()"
   ]
  },
  {
   "cell_type": "code",
   "execution_count": null,
   "metadata": {},
   "outputs": [],
   "source": [
    "#hide\n",
    "API_KEY = os.environ['API_KEY']\n",
    "SECRET_KEY = os.environ['SECRET_KEY']"
   ]
  },
  {
   "cell_type": "code",
   "execution_count": null,
   "metadata": {},
   "outputs": [],
   "source": [
    "#export\n",
    "class DeepWord:\n",
    "    \"\"\"\n",
    "    A class for logging into your DeepWord account in Python and generating videos at scale\n",
    "    \"\"\"\n",
    "    def __init__(self, api_key: str, secret_key: str) -> None:\n",
    "        \"\"\"Initialize a new DeepWord object. Login to your DeepWord account to generate api keys.\n",
    "        \"\"\"\n",
    "        self.session = requests.session()\n",
    "        self.session.verify = False\n",
    "        self.headers = {'api_key': api_key, 'secerat_key': secret_key, 'Content-Type': 'application/json'}\n",
    "        self._authenticate_user()\n",
    "\n",
    "    def _authenticate_user(self):\n",
    "        url = URLs.validate_token_url\n",
    "        response = self.session.post(url, headers=self.headers)\n",
    "        output = self._process_output(response.text)\n",
    "        if output['success']:\n",
    "            print('login successful')\n",
    "        else:\n",
    "            raise ValueError('Invalid api_key or secret_key')\n",
    "\n",
    "    @staticmethod\n",
    "    def _process_output(x): return json.loads(x)\n",
    "\n",
    "    @property\n",
    "    def available_credits(self) -> int:\n",
    "        \"\"\"Get the number of credits available in your DeepWord account.\n",
    "        \"\"\"\n",
    "        url = URLs.credits_url\n",
    "        response = self.session.post(url, headers=self.headers)\n",
    "        try:\n",
    "            output = self._process_output(response.text)\n",
    "            return output['available_credits']\n",
    "        except:\n",
    "            raise ValueError(response.text)\n",
    "\n",
    "    def list_videos(self) -> List[Dict]:\n",
    "        \"\"\"Get a list of all the videos you've generated using your DeepWord account.\n",
    "        \"\"\"\n",
    "        url = URLs.list_vids_url\n",
    "        response = self.session.post(url, headers=self.headers)\n",
    "        try:\n",
    "            output = self._process_output(response.text)\n",
    "            return output['data']\n",
    "        except:\n",
    "            raise ValueError(response.text)\n",
    "\n",
    "    @property\n",
    "    def _available_languages(self) -> List: return TextDicts.langs\n",
    "\n",
    "    def _available_speakers(self, lang) -> List: return TextDicts.speakers[lang]\n",
    "\n",
    "    def text2speech(self, text: str, language: str, speaker: str, outfile = 'text2speech.mp3') -> str:\n",
    "        if language not in self._available_languages:\n",
    "            raise ValueError(f'Language {language} not available. To see available languages print obj._available_languages')\n",
    "        \n",
    "        if speaker not in self._available_speakers(language):\n",
    "            raise ValueError(f'Invalid model for language {language}. To see available models print obj._available_speakers(language)')\n",
    "        \n",
    "        if Path(outfile).exists():\n",
    "            os.remove(f'{outfile}')\n",
    "        \n",
    "        code = TextDicts.lang2code[language]\n",
    "        sp, gender = speaker.split(' ')\n",
    "\n",
    "        payload='{\"text\":\"%s\",\"name\":\"%s\",\"gender\":\"%s\",\"code\":\"%s\"}'% (text,sp,gender,code)\n",
    "        url = URLs.txt2speech_url\n",
    "        response = self.session.post(url, headers=self.headers,data=payload)\n",
    "\n",
    "        try:\n",
    "            decode_bytes = base64.b64decode(response.text)\n",
    "            with open(outfile, \"wb\") as wav_file:\n",
    "                wav_file.write(decode_bytes)\n",
    "            print(f\"Successfully generated audio file {outfile}\")\n",
    "            return f'{outfile}'\n",
    "        except Exception as e:\n",
    "            raise ValueError(response.text)\n",
    "\n",
    "    def download_video(self, video_id: str) -> None:\n",
    "        \"\"\"Download one of the synthetically generated videos on your DeepWord account. \n",
    "           The video id can be found using the ``list_generated_videos()`` function. The video\n",
    "           should have finished processing to be downloadable.\n",
    "           Optionally, you can use download_all_videos().\n",
    "        \"\"\"\n",
    "        url = URLs.download_vid_url + video_id\n",
    "        response = self.session.get(url, headers=self.headers)\n",
    "        if response.json()['status'] is False:\n",
    "            raise ValueError(\"Video is still processing. Unable to download it at this time.\")\n",
    "        try:\n",
    "            r = requests.get(response.json()['video_url'], stream=True)\n",
    "            with open(response.json()['video_name'], 'wb') as f:\n",
    "                for chunk in r.iter_content(chunk_size=1024): \n",
    "                    if chunk: # filter out keep-alive new chunks\n",
    "                        f.write(chunk)\n",
    "            return (f\"Successfully downloaded video {video_id}!\")\n",
    "        except Exception as e:\n",
    "            raise ValueError(response.text)\n",
    "\n",
    "    def download_all_videos(self, folder: Union[str, Path]  = 'downloaded_videos') -> None:\n",
    "        \"\"\"Download all vidoes generated with your DeepWord account. You can also pass\n",
    "        a folder or nested folders where you want the vidoes to be saved.\n",
    "        \"\"\"\n",
    "        url = URLs.list_vids_url\n",
    "        path = Path().cwd()\n",
    "        \n",
    "        folder = Path(folder)\n",
    "        folder.mkdir(parents = True, exist_ok = True)\n",
    "\n",
    "        response = self.session.post(url, headers=self.headers)\n",
    "        try:\n",
    "            for item in response.json()['data']:\n",
    "                r = requests.get(item['video_url'], stream=True)\n",
    "\n",
    "                fname1 = item['title'].replace(\".mp4\",'')+'.mp4'\n",
    "                full_path = f'{path/folder/fname1}'\n",
    "\n",
    "                with open(full_path, 'wb') as f:\n",
    "                    for chunk in r.iter_content(chunk_size=1024): \n",
    "                        if chunk: # filter out keep-alive new chunks\n",
    "                            f.write(chunk)\n",
    "            print(f\"Successfully downloaded all videos in folder {folder}!\")\n",
    "        except Exception as e:\n",
    "            raise ValueError(response.text)\n",
    "\n",
    "#     def download_youtube_video(self, url: str, types: str = 'video', folder = 'youtube'):\n",
    "#         \"\"\"Download a video from YouTube. You can also donwload an audio by providing\n",
    "#            types = 'audio'.\n",
    "#         \"\"\"\n",
    "#         folder = Path(folder) / types\n",
    "#         folder.mkdir(exist_ok = True, parents = True)\n",
    "#         if types == \"video\":\n",
    "#             pytube.YouTube(url).streams.get_highest_resolution().download(folder)\n",
    "#             print(\"downloaded youtube video successfully!\")\n",
    "#         else:\n",
    "#             yt = YouTube(url) \n",
    "#             stream = yt.streams.filter(only_audio=True).first()\n",
    "#             out_file  = stream.download(folder)\n",
    "#             base, ext = os.path.splitext(out_file)\n",
    "#             new_file = base + '_audio.mp3'\n",
    "#             os.rename(out_file, new_file)\n",
    "#             print(\"downloaded youtube audio successfully!\")\n",
    "    \n",
    "    def download_audio_samples(self):\n",
    "        \"\"\"Download all the audio samples available on the DeepWord website\n",
    "        \"\"\"\n",
    "        folder = Path().cwd() / 'audio_samples'\n",
    "        folder.mkdir(exist_ok = True)\n",
    "\n",
    "        url = URLs.api_get_audio_sample\n",
    "        response = self.session.post(url, headers=self.headers)\n",
    "        try:\n",
    "            for dic in self._process_output(response.text)['sample_audio_files']:\n",
    "                doc = self.session.get(dic['audio_url'])\n",
    "                fname = folder / (dic['title']+dic['extension'])\n",
    "                f = open(fname,\"wb\")\n",
    "                f.write(doc.content)\n",
    "                f.close()\n",
    "            return (\"Successfully downloaded all audio samples\")\n",
    "        except Exception as e:\n",
    "            raise ValueError(response.text)\n",
    "\n",
    "    def download_video_actors(self):\n",
    "        \"\"\"Download all the video actors available on the DeepWord website.\n",
    "        \"\"\"\n",
    "        folder = Path().cwd() / 'video_actors'\n",
    "        folder.mkdir(exist_ok = True)\n",
    "\n",
    "        url = URLs.api_get_video_actors\n",
    "        response = self.session.post(url, headers=self.headers)\n",
    "        try:\n",
    "            for dic in self._process_output(response.text)['sample_video_files']:\n",
    "                with self.session.get(dic['video_url'], stream=True) as r:\n",
    "                    r.raise_for_status()\n",
    "                    fname = folder / (dic['title']+dic['extension'])\n",
    "                    with open(fname, 'wb') as f:\n",
    "                        for chunk in r.iter_content(chunk_size=8192): \n",
    "                            f.write(chunk)\n",
    "            return (\"Successfully downloaded all video actors\")\n",
    "        except Exception as e:\n",
    "            raise ValueError(response.text)\n",
    "\n",
    "    def trim_video(self, video: Union[str, Path], start_time: int, end_time: int, outfile: Union[str, Path] = 'trimmed_video.mp4') -> None:\n",
    "        \"\"\"\n",
    "        Trim a video in place from start (secs) to end (secs).\n",
    "        For youtube videos you can use ``download_youtube_video`` before trimming them.\n",
    "        \"\"\"\n",
    "        start_time = to_hhmmss(int(start_time)) # 0 -> 00:00:00\n",
    "        end_time = to_hhmmss(int(end_time))\n",
    "        if \"Content-Type\" in self.headers:\n",
    "            self.headers.pop(\"Content-Type\")\n",
    "        url = URLs.trim_video\n",
    "        payload={\"start_time\": start_time,\"end_time\":end_time }\n",
    "        files = {'video': open(video,'rb')}\n",
    "        response = self.session.post(url, headers=self.headers, data=payload,files=files)\n",
    "        try:\n",
    "            r = self.session.get(response.json()['file_url'], stream=True)\n",
    "            with open(outfile, 'wb') as f:\n",
    "                for chunk in r.iter_content(chunk_size=1024): \n",
    "                    if chunk: # filter out keep-alive new chunks\n",
    "                        f.write(chunk)\n",
    "            print('Successfully trimmed video')\n",
    "            return outfile\n",
    "        except Exception as e:\n",
    "            raise ValueError(response.text)\n",
    "\n",
    "            \n",
    "    def generate_video(self, video: str, audio: str, title: str = None):\n",
    "        \"\"\"Generate a synthetic video using a video of a person talking and the audio\n",
    "           you want them to say. You can check the status of the video using\n",
    "           ``list_generated_videos`` and download it using ``download_video`` or\n",
    "           ``download_all_videos``\n",
    "        Args:\n",
    "            video (str): Video of the person you want talking.\n",
    "            audio (str): Audio you want the person to say.\n",
    "            title (str, optional): Optionally provide a title for the output. Defaults to \n",
    "                                   name of the video file.\n",
    "        Raises:\n",
    "            ValueError: If video or audio don't exist\n",
    "        \"\"\"\n",
    "        if not _exists(video): raise ValueError(f'File not found {video}')\n",
    "        if not _exists(audio): raise ValueError(f'File not found {audio}')\n",
    "        payload = {}\n",
    "        if title is not None:\n",
    "            title = Path(title).stem\n",
    "            payload={'name': title}\n",
    "        headers = {}\n",
    "        headers['api_key'] = self.headers['api_key']\n",
    "        headers['secerat_key'] = self.headers['secerat_key']\n",
    "        url = URLs.generate_vid_url\n",
    "        files = {'video_file': open(video,'rb'),'audio_file': open(audio,'rb')}\n",
    "        response = self.session.post(url, headers=headers,files=files,data=payload)\n",
    "        try:\n",
    "            return response.json()\n",
    "        except Exception as e:\n",
    "            raise ValueError(e)"
   ]
  },
  {
   "cell_type": "code",
   "execution_count": null,
   "metadata": {},
   "outputs": [
    {
     "name": "stdout",
     "output_type": "stream",
     "text": [
      "login successful\n"
     ]
    }
   ],
   "source": [
    "account = DeepWord(API_KEY, SECRET_KEY)"
   ]
  },
  {
   "cell_type": "markdown",
   "metadata": {},
   "source": [
    "## Account details"
   ]
  },
  {
   "cell_type": "code",
   "execution_count": null,
   "metadata": {},
   "outputs": [
    {
     "data": {
      "text/markdown": [
       "<h4 id=\"DeepWord.available_credits\" class=\"doc_header\"><code>DeepWord.available_credits</code><a href=\"\" class=\"source_link\" style=\"float:right\">[source]</a></h4>\n",
       "\n",
       "Get the number of credits available in your DeepWord account.\n",
       "        "
      ],
      "text/plain": [
       "<IPython.core.display.Markdown object>"
      ]
     },
     "metadata": {},
     "output_type": "display_data"
    }
   ],
   "source": [
    "show_doc(DeepWord.available_credits)"
   ]
  },
  {
   "cell_type": "code",
   "execution_count": null,
   "metadata": {},
   "outputs": [
    {
     "data": {
      "text/plain": [
       "252"
      ]
     },
     "execution_count": null,
     "metadata": {},
     "output_type": "execute_result"
    }
   ],
   "source": [
    "account.available_credits"
   ]
  },
  {
   "cell_type": "code",
   "execution_count": null,
   "metadata": {},
   "outputs": [
    {
     "data": {
      "text/markdown": [
       "<h4 id=\"DeepWord.list_videos\" class=\"doc_header\"><code>DeepWord.list_videos</code><a href=\"__main__.py#L38\" class=\"source_link\" style=\"float:right\">[source]</a></h4>\n",
       "\n",
       "> <code>DeepWord.list_videos</code>()\n",
       "\n",
       "Get a list of all the videos you've generated using your DeepWord account.\n",
       "        "
      ],
      "text/plain": [
       "<IPython.core.display.Markdown object>"
      ]
     },
     "metadata": {},
     "output_type": "display_data"
    }
   ],
   "source": [
    "show_doc(DeepWord.list_videos)"
   ]
  },
  {
   "cell_type": "code",
   "execution_count": null,
   "metadata": {},
   "outputs": [
    {
     "data": {
      "text/plain": [
       "{'email': 'blablabla@yopmail.com',\n",
       " 'thumbnail': 'video_b47y6adtqkkqyr6jyq.mp4',\n",
       " 'title': 'first_deepword_video',\n",
       " 'video_url': 'https://videos-deep-word123.s3.us-east-2.amazonaws.com/output_data/b47y6adtqkkqyr6jyq.mp4',\n",
       " 'video_duration': '15.024',\n",
       " 'video_id': 'b47y6adtqkkqyr6jyq',\n",
       " 'generate_date': '2021-07-11T05:25:28.000Z',\n",
       " 'output_status': 'Complete'}"
      ]
     },
     "execution_count": null,
     "metadata": {},
     "output_type": "execute_result"
    }
   ],
   "source": [
    "all_videos = account.list_videos()\n",
    "all_videos[0]"
   ]
  },
  {
   "cell_type": "code",
   "execution_count": null,
   "metadata": {},
   "outputs": [
    {
     "data": {
      "text/plain": [
       "353"
      ]
     },
     "execution_count": null,
     "metadata": {},
     "output_type": "execute_result"
    }
   ],
   "source": [
    "len(all_videos)"
   ]
  },
  {
   "cell_type": "markdown",
   "metadata": {},
   "source": [
    "## Downloading synthetically generated videos"
   ]
  },
  {
   "cell_type": "code",
   "execution_count": null,
   "metadata": {},
   "outputs": [
    {
     "data": {
      "text/markdown": [
       "<h4 id=\"DeepWord.download_video\" class=\"doc_header\"><code>DeepWord.download_video</code><a href=\"__main__.py#L80\" class=\"source_link\" style=\"float:right\">[source]</a></h4>\n",
       "\n",
       "> <code>DeepWord.download_video</code>(**`video_id`**:`str`)\n",
       "\n",
       "Download one of the synthetically generated videos on your DeepWord account. \n",
       "The video id can be found using the ``list_generated_videos()`` function. The video\n",
       "should have finished processing to be downloadable.\n",
       "Optionally, you can use download_all_videos()."
      ],
      "text/plain": [
       "<IPython.core.display.Markdown object>"
      ]
     },
     "metadata": {},
     "output_type": "display_data"
    }
   ],
   "source": [
    "show_doc(DeepWord.download_video)"
   ]
  },
  {
   "cell_type": "code",
   "execution_count": null,
   "metadata": {},
   "outputs": [
    {
     "data": {
      "text/markdown": [
       "<h4 id=\"DeepWord.download_all_videos\" class=\"doc_header\"><code>DeepWord.download_all_videos</code><a href=\"__main__.py#L100\" class=\"source_link\" style=\"float:right\">[source]</a></h4>\n",
       "\n",
       "> <code>DeepWord.download_all_videos</code>(**`folder`**:`Union`\\[`str`, `Path`\\]=*`'downloaded_videos'`*)\n",
       "\n",
       "Download all vidoes generated with your DeepWord account. You can also pass\n",
       "a folder or nested folders where you want the vidoes to be saved."
      ],
      "text/plain": [
       "<IPython.core.display.Markdown object>"
      ]
     },
     "metadata": {},
     "output_type": "display_data"
    }
   ],
   "source": [
    "show_doc(DeepWord.download_all_videos)"
   ]
  },
  {
   "cell_type": "code",
   "execution_count": null,
   "metadata": {},
   "outputs": [
    {
     "name": "stdout",
     "output_type": "stream",
     "text": [
      "Successfully downloaded all videos in folder my_videos!\n"
     ]
    }
   ],
   "source": [
    "account.download_all_videos('my_videos')"
   ]
  },
  {
   "cell_type": "code",
   "execution_count": null,
   "metadata": {},
   "outputs": [
    {
     "name": "stdout",
     "output_type": "stream",
     "text": [
      "0_.mp4                                add_afffile1.mp3.mp4\n",
      "10_.mp4                               add_afffile2.mp3.mp4\n",
      "11_.mp4                               add_afffile3.mp3.mp4\n",
      "12_.mp4                               add_afffile4.mp3.mp4\n",
      "13_.mp4                               add_afffile5.mp3.mp4\n",
      "14_.mp4                               add_afffile6.mp3.mp4\n",
      "15_.mp4                               add_afffile7.mp3.mp4\n",
      "16_.mp4                               add_afffile8.mp3.mp4\n",
      "17_.mp4                               add_afffile9.mp3.mp4\n",
      "18_.mp4                               aff_45file0.mp3.mp4\n",
      "19_.mp4                               aff_45file1.mp3.mp4\n",
      "1_.mp4                                aff_45file2.mp3.mp4\n",
      "20_.mp4                               aff_datfile0.mp3.mp4\n",
      "21_.mp4                               aff_datfile1.mp3.mp4\n",
      "22_.mp4                               aff_datfile2.mp3.mp4\n",
      "23_.mp4                               aff_datfile3.mp3.mp4\n",
      "24_.mp4                               aff_datfile4.mp3.mp4\n",
      "25_.mp4                               aff_datfile5.mp3.mp4\n",
      "26_.mp4                               afffile0.mp3.mp4\n",
      "27_.mp4                               afffile1.mp3.mp4\n",
      "28_.mp4                               afffile2.mp3.mp4\n",
      "29_.mp4                               bff_datafile0.mp3.mp4\n",
      "2_.mp4                                bff_datafile1.mp3.mp4\n",
      "30_.mp4                               bff_datafile10.mp3.mp4\n",
      "31_.mp4                               bff_datafile11.mp3.mp4\n",
      "32_.mp4                               bff_datafile2.mp3.mp4\n",
      "33_.mp4                               bff_datafile3.mp3.mp4\n",
      "34_.mp4                               bff_datafile4.mp3.mp4\n",
      "35_.mp4                               bff_datafile5.mp3.mp4\n",
      "36_.mp4                               bff_datafile6.mp3.mp4\n",
      "37_.mp4                               bff_datafile7.mp3.mp4\n",
      "38_.mp4                               bff_datafile8.mp3.mp4\n",
      "39_.mp4                               bff_datafile9.mp3.mp4\n",
      "3_.mp4                                data_126_file0.mp3.mp4\n",
      "40_.mp4                               data_126_file1.mp3.mp4\n",
      "41_.mp4                               data_126_file2.mp3.mp4\n",
      "42_.mp4                               data_126_file3.mp3.mp4\n",
      "43_.mp4                               data_Postfile0.mp3.mp4\n",
      "44_.mp4                               data_Postfile1.mp3.mp4\n",
      "45_.mp4                               data_Postfile10.mp3.mp4\n",
      "46_.mp4                               data_Postfile11.mp3.mp4\n",
      "47_.mp4                               data_Postfile12.mp3.mp4\n",
      "48_.mp4                               data_Postfile13.mp3.mp4\n",
      "49_.mp4                               data_Postfile14.mp3.mp4\n",
      "4_.mp4                                data_Postfile15.mp3.mp4\n",
      "50_.mp4                               data_Postfile16.mp3.mp4\n",
      "51_.mp4                               data_Postfile17.mp3.mp4\n",
      "5_.mp4                                data_Postfile18.mp3.mp4\n",
      "6_.mp4                                data_Postfile19.mp3.mp4\n",
      "7_.mp4                                data_Postfile2.mp3.mp4\n",
      "8_.mp4                                data_Postfile3.mp3.mp4\n",
      "9_.mp4                                data_Postfile4.mp3.mp4\n",
      "Abel---radoooooooffff---data.mp4      data_Postfile5.mp3.mp4\n",
      "Albina---radoooooooffff---data.mp4    data_Postfile6.mp3.mp4\n",
      "Alisha---radoooooooffff---data.mp4    data_Postfile7.mp3.mp4\n",
      "Alishia---radoooooooffff---data.mp4   data_Postfile8.mp3.mp4\n",
      "Allene---radoooooooffff---data.mp4    data_Postfile9.mp3.mp4\n",
      "Amber---radoooooooffff---data.mp4     data_afffile0.mp3.mp4\n",
      "Ammie---radoooooooffff---data.mp4     data_afffile1.mp3.mp4\n",
      "Anna.mp4                              data_afffile2.mp3.mp4\n",
      "Art---radoooooooffff---data.mp4       data_afffile3.mp3.mp4\n",
      "Bernardo---radoooooooffff---data.mp4  data_afffile4.mp3.mp4\n",
      "Bette---radoooooooffff---data.mp4     first_deepword_video.mp4\n",
      "Blair---radoooooooffff---data.mp4     new_Postfile0.mp3.mp4\n",
      "Blondell---radoooooooffff---data.mp4  new_Postfile1.mp3.mp4\n",
      "Bobbye---radoooooooffff---data.mp4    new_Postfile2.mp3.mp4\n",
      "Brock---radoooooooffff---data.mp4     new_Postfile3.mp3.mp4\n",
      "Cammy---radoooooooffff---data.mp4     new_Postfile4.mp3.mp4\n",
      "Carlos.mp4                            new_Postfile5.mp3.mp4\n",
      "Carmelina---radoooooooffff---data.mp4 newact_newfile0.mp3.mp4\n",
      "Cecily---radoooooooffff---data.mp4    newact_newfile10.mp3.mp4\n",
      "Chanel---radoooooooffff---data.mp4    newact_newfile11.mp3.mp4\n",
      "Deeanna---radoooooooffff---data.mp4   newact_newfile12.mp3.mp4\n",
      "Delisa---radoooooooffff---data.mp4    newact_newfile13.mp3.mp4\n",
      "Delmy---radoooooooffff---data.mp4     newact_newfile14.mp3.mp4\n",
      "Donette---radoooooooffff---data.mp4   newact_newfile15.mp3.mp4\n",
      "Dyan---radoooooooffff---data.mp4      newact_newfile17.mp3.mp4\n",
      "Elly---radoooooooffff---data.mp4      newact_newfile2.mp3.mp4\n",
      "Elza---radoooooooffff---data.mp4      newact_newfile20.mp3.mp4\n",
      "Emerson---radoooooooffff---data.mp4   newact_newfile22.mp3.mp4\n",
      "Erick---radoooooooffff---data.mp4     newact_newfile23.mp3.mp4\n",
      "Ernie---radoooooooffff---data.mp4     newact_newfile5.mp3.mp4\n",
      "Ezekiel---radoooooooffff---data.mp4   newact_newfile6.mp3.mp4\n",
      "Fatima---radoooooooffff---data.mp4    newact_newfile8.mp3.mp4\n",
      "Fletcher---radoooooooffff---data.mp4  push_afffile0.mp4\n",
      "Francine---radoooooooffff---data.mp4  push_afffile1.mp4\n",
      "Gladys---radoooooooffff---data.mp4    push_afffile2.mp4\n",
      "Graciela---radoooooooffff---data.mp4  push_afffile3.mp4\n",
      "Ilene---radoooooooffff---data.mp4     push_afffile4.mp4\n",
      "Jamal---radoooooooffff---data.mp4     synthetic_video.mp4\n",
      "James---radoooooooffff---data.mp4     test_afffile0.mp3.mp4\n",
      "Jina---radoooooooffff---data.mp4      test_afffile1.mp3.mp4\n",
      "Johnetta---radoooooooffff---data.mp4  test_afffile2.mp3.mp4\n",
      "Jose---radoooooooffff---data.mp4      test_afffile3.mp3.mp4\n",
      "Josephine---radoooooooffff---data.mp4 test_afffile4.mp3.mp4\n",
      "Kallie---radoooooooffff---data.mp4    test_afffile5.mp3.mp4\n",
      "Kanisha---radoooooooffff---data.mp4   test_afffile6.mp3.mp4\n",
      "Karl---radoooooooffff---data.mp4      test_afffile7.mp3.mp4\n",
      "Kati---radoooooooffff---data.mp4      test_afffile8.mp3.mp4\n",
      "Kiley---radoooooooffff---data.mp4     test_afffile9.mp3.mp4\n",
      "Kris---radoooooooffff---data.mp4      test_newfile0.mp3.mp4\n",
      "Laurel---radoooooooffff---data.mp4    test_newfile1.mp3.mp4\n",
      "Lavera---radoooooooffff---data.mp4    test_newfile10.mp3.mp4\n",
      "Lenna---radoooooooffff---data.mp4     test_newfile11.mp3.mp4\n",
      "Leota---radoooooooffff---data.mp4     test_newfile12.mp3.mp4\n",
      "Lorrie---radoooooooffff---data.mp4    test_newfile13.mp3.mp4\n",
      "Marjory---radoooooooffff---data.mp4   test_newfile14.mp3.mp4\n",
      "Maryann---radoooooooffff---data.mp4   test_newfile15.mp3.mp4\n",
      "Mattie---radoooooooffff---data.mp4    test_newfile16.mp3.mp4\n",
      "Maurine---radoooooooffff---data.mp4   test_newfile17.mp3.mp4\n",
      "Meaghan---radoooooooffff---data.mp4   test_newfile18.mp3.mp4\n",
      "Micaela---radoooooooffff---data.mp4   test_newfile19.mp3.mp4\n",
      "Minna---radoooooooffff---data.mp4     test_newfile2.mp3.mp4\n",
      "Mitsue---radoooooooffff---data.mp4    test_newfile3.mp3.mp4\n",
      "Moon---radoooooooffff---data.mp4      test_newfile4.mp3.mp4\n",
      "Noelle.mp4                            test_newfile5.mp3.mp4\n",
      "Penney---radoooooooffff---data.mp4    test_newfile6.mp3.mp4\n",
      "Roxane---radoooooooffff---data.mp4    test_newfile7.mp3.mp4\n",
      "Rozella---radoooooooffff---data.mp4   test_newfile8.mp3.mp4\n",
      "Sabra---radoooooooffff---data.mp4     test_newfile9.mp3.mp4\n",
      "Sage---radoooooooffff---data.mp4      testfile0.mp3.mp4\n",
      "Shenika---radoooooooffff---data.mp4   testfile1.mp3.mp4\n",
      "Simona---radoooooooffff---data.mp4    testfile2.mp3.mp4\n",
      "Solange---radoooooooffff---data.mp4   testfile3.mp3.mp4\n",
      "Tamar---radoooooooffff---data.mp4     testfile4.mp3.mp4\n",
      "Tawna---radoooooooffff---data.mp4     testfile5.mp3.mp4\n",
      "Tonette---radoooooooffff---data.mp4   testfile6.mp3.mp4\n",
      "Valentine---radoooooooffff---data.mp4 testfile7.mp3.mp4\n",
      "Vallie---radoooooooffff---data.mp4    testfile8.mp3.mp4\n",
      "Veronika---radoooooooffff---data.mp4  testfile9.mp3.mp4\n",
      "Viva---radoooooooffff---data.mp4      video_0.mp4\n",
      "Willard---radoooooooffff---data.mp4   video_1.mp4\n",
      "Willow---radoooooooffff---data.mp4    video_2.mp4\n",
      "Youlanda---radoooooooffff---data.mp4  video_3.mp4\n",
      "Yuki---radoooooooffff---data.mp4      video_4.mp4\n",
      "add_afffile0.mp3.mp4                  video_5.mp4\n"
     ]
    }
   ],
   "source": [
    "!ls my_videos"
   ]
  },
  {
   "cell_type": "markdown",
   "metadata": {},
   "source": [
    "## Downloading sample data"
   ]
  },
  {
   "cell_type": "code",
   "execution_count": null,
   "metadata": {},
   "outputs": [
    {
     "data": {
      "text/markdown": [
       "<h4 id=\"DeepWord.download_video_actors\" class=\"doc_header\"><code>DeepWord.download_video_actors</code><a href=\"__main__.py#L163\" class=\"source_link\" style=\"float:right\">[source]</a></h4>\n",
       "\n",
       "> <code>DeepWord.download_video_actors</code>()\n",
       "\n",
       "Download all the video actors available on the DeepWord website.\n",
       "        "
      ],
      "text/plain": [
       "<IPython.core.display.Markdown object>"
      ]
     },
     "metadata": {},
     "output_type": "display_data"
    }
   ],
   "source": [
    "show_doc(DeepWord.download_video_actors)"
   ]
  },
  {
   "cell_type": "code",
   "execution_count": null,
   "metadata": {},
   "outputs": [
    {
     "data": {
      "text/plain": [
       "'Successfully downloaded all video actors'"
      ]
     },
     "execution_count": null,
     "metadata": {},
     "output_type": "execute_result"
    }
   ],
   "source": [
    "account.download_video_actors()"
   ]
  },
  {
   "cell_type": "code",
   "execution_count": null,
   "metadata": {},
   "outputs": [
    {
     "name": "stdout",
     "output_type": "stream",
     "text": [
      "Anna.mp4    Dalton.mp4  Isaac.mp4   Karen.mp4   Mia.mp4     Richard.mp4\n",
      "Berto.mp4   Emily.mp4   James.mp4   Marcus.mp4  Micheal.mp4 Sam.mp4\n",
      "Carlos.mp4  Henry.mp4   Julia.mp4   Mary.mp4    Noelle.mp4  Trey.mp4\n"
     ]
    }
   ],
   "source": [
    "!ls video_actors"
   ]
  },
  {
   "cell_type": "code",
   "execution_count": null,
   "metadata": {},
   "outputs": [
    {
     "data": {
      "text/markdown": [
       "<h4 id=\"DeepWord.download_audio_samples\" class=\"doc_header\"><code>DeepWord.download_audio_samples</code><a href=\"__main__.py#L144\" class=\"source_link\" style=\"float:right\">[source]</a></h4>\n",
       "\n",
       "> <code>DeepWord.download_audio_samples</code>()\n",
       "\n",
       "Download all the audio samples available on the DeepWord website\n",
       "        "
      ],
      "text/plain": [
       "<IPython.core.display.Markdown object>"
      ]
     },
     "metadata": {},
     "output_type": "display_data"
    }
   ],
   "source": [
    "show_doc(DeepWord.download_audio_samples)"
   ]
  },
  {
   "cell_type": "code",
   "execution_count": null,
   "metadata": {},
   "outputs": [
    {
     "data": {
      "text/plain": [
       "'Successfully downloaded all audio samples'"
      ]
     },
     "execution_count": null,
     "metadata": {},
     "output_type": "execute_result"
    }
   ],
   "source": [
    "account.download_audio_samples()"
   ]
  },
  {
   "cell_type": "code",
   "execution_count": null,
   "metadata": {},
   "outputs": [
    {
     "name": "stdout",
     "output_type": "stream",
     "text": [
      "Amy Poehler.mp3            Mark Cuban.mp3\n",
      "Boeing CEO.mp3             Martin Scorsese.mp3\n",
      "Chamath Phalihapitiya.mp3  Michael Scott.mp3\n",
      "Chinese Instructor.mp3     Neil deGrasse Tyson.mp3\n",
      "Edward Snowden.mp3         Peyton Manning.mp3\n",
      "Elizabeth Holmes.mp3       Scottie Pippen.mp3\n",
      "Financial Advice.mp3       Shaq.mp3\n",
      "Footbal Meme.mp3           Swim Coach.mp3\n",
      "George Hotz.mp3            Tampa Bay Rays Manager.mp3\n",
      "Kevin Hart.mp3             [Korean] Bong Joon Ho.mp3\n"
     ]
    }
   ],
   "source": [
    "!ls audio_samples"
   ]
  },
  {
   "cell_type": "markdown",
   "metadata": {},
   "source": [
    "## Using text2speech\n",
    "\n",
    "One of the big advantages of using DeepWord is you don't even have to record an audio. You can use our text2speech feature to convert your text into audio. We support a **41 languages** and a bunch of speakers for each language. To see the available languages you can do"
   ]
  },
  {
   "cell_type": "code",
   "execution_count": null,
   "metadata": {},
   "outputs": [
    {
     "data": {
      "text/plain": [
       "['arabic', 'bengali', 'chinese', 'czech', 'danish']"
      ]
     },
     "execution_count": null,
     "metadata": {},
     "output_type": "execute_result"
    }
   ],
   "source": [
    "account._available_languages[:5]"
   ]
  },
  {
   "cell_type": "code",
   "execution_count": null,
   "metadata": {},
   "outputs": [
    {
     "data": {
      "text/plain": [
       "'arabic'"
      ]
     },
     "execution_count": null,
     "metadata": {},
     "output_type": "execute_result"
    }
   ],
   "source": [
    "lang = account._available_languages[0]\n",
    "lang"
   ]
  },
  {
   "cell_type": "code",
   "execution_count": null,
   "metadata": {},
   "outputs": [
    {
     "data": {
      "text/plain": [
       "['ar-XA-Wavenet-A FEMALE',\n",
       " 'ar-XA-Wavenet-B MALE',\n",
       " 'ar-XA-Wavenet-C MALE',\n",
       " 'ar-XA-Standard-A FEMALE',\n",
       " 'ar-XA-Standard-B MALE',\n",
       " 'ar-XA-Standard-C MALE',\n",
       " 'ar-XA-Standard-D FEMALE']"
      ]
     },
     "execution_count": null,
     "metadata": {},
     "output_type": "execute_result"
    }
   ],
   "source": [
    "speakers = account._available_speakers(lang)\n",
    "speakers"
   ]
  },
  {
   "cell_type": "code",
   "execution_count": null,
   "metadata": {},
   "outputs": [
    {
     "name": "stdout",
     "output_type": "stream",
     "text": [
      "Successfully generated audio file text2speech.mp3\n"
     ]
    },
    {
     "data": {
      "text/plain": [
       "'text2speech.mp3'"
      ]
     },
     "execution_count": null,
     "metadata": {},
     "output_type": "execute_result"
    }
   ],
   "source": [
    "text = 'I want this speaker to speak this text'\n",
    "account.text2speech(text, lang, speakers[0])"
   ]
  },
  {
   "cell_type": "code",
   "execution_count": null,
   "metadata": {},
   "outputs": [
    {
     "data": {
      "text/html": [
       "\n",
       "                <audio  controls=\"controls\" >\n",
       "                    <source src=\"data:audio/mpeg;base64,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\" type=\"audio/mpeg\" />\n",
       "                    Your browser does not support the audio element.\n",
       "                </audio>\n",
       "              "
      ],
      "text/plain": [
       "<IPython.lib.display.Audio object>"
      ]
     },
     "execution_count": null,
     "metadata": {},
     "output_type": "execute_result"
    }
   ],
   "source": [
    "play_audio('text2speech.mp3')"
   ]
  },
  {
   "cell_type": "markdown",
   "metadata": {},
   "source": [
    "## Trim videos\n",
    "\n",
    "We trim videos on our servers for you so trim videos is part of the core module and not the utils module"
   ]
  },
  {
   "cell_type": "code",
   "execution_count": null,
   "metadata": {},
   "outputs": [
    {
     "data": {
      "text/markdown": [
       "<h4 id=\"DeepWord.trim_video\" class=\"doc_header\"><code>DeepWord.trim_video</code><a href=\"__main__.py#L183\" class=\"source_link\" style=\"float:right\">[source]</a></h4>\n",
       "\n",
       "> <code>DeepWord.trim_video</code>(**`video`**:`Union`\\[`str`, `Path`\\], **`start_time`**:`int`, **`end_time`**:`int`, **`outfile`**:`Union`\\[`str`, `Path`\\]=*`'trimmed_video.mp4'`*)\n",
       "\n",
       "Trim a video in place from start (secs) to end (secs).\n",
       "For youtube videos you can use ``download_youtube_video`` before trimming them."
      ],
      "text/plain": [
       "<IPython.core.display.Markdown object>"
      ]
     },
     "metadata": {},
     "output_type": "display_data"
    }
   ],
   "source": [
    "show_doc(DeepWord.trim_video)"
   ]
  },
  {
   "cell_type": "code",
   "execution_count": null,
   "metadata": {},
   "outputs": [
    {
     "data": {
      "text/html": [
       "<video src=\"test_video.mp4\" controls  width=\"400\"  height=\"400\">\n",
       "      Your browser does not support the <code>video</code> element.\n",
       "    </video>"
      ],
      "text/plain": [
       "<IPython.core.display.Video object>"
      ]
     },
     "execution_count": null,
     "metadata": {},
     "output_type": "execute_result"
    }
   ],
   "source": [
    "fname = 'test_video.mp4'\n",
    "display_video(fname)"
   ]
  },
  {
   "cell_type": "code",
   "execution_count": null,
   "metadata": {},
   "outputs": [
    {
     "name": "stdout",
     "output_type": "stream",
     "text": [
      "Successfully trimmed video\n"
     ]
    },
    {
     "data": {
      "text/plain": [
       "'trimmed_video.mp4'"
      ]
     },
     "execution_count": null,
     "metadata": {},
     "output_type": "execute_result"
    }
   ],
   "source": [
    "account.trim_video(fname, 0, 5)"
   ]
  },
  {
   "cell_type": "code",
   "execution_count": null,
   "metadata": {},
   "outputs": [
    {
     "data": {
      "text/html": [
       "<video src=\"trimmed_video.mp4\" controls  width=\"400\"  height=\"400\">\n",
       "      Your browser does not support the <code>video</code> element.\n",
       "    </video>"
      ],
      "text/plain": [
       "<IPython.core.display.Video object>"
      ]
     },
     "execution_count": null,
     "metadata": {},
     "output_type": "execute_result"
    }
   ],
   "source": [
    "display_video('trimmed_video.mp4')"
   ]
  },
  {
   "cell_type": "markdown",
   "metadata": {},
   "source": [
    "## Creating synthetic videos"
   ]
  },
  {
   "cell_type": "code",
   "execution_count": null,
   "metadata": {},
   "outputs": [
    {
     "data": {
      "text/markdown": [
       "<h4 id=\"DeepWord.generate_video\" class=\"doc_header\"><code>DeepWord.generate_video</code><a href=\"__main__.py#L208\" class=\"source_link\" style=\"float:right\">[source]</a></h4>\n",
       "\n",
       "> <code>DeepWord.generate_video</code>(**`video`**:`str`, **`audio`**:`str`, **`title`**:`str`=*`None`*)\n",
       "\n",
       "Generate a synthetic video using a video of a person talking and the audio\n",
       "   you want them to say. You can check the status of the video using\n",
       "   ``list_generated_videos`` and download it using ``download_video`` or\n",
       "   ``download_all_videos``\n",
       "Args:\n",
       "    video (str): Video of the person you want talking.\n",
       "    audio (str): Audio you want the person to say.\n",
       "    title (str, optional): Optionally provide a title for the output. Defaults to \n",
       "                           name of the video file.\n",
       "Raises:\n",
       "    ValueError: If video or audio don't exist"
      ],
      "text/plain": [
       "<IPython.core.display.Markdown object>"
      ]
     },
     "metadata": {},
     "output_type": "display_data"
    }
   ],
   "source": [
    "show_doc(DeepWord.generate_video)"
   ]
  },
  {
   "cell_type": "code",
   "execution_count": null,
   "metadata": {},
   "outputs": [
    {
     "data": {
      "text/plain": [
       "{'status': True,\n",
       " 'message': 'Your video has been added to the queue for processing. Please check back in 10-15 minutes',\n",
       " 'url': 'https://login.deepword.co/video/b47y6adtqkkqzdnjwv'}"
      ]
     },
     "execution_count": null,
     "metadata": {},
     "output_type": "execute_result"
    }
   ],
   "source": [
    "account.generate_video('video_actors/Anna.mp4', 'audio_samples/Amy Poehler.mp3')"
   ]
  },
  {
   "cell_type": "code",
   "execution_count": null,
   "metadata": {},
   "outputs": [
    {
     "name": "stdout",
     "output_type": "stream",
     "text": [
      "Converted 00_core.ipynb.\n",
      "Converted 01_utils.ipynb.\n",
      "Converted 02_tutorials.educational.ipynb.\n",
      "Converted 02_tutorials.input_types.ipynb.\n",
      "Converted 02_tutorials.sales.ipynb.\n",
      "Converted index.ipynb.\n"
     ]
    }
   ],
   "source": [
    "#hide\n",
    "from nbdev.export import notebook2script\n",
    "notebook2script()"
   ]
  },
  {
   "cell_type": "code",
   "execution_count": null,
   "metadata": {},
   "outputs": [],
   "source": []
  }
 ],
 "metadata": {
  "kernelspec": {
   "display_name": "Python 3",
   "language": "python",
   "name": "python3"
  }
 },
 "nbformat": 4,
 "nbformat_minor": 4
}
