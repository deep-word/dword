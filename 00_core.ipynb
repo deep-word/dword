{
 "cells": [
  {
   "cell_type": "code",
   "execution_count": null,
   "metadata": {},
   "outputs": [],
   "source": [
    "# default_exp core"
   ]
  },
  {
   "cell_type": "markdown",
   "metadata": {},
   "source": [
    "# Core\n",
    "\n",
    "> Core class to login to your DeepWord account and generate synthetic videos"
   ]
  },
  {
   "cell_type": "code",
   "execution_count": null,
   "metadata": {},
   "outputs": [],
   "source": [
    "#exporti\n",
    "import base64\n",
    "import json\n",
    "import os\n",
    "import random\n",
    "import time\n",
    "from pathlib import Path\n",
    "from typing import Dict, List, Union\n",
    "\n",
    "import cv2\n",
    "import pytube\n",
    "import requests\n",
    "import urllib3\n",
    "from pytube import YouTube\n",
    "\n",
    "from dword.utils import *\n",
    "from dword.utils import URLs, _exists, TextDicts\n",
    "from IPython.display import Audio\n",
    "from nbdev.showdoc import show_doc\n",
    "\n",
    "urllib3.disable_warnings()"
   ]
  },
  {
   "cell_type": "code",
   "execution_count": null,
   "metadata": {},
   "outputs": [],
   "source": [
    "#hide\n",
    "API_KEY = os.environ['API_KEY']\n",
    "SECRET_KEY = os.environ['SECRET_KEY']"
   ]
  },
  {
   "cell_type": "code",
   "execution_count": null,
   "metadata": {},
   "outputs": [],
   "source": [
    "#export\n",
    "class DeepWord:\n",
    "    \"\"\"\n",
    "    A class for logging into your DeepWord account in Python and generating videos at scale\n",
    "    \"\"\"\n",
    "    def __init__(self, api_key: str, secret_key: str) -> None:\n",
    "        \"\"\"Initialize a new DeepWord object. Login to your DeepWord account to generate api keys.\n",
    "        \"\"\"\n",
    "        self.session = requests.session()\n",
    "        self.session.verify = False\n",
    "        self.headers = {'api_key': api_key, 'secerat_key': secret_key, 'Content-Type': 'application/json'}\n",
    "        self._authenticate_user()\n",
    "\n",
    "    def _authenticate_user(self):\n",
    "        url = URLs.validate_token_url\n",
    "        response = self.session.post(url, headers=self.headers)\n",
    "        output = self._process_output(response.text)\n",
    "        if output['success']:\n",
    "            print('login successful')\n",
    "        else:\n",
    "            raise ValueError('Invalid api_key or secret_key')\n",
    "\n",
    "    @staticmethod\n",
    "    def _process_output(x): return json.loads(x)\n",
    "\n",
    "    @property\n",
    "    def available_credits(self) -> int:\n",
    "        \"\"\"Get the number of credits available in your DeepWord account.\n",
    "        \"\"\"\n",
    "        url = URLs.credits_url\n",
    "        response = self.session.post(url, headers=self.headers)\n",
    "        try:\n",
    "            output = self._process_output(response.text)\n",
    "            return output['available_credits']\n",
    "        except:\n",
    "            raise ValueError(response.text)\n",
    "\n",
    "    def list_videos(self) -> List[Dict]:\n",
    "        \"\"\"Get a list of all the videos you've generated using your DeepWord account.\n",
    "        \"\"\"\n",
    "        url = URLs.list_vids_url\n",
    "        response = self.session.post(url, headers=self.headers)\n",
    "        try:\n",
    "            output = self._process_output(response.text)\n",
    "            return output['data']\n",
    "        except:\n",
    "            raise ValueError(response.text)\n",
    "\n",
    "    @property\n",
    "    def _available_languages(self) -> List: return TextDicts.langs\n",
    "\n",
    "    def _available_speakers(self, lang) -> List: return TextDicts.speakers[lang]\n",
    "\n",
    "    def text2speech(self, text: str, language: str, speaker: str, outfile = 'text2speech.mp3') -> str:\n",
    "        if language not in self._available_languages:\n",
    "            raise ValueError(f'Language {language} not available. To see available languages print obj._available_languages')\n",
    "        \n",
    "        if speaker not in self._available_speakers(language):\n",
    "            raise ValueError(f'Invalid model for language {language}. To see available models print obj._available_speakers(language)')\n",
    "        \n",
    "        code = TextDicts.lang2code[language]\n",
    "        sp, gender = speaker.split(' ')\n",
    "\n",
    "        payload='{\"text\":\"%s\",\"name\":\"%s\",\"gender\":\"%s\",\"code\":\"%s\"}'% (text,sp,gender,code)\n",
    "        url = URLs.txt2speech_url\n",
    "        response = self.session.post(url, headers=self.headers,data=payload)\n",
    "\n",
    "        try:\n",
    "            decode_bytes = base64.b64decode(response.text)\n",
    "            with open(outfile, \"wb\") as wav_file:\n",
    "                wav_file.write(decode_bytes)\n",
    "            return (f\"Successfully generated audio file {outfile}\")\n",
    "        except Exception as e:\n",
    "            raise ValueError(response.text)\n",
    "\n",
    "    def download_video(self, video_id: str) -> None:\n",
    "        \"\"\"Download one of the synthetically generated videos on your DeepWord account. \n",
    "           The video id can be found using the ``list_generated_videos()`` function. The video\n",
    "           should have finished processing to be downloadable.\n",
    "           Optionally, you can use download_all_videos().\n",
    "        \"\"\"\n",
    "        url = URLs.download_vid_url + video_id\n",
    "        response = self.session.get(url, headers=self.headers)\n",
    "        if response.json()['status'] is False:\n",
    "            raise ValueError(\"Video is still processing. Unable to download it at this time.\")\n",
    "        try:\n",
    "            r = requests.get(response.json()['video_url'], stream=True)\n",
    "            with open(response.json()['video_name'], 'wb') as f:\n",
    "                for chunk in r.iter_content(chunk_size=1024): \n",
    "                    if chunk: # filter out keep-alive new chunks\n",
    "                        f.write(chunk)\n",
    "            return (f\"Successfully downloaded video {video_id}!\")\n",
    "        except Exception as e:\n",
    "            raise ValueError(response.text)\n",
    "\n",
    "    def download_all_videos(self, folder: Union[str, Path]  = 'downloaded_videos') -> None:\n",
    "        \"\"\"Download all vidoes generated with your DeepWord account. You can also pass\n",
    "        a folder or nested folders where you want the vidoes to be saved.\n",
    "        \"\"\"\n",
    "        url = URLs.list_vids_url\n",
    "        path = Path().cwd()\n",
    "        \n",
    "        folder = Path(folder)\n",
    "        folder.mkdir(parents = True, exist_ok = True)\n",
    "\n",
    "        response = self.session.post(url, headers=self.headers)\n",
    "        try:\n",
    "            for item in response.json()['data']:\n",
    "                r = requests.get(item['video_url'], stream=True)\n",
    "\n",
    "                fname1 = item['title'].replace(\".mp4\",'')+'.mp4'\n",
    "                full_path = f'{path/folder/fname1}'\n",
    "\n",
    "                with open(full_path, 'wb') as f:\n",
    "                    for chunk in r.iter_content(chunk_size=1024): \n",
    "                        if chunk: # filter out keep-alive new chunks\n",
    "                            f.write(chunk)\n",
    "            print(f\"Successfully downloaded all videos in folder {folder}!\")\n",
    "        except Exception as e:\n",
    "            raise ValueError(response.text)\n",
    "\n",
    "    def download_youtube_video(self, url: str, types: str = 'video', folder = 'youtube'):\n",
    "        \"\"\"Download a video from YouTube. You can also donwload an audio by providing\n",
    "           types = 'audio'.\n",
    "        \"\"\"\n",
    "        folder = Path(folder)\n",
    "        folder.mkdir(exist_ok=True)\n",
    "        if types == \"video\":\n",
    "            pytube.YouTube(url).streams.get_highest_resolution().download(folder)\n",
    "            print(\"downloaded youtube video successfully!\")\n",
    "        else:\n",
    "            yt = YouTube(url) \n",
    "            stream = yt.streams.filter(only_audio=True).first()\n",
    "            out_file  = stream.download(folder)\n",
    "            base, ext = os.path.splitext(out_file)\n",
    "            new_file = base + '_audio.mp3'\n",
    "            os.rename(out_file, new_file)\n",
    "            print(\"downloaded youtube audio successfully!\")\n",
    "    \n",
    "    def download_audio_samples(self):\n",
    "        \"\"\"Download all the audio samples available on the DeepWord website\n",
    "        \"\"\"\n",
    "        folder = Path().cwd() / 'audio_samples'\n",
    "        folder.mkdir(exist_ok = True)\n",
    "\n",
    "        url = URLs.api_get_audio_sample\n",
    "        response = self.session.post(url, headers=self.headers)\n",
    "        try:\n",
    "            for dic in self._process_output(response.text)['sample_audio_files']:\n",
    "                doc = self.session.get(dic['audio_url'])\n",
    "                fname = folder / (dic['title']+dic['extension'])\n",
    "                f = open(fname,\"wb\")\n",
    "                f.write(doc.content)\n",
    "                f.close()\n",
    "            return (\"Successfully downloaded all audio samples\")\n",
    "        except Exception as e:\n",
    "            raise ValueError(response.text)\n",
    "\n",
    "    def download_video_actors(self):\n",
    "        \"\"\"Download all the video actors available on the DeepWord website.\n",
    "        \"\"\"\n",
    "        folder = Path().cwd() / 'video_actors'\n",
    "        folder.mkdir(exist_ok = True)\n",
    "\n",
    "        url = URLs.api_get_video_actors\n",
    "        response = self.session.post(url, headers=self.headers)\n",
    "        try:\n",
    "            for dic in self._process_output(response.text)['sample_video_files']:\n",
    "                with self.session.get(dic['video_url'], stream=True) as r:\n",
    "                    r.raise_for_status()\n",
    "                    fname = folder / (dic['title']+dic['extension'])\n",
    "                    with open(fname, 'wb') as f:\n",
    "                        for chunk in r.iter_content(chunk_size=8192): \n",
    "                            f.write(chunk)\n",
    "            return (\"Successfully downloaded all video actors\")\n",
    "        except Exception as e:\n",
    "            raise ValueError(response.text) \n",
    "\n",
    "    def generate_video(self, video: str, audio: str, title: str = None):\n",
    "        \"\"\"Generate a synthetic video using a video of a person talking and the audio\n",
    "           you want them to say. You can check the status of the video using\n",
    "           ``list_generated_videos`` and download it using ``download_video`` or\n",
    "           ``download_all_videos``\n",
    "        \"\"\"\n",
    "        if not _exists(video): raise ValueError(f'File not found {video}')\n",
    "        if not _exists(audio): raise ValueError(f'File not found {audio}')\n",
    "        payload = {}\n",
    "        if title is not None:\n",
    "            payload={'name': title}\n",
    "        self.headers.pop(\"Content-Type\", None)\n",
    "        url = URLs.generate_vid_url\n",
    "        files = {'video_file': open(video,'rb'),'audio_file': open(audio,'rb')}\n",
    "        response = self.session.post(url, headers=self.headers,files=files,data=payload)\n",
    "        try:\n",
    "            print('Generating video. This will take a few minutes.')\n",
    "            return response.json()\n",
    "        except Exception as e:\n",
    "            raise ValueError(e)"
   ]
  },
  {
   "cell_type": "code",
   "execution_count": null,
   "metadata": {},
   "outputs": [
    {
     "name": "stdout",
     "output_type": "stream",
     "text": [
      "login successful\n"
     ]
    }
   ],
   "source": [
    "account = DeepWord(API_KEY, SECRET_KEY)"
   ]
  },
  {
   "cell_type": "markdown",
   "metadata": {},
   "source": [
    "## Account details"
   ]
  },
  {
   "cell_type": "code",
   "execution_count": null,
   "metadata": {},
   "outputs": [
    {
     "data": {
      "text/markdown": [
       "<h4 id=\"DeepWord.available_credits\" class=\"doc_header\"><code>DeepWord.available_credits</code><a href=\"\" class=\"source_link\" style=\"float:right\">[source]</a></h4>\n",
       "\n",
       "Get the number of credits available in your DeepWord account.\n",
       "        "
      ],
      "text/plain": [
       "<IPython.core.display.Markdown object>"
      ]
     },
     "metadata": {},
     "output_type": "display_data"
    }
   ],
   "source": [
    "show_doc(DeepWord.available_credits)"
   ]
  },
  {
   "cell_type": "code",
   "execution_count": null,
   "metadata": {},
   "outputs": [
    {
     "data": {
      "text/plain": [
       "9944"
      ]
     },
     "execution_count": null,
     "metadata": {},
     "output_type": "execute_result"
    }
   ],
   "source": [
    "account.available_credits"
   ]
  },
  {
   "cell_type": "code",
   "execution_count": null,
   "metadata": {},
   "outputs": [
    {
     "data": {
      "text/markdown": [
       "<h4 id=\"DeepWord.list_videos\" class=\"doc_header\"><code>DeepWord.list_videos</code><a href=\"__main__.py#L38\" class=\"source_link\" style=\"float:right\">[source]</a></h4>\n",
       "\n",
       "> <code>DeepWord.list_videos</code>()\n",
       "\n",
       "Get a list of all the videos you've generated using your DeepWord account.\n",
       "        "
      ],
      "text/plain": [
       "<IPython.core.display.Markdown object>"
      ]
     },
     "metadata": {},
     "output_type": "display_data"
    }
   ],
   "source": [
    "show_doc(DeepWord.list_videos)"
   ]
  },
  {
   "cell_type": "code",
   "execution_count": null,
   "metadata": {},
   "outputs": [
    {
     "data": {
      "text/plain": [
       "{'email': 'blablabla@yopmail.com',\n",
       " 'thumbnail': 'thubnail-u5mfeqpkn6uwhsn.png',\n",
       " 'title': 'Noelle',\n",
       " 'video_url': 'https://videos-deep-word123.s3.us-east-2.amazonaws.com/output_data/u5mfeqpkn6uwhsn.mp4',\n",
       " 'video_duration': '53.952',\n",
       " 'video_id': 'u5mfeqpkn6uwhsn',\n",
       " 'generate_date': '2021-04-07T02:52:57.000Z',\n",
       " 'output_status': 'Progress'}"
      ]
     },
     "execution_count": null,
     "metadata": {},
     "output_type": "execute_result"
    }
   ],
   "source": [
    "all_videos = account.list_videos()\n",
    "all_videos[0]"
   ]
  },
  {
   "cell_type": "markdown",
   "metadata": {},
   "source": [
    "## Downloading synthetically generated videos"
   ]
  },
  {
   "cell_type": "code",
   "execution_count": null,
   "metadata": {},
   "outputs": [
    {
     "data": {
      "text/markdown": [
       "<h4 id=\"DeepWord.download_video\" class=\"doc_header\"><code>DeepWord.download_video</code><a href=\"__main__.py#L76\" class=\"source_link\" style=\"float:right\">[source]</a></h4>\n",
       "\n",
       "> <code>DeepWord.download_video</code>(**`video_id`**:`str`)\n",
       "\n",
       "Download one of the synthetically generated videos on your DeepWord account. \n",
       "The video id can be found using the ``list_generated_videos()`` function. The video\n",
       "should have finished processing to be downloadable.\n",
       "Optionally, you can use download_all_videos()."
      ],
      "text/plain": [
       "<IPython.core.display.Markdown object>"
      ]
     },
     "metadata": {},
     "output_type": "display_data"
    }
   ],
   "source": [
    "show_doc(DeepWord.download_video)"
   ]
  },
  {
   "cell_type": "code",
   "execution_count": null,
   "metadata": {},
   "outputs": [
    {
     "data": {
      "text/markdown": [
       "<h4 id=\"DeepWord.download_all_videos\" class=\"doc_header\"><code>DeepWord.download_all_videos</code><a href=\"__main__.py#L96\" class=\"source_link\" style=\"float:right\">[source]</a></h4>\n",
       "\n",
       "> <code>DeepWord.download_all_videos</code>(**`folder`**:`Union`\\[`str`, `Path`\\]=*`'downloaded_videos'`*)\n",
       "\n",
       "Download all vidoes generated with your DeepWord account. You can also pass\n",
       "a folder or nested folders where you want the vidoes to be saved."
      ],
      "text/plain": [
       "<IPython.core.display.Markdown object>"
      ]
     },
     "metadata": {},
     "output_type": "display_data"
    }
   ],
   "source": [
    "show_doc(DeepWord.download_all_videos)"
   ]
  },
  {
   "cell_type": "code",
   "execution_count": null,
   "metadata": {},
   "outputs": [
    {
     "name": "stdout",
     "output_type": "stream",
     "text": [
      "Successfully downloaded all videos in folder my_videos!\n"
     ]
    }
   ],
   "source": [
    "account.download_all_videos('my_videos')"
   ]
  },
  {
   "cell_type": "code",
   "execution_count": null,
   "metadata": {},
   "outputs": [
    {
     "name": "stdout",
     "output_type": "stream",
     "text": [
      "Anna.mp4                     Mary.mp4\r\n",
      "Berto.mp4                    Mia.mp4\r\n",
      "Carlos.mp4                   Micheal.mp4\r\n",
      "Dalton.mp4                   Noelle.mp4\r\n",
      "Emily.mp4                    Richard.mp4\r\n",
      "Henry.mp4                    Sam.mp4\r\n",
      "Isaac.mp4                    Trey.mp4\r\n",
      "James.mp4                    Youtube_3lbd7ml4kni00cq7.mp4\r\n",
      "Julia.mp4                    first_deepword_video.mp4\r\n",
      "Karen.mp4                    new_video.mp4\r\n",
      "Marcus.mp4                   twovids.mp4\r\n"
     ]
    }
   ],
   "source": [
    "!ls my_videos"
   ]
  },
  {
   "cell_type": "markdown",
   "metadata": {},
   "source": [
    "## Downloading sample data"
   ]
  },
  {
   "cell_type": "code",
   "execution_count": null,
   "metadata": {},
   "outputs": [
    {
     "data": {
      "text/markdown": [
       "<h4 id=\"DeepWord.download_video_actors\" class=\"doc_header\"><code>DeepWord.download_video_actors</code><a href=\"__main__.py#L159\" class=\"source_link\" style=\"float:right\">[source]</a></h4>\n",
       "\n",
       "> <code>DeepWord.download_video_actors</code>()\n",
       "\n",
       "Download all the video actors available on the DeepWord website.\n",
       "        "
      ],
      "text/plain": [
       "<IPython.core.display.Markdown object>"
      ]
     },
     "metadata": {},
     "output_type": "display_data"
    }
   ],
   "source": [
    "show_doc(DeepWord.download_video_actors)"
   ]
  },
  {
   "cell_type": "code",
   "execution_count": null,
   "metadata": {},
   "outputs": [
    {
     "data": {
      "text/plain": [
       "'Successfully downloaded all video actors'"
      ]
     },
     "execution_count": null,
     "metadata": {},
     "output_type": "execute_result"
    }
   ],
   "source": [
    "account.download_video_actors()"
   ]
  },
  {
   "cell_type": "code",
   "execution_count": null,
   "metadata": {},
   "outputs": [
    {
     "name": "stdout",
     "output_type": "stream",
     "text": [
      "Anna.mp4    Dalton.mp4  Isaac.mp4   Karen.mp4   Mia.mp4     Richard.mp4\r\n",
      "Berto.mp4   Emily.mp4   James.mp4   Marcus.mp4  Micheal.mp4 Sam.mp4\r\n",
      "Carlos.mp4  Henry.mp4   Julia.mp4   Mary.mp4    Noelle.mp4  Trey.mp4\r\n"
     ]
    }
   ],
   "source": [
    "!ls video_actors"
   ]
  },
  {
   "cell_type": "code",
   "execution_count": null,
   "metadata": {},
   "outputs": [
    {
     "data": {
      "text/markdown": [
       "<h4 id=\"DeepWord.download_audio_samples\" class=\"doc_header\"><code>DeepWord.download_audio_samples</code><a href=\"__main__.py#L140\" class=\"source_link\" style=\"float:right\">[source]</a></h4>\n",
       "\n",
       "> <code>DeepWord.download_audio_samples</code>()\n",
       "\n",
       "Download all the audio samples available on the DeepWord website\n",
       "        "
      ],
      "text/plain": [
       "<IPython.core.display.Markdown object>"
      ]
     },
     "metadata": {},
     "output_type": "display_data"
    }
   ],
   "source": [
    "show_doc(DeepWord.download_audio_samples)"
   ]
  },
  {
   "cell_type": "code",
   "execution_count": null,
   "metadata": {},
   "outputs": [
    {
     "data": {
      "text/plain": [
       "'Successfully downloaded all audio samples'"
      ]
     },
     "execution_count": null,
     "metadata": {},
     "output_type": "execute_result"
    }
   ],
   "source": [
    "account.download_audio_samples()"
   ]
  },
  {
   "cell_type": "code",
   "execution_count": null,
   "metadata": {},
   "outputs": [
    {
     "name": "stdout",
     "output_type": "stream",
     "text": [
      "Amy Poehler.mp3            Mark Cuban.mp3\r\n",
      "Boeing CEO.mp3             Martin Scorsese.mp3\r\n",
      "Chamath Phalihapitiya.mp3  Michael Scott.mp3\r\n",
      "Chinese Instructor.mp3     Neil deGrasse Tyson.mp3\r\n",
      "Edward Snowden.mp3         Peyton Manning.mp3\r\n",
      "Elizabeth Holmes.mp3       Scottie Pippen.mp3\r\n",
      "Financial Advice.mp3       Shaq.mp3\r\n",
      "Footbal Meme.mp3           Swim Coach.mp3\r\n",
      "George Hotz.mp3            Tampa Bay Rays Manager.mp3\r\n",
      "Kevin Hart.mp3             [Korean] Bong Joon Ho.mp3\r\n"
     ]
    }
   ],
   "source": [
    "!ls audio_samples"
   ]
  },
  {
   "cell_type": "markdown",
   "metadata": {},
   "source": [
    "## Using text2speech\n",
    "\n",
    "One of the big advantages of using DeepWord is you don't even have to record an audio. You can use our text2speech feature to convert your text into audio. We support a **41 languages** and a bunch of speakers for each language. To see the available languages you can do"
   ]
  },
  {
   "cell_type": "code",
   "execution_count": null,
   "metadata": {},
   "outputs": [
    {
     "data": {
      "text/plain": [
       "['arabic', 'bengali', 'chinese', 'czech', 'danish']"
      ]
     },
     "execution_count": null,
     "metadata": {},
     "output_type": "execute_result"
    }
   ],
   "source": [
    "account._available_languages[:5]"
   ]
  },
  {
   "cell_type": "code",
   "execution_count": null,
   "metadata": {},
   "outputs": [
    {
     "data": {
      "text/plain": [
       "'arabic'"
      ]
     },
     "execution_count": null,
     "metadata": {},
     "output_type": "execute_result"
    }
   ],
   "source": [
    "lang = account._available_languages[0]\n",
    "lang"
   ]
  },
  {
   "cell_type": "code",
   "execution_count": null,
   "metadata": {},
   "outputs": [
    {
     "data": {
      "text/plain": [
       "['ar-XA-Wavenet-A FEMALE',\n",
       " 'ar-XA-Wavenet-B MALE',\n",
       " 'ar-XA-Wavenet-C MALE',\n",
       " 'ar-XA-Standard-A FEMALE',\n",
       " 'ar-XA-Standard-B MALE',\n",
       " 'ar-XA-Standard-C MALE',\n",
       " 'ar-XA-Standard-D FEMALE']"
      ]
     },
     "execution_count": null,
     "metadata": {},
     "output_type": "execute_result"
    }
   ],
   "source": [
    "speakers = account._available_speakers(lang)\n",
    "speakers"
   ]
  },
  {
   "cell_type": "code",
   "execution_count": null,
   "metadata": {},
   "outputs": [
    {
     "data": {
      "text/plain": [
       "'Successfully generated audio file text2speech.mp3'"
      ]
     },
     "execution_count": null,
     "metadata": {},
     "output_type": "execute_result"
    }
   ],
   "source": [
    "text = 'I want this speaker to speak this text'\n",
    "account.text2speech(text, lang, speakers[0])"
   ]
  },
  {
   "cell_type": "code",
   "execution_count": null,
   "metadata": {},
   "outputs": [
    {
     "data": {
      "text/html": [
       "\n",
       "                <audio  controls=\"controls\" >\n",
       "                    <source src=\"data:audio/mpeg;base64,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\" type=\"audio/mpeg\" />\n",
       "                    Your browser does not support the audio element.\n",
       "                </audio>\n",
       "              "
      ],
      "text/plain": [
       "<IPython.lib.display.Audio object>"
      ]
     },
     "execution_count": null,
     "metadata": {},
     "output_type": "execute_result"
    }
   ],
   "source": [
    "Audio('text2speech.mp3')"
   ]
  },
  {
   "cell_type": "markdown",
   "metadata": {},
   "source": [
    "## Downloading YouTube videos"
   ]
  },
  {
   "cell_type": "code",
   "execution_count": null,
   "metadata": {},
   "outputs": [
    {
     "data": {
      "text/markdown": [
       "<h4 id=\"DeepWord.download_youtube_video\" class=\"doc_header\"><code>DeepWord.download_youtube_video</code><a href=\"__main__.py#L122\" class=\"source_link\" style=\"float:right\">[source]</a></h4>\n",
       "\n",
       "> <code>DeepWord.download_youtube_video</code>(**`url`**:`str`, **`types`**:`str`=*`'video'`*, **`folder`**=*`'youtube'`*)\n",
       "\n",
       "Download a video from YouTube. You can also donwload an audio by providing\n",
       "types = 'audio'."
      ],
      "text/plain": [
       "<IPython.core.display.Markdown object>"
      ]
     },
     "metadata": {},
     "output_type": "display_data"
    }
   ],
   "source": [
    "show_doc(DeepWord.download_youtube_video)"
   ]
  },
  {
   "cell_type": "markdown",
   "metadata": {},
   "source": [
    "> Note: If you want to download both the audio and the video of a YouTube video, download the audio first and then the video otherwise the audio will overwrite the video"
   ]
  },
  {
   "cell_type": "code",
   "execution_count": null,
   "metadata": {},
   "outputs": [],
   "source": [
    "url = 'https://youtu.be/_81yOz-ujug'"
   ]
  },
  {
   "cell_type": "code",
   "execution_count": null,
   "metadata": {},
   "outputs": [
    {
     "name": "stdout",
     "output_type": "stream",
     "text": [
      "downloaded youtube audio successfully!\n"
     ]
    }
   ],
   "source": [
    "account.download_youtube_video(url, types = 'audio')"
   ]
  },
  {
   "cell_type": "code",
   "execution_count": null,
   "metadata": {},
   "outputs": [
    {
     "name": "stdout",
     "output_type": "stream",
     "text": [
      "downloaded youtube video successfully!\n"
     ]
    }
   ],
   "source": [
    "account.download_youtube_video(url)"
   ]
  },
  {
   "cell_type": "markdown",
   "metadata": {},
   "source": [
    "## Creating synthetic videos"
   ]
  },
  {
   "cell_type": "code",
   "execution_count": null,
   "metadata": {},
   "outputs": [
    {
     "data": {
      "text/markdown": [
       "<h4 id=\"DeepWord.generate_video\" class=\"doc_header\"><code>DeepWord.generate_video</code><a href=\"__main__.py#L179\" class=\"source_link\" style=\"float:right\">[source]</a></h4>\n",
       "\n",
       "> <code>DeepWord.generate_video</code>(**`video`**:`str`, **`audio`**:`str`, **`title`**:`str`=*`None`*)\n",
       "\n",
       "Generate a synthetic video using a video of a person talking and the audio\n",
       "you want them to say. You can check the status of the video using\n",
       "``list_generated_videos`` and download it using ``download_video`` or\n",
       "``download_all_videos``"
      ],
      "text/plain": [
       "<IPython.core.display.Markdown object>"
      ]
     },
     "metadata": {},
     "output_type": "display_data"
    }
   ],
   "source": [
    "show_doc(DeepWord.generate_video)"
   ]
  },
  {
   "cell_type": "code",
   "execution_count": null,
   "metadata": {},
   "outputs": [
    {
     "name": "stdout",
     "output_type": "stream",
     "text": [
      "Generating video. This will take a few minutes.\n"
     ]
    },
    {
     "data": {
      "text/plain": [
       "{'status': True,\n",
       " 'message': 'Your video has been added to the queue for processing. Please check back in 10-15 minutes',\n",
       " 'url': 'https://staging.deepword.co/video/u5mjcy5ko9dxw2g'}"
      ]
     },
     "execution_count": null,
     "metadata": {},
     "output_type": "execute_result"
    }
   ],
   "source": [
    "account.generate_video('video_actors/Anna.mp4', 'audio_samples/Amy Poehler.mp3')"
   ]
  },
  {
   "cell_type": "code",
   "execution_count": null,
   "metadata": {},
   "outputs": [
    {
     "name": "stdout",
     "output_type": "stream",
     "text": [
      "Converted 00_core.ipynb.\n",
      "Converted 01_utils.ipynb.\n",
      "Converted 02_tutorials.educational.ipynb.\n",
      "Converted 02_tutorials.input_types.ipynb.\n",
      "Converted 02_tutorials.sales.ipynb.\n",
      "Converted index.ipynb.\n"
     ]
    }
   ],
   "source": [
    "#hide\n",
    "from nbdev.export import notebook2script\n",
    "notebook2script()"
   ]
  },
  {
   "cell_type": "code",
   "execution_count": null,
   "metadata": {},
   "outputs": [],
   "source": []
  }
 ],
 "metadata": {
  "kernelspec": {
   "display_name": "Python 3",
   "language": "python",
   "name": "python3"
  }
 },
 "nbformat": 4,
 "nbformat_minor": 4
}
