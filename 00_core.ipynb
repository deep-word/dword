{
 "cells": [
  {
   "cell_type": "code",
   "execution_count": null,
   "metadata": {},
   "outputs": [],
   "source": [
    "# default_exp core"
   ]
  },
  {
   "cell_type": "markdown",
   "metadata": {},
   "source": [
    "# Core\n",
    "\n",
    "> Core class to login to your DeepWord account and generate synthetic videos"
   ]
  },
  {
   "cell_type": "code",
   "execution_count": null,
   "metadata": {},
   "outputs": [],
   "source": [
    "#exporti\n",
    "import base64\n",
    "import json\n",
    "import os\n",
    "import random\n",
    "import time\n",
    "from pathlib import Path\n",
    "from typing import Dict, List, Union\n",
    "\n",
    "import cv2\n",
    "import pytube\n",
    "import requests\n",
    "import urllib3\n",
    "from pytube import YouTube\n",
    "\n",
    "from dword.utils import *\n",
    "from dword.utils import URLs, _exists, TextDicts\n",
    "from IPython.display import Audio\n",
    "from nbdev.showdoc import show_doc\n",
    "\n",
    "urllib3.disable_warnings()"
   ]
  },
  {
   "cell_type": "code",
   "execution_count": null,
   "metadata": {},
   "outputs": [],
   "source": [
    "#hide\n",
    "API_KEY = os.environ['API_KEY']\n",
    "SECRET_KEY = os.environ['SECRET_KEY']"
   ]
  },
  {
   "cell_type": "code",
   "execution_count": null,
   "metadata": {},
   "outputs": [],
   "source": [
    "#export\n",
    "class DeepWord:\n",
    "    \"\"\"\n",
    "    A class for logging into your DeepWord account in Python and generating videos at scale\n",
    "    \"\"\"\n",
    "    def __init__(self, api_key: str, secret_key: str) -> None:\n",
    "        \"\"\"Initialize a new DeepWord object. Login to your DeepWord account to generate api keys.\n",
    "        \"\"\"\n",
    "        self.session = requests.session()\n",
    "        self.session.verify = False\n",
    "        self.headers = {'api_key': api_key, 'secerat_key': secret_key, 'Content-Type': 'application/json'}\n",
    "        self._authenticate_user()\n",
    "\n",
    "    def _authenticate_user(self):\n",
    "        url = URLs.validate_token_url\n",
    "        response = self.session.post(url, headers=self.headers)\n",
    "        output = self._process_output(response.text)\n",
    "        if output['success']:\n",
    "            print('login successful')\n",
    "        else:\n",
    "            raise ValueError('Invalid api_key or secret_key')\n",
    "\n",
    "    @staticmethod\n",
    "    def _process_output(x): return json.loads(x)\n",
    "\n",
    "    @property\n",
    "    def available_credits(self) -> int:\n",
    "        \"\"\"Get the number of credits available in your DeepWord account.\n",
    "        \"\"\"\n",
    "        url = URLs.credits_url\n",
    "        response = self.session.post(url, headers=self.headers)\n",
    "        try:\n",
    "            output = self._process_output(response.text)\n",
    "            return output['available_credits']\n",
    "        except:\n",
    "            raise ValueError(response.text)\n",
    "\n",
    "    def list_videos(self) -> List[Dict]:\n",
    "        \"\"\"Get a list of all the videos you've generated using your DeepWord account.\n",
    "        \"\"\"\n",
    "        url = URLs.list_vids_url\n",
    "        response = self.session.post(url, headers=self.headers)\n",
    "        try:\n",
    "            output = self._process_output(response.text)\n",
    "            return output['data']\n",
    "        except:\n",
    "            raise ValueError(response.text)\n",
    "\n",
    "    @property\n",
    "    def _available_languages(self) -> List: return TextDicts.langs\n",
    "\n",
    "    def _available_speakers(self, lang) -> List: return TextDicts.speakers[lang]\n",
    "\n",
    "    def text2speech(self, text: str, language: str, speaker: str, outfile = 'text2speech.mp3') -> str:\n",
    "        if language not in self._available_languages:\n",
    "            raise ValueError(f'Language {language} not available. To see available languages print obj._available_languages')\n",
    "        \n",
    "        if speaker not in self._available_speakers(language):\n",
    "            raise ValueError(f'Invalid model for language {language}. To see available models print obj._available_speakers(language)')\n",
    "        \n",
    "        if Path(outfile).exists():\n",
    "            os.remove(f'{outfile}')\n",
    "        \n",
    "        code = TextDicts.lang2code[language]\n",
    "        sp, gender = speaker.split(' ')\n",
    "\n",
    "        payload='{\"text\":\"%s\",\"name\":\"%s\",\"gender\":\"%s\",\"code\":\"%s\"}'% (text,sp,gender,code)\n",
    "        url = URLs.txt2speech_url\n",
    "        response = self.session.post(url, headers=self.headers,data=payload)\n",
    "\n",
    "        try:\n",
    "            decode_bytes = base64.b64decode(response.text)\n",
    "            with open(outfile, \"wb\") as wav_file:\n",
    "                wav_file.write(decode_bytes)\n",
    "            print(f\"Successfully generated audio file {outfile}\")\n",
    "            return f'{outfile}'\n",
    "        except Exception as e:\n",
    "            raise ValueError(response.text)\n",
    "\n",
    "    def download_video(self, video_id: str) -> None:\n",
    "        \"\"\"Download one of the synthetically generated videos on your DeepWord account. \n",
    "           The video id can be found using the ``list_generated_videos()`` function. The video\n",
    "           should have finished processing to be downloadable.\n",
    "           Optionally, you can use download_all_videos().\n",
    "        \"\"\"\n",
    "        url = URLs.download_vid_url + video_id\n",
    "        response = self.session.get(url, headers=self.headers)\n",
    "        if response.json()['status'] is False:\n",
    "            raise ValueError(\"Video is still processing. Unable to download it at this time.\")\n",
    "        try:\n",
    "            r = requests.get(response.json()['video_url'], stream=True)\n",
    "            with open(response.json()['video_name'], 'wb') as f:\n",
    "                for chunk in r.iter_content(chunk_size=1024): \n",
    "                    if chunk: # filter out keep-alive new chunks\n",
    "                        f.write(chunk)\n",
    "            return (f\"Successfully downloaded video {video_id}!\")\n",
    "        except Exception as e:\n",
    "            raise ValueError(response.text)\n",
    "\n",
    "    def download_all_videos(self, folder: Union[str, Path]  = 'downloaded_videos') -> None:\n",
    "        \"\"\"Download all vidoes generated with your DeepWord account. You can also pass\n",
    "        a folder or nested folders where you want the vidoes to be saved.\n",
    "        \"\"\"\n",
    "        url = URLs.list_vids_url\n",
    "        path = Path().cwd()\n",
    "        \n",
    "        folder = Path(folder)\n",
    "        folder.mkdir(parents = True, exist_ok = True)\n",
    "\n",
    "        response = self.session.post(url, headers=self.headers)\n",
    "        try:\n",
    "            for item in response.json()['data']:\n",
    "                r = requests.get(item['video_url'], stream=True)\n",
    "\n",
    "                fname1 = item['title'].replace(\".mp4\",'')+'.mp4'\n",
    "                full_path = f'{path/folder/fname1}'\n",
    "\n",
    "                with open(full_path, 'wb') as f:\n",
    "                    for chunk in r.iter_content(chunk_size=1024): \n",
    "                        if chunk: # filter out keep-alive new chunks\n",
    "                            f.write(chunk)\n",
    "            print(f\"Successfully downloaded all videos in folder {folder}!\")\n",
    "        except Exception as e:\n",
    "            raise ValueError(response.text)\n",
    "\n",
    "    def download_youtube_video(self, url: str, types: str = 'video', folder = 'youtube'):\n",
    "        \"\"\"Download a video from YouTube. You can also donwload an audio by providing\n",
    "           types = 'audio'.\n",
    "        \"\"\"\n",
    "        folder = Path(folder) / types\n",
    "        folder.mkdir(exist_ok = True, parents = True)\n",
    "        if types == \"video\":\n",
    "            pytube.YouTube(url).streams.get_highest_resolution().download(folder)\n",
    "            print(\"downloaded youtube video successfully!\")\n",
    "        else:\n",
    "            yt = YouTube(url) \n",
    "            stream = yt.streams.filter(only_audio=True).first()\n",
    "            out_file  = stream.download(folder)\n",
    "            base, ext = os.path.splitext(out_file)\n",
    "            new_file = base + '_audio.mp3'\n",
    "            os.rename(out_file, new_file)\n",
    "            print(\"downloaded youtube audio successfully!\")\n",
    "    \n",
    "    def download_audio_samples(self):\n",
    "        \"\"\"Download all the audio samples available on the DeepWord website\n",
    "        \"\"\"\n",
    "        folder = Path().cwd() / 'audio_samples'\n",
    "        folder.mkdir(exist_ok = True)\n",
    "\n",
    "        url = URLs.api_get_audio_sample\n",
    "        response = self.session.post(url, headers=self.headers)\n",
    "        try:\n",
    "            for dic in self._process_output(response.text)['sample_audio_files']:\n",
    "                doc = self.session.get(dic['audio_url'])\n",
    "                fname = folder / (dic['title']+dic['extension'])\n",
    "                f = open(fname,\"wb\")\n",
    "                f.write(doc.content)\n",
    "                f.close()\n",
    "            return (\"Successfully downloaded all audio samples\")\n",
    "        except Exception as e:\n",
    "            raise ValueError(response.text)\n",
    "\n",
    "    def download_video_actors(self):\n",
    "        \"\"\"Download all the video actors available on the DeepWord website.\n",
    "        \"\"\"\n",
    "        folder = Path().cwd() / 'video_actors'\n",
    "        folder.mkdir(exist_ok = True)\n",
    "\n",
    "        url = URLs.api_get_video_actors\n",
    "        response = self.session.post(url, headers=self.headers)\n",
    "        try:\n",
    "            for dic in self._process_output(response.text)['sample_video_files']:\n",
    "                with self.session.get(dic['video_url'], stream=True) as r:\n",
    "                    r.raise_for_status()\n",
    "                    fname = folder / (dic['title']+dic['extension'])\n",
    "                    with open(fname, 'wb') as f:\n",
    "                        for chunk in r.iter_content(chunk_size=8192): \n",
    "                            f.write(chunk)\n",
    "            return (\"Successfully downloaded all video actors\")\n",
    "        except Exception as e:\n",
    "            raise ValueError(response.text)\n",
    "\n",
    "    def trim_video(self, video: Union[str, Path], start_time: int, end_time: int, outfile: Union[str, Path] = 'trimmed_video.mp4') -> None:\n",
    "        \"\"\"\n",
    "        Trim a video in place from start (secs) to end (secs).\n",
    "        For youtube videos you can use ``download_youtube_video`` before trimming them.\n",
    "        \"\"\"\n",
    "        start_time = to_hhmmss(int(start_time)) # 0 -> 00:00:00\n",
    "        end_time = to_hhmmss(int(end_time))\n",
    "        if \"Content-Type\" in self.headers:\n",
    "            self.headers.pop(\"Content-Type\")\n",
    "        url = URLs.trim_video\n",
    "        payload={\"start_time\": start_time,\"end_time\":end_time }\n",
    "        files = {'video': open(video,'rb')}\n",
    "        response = self.session.post(url, headers=self.headers, data=payload,files=files)\n",
    "        try:\n",
    "            r = self.session.get(response.json()['file_url'], stream=True)\n",
    "            with open(outfile, 'wb') as f:\n",
    "                for chunk in r.iter_content(chunk_size=1024): \n",
    "                    if chunk: # filter out keep-alive new chunks\n",
    "                        f.write(chunk)\n",
    "            print('Successfully trimmed video')\n",
    "            return outfile\n",
    "        except Exception as e:\n",
    "            raise ValueError(response.text)\n",
    "\n",
    "            \n",
    "    def generate_video(self, video: str, audio: str, title: str = None):\n",
    "        \"\"\"Generate a synthetic video using a video of a person talking and the audio\n",
    "           you want them to say. You can check the status of the video using\n",
    "           ``list_generated_videos`` and download it using ``download_video`` or\n",
    "           ``download_all_videos``\n",
    "        Args:\n",
    "            video (str): Video of the person you want talking.\n",
    "            audio (str): Audio you want the person to say.\n",
    "            title (str, optional): Optionally provide a title for the output. Defaults to \n",
    "                                   name of the video file.\n",
    "        Raises:\n",
    "            ValueError: If video or audio don't exist\n",
    "        \"\"\"\n",
    "        if not _exists(video): raise ValueError(f'File not found {video}')\n",
    "        if not _exists(audio): raise ValueError(f'File not found {audio}')\n",
    "        payload = {}\n",
    "        if title is not None:\n",
    "            payload={'name': title}\n",
    "        headers = {}\n",
    "        headers['api_key'] = self.headers['api_key']\n",
    "        headers['secerat_key'] = self.headers['secerat_key']\n",
    "        url = URLs.generate_vid_url\n",
    "        files = {'video_file': open(video,'rb'),'audio_file': open(audio,'rb')}\n",
    "        response = self.session.post(url, headers=headers,files=files,data=payload)\n",
    "        try:\n",
    "            return response.json()\n",
    "        except Exception as e:\n",
    "            raise ValueError(e)"
   ]
  },
  {
   "cell_type": "code",
   "execution_count": null,
   "metadata": {},
   "outputs": [
    {
     "name": "stdout",
     "output_type": "stream",
     "text": [
      "login successful\n"
     ]
    }
   ],
   "source": [
    "account = DeepWord(API_KEY, SECRET_KEY)"
   ]
  },
  {
   "cell_type": "markdown",
   "metadata": {},
   "source": [
    "## Account details"
   ]
  },
  {
   "cell_type": "code",
   "execution_count": null,
   "metadata": {},
   "outputs": [
    {
     "data": {
      "text/markdown": [
       "<h4 id=\"DeepWord.available_credits\" class=\"doc_header\"><code>DeepWord.available_credits</code><a href=\"\" class=\"source_link\" style=\"float:right\">[source]</a></h4>\n",
       "\n",
       "Get the number of credits available in your DeepWord account.\n",
       "        "
      ],
      "text/plain": [
       "<IPython.core.display.Markdown object>"
      ]
     },
     "metadata": {},
     "output_type": "display_data"
    }
   ],
   "source": [
    "show_doc(DeepWord.available_credits)"
   ]
  },
  {
   "cell_type": "code",
   "execution_count": null,
   "metadata": {},
   "outputs": [
    {
     "data": {
      "text/plain": [
       "888"
      ]
     },
     "execution_count": null,
     "metadata": {},
     "output_type": "execute_result"
    }
   ],
   "source": [
    "account.available_credits"
   ]
  },
  {
   "cell_type": "code",
   "execution_count": null,
   "metadata": {},
   "outputs": [
    {
     "data": {
      "text/markdown": [
       "<h4 id=\"DeepWord.list_videos\" class=\"doc_header\"><code>DeepWord.list_videos</code><a href=\"__main__.py#L38\" class=\"source_link\" style=\"float:right\">[source]</a></h4>\n",
       "\n",
       "> <code>DeepWord.list_videos</code>()\n",
       "\n",
       "Get a list of all the videos you've generated using your DeepWord account.\n",
       "        "
      ],
      "text/plain": [
       "<IPython.core.display.Markdown object>"
      ]
     },
     "metadata": {},
     "output_type": "display_data"
    }
   ],
   "source": [
    "show_doc(DeepWord.list_videos)"
   ]
  },
  {
   "cell_type": "code",
   "execution_count": null,
   "metadata": {},
   "outputs": [
    {
     "data": {
      "text/plain": [
       "{'email': 'blablabla@yopmail.com',\n",
       " 'thumbnail': 'thubnail-u5mfeqpkn6uwhsn.png',\n",
       " 'title': 'Noelle',\n",
       " 'video_url': 'https://videos-deep-word123.s3.us-east-2.amazonaws.com/output_data/u5mfeqpkn6uwhsn.mp4',\n",
       " 'video_duration': '53.952',\n",
       " 'video_id': 'u5mfeqpkn6uwhsn',\n",
       " 'generate_date': '2021-04-07T02:52:57.000Z',\n",
       " 'output_status': 'Complete'}"
      ]
     },
     "execution_count": null,
     "metadata": {},
     "output_type": "execute_result"
    }
   ],
   "source": [
    "all_videos = account.list_videos()\n",
    "all_videos[0]"
   ]
  },
  {
   "cell_type": "markdown",
   "metadata": {},
   "source": [
    "## Downloading synthetically generated videos"
   ]
  },
  {
   "cell_type": "code",
   "execution_count": null,
   "metadata": {},
   "outputs": [
    {
     "data": {
      "text/markdown": [
       "<h4 id=\"DeepWord.download_video\" class=\"doc_header\"><code>DeepWord.download_video</code><a href=\"__main__.py#L80\" class=\"source_link\" style=\"float:right\">[source]</a></h4>\n",
       "\n",
       "> <code>DeepWord.download_video</code>(**`video_id`**:`str`)\n",
       "\n",
       "Download one of the synthetically generated videos on your DeepWord account. \n",
       "The video id can be found using the ``list_generated_videos()`` function. The video\n",
       "should have finished processing to be downloadable.\n",
       "Optionally, you can use download_all_videos()."
      ],
      "text/plain": [
       "<IPython.core.display.Markdown object>"
      ]
     },
     "metadata": {},
     "output_type": "display_data"
    }
   ],
   "source": [
    "show_doc(DeepWord.download_video)"
   ]
  },
  {
   "cell_type": "code",
   "execution_count": null,
   "metadata": {},
   "outputs": [
    {
     "data": {
      "text/markdown": [
       "<h4 id=\"DeepWord.download_all_videos\" class=\"doc_header\"><code>DeepWord.download_all_videos</code><a href=\"__main__.py#L100\" class=\"source_link\" style=\"float:right\">[source]</a></h4>\n",
       "\n",
       "> <code>DeepWord.download_all_videos</code>(**`folder`**:`Union`\\[`str`, `Path`\\]=*`'downloaded_videos'`*)\n",
       "\n",
       "Download all vidoes generated with your DeepWord account. You can also pass\n",
       "a folder or nested folders where you want the vidoes to be saved."
      ],
      "text/plain": [
       "<IPython.core.display.Markdown object>"
      ]
     },
     "metadata": {},
     "output_type": "display_data"
    }
   ],
   "source": [
    "show_doc(DeepWord.download_all_videos)"
   ]
  },
  {
   "cell_type": "code",
   "execution_count": null,
   "metadata": {},
   "outputs": [
    {
     "name": "stdout",
     "output_type": "stream",
     "text": [
      "Successfully downloaded all videos in folder my_videos!\n"
     ]
    }
   ],
   "source": [
    "account.download_all_videos('my_videos')"
   ]
  },
  {
   "cell_type": "code",
   "execution_count": null,
   "metadata": {},
   "outputs": [
    {
     "name": "stdout",
     "output_type": "stream",
     "text": [
      "0.mp4                        first_deepword_video.mp4\r\n",
      "1.mp4                        latoo.mp4\r\n",
      "2.mp4                        new_video.mp4\r\n",
      "3.mp4                        twovids.mp4\r\n",
      "4.mp4                        video_0.mp4\r\n",
      "5.mp4                        video_1.mp4\r\n",
      "Anna.mp4                     video_10.mp4\r\n",
      "Berto.mp4                    video_11.mp4\r\n",
      "Carlos.mp4                   video_12.mp4\r\n",
      "Dalton.mp4                   video_13.mp4\r\n",
      "Emily.mp4                    video_14.mp4\r\n",
      "Henry.mp4                    video_15.mp4\r\n",
      "Isaac.mp4                    video_16.mp4\r\n",
      "James.mp4                    video_17.mp4\r\n",
      "Julia.mp4                    video_18.mp4\r\n",
      "Karen.mp4                    video_19.mp4\r\n",
      "Marcus.mp4                   video_2.mp4\r\n",
      "Mary.mp4                     video_20.mp4\r\n",
      "Mia.mp4                      video_3.mp4\r\n",
      "Micheal.mp4                  video_4.mp4\r\n",
      "Noelle.mp4                   video_5.mp4\r\n",
      "Richard.mp4                  video_6.mp4\r\n",
      "Sam.mp4                      video_7.mp4\r\n",
      "Trey.mp4                     video_8.mp4\r\n",
      "Youtube_3lbd7ml4kni00cq7.mp4 video_9.mp4\r\n"
     ]
    }
   ],
   "source": [
    "!ls my_videos"
   ]
  },
  {
   "cell_type": "markdown",
   "metadata": {},
   "source": [
    "## Downloading sample data"
   ]
  },
  {
   "cell_type": "code",
   "execution_count": null,
   "metadata": {},
   "outputs": [
    {
     "data": {
      "text/markdown": [
       "<h4 id=\"DeepWord.download_video_actors\" class=\"doc_header\"><code>DeepWord.download_video_actors</code><a href=\"__main__.py#L163\" class=\"source_link\" style=\"float:right\">[source]</a></h4>\n",
       "\n",
       "> <code>DeepWord.download_video_actors</code>()\n",
       "\n",
       "Download all the video actors available on the DeepWord website.\n",
       "        "
      ],
      "text/plain": [
       "<IPython.core.display.Markdown object>"
      ]
     },
     "metadata": {},
     "output_type": "display_data"
    }
   ],
   "source": [
    "show_doc(DeepWord.download_video_actors)"
   ]
  },
  {
   "cell_type": "code",
   "execution_count": null,
   "metadata": {},
   "outputs": [
    {
     "data": {
      "text/plain": [
       "'Successfully downloaded all video actors'"
      ]
     },
     "execution_count": null,
     "metadata": {},
     "output_type": "execute_result"
    }
   ],
   "source": [
    "account.download_video_actors()"
   ]
  },
  {
   "cell_type": "code",
   "execution_count": null,
   "metadata": {},
   "outputs": [
    {
     "name": "stdout",
     "output_type": "stream",
     "text": [
      "Anna.mp4    Dalton.mp4  Isaac.mp4   Karen.mp4   Mia.mp4     Richard.mp4\r\n",
      "Berto.mp4   Emily.mp4   James.mp4   Marcus.mp4  Micheal.mp4 Sam.mp4\r\n",
      "Carlos.mp4  Henry.mp4   Julia.mp4   Mary.mp4    Noelle.mp4  Trey.mp4\r\n"
     ]
    }
   ],
   "source": [
    "!ls video_actors"
   ]
  },
  {
   "cell_type": "code",
   "execution_count": null,
   "metadata": {},
   "outputs": [
    {
     "data": {
      "text/markdown": [
       "<h4 id=\"DeepWord.download_audio_samples\" class=\"doc_header\"><code>DeepWord.download_audio_samples</code><a href=\"__main__.py#L144\" class=\"source_link\" style=\"float:right\">[source]</a></h4>\n",
       "\n",
       "> <code>DeepWord.download_audio_samples</code>()\n",
       "\n",
       "Download all the audio samples available on the DeepWord website\n",
       "        "
      ],
      "text/plain": [
       "<IPython.core.display.Markdown object>"
      ]
     },
     "metadata": {},
     "output_type": "display_data"
    }
   ],
   "source": [
    "show_doc(DeepWord.download_audio_samples)"
   ]
  },
  {
   "cell_type": "code",
   "execution_count": null,
   "metadata": {},
   "outputs": [
    {
     "data": {
      "text/plain": [
       "'Successfully downloaded all audio samples'"
      ]
     },
     "execution_count": null,
     "metadata": {},
     "output_type": "execute_result"
    }
   ],
   "source": [
    "account.download_audio_samples()"
   ]
  },
  {
   "cell_type": "code",
   "execution_count": null,
   "metadata": {},
   "outputs": [
    {
     "name": "stdout",
     "output_type": "stream",
     "text": [
      "Amy Poehler.mp3            Mark Cuban.mp3\r\n",
      "Boeing CEO.mp3             Martin Scorsese.mp3\r\n",
      "Chamath Phalihapitiya.mp3  Michael Scott.mp3\r\n",
      "Chinese Instructor.mp3     Neil deGrasse Tyson.mp3\r\n",
      "Edward Snowden.mp3         Peyton Manning.mp3\r\n",
      "Elizabeth Holmes.mp3       Scottie Pippen.mp3\r\n",
      "Financial Advice.mp3       Shaq.mp3\r\n",
      "Footbal Meme.mp3           Swim Coach.mp3\r\n",
      "George Hotz.mp3            Tampa Bay Rays Manager.mp3\r\n",
      "Kevin Hart.mp3             [Korean] Bong Joon Ho.mp3\r\n"
     ]
    }
   ],
   "source": [
    "!ls audio_samples"
   ]
  },
  {
   "cell_type": "markdown",
   "metadata": {},
   "source": [
    "## Using text2speech\n",
    "\n",
    "One of the big advantages of using DeepWord is you don't even have to record an audio. You can use our text2speech feature to convert your text into audio. We support a **41 languages** and a bunch of speakers for each language. To see the available languages you can do"
   ]
  },
  {
   "cell_type": "code",
   "execution_count": null,
   "metadata": {},
   "outputs": [
    {
     "data": {
      "text/plain": [
       "['arabic', 'bengali', 'chinese', 'czech', 'danish']"
      ]
     },
     "execution_count": null,
     "metadata": {},
     "output_type": "execute_result"
    }
   ],
   "source": [
    "account._available_languages[:5]"
   ]
  },
  {
   "cell_type": "code",
   "execution_count": null,
   "metadata": {},
   "outputs": [
    {
     "data": {
      "text/plain": [
       "'arabic'"
      ]
     },
     "execution_count": null,
     "metadata": {},
     "output_type": "execute_result"
    }
   ],
   "source": [
    "lang = account._available_languages[0]\n",
    "lang"
   ]
  },
  {
   "cell_type": "code",
   "execution_count": null,
   "metadata": {},
   "outputs": [
    {
     "data": {
      "text/plain": [
       "['ar-XA-Wavenet-A FEMALE',\n",
       " 'ar-XA-Wavenet-B MALE',\n",
       " 'ar-XA-Wavenet-C MALE',\n",
       " 'ar-XA-Standard-A FEMALE',\n",
       " 'ar-XA-Standard-B MALE',\n",
       " 'ar-XA-Standard-C MALE',\n",
       " 'ar-XA-Standard-D FEMALE']"
      ]
     },
     "execution_count": null,
     "metadata": {},
     "output_type": "execute_result"
    }
   ],
   "source": [
    "speakers = account._available_speakers(lang)\n",
    "speakers"
   ]
  },
  {
   "cell_type": "code",
   "execution_count": null,
   "metadata": {},
   "outputs": [
    {
     "name": "stdout",
     "output_type": "stream",
     "text": [
      "Successfully generated audio file text2speech.mp3\n"
     ]
    },
    {
     "data": {
      "text/plain": [
       "'text2speech.mp3'"
      ]
     },
     "execution_count": null,
     "metadata": {},
     "output_type": "execute_result"
    }
   ],
   "source": [
    "text = 'I want this speaker to speak this text'\n",
    "account.text2speech(text, lang, speakers[0])"
   ]
  },
  {
   "cell_type": "code",
   "execution_count": null,
   "metadata": {},
   "outputs": [
    {
     "data": {
      "text/html": [
       "\n",
       "                <audio  controls=\"controls\" >\n",
       "                    <source src=\"data:audio/mpeg;base64,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\" type=\"audio/mpeg\" />\n",
       "                    Your browser does not support the audio element.\n",
       "                </audio>\n",
       "              "
      ],
      "text/plain": [
       "<IPython.lib.display.Audio object>"
      ]
     },
     "execution_count": null,
     "metadata": {},
     "output_type": "execute_result"
    }
   ],
   "source": [
    "Audio('text2speech.mp3')"
   ]
  },
  {
   "cell_type": "markdown",
   "metadata": {},
   "source": [
    "## Downloading YouTube videos"
   ]
  },
  {
   "cell_type": "code",
   "execution_count": null,
   "metadata": {},
   "outputs": [
    {
     "data": {
      "text/markdown": [
       "<h4 id=\"DeepWord.download_youtube_video\" class=\"doc_header\"><code>DeepWord.download_youtube_video</code><a href=\"__main__.py#L126\" class=\"source_link\" style=\"float:right\">[source]</a></h4>\n",
       "\n",
       "> <code>DeepWord.download_youtube_video</code>(**`url`**:`str`, **`types`**:`str`=*`'video'`*, **`folder`**=*`'youtube'`*)\n",
       "\n",
       "Download a video from YouTube. You can also donwload an audio by providing\n",
       "types = 'audio'."
      ],
      "text/plain": [
       "<IPython.core.display.Markdown object>"
      ]
     },
     "metadata": {},
     "output_type": "display_data"
    }
   ],
   "source": [
    "show_doc(DeepWord.download_youtube_video)"
   ]
  },
  {
   "cell_type": "markdown",
   "metadata": {},
   "source": [
    "> Note: If you want to download both the audio and the video of a YouTube video, download the audio first and then the video otherwise the audio will overwrite the video"
   ]
  },
  {
   "cell_type": "code",
   "execution_count": null,
   "metadata": {},
   "outputs": [],
   "source": [
    "url = 'https://youtu.be/_81yOz-ujug'"
   ]
  },
  {
   "cell_type": "code",
   "execution_count": null,
   "metadata": {},
   "outputs": [],
   "source": [
    "# account.download_youtube_video(url, types = 'audio')"
   ]
  },
  {
   "cell_type": "code",
   "execution_count": null,
   "metadata": {},
   "outputs": [],
   "source": [
    "# account.download_youtube_video(url)"
   ]
  },
  {
   "cell_type": "code",
   "execution_count": null,
   "metadata": {},
   "outputs": [],
   "source": [
    "# !ls youtube/audio/"
   ]
  },
  {
   "cell_type": "code",
   "execution_count": null,
   "metadata": {},
   "outputs": [],
   "source": [
    "# !ls youtube/video/"
   ]
  },
  {
   "cell_type": "markdown",
   "metadata": {},
   "source": [
    "## Trim videos\n",
    "\n",
    "We trim videos on our servers for you so trim videos is part of the core module and not the utils module"
   ]
  },
  {
   "cell_type": "code",
   "execution_count": null,
   "metadata": {},
   "outputs": [
    {
     "data": {
      "text/markdown": [
       "<h4 id=\"DeepWord.trim_video\" class=\"doc_header\"><code>DeepWord.trim_video</code><a href=\"__main__.py#L183\" class=\"source_link\" style=\"float:right\">[source]</a></h4>\n",
       "\n",
       "> <code>DeepWord.trim_video</code>(**`video`**:`Union`\\[`str`, `Path`\\], **`start_time`**:`int`, **`end_time`**:`int`, **`outfile`**:`Union`\\[`str`, `Path`\\]=*`'trimmed_video.mp4'`*)\n",
       "\n",
       "Trim a video in place from start (secs) to end (secs).\n",
       "For youtube videos you can use ``download_youtube_video`` before trimming them."
      ],
      "text/plain": [
       "<IPython.core.display.Markdown object>"
      ]
     },
     "metadata": {},
     "output_type": "display_data"
    }
   ],
   "source": [
    "show_doc(DeepWord.trim_video)"
   ]
  },
  {
   "cell_type": "code",
   "execution_count": null,
   "metadata": {},
   "outputs": [
    {
     "data": {
      "text/html": [
       "<video src=\"test_video.mp4\" controls  width=\"400\"  height=\"400\">\n",
       "      Your browser does not support the <code>video</code> element.\n",
       "    </video>"
      ],
      "text/plain": [
       "<IPython.core.display.Video object>"
      ]
     },
     "execution_count": null,
     "metadata": {},
     "output_type": "execute_result"
    }
   ],
   "source": [
    "fname = 'test_video.mp4'\n",
    "display_video(fname)"
   ]
  },
  {
   "cell_type": "code",
   "execution_count": null,
   "metadata": {},
   "outputs": [
    {
     "name": "stdout",
     "output_type": "stream",
     "text": [
      "Successfully trimmed video\n"
     ]
    },
    {
     "data": {
      "text/plain": [
       "'trimmed_video.mp4'"
      ]
     },
     "execution_count": null,
     "metadata": {},
     "output_type": "execute_result"
    }
   ],
   "source": [
    "account.trim_video(fname, 0, 5)"
   ]
  },
  {
   "cell_type": "code",
   "execution_count": null,
   "metadata": {},
   "outputs": [
    {
     "data": {
      "text/html": [
       "<video src=\"trimmed_video.mp4\" controls  width=\"400\"  height=\"400\">\n",
       "      Your browser does not support the <code>video</code> element.\n",
       "    </video>"
      ],
      "text/plain": [
       "<IPython.core.display.Video object>"
      ]
     },
     "execution_count": null,
     "metadata": {},
     "output_type": "execute_result"
    }
   ],
   "source": [
    "display_video('trimmed_video.mp4')"
   ]
  },
  {
   "cell_type": "markdown",
   "metadata": {},
   "source": [
    "## Creating synthetic videos"
   ]
  },
  {
   "cell_type": "code",
   "execution_count": null,
   "metadata": {},
   "outputs": [
    {
     "data": {
      "text/markdown": [
       "<h4 id=\"DeepWord.generate_video\" class=\"doc_header\"><code>DeepWord.generate_video</code><a href=\"__main__.py#L208\" class=\"source_link\" style=\"float:right\">[source]</a></h4>\n",
       "\n",
       "> <code>DeepWord.generate_video</code>(**`video`**:`str`, **`audio`**:`str`, **`title`**:`str`=*`None`*)\n",
       "\n",
       "Generate a synthetic video using a video of a person talking and the audio\n",
       "   you want them to say. You can check the status of the video using\n",
       "   ``list_generated_videos`` and download it using ``download_video`` or\n",
       "   ``download_all_videos``\n",
       "Args:\n",
       "    video (str): Video of the person you want talking.\n",
       "    audio (str): Audio you want the person to say.\n",
       "    title (str, optional): Optionally provide a title for the output. Defaults to \n",
       "                           name of the video file.\n",
       "Raises:\n",
       "    ValueError: If video or audio don't exist"
      ],
      "text/plain": [
       "<IPython.core.display.Markdown object>"
      ]
     },
     "metadata": {},
     "output_type": "display_data"
    }
   ],
   "source": [
    "show_doc(DeepWord.generate_video)"
   ]
  },
  {
   "cell_type": "code",
   "execution_count": null,
   "metadata": {},
   "outputs": [
    {
     "data": {
      "text/plain": [
       "{'status': True,\n",
       " 'message': 'Your video has been added to the queue for processing. Please check back in 10-15 minutes',\n",
       " 'url': 'https://staging.deepword.co/video/u5mpr0tkpzvmj1x'}"
      ]
     },
     "execution_count": null,
     "metadata": {},
     "output_type": "execute_result"
    }
   ],
   "source": [
    "account.generate_video('video_actors/Anna.mp4', 'audio_samples/Amy Poehler.mp3')"
   ]
  },
  {
   "cell_type": "code",
   "execution_count": null,
   "metadata": {},
   "outputs": [
    {
     "name": "stdout",
     "output_type": "stream",
     "text": [
      "Converted 00_core.ipynb.\n",
      "Converted 01_utils.ipynb.\n",
      "Converted 02_tutorials.educational.ipynb.\n",
      "Converted 02_tutorials.input_types.ipynb.\n",
      "Converted 02_tutorials.sales.ipynb.\n",
      "Converted index.ipynb.\n"
     ]
    }
   ],
   "source": [
    "#hide\n",
    "from nbdev.export import notebook2script\n",
    "notebook2script()"
   ]
  },
  {
   "cell_type": "code",
   "execution_count": null,
   "metadata": {},
   "outputs": [],
   "source": []
  }
 ],
 "metadata": {
  "kernelspec": {
   "display_name": "Python 3",
   "language": "python",
   "name": "python3"
  },
  "language_info": {
   "codemirror_mode": {
    "name": "ipython",
    "version": 3
   },
   "file_extension": ".py",
   "mimetype": "text/x-python",
   "name": "python",
   "nbconvert_exporter": "python",
   "pygments_lexer": "ipython3",
   "version": "3.8.3"
  }
 },
 "nbformat": 4,
 "nbformat_minor": 4
}
