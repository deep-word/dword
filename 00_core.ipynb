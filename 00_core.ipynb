{
 "cells": [
  {
   "cell_type": "code",
   "execution_count": null,
   "metadata": {},
   "outputs": [],
   "source": [
    "# default_exp core"
   ]
  },
  {
   "cell_type": "markdown",
   "metadata": {},
   "source": [
    "# Core\n",
    "\n",
    "> Core class to login to your DeepWord account and generate synthetic videos"
   ]
  },
  {
   "cell_type": "code",
   "execution_count": null,
   "metadata": {},
   "outputs": [],
   "source": [
    "#exporti\n",
    "import base64\n",
    "import json\n",
    "import os\n",
    "import random\n",
    "import time\n",
    "from pathlib import Path\n",
    "from typing import Dict, List, Union\n",
    "\n",
    "import cv2\n",
    "import pytube\n",
    "import requests\n",
    "import urllib3\n",
    "from pytube import YouTube\n",
    "\n",
    "from dword.utils import *\n",
    "from dword.utils import URLs, _exists, AzureDicts\n",
    "from nbdev.showdoc import show_doc\n",
    "\n",
    "urllib3.disable_warnings()"
   ]
  },
  {
   "cell_type": "code",
   "execution_count": null,
   "metadata": {},
   "outputs": [],
   "source": [
    "#hide\n",
    "API_KEY = os.environ['API_KEY']\n",
    "SECRET_KEY = os.environ['SECRET_KEY']"
   ]
  },
  {
   "cell_type": "code",
   "execution_count": null,
   "metadata": {},
   "outputs": [],
   "source": [
    "#export\n",
    "class DeepWord:\n",
    "    \"\"\"\n",
    "    A class for logging into your DeepWord account in Python and generating videos at scale\n",
    "    \"\"\"\n",
    "    def __init__(self, api_key: str, secret_key: str) -> None:\n",
    "        \"\"\"Initialize a new DeepWord object. Login to your DeepWord account to generate api keys.\n",
    "        \"\"\"\n",
    "        self.session = requests.session()\n",
    "        self.session.verify = False\n",
    "        self.headers = {'api_key': api_key, 'secerat_key': secret_key, 'Content-Type': 'application/json'}\n",
    "        self._authenticate_user()\n",
    "\n",
    "    def _authenticate_user(self):\n",
    "        url = URLs.validate_token_url\n",
    "        response = self.session.post(url, headers=self.headers)\n",
    "        output = self._process_output(response.text)\n",
    "        if output['success']:\n",
    "            print('login successful')\n",
    "        else:\n",
    "            raise ValueError('Invalid api_key or secret_key')\n",
    "\n",
    "    @staticmethod\n",
    "    def _process_output(x): return json.loads(x)\n",
    "\n",
    "    @property\n",
    "    def available_credits(self) -> int:\n",
    "        \"\"\"Get the number of credits available in your DeepWord account.\n",
    "        \"\"\"\n",
    "        url = URLs.credits_url\n",
    "        response = self.session.post(url, headers=self.headers)\n",
    "        try:\n",
    "            output = self._process_output(response.text)\n",
    "            return output['available_credits']\n",
    "        except:\n",
    "            raise ValueError(response.text)\n",
    "\n",
    "    def list_videos(self) -> List[Dict]:\n",
    "        \"\"\"Get a list of all the videos you've generated using your DeepWord account.\n",
    "        \"\"\"\n",
    "        url = URLs.list_vids_url\n",
    "        response = self.session.post(url, headers=self.headers)\n",
    "        try:\n",
    "            output = self._process_output(response.text)\n",
    "            return output['data']\n",
    "        except:\n",
    "            raise ValueError(response.text)\n",
    "\n",
    "    @property\n",
    "    def _available_languages(self) -> List: return AzureDicts.langs\n",
    "\n",
    "    def _available_speakers(self, lang) -> List: return AzureDicts.speakers[lang]\n",
    "\n",
    "    def text2speech(self, text: str, language: str, speaker: str, outfile = 'text2speech.mp3') -> str:\n",
    "        if language not in self._available_languages:\n",
    "            raise ValueError(f'Language {language} not available. To see available languages print obj._available_languages')\n",
    "        \n",
    "        if speaker not in self._available_speakers(language):\n",
    "            raise ValueError(f'Invalid model for language {language}. To see available models print obj._available_speakers(language)')\n",
    "        \n",
    "        if Path(outfile).exists():\n",
    "            os.remove(f'{outfile}')\n",
    "        \n",
    "        code = AzureDicts.lang2code[language]\n",
    "        sp, gender = speaker.split(' ')\n",
    "\n",
    "        payload='{\"text\":\"%s\",\"name\":\"%s\",\"gender\":\"%s\",\"code\":\"%s\"}'% (text,sp,gender,code)\n",
    "        url = URLs.txt2speech_url\n",
    "        response = self.session.post(url, headers=self.headers,data=payload)\n",
    "\n",
    "        try:\n",
    "            decode_bytes = base64.b64decode(response.text)\n",
    "            with open(outfile, \"wb\") as wav_file:\n",
    "                wav_file.write(decode_bytes)\n",
    "            print(f\"Successfully generated audio file {outfile}\")\n",
    "            return f'{outfile}'\n",
    "        except Exception as e:\n",
    "            raise ValueError(response.text)\n",
    "\n",
    "    def download_video(self, video_id: str) -> None:\n",
    "        \"\"\"Download one of the synthetically generated videos on your DeepWord account. \n",
    "           The video id can be found using the ``list_generated_videos()`` function. The video\n",
    "           should have finished processing to be downloadable.\n",
    "           Optionally, you can use download_all_videos().\n",
    "        \"\"\"\n",
    "        url = URLs.download_vid_url + video_id\n",
    "        response = self.session.get(url, headers=self.headers)\n",
    "        if response.json()['status'] is False:\n",
    "            raise ValueError(\"Video is still processing. Unable to download it at this time.\")\n",
    "        try:\n",
    "            r = requests.get(response.json()['video_url'], stream=True)\n",
    "            with open(response.json()['video_name'], 'wb') as f:\n",
    "                for chunk in r.iter_content(chunk_size=1024): \n",
    "                    if chunk: # filter out keep-alive new chunks\n",
    "                        f.write(chunk)\n",
    "            return (f\"Successfully downloaded video {video_id}!\")\n",
    "        except Exception as e:\n",
    "            raise ValueError(response.text)\n",
    "\n",
    "    def download_all_videos(self, folder: Union[str, Path]  = 'downloaded_videos') -> None:\n",
    "        \"\"\"Download all vidoes generated with your DeepWord account. You can also pass\n",
    "        a folder or nested folders where you want the vidoes to be saved.\n",
    "        \"\"\"\n",
    "        url = URLs.list_vids_url\n",
    "        path = Path().cwd()\n",
    "        \n",
    "        folder = Path(folder)\n",
    "        folder.mkdir(parents = True, exist_ok = True)\n",
    "\n",
    "        response = self.session.post(url, headers=self.headers)\n",
    "        try:\n",
    "            for item in response.json()['data']:\n",
    "                r = requests.get(item['video_url'], stream=True)\n",
    "\n",
    "                fname1 = item['title'].replace(\".mp4\",'')+'.mp4'\n",
    "                full_path = f'{path/folder/fname1}'\n",
    "\n",
    "                with open(full_path, 'wb') as f:\n",
    "                    for chunk in r.iter_content(chunk_size=1024): \n",
    "                        if chunk: # filter out keep-alive new chunks\n",
    "                            f.write(chunk)\n",
    "            print(f\"Successfully downloaded all videos in folder {folder}!\")\n",
    "        except Exception as e:\n",
    "            raise ValueError(response.text)\n",
    "\n",
    "#     def download_youtube_video(self, url: str, types: str = 'video', folder = 'youtube'):\n",
    "#         \"\"\"Download a video from YouTube. You can also donwload an audio by providing\n",
    "#            types = 'audio'.\n",
    "#         \"\"\"\n",
    "#         folder = Path(folder) / types\n",
    "#         folder.mkdir(exist_ok = True, parents = True)\n",
    "#         if types == \"video\":\n",
    "#             pytube.YouTube(url).streams.get_highest_resolution().download(folder)\n",
    "#             print(\"downloaded youtube video successfully!\")\n",
    "#         else:\n",
    "#             yt = YouTube(url) \n",
    "#             stream = yt.streams.filter(only_audio=True).first()\n",
    "#             out_file  = stream.download(folder)\n",
    "#             base, ext = os.path.splitext(out_file)\n",
    "#             new_file = base + '_audio.mp3'\n",
    "#             os.rename(out_file, new_file)\n",
    "#             print(\"downloaded youtube audio successfully!\")\n",
    "    \n",
    "    def download_audio_samples(self, folder = 'audio_samples'):\n",
    "        \"\"\"Download all the audio samples available on the DeepWord website\n",
    "        \"\"\"\n",
    "        path = Path().cwd()\n",
    "        \n",
    "        folder = Path(folder)\n",
    "        folder.mkdir(parents = True, exist_ok = True)\n",
    "\n",
    "        url = URLs.api_get_audio_sample\n",
    "        response = self.session.post(url, headers=self.headers)\n",
    "        try:\n",
    "            for dic in self._process_output(response.text)['sample_audio_files']:\n",
    "                doc = self.session.get(dic['audio_url'])\n",
    "                fname = path / folder / (dic['title']+dic['extension'])\n",
    "                f = open(fname,\"wb\")\n",
    "                f.write(doc.content)\n",
    "                f.close()\n",
    "            return (\"Successfully downloaded all audio samples\")\n",
    "        except Exception as e:\n",
    "            raise ValueError(response.text)\n",
    "\n",
    "    def download_video_actors(self, folder = 'video_actors'):\n",
    "        \"\"\"Download all the video actors available on the DeepWord website.\n",
    "        \"\"\"\n",
    "        path = Path().cwd()\n",
    "        \n",
    "        folder = Path(folder)\n",
    "        folder.mkdir(parents = True, exist_ok = True)\n",
    "\n",
    "        url = URLs.api_get_video_actors\n",
    "        response = self.session.post(url, headers=self.headers)\n",
    "        try:\n",
    "            for dic in self._process_output(response.text)['sample_video_files']:\n",
    "                with self.session.get(dic['video_url'], stream=True) as r:\n",
    "                    r.raise_for_status()\n",
    "                    fname = path / folder / (dic['title']+dic['extension'])\n",
    "                    with open(fname, 'wb') as f:\n",
    "                        for chunk in r.iter_content(chunk_size=8192): \n",
    "                            f.write(chunk)\n",
    "            return (\"Successfully downloaded all video actors\")\n",
    "        except Exception as e:\n",
    "            raise ValueError(response.text)\n",
    "\n",
    "    def trim_video(self, video: Union[str, Path], start_time: int, end_time: int, outfile: Union[str, Path] = 'trimmed_video.mp4') -> None:\n",
    "        \"\"\"\n",
    "        Trim a video in place from start (secs) to end (secs).\n",
    "        For youtube videos you can use ``download_youtube_video`` before trimming them.\n",
    "        \"\"\"\n",
    "        start_time = to_hhmmss(int(start_time)) # 0 -> 00:00:00\n",
    "        end_time = to_hhmmss(int(end_time))\n",
    "        if \"Content-Type\" in self.headers:\n",
    "            self.headers.pop(\"Content-Type\")\n",
    "        url = URLs.trim_video\n",
    "        payload={\"start_time\": start_time,\"end_time\":end_time }\n",
    "        files = {'video': open(video,'rb')}\n",
    "        response = self.session.post(url, headers=self.headers, data=payload,files=files)\n",
    "        try:\n",
    "            r = self.session.get(response.json()['file_url'], stream=True)\n",
    "            with open(outfile, 'wb') as f:\n",
    "                for chunk in r.iter_content(chunk_size=1024): \n",
    "                    if chunk: # filter out keep-alive new chunks\n",
    "                        f.write(chunk)\n",
    "            print('Successfully trimmed video')\n",
    "            return outfile\n",
    "        except Exception as e:\n",
    "            raise ValueError(response.text)\n",
    "\n",
    "            \n",
    "    def generate_video(self, video: str, audio: str, title: str = None):\n",
    "        \"\"\"Generate a synthetic video using a video of a person talking and the audio\n",
    "           you want them to say. You can check the status of the video using\n",
    "           ``list_generated_videos`` and download it using ``download_video`` or\n",
    "           ``download_all_videos``\n",
    "        Args:\n",
    "            video (str): Video of the person you want talking.\n",
    "            audio (str): Audio you want the person to say.\n",
    "            title (str, optional): Optionally provide a title for the output. Defaults to \n",
    "                                   name of the video file.\n",
    "        Raises:\n",
    "            ValueError: If video or audio don't exist\n",
    "        \"\"\"\n",
    "        if not _exists(video): raise ValueError(f'File not found {video}')\n",
    "        if not _exists(audio): raise ValueError(f'File not found {audio}')\n",
    "        payload = {}\n",
    "        if title is not None:\n",
    "            title = Path(title).stem\n",
    "            payload={'name': title}\n",
    "        headers = {}\n",
    "        headers['api_key'] = self.headers['api_key']\n",
    "        headers['secerat_key'] = self.headers['secerat_key']\n",
    "        url = URLs.generate_vid_url\n",
    "        files = {'video_file': open(video,'rb'),'audio_file': open(audio,'rb')}\n",
    "        response = self.session.post(url, headers=headers,files=files,data=payload)\n",
    "        try:\n",
    "            return response.json()\n",
    "        except Exception as e:\n",
    "            raise ValueError(e)"
   ]
  },
  {
   "cell_type": "code",
   "execution_count": null,
   "metadata": {},
   "outputs": [
    {
     "name": "stdout",
     "output_type": "stream",
     "text": [
      "login successful\n"
     ]
    }
   ],
   "source": [
    "account = DeepWord(API_KEY, SECRET_KEY)"
   ]
  },
  {
   "cell_type": "markdown",
   "metadata": {},
   "source": [
    "## Account details"
   ]
  },
  {
   "cell_type": "code",
   "execution_count": null,
   "metadata": {},
   "outputs": [
    {
     "data": {
      "text/markdown": [
       "<h4 id=\"DeepWord.available_credits\" class=\"doc_header\"><code>DeepWord.available_credits</code><a href=\"\" class=\"source_link\" style=\"float:right\">[source]</a></h4>\n",
       "\n",
       "Get the number of credits available in your DeepWord account.\n",
       "        "
      ],
      "text/plain": [
       "<IPython.core.display.Markdown object>"
      ]
     },
     "metadata": {},
     "output_type": "display_data"
    }
   ],
   "source": [
    "show_doc(DeepWord.available_credits)"
   ]
  },
  {
   "cell_type": "code",
   "execution_count": null,
   "metadata": {},
   "outputs": [
    {
     "data": {
      "text/plain": [
       "10010"
      ]
     },
     "execution_count": null,
     "metadata": {},
     "output_type": "execute_result"
    }
   ],
   "source": [
    "account.available_credits"
   ]
  },
  {
   "cell_type": "code",
   "execution_count": null,
   "metadata": {},
   "outputs": [
    {
     "data": {
      "text/markdown": [
       "<h4 id=\"DeepWord.list_videos\" class=\"doc_header\"><code>DeepWord.list_videos</code><a href=\"__main__.py#L38\" class=\"source_link\" style=\"float:right\">[source]</a></h4>\n",
       "\n",
       "> <code>DeepWord.list_videos</code>()\n",
       "\n",
       "Get a list of all the videos you've generated using your DeepWord account.\n",
       "        "
      ],
      "text/plain": [
       "<IPython.core.display.Markdown object>"
      ]
     },
     "metadata": {},
     "output_type": "display_data"
    }
   ],
   "source": [
    "show_doc(DeepWord.list_videos)"
   ]
  },
  {
   "cell_type": "code",
   "execution_count": null,
   "metadata": {},
   "outputs": [
    {
     "data": {
      "text/plain": [
       "{'email': 'test_dword_api@yopmail.com',\n",
       " 'thumbnail': 'video_b47y6afmn0kri1dwkt.mp4',\n",
       " 'title': 'Anna',\n",
       " 'video_url': 'https://videos-deep-word123.s3.us-east-2.amazonaws.com/output_data/b47y6afmn0kri1dwkt.mp4',\n",
       " 'video_duration': '52.56',\n",
       " 'video_id': 'b47y6afmn0kri1dwkt',\n",
       " 'generate_date': '2021-07-24T17:18:45.000Z',\n",
       " 'output_status': 'Complete'}"
      ]
     },
     "execution_count": null,
     "metadata": {},
     "output_type": "execute_result"
    }
   ],
   "source": [
    "all_videos = account.list_videos()\n",
    "all_videos[0]"
   ]
  },
  {
   "cell_type": "code",
   "execution_count": null,
   "metadata": {},
   "outputs": [
    {
     "data": {
      "text/plain": [
       "7"
      ]
     },
     "execution_count": null,
     "metadata": {},
     "output_type": "execute_result"
    }
   ],
   "source": [
    "len(all_videos)"
   ]
  },
  {
   "cell_type": "markdown",
   "metadata": {},
   "source": [
    "## Downloading synthetically generated videos"
   ]
  },
  {
   "cell_type": "code",
   "execution_count": null,
   "metadata": {},
   "outputs": [
    {
     "data": {
      "text/markdown": [
       "<h4 id=\"DeepWord.download_video\" class=\"doc_header\"><code>DeepWord.download_video</code><a href=\"__main__.py#L80\" class=\"source_link\" style=\"float:right\">[source]</a></h4>\n",
       "\n",
       "> <code>DeepWord.download_video</code>(**`video_id`**:`str`)\n",
       "\n",
       "Download one of the synthetically generated videos on your DeepWord account. \n",
       "The video id can be found using the ``list_generated_videos()`` function. The video\n",
       "should have finished processing to be downloadable.\n",
       "Optionally, you can use download_all_videos()."
      ],
      "text/plain": [
       "<IPython.core.display.Markdown object>"
      ]
     },
     "metadata": {},
     "output_type": "display_data"
    }
   ],
   "source": [
    "show_doc(DeepWord.download_video)"
   ]
  },
  {
   "cell_type": "code",
   "execution_count": null,
   "metadata": {},
   "outputs": [
    {
     "data": {
      "text/markdown": [
       "<h4 id=\"DeepWord.download_all_videos\" class=\"doc_header\"><code>DeepWord.download_all_videos</code><a href=\"__main__.py#L100\" class=\"source_link\" style=\"float:right\">[source]</a></h4>\n",
       "\n",
       "> <code>DeepWord.download_all_videos</code>(**`folder`**:`Union`\\[`str`, `Path`\\]=*`'downloaded_videos'`*)\n",
       "\n",
       "Download all vidoes generated with your DeepWord account. You can also pass\n",
       "a folder or nested folders where you want the vidoes to be saved."
      ],
      "text/plain": [
       "<IPython.core.display.Markdown object>"
      ]
     },
     "metadata": {},
     "output_type": "display_data"
    }
   ],
   "source": [
    "show_doc(DeepWord.download_all_videos)"
   ]
  },
  {
   "cell_type": "code",
   "execution_count": null,
   "metadata": {},
   "outputs": [
    {
     "name": "stdout",
     "output_type": "stream",
     "text": [
      "Successfully downloaded all videos in folder my_videos!\n"
     ]
    }
   ],
   "source": [
    "account.download_all_videos('my_videos')"
   ]
  },
  {
   "cell_type": "code",
   "execution_count": null,
   "metadata": {},
   "outputs": [
    {
     "name": "stdout",
     "output_type": "stream",
     "text": [
      "0_.mp4\n",
      "10_.mp4\n",
      "11_.mp4\n",
      "12_.mp4\n",
      "13_.mp4\n",
      "14_.mp4\n",
      "15_.mp4\n",
      "16_.mp4\n",
      "17_.mp4\n",
      "18_.mp4\n"
     ]
    }
   ],
   "source": [
    "!ls my_videos | HEAD -n10"
   ]
  },
  {
   "cell_type": "markdown",
   "metadata": {},
   "source": [
    "## Downloading sample data"
   ]
  },
  {
   "cell_type": "code",
   "execution_count": null,
   "metadata": {},
   "outputs": [
    {
     "data": {
      "text/markdown": [
       "<h4 id=\"DeepWord.download_video_actors\" class=\"doc_header\"><code>DeepWord.download_video_actors</code><a href=\"__main__.py#L165\" class=\"source_link\" style=\"float:right\">[source]</a></h4>\n",
       "\n",
       "> <code>DeepWord.download_video_actors</code>(**`folder`**=*`'video_actors'`*)\n",
       "\n",
       "Download all the video actors available on the DeepWord website.\n",
       "        "
      ],
      "text/plain": [
       "<IPython.core.display.Markdown object>"
      ]
     },
     "metadata": {},
     "output_type": "display_data"
    }
   ],
   "source": [
    "show_doc(DeepWord.download_video_actors)"
   ]
  },
  {
   "cell_type": "code",
   "execution_count": null,
   "metadata": {},
   "outputs": [
    {
     "data": {
      "text/plain": [
       "'Successfully downloaded all video actors'"
      ]
     },
     "execution_count": null,
     "metadata": {},
     "output_type": "execute_result"
    }
   ],
   "source": [
    "account.download_video_actors()"
   ]
  },
  {
   "cell_type": "code",
   "execution_count": null,
   "metadata": {},
   "outputs": [
    {
     "name": "stdout",
     "output_type": "stream",
     "text": [
      "Anna.mp4    Dalton.mp4  Isaac.mp4   Karen.mp4   Mia.mp4     Richard.mp4\n",
      "Berto.mp4   Emily.mp4   James.mp4   Marcus.mp4  Micheal.mp4 Sam.mp4\n",
      "Carlos.mp4  Henry.mp4   Julia.mp4   Mary.mp4    Noelle.mp4  Trey.mp4\n"
     ]
    }
   ],
   "source": [
    "!ls video_actors"
   ]
  },
  {
   "cell_type": "code",
   "execution_count": null,
   "metadata": {},
   "outputs": [
    {
     "data": {
      "text/markdown": [
       "<h4 id=\"DeepWord.download_audio_samples\" class=\"doc_header\"><code>DeepWord.download_audio_samples</code><a href=\"__main__.py#L144\" class=\"source_link\" style=\"float:right\">[source]</a></h4>\n",
       "\n",
       "> <code>DeepWord.download_audio_samples</code>(**`folder`**=*`'audio_samples'`*)\n",
       "\n",
       "Download all the audio samples available on the DeepWord website\n",
       "        "
      ],
      "text/plain": [
       "<IPython.core.display.Markdown object>"
      ]
     },
     "metadata": {},
     "output_type": "display_data"
    }
   ],
   "source": [
    "show_doc(DeepWord.download_audio_samples)"
   ]
  },
  {
   "cell_type": "code",
   "execution_count": null,
   "metadata": {},
   "outputs": [
    {
     "data": {
      "text/plain": [
       "'Successfully downloaded all audio samples'"
      ]
     },
     "execution_count": null,
     "metadata": {},
     "output_type": "execute_result"
    }
   ],
   "source": [
    "account.download_audio_samples()"
   ]
  },
  {
   "cell_type": "code",
   "execution_count": null,
   "metadata": {},
   "outputs": [
    {
     "name": "stdout",
     "output_type": "stream",
     "text": [
      "Amy Poehler.mp3            Mark Cuban.mp3\n",
      "Boeing CEO.mp3             Martin Scorsese.mp3\n",
      "Chamath Phalihapitiya.mp3  Michael Scott.mp3\n",
      "Chinese Instructor.mp3     Neil deGrasse Tyson.mp3\n",
      "Edward Snowden.mp3         Peyton Manning.mp3\n",
      "Elizabeth Holmes.mp3       Scottie Pippen.mp3\n",
      "Financial Advice.mp3       Shaq.mp3\n",
      "Footbal Meme.mp3           Swim Coach.mp3\n",
      "George Hotz.mp3            Tampa Bay Rays Manager.mp3\n",
      "Kevin Hart.mp3             [Korean] Bong Joon Ho.mp3\n"
     ]
    }
   ],
   "source": [
    "!ls audio_samples"
   ]
  },
  {
   "cell_type": "markdown",
   "metadata": {},
   "source": [
    "## Using text2speech\n",
    "\n",
    "One of the big advantages of using DeepWord is you don't even have to record an audio. You can use our text2speech feature to convert your text into audio. We support a **41 languages** and a bunch of speakers for each language. To see the available languages you can do"
   ]
  },
  {
   "cell_type": "code",
   "execution_count": null,
   "metadata": {},
   "outputs": [
    {
     "data": {
      "text/plain": [
       "['arabic_egypt',\n",
       " 'arabic_saudi_arabia',\n",
       " 'bulgarian',\n",
       " 'catalan',\n",
       " 'czech',\n",
       " 'welsh',\n",
       " 'danish',\n",
       " 'german_austria',\n",
       " 'german_switzerland',\n",
       " 'german_germany']"
      ]
     },
     "execution_count": null,
     "metadata": {},
     "output_type": "execute_result"
    }
   ],
   "source": [
    "account._available_languages[:10]"
   ]
  },
  {
   "cell_type": "code",
   "execution_count": null,
   "metadata": {},
   "outputs": [],
   "source": [
    "lang = 'english_us'"
   ]
  },
  {
   "cell_type": "code",
   "execution_count": null,
   "metadata": {},
   "outputs": [
    {
     "data": {
      "text/plain": [
       "['en-US-JennyNeural Female',\n",
       " 'en-US-JennyMultilingualNeural Female',\n",
       " 'en-US-GuyNeural Male',\n",
       " 'en-US-AriaNeural Female',\n",
       " 'en-US-AmberNeural Female',\n",
       " 'en-US-AnaNeural Female',\n",
       " 'en-US-AshleyNeural Female',\n",
       " 'en-US-BrandonNeural Male',\n",
       " 'en-US-ChristopherNeural Male',\n",
       " 'en-US-CoraNeural Female',\n",
       " 'en-US-ElizabethNeural Female',\n",
       " 'en-US-EricNeural Male',\n",
       " 'en-US-JacobNeural Male',\n",
       " 'en-US-MichelleNeural Female',\n",
       " 'en-US-MonicaNeural Female']"
      ]
     },
     "execution_count": null,
     "metadata": {},
     "output_type": "execute_result"
    }
   ],
   "source": [
    "speakers = account._available_speakers(lang)\n",
    "speakers"
   ]
  },
  {
   "cell_type": "code",
   "execution_count": null,
   "metadata": {},
   "outputs": [
    {
     "name": "stdout",
     "output_type": "stream",
     "text": [
      "Successfully generated audio file text2speech.mp3\n"
     ]
    },
    {
     "data": {
      "text/plain": [
       "'text2speech.mp3'"
      ]
     },
     "execution_count": null,
     "metadata": {},
     "output_type": "execute_result"
    }
   ],
   "source": [
    "text = 'I want this speaker to speak this text'\n",
    "account.text2speech(text, lang, speakers[1])"
   ]
  },
  {
   "cell_type": "code",
   "execution_count": null,
   "metadata": {},
   "outputs": [
    {
     "data": {
      "text/html": [
       "\n",
       "                <audio  controls=\"controls\" >\n",
       "                    <source src=\"data:audio/mpeg;base64,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\" type=\"audio/mpeg\" />\n",
       "                    Your browser does not support the audio element.\n",
       "                </audio>\n",
       "              "
      ],
      "text/plain": [
       "<IPython.lib.display.Audio object>"
      ]
     },
     "execution_count": null,
     "metadata": {},
     "output_type": "execute_result"
    }
   ],
   "source": [
    "play_audio('text2speech.mp3')"
   ]
  },
  {
   "cell_type": "markdown",
   "metadata": {},
   "source": [
    "## Trim videos\n",
    "\n",
    "We trim videos on our servers for you so trim videos is part of the core module and not the utils module"
   ]
  },
  {
   "cell_type": "code",
   "execution_count": null,
   "metadata": {},
   "outputs": [
    {
     "data": {
      "text/markdown": [
       "<h4 id=\"DeepWord.trim_video\" class=\"doc_header\"><code>DeepWord.trim_video</code><a href=\"__main__.py#L187\" class=\"source_link\" style=\"float:right\">[source]</a></h4>\n",
       "\n",
       "> <code>DeepWord.trim_video</code>(**`video`**:`Union`\\[`str`, `Path`\\], **`start_time`**:`int`, **`end_time`**:`int`, **`outfile`**:`Union`\\[`str`, `Path`\\]=*`'trimmed_video.mp4'`*)\n",
       "\n",
       "Trim a video in place from start (secs) to end (secs).\n",
       "For youtube videos you can use ``download_youtube_video`` before trimming them."
      ],
      "text/plain": [
       "<IPython.core.display.Markdown object>"
      ]
     },
     "metadata": {},
     "output_type": "display_data"
    }
   ],
   "source": [
    "show_doc(DeepWord.trim_video)"
   ]
  },
  {
   "cell_type": "code",
   "execution_count": null,
   "metadata": {},
   "outputs": [
    {
     "data": {
      "text/html": [
       "<video src=\"test_video.mp4\" controls  width=\"400\"  height=\"400\">\n",
       "      Your browser does not support the <code>video</code> element.\n",
       "    </video>"
      ],
      "text/plain": [
       "<IPython.core.display.Video object>"
      ]
     },
     "execution_count": null,
     "metadata": {},
     "output_type": "execute_result"
    }
   ],
   "source": [
    "fname = 'test_video.mp4'\n",
    "display_video(fname)"
   ]
  },
  {
   "cell_type": "code",
   "execution_count": null,
   "metadata": {},
   "outputs": [
    {
     "name": "stdout",
     "output_type": "stream",
     "text": [
      "Successfully trimmed video\n"
     ]
    },
    {
     "data": {
      "text/plain": [
       "'trimmed_video.mp4'"
      ]
     },
     "execution_count": null,
     "metadata": {},
     "output_type": "execute_result"
    }
   ],
   "source": [
    "account.trim_video(fname, 0, 5)"
   ]
  },
  {
   "cell_type": "code",
   "execution_count": null,
   "metadata": {},
   "outputs": [
    {
     "data": {
      "text/html": [
       "<video src=\"trimmed_video.mp4\" controls  width=\"400\"  height=\"400\">\n",
       "      Your browser does not support the <code>video</code> element.\n",
       "    </video>"
      ],
      "text/plain": [
       "<IPython.core.display.Video object>"
      ]
     },
     "execution_count": null,
     "metadata": {},
     "output_type": "execute_result"
    }
   ],
   "source": [
    "display_video('trimmed_video.mp4')"
   ]
  },
  {
   "cell_type": "markdown",
   "metadata": {},
   "source": [
    "## Creating synthetic videos"
   ]
  },
  {
   "cell_type": "code",
   "execution_count": null,
   "metadata": {},
   "outputs": [
    {
     "data": {
      "text/markdown": [
       "<h4 id=\"DeepWord.generate_video\" class=\"doc_header\"><code>DeepWord.generate_video</code><a href=\"__main__.py#L212\" class=\"source_link\" style=\"float:right\">[source]</a></h4>\n",
       "\n",
       "> <code>DeepWord.generate_video</code>(**`video`**:`str`, **`audio`**:`str`, **`title`**:`str`=*`None`*)\n",
       "\n",
       "Generate a synthetic video using a video of a person talking and the audio\n",
       "   you want them to say. You can check the status of the video using\n",
       "   ``list_generated_videos`` and download it using ``download_video`` or\n",
       "   ``download_all_videos``\n",
       "Args:\n",
       "    video (str): Video of the person you want talking.\n",
       "    audio (str): Audio you want the person to say.\n",
       "    title (str, optional): Optionally provide a title for the output. Defaults to \n",
       "                           name of the video file.\n",
       "Raises:\n",
       "    ValueError: If video or audio don't exist"
      ],
      "text/plain": [
       "<IPython.core.display.Markdown object>"
      ]
     },
     "metadata": {},
     "output_type": "display_data"
    }
   ],
   "source": [
    "show_doc(DeepWord.generate_video)"
   ]
  },
  {
   "cell_type": "code",
   "execution_count": null,
   "metadata": {},
   "outputs": [
    {
     "data": {
      "text/plain": [
       "{'status': True,\n",
       " 'message': 'Your video has been added to the queue for processing. It should be complete within 10-15 minutes',\n",
       " 'url': 'https://login.deepword.co/video/b47y6ajlgoksigis2b'}"
      ]
     },
     "execution_count": null,
     "metadata": {},
     "output_type": "execute_result"
    }
   ],
   "source": [
    "account.generate_video('video_actors/Anna.mp4', 'audio_samples/Amy Poehler.mp3')"
   ]
  },
  {
   "cell_type": "code",
   "execution_count": null,
   "metadata": {},
   "outputs": [
    {
     "name": "stdout",
     "output_type": "stream",
     "text": [
      "Converted 00_core.ipynb.\n",
      "Converted 01_utils.ipynb.\n",
      "Converted 02_tutorials.input_types.ipynb.\n",
      "Converted 02_tutorials.sales.ipynb.\n",
      "Converted 02_tutorials.test_text2speech.ipynb.\n",
      "Converted 02_tutorials.test_video_actors.ipynb.\n",
      "Converted index.ipynb.\n"
     ]
    }
   ],
   "source": [
    "#hide\n",
    "from nbdev.export import notebook2script\n",
    "notebook2script()"
   ]
  },
  {
   "cell_type": "code",
   "execution_count": null,
   "metadata": {},
   "outputs": [],
   "source": []
  },
  {
   "cell_type": "code",
   "execution_count": null,
   "metadata": {},
   "outputs": [],
   "source": []
  }
 ],
 "metadata": {
  "kernelspec": {
   "display_name": "Python 3",
   "language": "python",
   "name": "python3"
  }
 },
 "nbformat": 4,
 "nbformat_minor": 4
}
