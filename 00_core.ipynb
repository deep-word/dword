{
 "cells": [
  {
   "cell_type": "code",
   "execution_count": null,
   "metadata": {},
   "outputs": [],
   "source": [
    "# default_exp core"
   ]
  },
  {
   "cell_type": "markdown",
   "metadata": {},
   "source": [
    "# Core\n",
    "\n",
    "> Core class to login to your DeepWord account and generate synthetic videos"
   ]
  },
  {
   "cell_type": "code",
   "execution_count": null,
   "metadata": {},
   "outputs": [],
   "source": [
    "#exporti\n",
    "import base64\n",
    "import json\n",
    "import os\n",
    "import random\n",
    "import time\n",
    "from pathlib import Path\n",
    "from typing import Dict, List, Union\n",
    "\n",
    "import cv2\n",
    "import pytube\n",
    "import requests\n",
    "import urllib3\n",
    "from pytube import YouTube\n",
    "\n",
    "from dword.utils import *\n",
    "from dword.utils import URLs, _exists, TextDicts\n",
    "from IPython.display import Audio\n",
    "from nbdev.showdoc import show_doc\n",
    "\n",
    "urllib3.disable_warnings()"
   ]
  },
  {
   "cell_type": "code",
   "execution_count": null,
   "metadata": {},
   "outputs": [],
   "source": [
    "#hide\n",
    "# API_KEY = os.environ['API_KEY']\n",
    "# SECRET_KEY = os.environ['SECRET_KEY']\n",
    "\n",
    "API_KEY = '7F07D2C-ZFM42VG-JTJFATX-PWTRRFT'\n",
    "SECRET_KEY = '3bc07689-fbe8-416e-96a4-f56bb7358c3f'"
   ]
  },
  {
   "cell_type": "code",
   "execution_count": null,
   "metadata": {},
   "outputs": [],
   "source": [
    "#export\n",
    "class DeepWord:\n",
    "    \"\"\"\n",
    "    A class for logging into your DeepWord account in Python and generating videos at scale\n",
    "    \"\"\"\n",
    "    def __init__(self, api_key: str, secret_key: str) -> None:\n",
    "        \"\"\"Initialize a new DeepWord object. Login to your DeepWord account to generate api keys.\n",
    "        \"\"\"\n",
    "        self.session = requests.session()\n",
    "        self.session.verify = False\n",
    "        self.headers = {'api_key': api_key, 'secerat_key': secret_key, 'Content-Type': 'application/json'}\n",
    "        self._authenticate_user()\n",
    "\n",
    "    def _authenticate_user(self):\n",
    "        url = URLs.validate_token_url\n",
    "        response = self.session.post(url, headers=self.headers)\n",
    "        output = self._process_output(response.text)\n",
    "        if output['success']:\n",
    "            print('login successful')\n",
    "        else:\n",
    "            raise ValueError('Invalid api_key or secret_key')\n",
    "\n",
    "    @staticmethod\n",
    "    def _process_output(x): return json.loads(x)\n",
    "\n",
    "    @property\n",
    "    def available_credits(self) -> int:\n",
    "        \"\"\"Get the number of credits available in your DeepWord account.\n",
    "        \"\"\"\n",
    "        url = URLs.credits_url\n",
    "        response = self.session.post(url, headers=self.headers)\n",
    "        try:\n",
    "            output = self._process_output(response.text)\n",
    "            return output['available_credits']\n",
    "        except:\n",
    "            raise ValueError(response.text)\n",
    "\n",
    "    def list_videos(self) -> List[Dict]:\n",
    "        \"\"\"Get a list of all the videos you've generated using your DeepWord account.\n",
    "        \"\"\"\n",
    "        url = URLs.list_vids_url\n",
    "        response = self.session.post(url, headers=self.headers)\n",
    "        try:\n",
    "            output = self._process_output(response.text)\n",
    "            return output['data']\n",
    "        except:\n",
    "            raise ValueError(response.text)\n",
    "\n",
    "    @property\n",
    "    def _available_languages(self) -> List: return TextDicts.langs\n",
    "\n",
    "    def _available_speakers(self, lang) -> List: return TextDicts.speakers[lang]\n",
    "\n",
    "    def text2speech(self, text: str, language: str, speaker: str, outfile = 'text2speech.mp3') -> str:\n",
    "        if language not in self._available_languages:\n",
    "            raise ValueError(f'Language {language} not available. To see available languages print obj._available_languages')\n",
    "        \n",
    "        if speaker not in self._available_speakers(language):\n",
    "            raise ValueError(f'Invalid model for language {language}. To see available models print obj._available_speakers(language)')\n",
    "        \n",
    "        if Path(outfile).exists():\n",
    "            os.remove(f'{outfile}')\n",
    "        \n",
    "        code = TextDicts.lang2code[language]\n",
    "        sp, gender = speaker.split(' ')\n",
    "\n",
    "        payload='{\"text\":\"%s\",\"name\":\"%s\",\"gender\":\"%s\",\"code\":\"%s\"}'% (text,sp,gender,code)\n",
    "        url = URLs.txt2speech_url\n",
    "        response = self.session.post(url, headers=self.headers,data=payload)\n",
    "\n",
    "        try:\n",
    "            decode_bytes = base64.b64decode(response.text)\n",
    "            with open(outfile, \"wb\") as wav_file:\n",
    "                wav_file.write(decode_bytes)\n",
    "            print(f\"Successfully generated audio file {outfile}\")\n",
    "            return f'{outfile}'\n",
    "        except Exception as e:\n",
    "            raise ValueError(response.text)\n",
    "\n",
    "    def download_video(self, video_id: str) -> None:\n",
    "        \"\"\"Download one of the synthetically generated videos on your DeepWord account. \n",
    "           The video id can be found using the ``list_generated_videos()`` function. The video\n",
    "           should have finished processing to be downloadable.\n",
    "           Optionally, you can use download_all_videos().\n",
    "        \"\"\"\n",
    "        url = URLs.download_vid_url + video_id\n",
    "        response = self.session.get(url, headers=self.headers)\n",
    "        if response.json()['status'] is False:\n",
    "            raise ValueError(\"Video is still processing. Unable to download it at this time.\")\n",
    "        try:\n",
    "            r = requests.get(response.json()['video_url'], stream=True)\n",
    "            with open(response.json()['video_name'], 'wb') as f:\n",
    "                for chunk in r.iter_content(chunk_size=1024): \n",
    "                    if chunk: # filter out keep-alive new chunks\n",
    "                        f.write(chunk)\n",
    "            return (f\"Successfully downloaded video {video_id}!\")\n",
    "        except Exception as e:\n",
    "            raise ValueError(response.text)\n",
    "\n",
    "    def download_all_videos(self, folder: Union[str, Path]  = 'downloaded_videos') -> None:\n",
    "        \"\"\"Download all vidoes generated with your DeepWord account. You can also pass\n",
    "        a folder or nested folders where you want the vidoes to be saved.\n",
    "        \"\"\"\n",
    "        url = URLs.list_vids_url\n",
    "        path = Path().cwd()\n",
    "        \n",
    "        folder = Path(folder)\n",
    "        folder.mkdir(parents = True, exist_ok = True)\n",
    "\n",
    "        response = self.session.post(url, headers=self.headers)\n",
    "        try:\n",
    "            for item in response.json()['data']:\n",
    "                r = requests.get(item['video_url'], stream=True)\n",
    "\n",
    "                fname1 = item['title'].replace(\".mp4\",'')+'.mp4'\n",
    "                full_path = f'{path/folder/fname1}'\n",
    "\n",
    "                with open(full_path, 'wb') as f:\n",
    "                    for chunk in r.iter_content(chunk_size=1024): \n",
    "                        if chunk: # filter out keep-alive new chunks\n",
    "                            f.write(chunk)\n",
    "            print(f\"Successfully downloaded all videos in folder {folder}!\")\n",
    "        except Exception as e:\n",
    "            raise ValueError(response.text)\n",
    "\n",
    "    def download_youtube_video(self, url: str, types: str = 'video', folder = 'youtube'):\n",
    "        \"\"\"Download a video from YouTube. You can also donwload an audio by providing\n",
    "           types = 'audio'.\n",
    "        \"\"\"\n",
    "        folder = Path(folder)\n",
    "        folder.mkdir(exist_ok=True)\n",
    "        if types == \"video\":\n",
    "            pytube.YouTube(url).streams.get_highest_resolution().download(folder)\n",
    "            print(\"downloaded youtube video successfully!\")\n",
    "        else:\n",
    "            yt = YouTube(url) \n",
    "            stream = yt.streams.filter(only_audio=True).first()\n",
    "            out_file  = stream.download(folder)\n",
    "            base, ext = os.path.splitext(out_file)\n",
    "            new_file = base + '_audio.mp3'\n",
    "            os.rename(out_file, new_file)\n",
    "            print(\"downloaded youtube audio successfully!\")\n",
    "    \n",
    "    def download_audio_samples(self):\n",
    "        \"\"\"Download all the audio samples available on the DeepWord website\n",
    "        \"\"\"\n",
    "        folder = Path().cwd() / 'audio_samples'\n",
    "        folder.mkdir(exist_ok = True)\n",
    "\n",
    "        url = URLs.api_get_audio_sample\n",
    "        response = self.session.post(url, headers=self.headers)\n",
    "        try:\n",
    "            for dic in self._process_output(response.text)['sample_audio_files']:\n",
    "                doc = self.session.get(dic['audio_url'])\n",
    "                fname = folder / (dic['title']+dic['extension'])\n",
    "                f = open(fname,\"wb\")\n",
    "                f.write(doc.content)\n",
    "                f.close()\n",
    "            return (\"Successfully downloaded all audio samples\")\n",
    "        except Exception as e:\n",
    "            raise ValueError(response.text)\n",
    "\n",
    "    def download_video_actors(self):\n",
    "        \"\"\"Download all the video actors available on the DeepWord website.\n",
    "        \"\"\"\n",
    "        folder = Path().cwd() / 'video_actors'\n",
    "        folder.mkdir(exist_ok = True)\n",
    "\n",
    "        url = URLs.api_get_video_actors\n",
    "        response = self.session.post(url, headers=self.headers)\n",
    "        try:\n",
    "            for dic in self._process_output(response.text)['sample_video_files']:\n",
    "                with self.session.get(dic['video_url'], stream=True) as r:\n",
    "                    r.raise_for_status()\n",
    "                    fname = folder / (dic['title']+dic['extension'])\n",
    "                    with open(fname, 'wb') as f:\n",
    "                        for chunk in r.iter_content(chunk_size=8192): \n",
    "                            f.write(chunk)\n",
    "            return (\"Successfully downloaded all video actors\")\n",
    "        except Exception as e:\n",
    "            raise ValueError(response.text) \n",
    "\n",
    "    def generate_video(self, video: str, audio: str, title: str = None):\n",
    "        \"\"\"Generate a synthetic video using a video of a person talking and the audio\n",
    "           you want them to say. You can check the status of the video using\n",
    "           ``list_generated_videos`` and download it using ``download_video`` or\n",
    "           ``download_all_videos``\n",
    "        \"\"\"\n",
    "        if not _exists(video): raise ValueError(f'File not found {video}')\n",
    "        if not _exists(audio): raise ValueError(f'File not found {audio}')\n",
    "        payload = {}\n",
    "        if title is not None:\n",
    "            payload={'name': title}\n",
    "        self.headers.pop(\"Content-Type\", None)\n",
    "        url = URLs.generate_vid_url\n",
    "        files = {'video_file': open(video,'rb'),'audio_file': open(audio,'rb')}\n",
    "        response = self.session.post(url, headers=self.headers,files=files,data=payload)\n",
    "        try:\n",
    "            print('Generating video. This will take a few minutes.')\n",
    "            return response.json()\n",
    "        except Exception as e:\n",
    "            raise ValueError(e)"
   ]
  },
  {
   "cell_type": "code",
   "execution_count": null,
   "metadata": {},
   "outputs": [
    {
     "name": "stdout",
     "output_type": "stream",
     "text": [
      "login successful\n"
     ]
    }
   ],
   "source": [
    "account = DeepWord(API_KEY, SECRET_KEY)"
   ]
  },
  {
   "cell_type": "markdown",
   "metadata": {},
   "source": [
    "## Account details"
   ]
  },
  {
   "cell_type": "code",
   "execution_count": null,
   "metadata": {},
   "outputs": [
    {
     "data": {
      "text/markdown": [
       "<h4 id=\"DeepWord.available_credits\" class=\"doc_header\"><code>DeepWord.available_credits</code><a href=\"\" class=\"source_link\" style=\"float:right\">[source]</a></h4>\n",
       "\n",
       "Get the number of credits available in your DeepWord account.\n",
       "        "
      ],
      "text/plain": [
       "<IPython.core.display.Markdown object>"
      ]
     },
     "metadata": {},
     "output_type": "display_data"
    }
   ],
   "source": [
    "show_doc(DeepWord.available_credits)"
   ]
  },
  {
   "cell_type": "code",
   "execution_count": null,
   "metadata": {},
   "outputs": [
    {
     "data": {
      "text/plain": [
       "994"
      ]
     },
     "execution_count": null,
     "metadata": {},
     "output_type": "execute_result"
    }
   ],
   "source": [
    "account.available_credits"
   ]
  },
  {
   "cell_type": "code",
   "execution_count": null,
   "metadata": {},
   "outputs": [
    {
     "data": {
      "text/markdown": [
       "<h4 id=\"DeepWord.list_videos\" class=\"doc_header\"><code>DeepWord.list_videos</code><a href=\"__main__.py#L38\" class=\"source_link\" style=\"float:right\">[source]</a></h4>\n",
       "\n",
       "> <code>DeepWord.list_videos</code>()\n",
       "\n",
       "Get a list of all the videos you've generated using your DeepWord account.\n",
       "        "
      ],
      "text/plain": [
       "<IPython.core.display.Markdown object>"
      ]
     },
     "metadata": {},
     "output_type": "display_data"
    }
   ],
   "source": [
    "show_doc(DeepWord.list_videos)"
   ]
  },
  {
   "cell_type": "code",
   "execution_count": null,
   "metadata": {},
   "outputs": [
    {
     "data": {
      "text/plain": [
       "{'email': 'blablabla@yopmail.com',\n",
       " 'thumbnail': 'thubnail-u5mfeqpkn6uwhsn.png',\n",
       " 'title': 'Noelle',\n",
       " 'video_url': 'https://videos-deep-word123.s3.us-east-2.amazonaws.com/output_data/u5mfeqpkn6uwhsn.mp4',\n",
       " 'video_duration': '53.952',\n",
       " 'video_id': 'u5mfeqpkn6uwhsn',\n",
       " 'generate_date': '2021-04-07T02:52:57.000Z',\n",
       " 'output_status': 'Complete'}"
      ]
     },
     "execution_count": null,
     "metadata": {},
     "output_type": "execute_result"
    }
   ],
   "source": [
    "all_videos = account.list_videos()\n",
    "all_videos[0]"
   ]
  },
  {
   "cell_type": "markdown",
   "metadata": {},
   "source": [
    "## Downloading synthetically generated videos"
   ]
  },
  {
   "cell_type": "code",
   "execution_count": null,
   "metadata": {},
   "outputs": [
    {
     "data": {
      "text/markdown": [
       "<h4 id=\"DeepWord.download_video\" class=\"doc_header\"><code>DeepWord.download_video</code><a href=\"__main__.py#L80\" class=\"source_link\" style=\"float:right\">[source]</a></h4>\n",
       "\n",
       "> <code>DeepWord.download_video</code>(**`video_id`**:`str`)\n",
       "\n",
       "Download one of the synthetically generated videos on your DeepWord account. \n",
       "The video id can be found using the ``list_generated_videos()`` function. The video\n",
       "should have finished processing to be downloadable.\n",
       "Optionally, you can use download_all_videos()."
      ],
      "text/plain": [
       "<IPython.core.display.Markdown object>"
      ]
     },
     "metadata": {},
     "output_type": "display_data"
    }
   ],
   "source": [
    "show_doc(DeepWord.download_video)"
   ]
  },
  {
   "cell_type": "code",
   "execution_count": null,
   "metadata": {},
   "outputs": [
    {
     "data": {
      "text/markdown": [
       "<h4 id=\"DeepWord.download_all_videos\" class=\"doc_header\"><code>DeepWord.download_all_videos</code><a href=\"__main__.py#L100\" class=\"source_link\" style=\"float:right\">[source]</a></h4>\n",
       "\n",
       "> <code>DeepWord.download_all_videos</code>(**`folder`**:`Union`\\[`str`, `Path`\\]=*`'downloaded_videos'`*)\n",
       "\n",
       "Download all vidoes generated with your DeepWord account. You can also pass\n",
       "a folder or nested folders where you want the vidoes to be saved."
      ],
      "text/plain": [
       "<IPython.core.display.Markdown object>"
      ]
     },
     "metadata": {},
     "output_type": "display_data"
    }
   ],
   "source": [
    "show_doc(DeepWord.download_all_videos)"
   ]
  },
  {
   "cell_type": "code",
   "execution_count": null,
   "metadata": {},
   "outputs": [
    {
     "name": "stdout",
     "output_type": "stream",
     "text": [
      "Successfully downloaded all videos in folder my_videos!\n"
     ]
    }
   ],
   "source": [
    "account.download_all_videos('my_videos')"
   ]
  },
  {
   "cell_type": "code",
   "execution_count": null,
   "metadata": {},
   "outputs": [
    {
     "name": "stdout",
     "output_type": "stream",
     "text": [
      "Anna.mp4                     Mary.mp4\r\n",
      "Berto.mp4                    Mia.mp4\r\n",
      "Carlos.mp4                   Micheal.mp4\r\n",
      "Dalton.mp4                   Noelle.mp4\r\n",
      "Emily.mp4                    Richard.mp4\r\n",
      "Henry.mp4                    Sam.mp4\r\n",
      "Isaac.mp4                    Trey.mp4\r\n",
      "James.mp4                    Youtube_3lbd7ml4kni00cq7.mp4\r\n",
      "Julia.mp4                    first_deepword_video.mp4\r\n",
      "Karen.mp4                    new_video.mp4\r\n",
      "Marcus.mp4                   twovids.mp4\r\n"
     ]
    }
   ],
   "source": [
    "!ls my_videos"
   ]
  },
  {
   "cell_type": "markdown",
   "metadata": {},
   "source": [
    "## Downloading sample data"
   ]
  },
  {
   "cell_type": "code",
   "execution_count": null,
   "metadata": {},
   "outputs": [
    {
     "data": {
      "text/markdown": [
       "<h4 id=\"DeepWord.download_video_actors\" class=\"doc_header\"><code>DeepWord.download_video_actors</code><a href=\"__main__.py#L163\" class=\"source_link\" style=\"float:right\">[source]</a></h4>\n",
       "\n",
       "> <code>DeepWord.download_video_actors</code>()\n",
       "\n",
       "Download all the video actors available on the DeepWord website.\n",
       "        "
      ],
      "text/plain": [
       "<IPython.core.display.Markdown object>"
      ]
     },
     "metadata": {},
     "output_type": "display_data"
    }
   ],
   "source": [
    "show_doc(DeepWord.download_video_actors)"
   ]
  },
  {
   "cell_type": "code",
   "execution_count": null,
   "metadata": {},
   "outputs": [
    {
     "data": {
      "text/plain": [
       "'Successfully downloaded all video actors'"
      ]
     },
     "execution_count": null,
     "metadata": {},
     "output_type": "execute_result"
    }
   ],
   "source": [
    "account.download_video_actors()"
   ]
  },
  {
   "cell_type": "code",
   "execution_count": null,
   "metadata": {},
   "outputs": [
    {
     "name": "stdout",
     "output_type": "stream",
     "text": [
      "Anna.mp4    Dalton.mp4  Isaac.mp4   Karen.mp4   Mia.mp4     Richard.mp4\r\n",
      "Berto.mp4   Emily.mp4   James.mp4   Marcus.mp4  Micheal.mp4 Sam.mp4\r\n",
      "Carlos.mp4  Henry.mp4   Julia.mp4   Mary.mp4    Noelle.mp4  Trey.mp4\r\n"
     ]
    }
   ],
   "source": [
    "!ls video_actors"
   ]
  },
  {
   "cell_type": "code",
   "execution_count": null,
   "metadata": {},
   "outputs": [
    {
     "data": {
      "text/markdown": [
       "<h4 id=\"DeepWord.download_audio_samples\" class=\"doc_header\"><code>DeepWord.download_audio_samples</code><a href=\"__main__.py#L144\" class=\"source_link\" style=\"float:right\">[source]</a></h4>\n",
       "\n",
       "> <code>DeepWord.download_audio_samples</code>()\n",
       "\n",
       "Download all the audio samples available on the DeepWord website\n",
       "        "
      ],
      "text/plain": [
       "<IPython.core.display.Markdown object>"
      ]
     },
     "metadata": {},
     "output_type": "display_data"
    }
   ],
   "source": [
    "show_doc(DeepWord.download_audio_samples)"
   ]
  },
  {
   "cell_type": "code",
   "execution_count": null,
   "metadata": {},
   "outputs": [
    {
     "data": {
      "text/plain": [
       "'Successfully downloaded all audio samples'"
      ]
     },
     "execution_count": null,
     "metadata": {},
     "output_type": "execute_result"
    }
   ],
   "source": [
    "account.download_audio_samples()"
   ]
  },
  {
   "cell_type": "code",
   "execution_count": null,
   "metadata": {},
   "outputs": [
    {
     "name": "stdout",
     "output_type": "stream",
     "text": [
      "Amy Poehler.mp3            Mark Cuban.mp3\r\n",
      "Boeing CEO.mp3             Martin Scorsese.mp3\r\n",
      "Chamath Phalihapitiya.mp3  Michael Scott.mp3\r\n",
      "Chinese Instructor.mp3     Neil deGrasse Tyson.mp3\r\n",
      "Edward Snowden.mp3         Peyton Manning.mp3\r\n",
      "Elizabeth Holmes.mp3       Scottie Pippen.mp3\r\n",
      "Financial Advice.mp3       Shaq.mp3\r\n",
      "Footbal Meme.mp3           Swim Coach.mp3\r\n",
      "George Hotz.mp3            Tampa Bay Rays Manager.mp3\r\n",
      "Kevin Hart.mp3             [Korean] Bong Joon Ho.mp3\r\n"
     ]
    }
   ],
   "source": [
    "!ls audio_samples"
   ]
  },
  {
   "cell_type": "markdown",
   "metadata": {},
   "source": [
    "## Using text2speech\n",
    "\n",
    "One of the big advantages of using DeepWord is you don't even have to record an audio. You can use our text2speech feature to convert your text into audio. We support a **41 languages** and a bunch of speakers for each language. To see the available languages you can do"
   ]
  },
  {
   "cell_type": "code",
   "execution_count": null,
   "metadata": {},
   "outputs": [
    {
     "data": {
      "text/plain": [
       "['arabic', 'bengali', 'chinese', 'czech', 'danish']"
      ]
     },
     "execution_count": null,
     "metadata": {},
     "output_type": "execute_result"
    }
   ],
   "source": [
    "account._available_languages[:5]"
   ]
  },
  {
   "cell_type": "code",
   "execution_count": null,
   "metadata": {},
   "outputs": [
    {
     "data": {
      "text/plain": [
       "'arabic'"
      ]
     },
     "execution_count": null,
     "metadata": {},
     "output_type": "execute_result"
    }
   ],
   "source": [
    "lang = account._available_languages[0]\n",
    "lang"
   ]
  },
  {
   "cell_type": "code",
   "execution_count": null,
   "metadata": {},
   "outputs": [
    {
     "data": {
      "text/plain": [
       "['ar-XA-Wavenet-A FEMALE',\n",
       " 'ar-XA-Wavenet-B MALE',\n",
       " 'ar-XA-Wavenet-C MALE',\n",
       " 'ar-XA-Standard-A FEMALE',\n",
       " 'ar-XA-Standard-B MALE',\n",
       " 'ar-XA-Standard-C MALE',\n",
       " 'ar-XA-Standard-D FEMALE']"
      ]
     },
     "execution_count": null,
     "metadata": {},
     "output_type": "execute_result"
    }
   ],
   "source": [
    "speakers = account._available_speakers(lang)\n",
    "speakers"
   ]
  },
  {
   "cell_type": "code",
   "execution_count": null,
   "metadata": {},
   "outputs": [
    {
     "name": "stdout",
     "output_type": "stream",
     "text": [
      "Successfully generated audio file text2speech.mp3\n"
     ]
    },
    {
     "data": {
      "text/plain": [
       "'text2speech.mp3'"
      ]
     },
     "execution_count": null,
     "metadata": {},
     "output_type": "execute_result"
    }
   ],
   "source": [
    "text = 'I want this speaker to speak this text'\n",
    "account.text2speech(text, lang, speakers[0])"
   ]
  },
  {
   "cell_type": "code",
   "execution_count": null,
   "metadata": {},
   "outputs": [
    {
     "data": {
      "text/html": [
       "\n",
       "                <audio  controls=\"controls\" >\n",
       "                    <source src=\"data:audio/mpeg;base64,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\" type=\"audio/mpeg\" />\n",
       "                    Your browser does not support the audio element.\n",
       "                </audio>\n",
       "              "
      ],
      "text/plain": [
       "<IPython.lib.display.Audio object>"
      ]
     },
     "execution_count": null,
     "metadata": {},
     "output_type": "execute_result"
    }
   ],
   "source": [
    "Audio('text2speech.mp3')"
   ]
  },
  {
   "cell_type": "markdown",
   "metadata": {},
   "source": [
    "## Downloading YouTube videos"
   ]
  },
  {
   "cell_type": "code",
   "execution_count": null,
   "metadata": {},
   "outputs": [
    {
     "data": {
      "text/markdown": [
       "<h4 id=\"DeepWord.download_youtube_video\" class=\"doc_header\"><code>DeepWord.download_youtube_video</code><a href=\"__main__.py#L126\" class=\"source_link\" style=\"float:right\">[source]</a></h4>\n",
       "\n",
       "> <code>DeepWord.download_youtube_video</code>(**`url`**:`str`, **`types`**:`str`=*`'video'`*, **`folder`**=*`'youtube'`*)\n",
       "\n",
       "Download a video from YouTube. You can also donwload an audio by providing\n",
       "types = 'audio'."
      ],
      "text/plain": [
       "<IPython.core.display.Markdown object>"
      ]
     },
     "metadata": {},
     "output_type": "display_data"
    }
   ],
   "source": [
    "show_doc(DeepWord.download_youtube_video)"
   ]
  },
  {
   "cell_type": "markdown",
   "metadata": {},
   "source": [
    "> Note: If you want to download both the audio and the video of a YouTube video, download the audio first and then the video otherwise the audio will overwrite the video"
   ]
  },
  {
   "cell_type": "code",
   "execution_count": null,
   "metadata": {},
   "outputs": [],
   "source": [
    "url = 'https://youtu.be/_81yOz-ujug'"
   ]
  },
  {
   "cell_type": "code",
   "execution_count": null,
   "metadata": {},
   "outputs": [
    {
     "ename": "HTTPError",
     "evalue": "HTTP Error 404: Not Found",
     "output_type": "error",
     "traceback": [
      "\u001b[0;31m---------------------------------------------------------------------------\u001b[0m",
      "\u001b[0;31mHTTPError\u001b[0m                                 Traceback (most recent call last)",
      "\u001b[0;32m<ipython-input-32-9f4fb99848e3>\u001b[0m in \u001b[0;36m<module>\u001b[0;34m\u001b[0m\n\u001b[0;32m----> 1\u001b[0;31m \u001b[0maccount\u001b[0m\u001b[0;34m.\u001b[0m\u001b[0mdownload_youtube_video\u001b[0m\u001b[0;34m(\u001b[0m\u001b[0murl\u001b[0m\u001b[0;34m,\u001b[0m \u001b[0mtypes\u001b[0m \u001b[0;34m=\u001b[0m \u001b[0;34m'audio'\u001b[0m\u001b[0;34m)\u001b[0m\u001b[0;34m\u001b[0m\u001b[0;34m\u001b[0m\u001b[0m\n\u001b[0m",
      "\u001b[0;32m<ipython-input-4-376260a442e0>\u001b[0m in \u001b[0;36mdownload_youtube_video\u001b[0;34m(self, url, types, folder)\u001b[0m\n\u001b[1;32m    134\u001b[0m             \u001b[0mprint\u001b[0m\u001b[0;34m(\u001b[0m\u001b[0;34m\"downloaded youtube video successfully!\"\u001b[0m\u001b[0;34m)\u001b[0m\u001b[0;34m\u001b[0m\u001b[0;34m\u001b[0m\u001b[0m\n\u001b[1;32m    135\u001b[0m         \u001b[0;32melse\u001b[0m\u001b[0;34m:\u001b[0m\u001b[0;34m\u001b[0m\u001b[0;34m\u001b[0m\u001b[0m\n\u001b[0;32m--> 136\u001b[0;31m             \u001b[0myt\u001b[0m \u001b[0;34m=\u001b[0m \u001b[0mYouTube\u001b[0m\u001b[0;34m(\u001b[0m\u001b[0murl\u001b[0m\u001b[0;34m)\u001b[0m\u001b[0;34m\u001b[0m\u001b[0;34m\u001b[0m\u001b[0m\n\u001b[0m\u001b[1;32m    137\u001b[0m             \u001b[0mstream\u001b[0m \u001b[0;34m=\u001b[0m \u001b[0myt\u001b[0m\u001b[0;34m.\u001b[0m\u001b[0mstreams\u001b[0m\u001b[0;34m.\u001b[0m\u001b[0mfilter\u001b[0m\u001b[0;34m(\u001b[0m\u001b[0monly_audio\u001b[0m\u001b[0;34m=\u001b[0m\u001b[0;32mTrue\u001b[0m\u001b[0;34m)\u001b[0m\u001b[0;34m.\u001b[0m\u001b[0mfirst\u001b[0m\u001b[0;34m(\u001b[0m\u001b[0;34m)\u001b[0m\u001b[0;34m\u001b[0m\u001b[0;34m\u001b[0m\u001b[0m\n\u001b[1;32m    138\u001b[0m             \u001b[0mout_file\u001b[0m  \u001b[0;34m=\u001b[0m \u001b[0mstream\u001b[0m\u001b[0;34m.\u001b[0m\u001b[0mdownload\u001b[0m\u001b[0;34m(\u001b[0m\u001b[0mfolder\u001b[0m\u001b[0;34m)\u001b[0m\u001b[0;34m\u001b[0m\u001b[0;34m\u001b[0m\u001b[0m\n",
      "\u001b[0;32m~/opt/anaconda3/lib/python3.8/site-packages/pytube/__main__.py\u001b[0m in \u001b[0;36m__init__\u001b[0;34m(self, url, defer_prefetch_init, on_progress_callback, on_complete_callback, proxies)\u001b[0m\n\u001b[1;32m    100\u001b[0m \u001b[0;34m\u001b[0m\u001b[0m\n\u001b[1;32m    101\u001b[0m         \u001b[0;32mif\u001b[0m \u001b[0;32mnot\u001b[0m \u001b[0mdefer_prefetch_init\u001b[0m\u001b[0;34m:\u001b[0m\u001b[0;34m\u001b[0m\u001b[0;34m\u001b[0m\u001b[0m\n\u001b[0;32m--> 102\u001b[0;31m             \u001b[0mself\u001b[0m\u001b[0;34m.\u001b[0m\u001b[0mprefetch\u001b[0m\u001b[0;34m(\u001b[0m\u001b[0;34m)\u001b[0m\u001b[0;34m\u001b[0m\u001b[0;34m\u001b[0m\u001b[0m\n\u001b[0m\u001b[1;32m    103\u001b[0m             \u001b[0mself\u001b[0m\u001b[0;34m.\u001b[0m\u001b[0mdescramble\u001b[0m\u001b[0;34m(\u001b[0m\u001b[0;34m)\u001b[0m\u001b[0;34m\u001b[0m\u001b[0;34m\u001b[0m\u001b[0m\n\u001b[1;32m    104\u001b[0m \u001b[0;34m\u001b[0m\u001b[0m\n",
      "\u001b[0;32m~/opt/anaconda3/lib/python3.8/site-packages/pytube/__main__.py\u001b[0m in \u001b[0;36mprefetch\u001b[0;34m(self)\u001b[0m\n\u001b[1;32m    194\u001b[0m         \u001b[0mself\u001b[0m\u001b[0;34m.\u001b[0m\u001b[0minitial_data\u001b[0m \u001b[0;34m=\u001b[0m \u001b[0mjson\u001b[0m\u001b[0;34m.\u001b[0m\u001b[0mloads\u001b[0m\u001b[0;34m(\u001b[0m\u001b[0mself\u001b[0m\u001b[0;34m.\u001b[0m\u001b[0minitial_data_raw\u001b[0m\u001b[0;34m)\u001b[0m\u001b[0;34m\u001b[0m\u001b[0;34m\u001b[0m\u001b[0m\n\u001b[1;32m    195\u001b[0m \u001b[0;34m\u001b[0m\u001b[0m\n\u001b[0;32m--> 196\u001b[0;31m         \u001b[0mself\u001b[0m\u001b[0;34m.\u001b[0m\u001b[0mvid_info_raw\u001b[0m \u001b[0;34m=\u001b[0m \u001b[0mrequest\u001b[0m\u001b[0;34m.\u001b[0m\u001b[0mget\u001b[0m\u001b[0;34m(\u001b[0m\u001b[0mself\u001b[0m\u001b[0;34m.\u001b[0m\u001b[0mvid_info_url\u001b[0m\u001b[0;34m)\u001b[0m\u001b[0;34m\u001b[0m\u001b[0;34m\u001b[0m\u001b[0m\n\u001b[0m\u001b[1;32m    197\u001b[0m         \u001b[0;32mif\u001b[0m \u001b[0;32mnot\u001b[0m \u001b[0mself\u001b[0m\u001b[0;34m.\u001b[0m\u001b[0mage_restricted\u001b[0m\u001b[0;34m:\u001b[0m\u001b[0;34m\u001b[0m\u001b[0;34m\u001b[0m\u001b[0m\n\u001b[1;32m    198\u001b[0m             \u001b[0mself\u001b[0m\u001b[0;34m.\u001b[0m\u001b[0mjs_url\u001b[0m \u001b[0;34m=\u001b[0m \u001b[0mextract\u001b[0m\u001b[0;34m.\u001b[0m\u001b[0mjs_url\u001b[0m\u001b[0;34m(\u001b[0m\u001b[0mself\u001b[0m\u001b[0;34m.\u001b[0m\u001b[0mwatch_html\u001b[0m\u001b[0;34m)\u001b[0m\u001b[0;34m\u001b[0m\u001b[0;34m\u001b[0m\u001b[0m\n",
      "\u001b[0;32m~/opt/anaconda3/lib/python3.8/site-packages/pytube/request.py\u001b[0m in \u001b[0;36mget\u001b[0;34m(url, extra_headers)\u001b[0m\n\u001b[1;32m     40\u001b[0m     \u001b[0;32mif\u001b[0m \u001b[0mextra_headers\u001b[0m \u001b[0;32mis\u001b[0m \u001b[0;32mNone\u001b[0m\u001b[0;34m:\u001b[0m\u001b[0;34m\u001b[0m\u001b[0;34m\u001b[0m\u001b[0m\n\u001b[1;32m     41\u001b[0m         \u001b[0mextra_headers\u001b[0m \u001b[0;34m=\u001b[0m \u001b[0;34m{\u001b[0m\u001b[0;34m}\u001b[0m\u001b[0;34m\u001b[0m\u001b[0;34m\u001b[0m\u001b[0m\n\u001b[0;32m---> 42\u001b[0;31m     \u001b[0;32mreturn\u001b[0m \u001b[0m_execute_request\u001b[0m\u001b[0;34m(\u001b[0m\u001b[0murl\u001b[0m\u001b[0;34m,\u001b[0m \u001b[0mheaders\u001b[0m\u001b[0;34m=\u001b[0m\u001b[0mextra_headers\u001b[0m\u001b[0;34m)\u001b[0m\u001b[0;34m.\u001b[0m\u001b[0mread\u001b[0m\u001b[0;34m(\u001b[0m\u001b[0;34m)\u001b[0m\u001b[0;34m.\u001b[0m\u001b[0mdecode\u001b[0m\u001b[0;34m(\u001b[0m\u001b[0;34m\"utf-8\"\u001b[0m\u001b[0;34m)\u001b[0m\u001b[0;34m\u001b[0m\u001b[0;34m\u001b[0m\u001b[0m\n\u001b[0m\u001b[1;32m     43\u001b[0m \u001b[0;34m\u001b[0m\u001b[0m\n\u001b[1;32m     44\u001b[0m \u001b[0;34m\u001b[0m\u001b[0m\n",
      "\u001b[0;32m~/opt/anaconda3/lib/python3.8/site-packages/pytube/request.py\u001b[0m in \u001b[0;36m_execute_request\u001b[0;34m(url, method, headers)\u001b[0m\n\u001b[1;32m     24\u001b[0m     \u001b[0;32melse\u001b[0m\u001b[0;34m:\u001b[0m\u001b[0;34m\u001b[0m\u001b[0;34m\u001b[0m\u001b[0m\n\u001b[1;32m     25\u001b[0m         \u001b[0;32mraise\u001b[0m \u001b[0mValueError\u001b[0m\u001b[0;34m(\u001b[0m\u001b[0;34m\"Invalid URL\"\u001b[0m\u001b[0;34m)\u001b[0m\u001b[0;34m\u001b[0m\u001b[0;34m\u001b[0m\u001b[0m\n\u001b[0;32m---> 26\u001b[0;31m     \u001b[0;32mreturn\u001b[0m \u001b[0murlopen\u001b[0m\u001b[0;34m(\u001b[0m\u001b[0mrequest\u001b[0m\u001b[0;34m)\u001b[0m  \u001b[0;31m# nosec\u001b[0m\u001b[0;34m\u001b[0m\u001b[0;34m\u001b[0m\u001b[0m\n\u001b[0m\u001b[1;32m     27\u001b[0m \u001b[0;34m\u001b[0m\u001b[0m\n\u001b[1;32m     28\u001b[0m \u001b[0;34m\u001b[0m\u001b[0m\n",
      "\u001b[0;32m~/opt/anaconda3/lib/python3.8/urllib/request.py\u001b[0m in \u001b[0;36murlopen\u001b[0;34m(url, data, timeout, cafile, capath, cadefault, context)\u001b[0m\n\u001b[1;32m    220\u001b[0m     \u001b[0;32melse\u001b[0m\u001b[0;34m:\u001b[0m\u001b[0;34m\u001b[0m\u001b[0;34m\u001b[0m\u001b[0m\n\u001b[1;32m    221\u001b[0m         \u001b[0mopener\u001b[0m \u001b[0;34m=\u001b[0m \u001b[0m_opener\u001b[0m\u001b[0;34m\u001b[0m\u001b[0;34m\u001b[0m\u001b[0m\n\u001b[0;32m--> 222\u001b[0;31m     \u001b[0;32mreturn\u001b[0m \u001b[0mopener\u001b[0m\u001b[0;34m.\u001b[0m\u001b[0mopen\u001b[0m\u001b[0;34m(\u001b[0m\u001b[0murl\u001b[0m\u001b[0;34m,\u001b[0m \u001b[0mdata\u001b[0m\u001b[0;34m,\u001b[0m \u001b[0mtimeout\u001b[0m\u001b[0;34m)\u001b[0m\u001b[0;34m\u001b[0m\u001b[0;34m\u001b[0m\u001b[0m\n\u001b[0m\u001b[1;32m    223\u001b[0m \u001b[0;34m\u001b[0m\u001b[0m\n\u001b[1;32m    224\u001b[0m \u001b[0;32mdef\u001b[0m \u001b[0minstall_opener\u001b[0m\u001b[0;34m(\u001b[0m\u001b[0mopener\u001b[0m\u001b[0;34m)\u001b[0m\u001b[0;34m:\u001b[0m\u001b[0;34m\u001b[0m\u001b[0;34m\u001b[0m\u001b[0m\n",
      "\u001b[0;32m~/opt/anaconda3/lib/python3.8/urllib/request.py\u001b[0m in \u001b[0;36mopen\u001b[0;34m(self, fullurl, data, timeout)\u001b[0m\n\u001b[1;32m    529\u001b[0m         \u001b[0;32mfor\u001b[0m \u001b[0mprocessor\u001b[0m \u001b[0;32min\u001b[0m \u001b[0mself\u001b[0m\u001b[0;34m.\u001b[0m\u001b[0mprocess_response\u001b[0m\u001b[0;34m.\u001b[0m\u001b[0mget\u001b[0m\u001b[0;34m(\u001b[0m\u001b[0mprotocol\u001b[0m\u001b[0;34m,\u001b[0m \u001b[0;34m[\u001b[0m\u001b[0;34m]\u001b[0m\u001b[0;34m)\u001b[0m\u001b[0;34m:\u001b[0m\u001b[0;34m\u001b[0m\u001b[0;34m\u001b[0m\u001b[0m\n\u001b[1;32m    530\u001b[0m             \u001b[0mmeth\u001b[0m \u001b[0;34m=\u001b[0m \u001b[0mgetattr\u001b[0m\u001b[0;34m(\u001b[0m\u001b[0mprocessor\u001b[0m\u001b[0;34m,\u001b[0m \u001b[0mmeth_name\u001b[0m\u001b[0;34m)\u001b[0m\u001b[0;34m\u001b[0m\u001b[0;34m\u001b[0m\u001b[0m\n\u001b[0;32m--> 531\u001b[0;31m             \u001b[0mresponse\u001b[0m \u001b[0;34m=\u001b[0m \u001b[0mmeth\u001b[0m\u001b[0;34m(\u001b[0m\u001b[0mreq\u001b[0m\u001b[0;34m,\u001b[0m \u001b[0mresponse\u001b[0m\u001b[0;34m)\u001b[0m\u001b[0;34m\u001b[0m\u001b[0;34m\u001b[0m\u001b[0m\n\u001b[0m\u001b[1;32m    532\u001b[0m \u001b[0;34m\u001b[0m\u001b[0m\n\u001b[1;32m    533\u001b[0m         \u001b[0;32mreturn\u001b[0m \u001b[0mresponse\u001b[0m\u001b[0;34m\u001b[0m\u001b[0;34m\u001b[0m\u001b[0m\n",
      "\u001b[0;32m~/opt/anaconda3/lib/python3.8/urllib/request.py\u001b[0m in \u001b[0;36mhttp_response\u001b[0;34m(self, request, response)\u001b[0m\n\u001b[1;32m    638\u001b[0m         \u001b[0;31m# request was successfully received, understood, and accepted.\u001b[0m\u001b[0;34m\u001b[0m\u001b[0;34m\u001b[0m\u001b[0;34m\u001b[0m\u001b[0m\n\u001b[1;32m    639\u001b[0m         \u001b[0;32mif\u001b[0m \u001b[0;32mnot\u001b[0m \u001b[0;34m(\u001b[0m\u001b[0;36m200\u001b[0m \u001b[0;34m<=\u001b[0m \u001b[0mcode\u001b[0m \u001b[0;34m<\u001b[0m \u001b[0;36m300\u001b[0m\u001b[0;34m)\u001b[0m\u001b[0;34m:\u001b[0m\u001b[0;34m\u001b[0m\u001b[0;34m\u001b[0m\u001b[0m\n\u001b[0;32m--> 640\u001b[0;31m             response = self.parent.error(\n\u001b[0m\u001b[1;32m    641\u001b[0m                 'http', request, response, code, msg, hdrs)\n\u001b[1;32m    642\u001b[0m \u001b[0;34m\u001b[0m\u001b[0m\n",
      "\u001b[0;32m~/opt/anaconda3/lib/python3.8/urllib/request.py\u001b[0m in \u001b[0;36merror\u001b[0;34m(self, proto, *args)\u001b[0m\n\u001b[1;32m    561\u001b[0m             \u001b[0mhttp_err\u001b[0m \u001b[0;34m=\u001b[0m \u001b[0;36m0\u001b[0m\u001b[0;34m\u001b[0m\u001b[0;34m\u001b[0m\u001b[0m\n\u001b[1;32m    562\u001b[0m         \u001b[0margs\u001b[0m \u001b[0;34m=\u001b[0m \u001b[0;34m(\u001b[0m\u001b[0mdict\u001b[0m\u001b[0;34m,\u001b[0m \u001b[0mproto\u001b[0m\u001b[0;34m,\u001b[0m \u001b[0mmeth_name\u001b[0m\u001b[0;34m)\u001b[0m \u001b[0;34m+\u001b[0m \u001b[0margs\u001b[0m\u001b[0;34m\u001b[0m\u001b[0;34m\u001b[0m\u001b[0m\n\u001b[0;32m--> 563\u001b[0;31m         \u001b[0mresult\u001b[0m \u001b[0;34m=\u001b[0m \u001b[0mself\u001b[0m\u001b[0;34m.\u001b[0m\u001b[0m_call_chain\u001b[0m\u001b[0;34m(\u001b[0m\u001b[0;34m*\u001b[0m\u001b[0margs\u001b[0m\u001b[0;34m)\u001b[0m\u001b[0;34m\u001b[0m\u001b[0;34m\u001b[0m\u001b[0m\n\u001b[0m\u001b[1;32m    564\u001b[0m         \u001b[0;32mif\u001b[0m \u001b[0mresult\u001b[0m\u001b[0;34m:\u001b[0m\u001b[0;34m\u001b[0m\u001b[0;34m\u001b[0m\u001b[0m\n\u001b[1;32m    565\u001b[0m             \u001b[0;32mreturn\u001b[0m \u001b[0mresult\u001b[0m\u001b[0;34m\u001b[0m\u001b[0;34m\u001b[0m\u001b[0m\n",
      "\u001b[0;32m~/opt/anaconda3/lib/python3.8/urllib/request.py\u001b[0m in \u001b[0;36m_call_chain\u001b[0;34m(self, chain, kind, meth_name, *args)\u001b[0m\n\u001b[1;32m    500\u001b[0m         \u001b[0;32mfor\u001b[0m \u001b[0mhandler\u001b[0m \u001b[0;32min\u001b[0m \u001b[0mhandlers\u001b[0m\u001b[0;34m:\u001b[0m\u001b[0;34m\u001b[0m\u001b[0;34m\u001b[0m\u001b[0m\n\u001b[1;32m    501\u001b[0m             \u001b[0mfunc\u001b[0m \u001b[0;34m=\u001b[0m \u001b[0mgetattr\u001b[0m\u001b[0;34m(\u001b[0m\u001b[0mhandler\u001b[0m\u001b[0;34m,\u001b[0m \u001b[0mmeth_name\u001b[0m\u001b[0;34m)\u001b[0m\u001b[0;34m\u001b[0m\u001b[0;34m\u001b[0m\u001b[0m\n\u001b[0;32m--> 502\u001b[0;31m             \u001b[0mresult\u001b[0m \u001b[0;34m=\u001b[0m \u001b[0mfunc\u001b[0m\u001b[0;34m(\u001b[0m\u001b[0;34m*\u001b[0m\u001b[0margs\u001b[0m\u001b[0;34m)\u001b[0m\u001b[0;34m\u001b[0m\u001b[0;34m\u001b[0m\u001b[0m\n\u001b[0m\u001b[1;32m    503\u001b[0m             \u001b[0;32mif\u001b[0m \u001b[0mresult\u001b[0m \u001b[0;32mis\u001b[0m \u001b[0;32mnot\u001b[0m \u001b[0;32mNone\u001b[0m\u001b[0;34m:\u001b[0m\u001b[0;34m\u001b[0m\u001b[0;34m\u001b[0m\u001b[0m\n\u001b[1;32m    504\u001b[0m                 \u001b[0;32mreturn\u001b[0m \u001b[0mresult\u001b[0m\u001b[0;34m\u001b[0m\u001b[0;34m\u001b[0m\u001b[0m\n",
      "\u001b[0;32m~/opt/anaconda3/lib/python3.8/urllib/request.py\u001b[0m in \u001b[0;36mhttp_error_302\u001b[0;34m(self, req, fp, code, msg, headers)\u001b[0m\n\u001b[1;32m    753\u001b[0m         \u001b[0mfp\u001b[0m\u001b[0;34m.\u001b[0m\u001b[0mclose\u001b[0m\u001b[0;34m(\u001b[0m\u001b[0;34m)\u001b[0m\u001b[0;34m\u001b[0m\u001b[0;34m\u001b[0m\u001b[0m\n\u001b[1;32m    754\u001b[0m \u001b[0;34m\u001b[0m\u001b[0m\n\u001b[0;32m--> 755\u001b[0;31m         \u001b[0;32mreturn\u001b[0m \u001b[0mself\u001b[0m\u001b[0;34m.\u001b[0m\u001b[0mparent\u001b[0m\u001b[0;34m.\u001b[0m\u001b[0mopen\u001b[0m\u001b[0;34m(\u001b[0m\u001b[0mnew\u001b[0m\u001b[0;34m,\u001b[0m \u001b[0mtimeout\u001b[0m\u001b[0;34m=\u001b[0m\u001b[0mreq\u001b[0m\u001b[0;34m.\u001b[0m\u001b[0mtimeout\u001b[0m\u001b[0;34m)\u001b[0m\u001b[0;34m\u001b[0m\u001b[0;34m\u001b[0m\u001b[0m\n\u001b[0m\u001b[1;32m    756\u001b[0m \u001b[0;34m\u001b[0m\u001b[0m\n\u001b[1;32m    757\u001b[0m     \u001b[0mhttp_error_301\u001b[0m \u001b[0;34m=\u001b[0m \u001b[0mhttp_error_303\u001b[0m \u001b[0;34m=\u001b[0m \u001b[0mhttp_error_307\u001b[0m \u001b[0;34m=\u001b[0m \u001b[0mhttp_error_302\u001b[0m\u001b[0;34m\u001b[0m\u001b[0;34m\u001b[0m\u001b[0m\n",
      "\u001b[0;32m~/opt/anaconda3/lib/python3.8/urllib/request.py\u001b[0m in \u001b[0;36mopen\u001b[0;34m(self, fullurl, data, timeout)\u001b[0m\n\u001b[1;32m    529\u001b[0m         \u001b[0;32mfor\u001b[0m \u001b[0mprocessor\u001b[0m \u001b[0;32min\u001b[0m \u001b[0mself\u001b[0m\u001b[0;34m.\u001b[0m\u001b[0mprocess_response\u001b[0m\u001b[0;34m.\u001b[0m\u001b[0mget\u001b[0m\u001b[0;34m(\u001b[0m\u001b[0mprotocol\u001b[0m\u001b[0;34m,\u001b[0m \u001b[0;34m[\u001b[0m\u001b[0;34m]\u001b[0m\u001b[0;34m)\u001b[0m\u001b[0;34m:\u001b[0m\u001b[0;34m\u001b[0m\u001b[0;34m\u001b[0m\u001b[0m\n\u001b[1;32m    530\u001b[0m             \u001b[0mmeth\u001b[0m \u001b[0;34m=\u001b[0m \u001b[0mgetattr\u001b[0m\u001b[0;34m(\u001b[0m\u001b[0mprocessor\u001b[0m\u001b[0;34m,\u001b[0m \u001b[0mmeth_name\u001b[0m\u001b[0;34m)\u001b[0m\u001b[0;34m\u001b[0m\u001b[0;34m\u001b[0m\u001b[0m\n\u001b[0;32m--> 531\u001b[0;31m             \u001b[0mresponse\u001b[0m \u001b[0;34m=\u001b[0m \u001b[0mmeth\u001b[0m\u001b[0;34m(\u001b[0m\u001b[0mreq\u001b[0m\u001b[0;34m,\u001b[0m \u001b[0mresponse\u001b[0m\u001b[0;34m)\u001b[0m\u001b[0;34m\u001b[0m\u001b[0;34m\u001b[0m\u001b[0m\n\u001b[0m\u001b[1;32m    532\u001b[0m \u001b[0;34m\u001b[0m\u001b[0m\n\u001b[1;32m    533\u001b[0m         \u001b[0;32mreturn\u001b[0m \u001b[0mresponse\u001b[0m\u001b[0;34m\u001b[0m\u001b[0;34m\u001b[0m\u001b[0m\n",
      "\u001b[0;32m~/opt/anaconda3/lib/python3.8/urllib/request.py\u001b[0m in \u001b[0;36mhttp_response\u001b[0;34m(self, request, response)\u001b[0m\n\u001b[1;32m    638\u001b[0m         \u001b[0;31m# request was successfully received, understood, and accepted.\u001b[0m\u001b[0;34m\u001b[0m\u001b[0;34m\u001b[0m\u001b[0;34m\u001b[0m\u001b[0m\n\u001b[1;32m    639\u001b[0m         \u001b[0;32mif\u001b[0m \u001b[0;32mnot\u001b[0m \u001b[0;34m(\u001b[0m\u001b[0;36m200\u001b[0m \u001b[0;34m<=\u001b[0m \u001b[0mcode\u001b[0m \u001b[0;34m<\u001b[0m \u001b[0;36m300\u001b[0m\u001b[0;34m)\u001b[0m\u001b[0;34m:\u001b[0m\u001b[0;34m\u001b[0m\u001b[0;34m\u001b[0m\u001b[0m\n\u001b[0;32m--> 640\u001b[0;31m             response = self.parent.error(\n\u001b[0m\u001b[1;32m    641\u001b[0m                 'http', request, response, code, msg, hdrs)\n\u001b[1;32m    642\u001b[0m \u001b[0;34m\u001b[0m\u001b[0m\n",
      "\u001b[0;32m~/opt/anaconda3/lib/python3.8/urllib/request.py\u001b[0m in \u001b[0;36merror\u001b[0;34m(self, proto, *args)\u001b[0m\n\u001b[1;32m    567\u001b[0m         \u001b[0;32mif\u001b[0m \u001b[0mhttp_err\u001b[0m\u001b[0;34m:\u001b[0m\u001b[0;34m\u001b[0m\u001b[0;34m\u001b[0m\u001b[0m\n\u001b[1;32m    568\u001b[0m             \u001b[0margs\u001b[0m \u001b[0;34m=\u001b[0m \u001b[0;34m(\u001b[0m\u001b[0mdict\u001b[0m\u001b[0;34m,\u001b[0m \u001b[0;34m'default'\u001b[0m\u001b[0;34m,\u001b[0m \u001b[0;34m'http_error_default'\u001b[0m\u001b[0;34m)\u001b[0m \u001b[0;34m+\u001b[0m \u001b[0morig_args\u001b[0m\u001b[0;34m\u001b[0m\u001b[0;34m\u001b[0m\u001b[0m\n\u001b[0;32m--> 569\u001b[0;31m             \u001b[0;32mreturn\u001b[0m \u001b[0mself\u001b[0m\u001b[0;34m.\u001b[0m\u001b[0m_call_chain\u001b[0m\u001b[0;34m(\u001b[0m\u001b[0;34m*\u001b[0m\u001b[0margs\u001b[0m\u001b[0;34m)\u001b[0m\u001b[0;34m\u001b[0m\u001b[0;34m\u001b[0m\u001b[0m\n\u001b[0m\u001b[1;32m    570\u001b[0m \u001b[0;34m\u001b[0m\u001b[0m\n\u001b[1;32m    571\u001b[0m \u001b[0;31m# XXX probably also want an abstract factory that knows when it makes\u001b[0m\u001b[0;34m\u001b[0m\u001b[0;34m\u001b[0m\u001b[0;34m\u001b[0m\u001b[0m\n",
      "\u001b[0;32m~/opt/anaconda3/lib/python3.8/urllib/request.py\u001b[0m in \u001b[0;36m_call_chain\u001b[0;34m(self, chain, kind, meth_name, *args)\u001b[0m\n\u001b[1;32m    500\u001b[0m         \u001b[0;32mfor\u001b[0m \u001b[0mhandler\u001b[0m \u001b[0;32min\u001b[0m \u001b[0mhandlers\u001b[0m\u001b[0;34m:\u001b[0m\u001b[0;34m\u001b[0m\u001b[0;34m\u001b[0m\u001b[0m\n\u001b[1;32m    501\u001b[0m             \u001b[0mfunc\u001b[0m \u001b[0;34m=\u001b[0m \u001b[0mgetattr\u001b[0m\u001b[0;34m(\u001b[0m\u001b[0mhandler\u001b[0m\u001b[0;34m,\u001b[0m \u001b[0mmeth_name\u001b[0m\u001b[0;34m)\u001b[0m\u001b[0;34m\u001b[0m\u001b[0;34m\u001b[0m\u001b[0m\n\u001b[0;32m--> 502\u001b[0;31m             \u001b[0mresult\u001b[0m \u001b[0;34m=\u001b[0m \u001b[0mfunc\u001b[0m\u001b[0;34m(\u001b[0m\u001b[0;34m*\u001b[0m\u001b[0margs\u001b[0m\u001b[0;34m)\u001b[0m\u001b[0;34m\u001b[0m\u001b[0;34m\u001b[0m\u001b[0m\n\u001b[0m\u001b[1;32m    503\u001b[0m             \u001b[0;32mif\u001b[0m \u001b[0mresult\u001b[0m \u001b[0;32mis\u001b[0m \u001b[0;32mnot\u001b[0m \u001b[0;32mNone\u001b[0m\u001b[0;34m:\u001b[0m\u001b[0;34m\u001b[0m\u001b[0;34m\u001b[0m\u001b[0m\n\u001b[1;32m    504\u001b[0m                 \u001b[0;32mreturn\u001b[0m \u001b[0mresult\u001b[0m\u001b[0;34m\u001b[0m\u001b[0;34m\u001b[0m\u001b[0m\n",
      "\u001b[0;32m~/opt/anaconda3/lib/python3.8/urllib/request.py\u001b[0m in \u001b[0;36mhttp_error_default\u001b[0;34m(self, req, fp, code, msg, hdrs)\u001b[0m\n\u001b[1;32m    647\u001b[0m \u001b[0;32mclass\u001b[0m \u001b[0mHTTPDefaultErrorHandler\u001b[0m\u001b[0;34m(\u001b[0m\u001b[0mBaseHandler\u001b[0m\u001b[0;34m)\u001b[0m\u001b[0;34m:\u001b[0m\u001b[0;34m\u001b[0m\u001b[0;34m\u001b[0m\u001b[0m\n\u001b[1;32m    648\u001b[0m     \u001b[0;32mdef\u001b[0m \u001b[0mhttp_error_default\u001b[0m\u001b[0;34m(\u001b[0m\u001b[0mself\u001b[0m\u001b[0;34m,\u001b[0m \u001b[0mreq\u001b[0m\u001b[0;34m,\u001b[0m \u001b[0mfp\u001b[0m\u001b[0;34m,\u001b[0m \u001b[0mcode\u001b[0m\u001b[0;34m,\u001b[0m \u001b[0mmsg\u001b[0m\u001b[0;34m,\u001b[0m \u001b[0mhdrs\u001b[0m\u001b[0;34m)\u001b[0m\u001b[0;34m:\u001b[0m\u001b[0;34m\u001b[0m\u001b[0;34m\u001b[0m\u001b[0m\n\u001b[0;32m--> 649\u001b[0;31m         \u001b[0;32mraise\u001b[0m \u001b[0mHTTPError\u001b[0m\u001b[0;34m(\u001b[0m\u001b[0mreq\u001b[0m\u001b[0;34m.\u001b[0m\u001b[0mfull_url\u001b[0m\u001b[0;34m,\u001b[0m \u001b[0mcode\u001b[0m\u001b[0;34m,\u001b[0m \u001b[0mmsg\u001b[0m\u001b[0;34m,\u001b[0m \u001b[0mhdrs\u001b[0m\u001b[0;34m,\u001b[0m \u001b[0mfp\u001b[0m\u001b[0;34m)\u001b[0m\u001b[0;34m\u001b[0m\u001b[0;34m\u001b[0m\u001b[0m\n\u001b[0m\u001b[1;32m    650\u001b[0m \u001b[0;34m\u001b[0m\u001b[0m\n\u001b[1;32m    651\u001b[0m \u001b[0;32mclass\u001b[0m \u001b[0mHTTPRedirectHandler\u001b[0m\u001b[0;34m(\u001b[0m\u001b[0mBaseHandler\u001b[0m\u001b[0;34m)\u001b[0m\u001b[0;34m:\u001b[0m\u001b[0;34m\u001b[0m\u001b[0;34m\u001b[0m\u001b[0m\n",
      "\u001b[0;31mHTTPError\u001b[0m: HTTP Error 404: Not Found"
     ]
    }
   ],
   "source": [
    "# account.download_youtube_video(url, types = 'audio')"
   ]
  },
  {
   "cell_type": "code",
   "execution_count": null,
   "metadata": {},
   "outputs": [],
   "source": [
    "# account.download_youtube_video(url)"
   ]
  },
  {
   "cell_type": "markdown",
   "metadata": {},
   "source": [
    "## Creating synthetic videos"
   ]
  },
  {
   "cell_type": "code",
   "execution_count": null,
   "metadata": {},
   "outputs": [
    {
     "data": {
      "text/markdown": [
       "<h4 id=\"DeepWord.generate_video\" class=\"doc_header\"><code>DeepWord.generate_video</code><a href=\"__main__.py#L183\" class=\"source_link\" style=\"float:right\">[source]</a></h4>\n",
       "\n",
       "> <code>DeepWord.generate_video</code>(**`video`**:`str`, **`audio`**:`str`, **`title`**:`str`=*`None`*)\n",
       "\n",
       "Generate a synthetic video using a video of a person talking and the audio\n",
       "you want them to say. You can check the status of the video using\n",
       "``list_generated_videos`` and download it using ``download_video`` or\n",
       "``download_all_videos``"
      ],
      "text/plain": [
       "<IPython.core.display.Markdown object>"
      ]
     },
     "metadata": {},
     "output_type": "display_data"
    }
   ],
   "source": [
    "show_doc(DeepWord.generate_video)"
   ]
  },
  {
   "cell_type": "code",
   "execution_count": null,
   "metadata": {},
   "outputs": [
    {
     "name": "stdout",
     "output_type": "stream",
     "text": [
      "Generating video. This will take a few minutes.\n"
     ]
    },
    {
     "data": {
      "text/plain": [
       "{'status': True,\n",
       " 'message': 'Your video has been added to the queue for processing. Please check back in 10-15 minutes',\n",
       " 'url': 'https://staging.deepword.co/video/u5mo6w4kplbj8mn'}"
      ]
     },
     "execution_count": null,
     "metadata": {},
     "output_type": "execute_result"
    }
   ],
   "source": [
    "account.generate_video('video_actors/Anna.mp4', 'audio_samples/Amy Poehler.mp3')"
   ]
  },
  {
   "cell_type": "code",
   "execution_count": null,
   "metadata": {},
   "outputs": [
    {
     "name": "stdout",
     "output_type": "stream",
     "text": [
      "Converted 00_core.ipynb.\n",
      "Converted 01_utils.ipynb.\n",
      "Converted 02_tutorials.educational.ipynb.\n",
      "Converted 02_tutorials.input_types.ipynb.\n",
      "Converted 02_tutorials.sales.ipynb.\n",
      "Converted index.ipynb.\n"
     ]
    }
   ],
   "source": [
    "#hide\n",
    "from nbdev.export import notebook2script\n",
    "notebook2script()"
   ]
  }
 ],
 "metadata": {
  "kernelspec": {
   "display_name": "Python 3",
   "language": "python",
   "name": "python3"
  }
 },
 "nbformat": 4,
 "nbformat_minor": 4
}
