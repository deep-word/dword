{
 "cells": [
  {
   "cell_type": "code",
   "execution_count": null,
   "metadata": {},
   "outputs": [],
   "source": [
    "# default_exp core"
   ]
  },
  {
   "cell_type": "markdown",
   "metadata": {},
   "source": [
    "# Core\n",
    "\n",
    "> Core class to login to your DeepWord account and generate synthetic videos"
   ]
  },
  {
   "cell_type": "code",
   "execution_count": null,
   "metadata": {},
   "outputs": [],
   "source": [
    "#exporti\n",
    "import base64\n",
    "import json\n",
    "import os\n",
    "import random\n",
    "import time\n",
    "from pathlib import Path\n",
    "from typing import Dict, List, Union\n",
    "\n",
    "import cv2\n",
    "import pytube\n",
    "import requests\n",
    "import urllib3\n",
    "from pytube import YouTube\n",
    "\n",
    "from dword.utils import *\n",
    "from dword.utils import URLs, _exists, AzureDicts\n",
    "from nbdev.showdoc import show_doc\n",
    "\n",
    "urllib3.disable_warnings()"
   ]
  },
  {
   "cell_type": "code",
   "execution_count": null,
   "metadata": {},
   "outputs": [],
   "source": [
    "#hide\n",
    "API_KEY = os.environ['API_KEY']\n",
    "SECRET_KEY = os.environ['SECRET_KEY']"
   ]
  },
  {
   "cell_type": "code",
   "execution_count": null,
   "metadata": {},
   "outputs": [],
   "source": [
    "#export\n",
    "class DeepWord:\n",
    "    \"\"\"\n",
    "    A class for logging into your DeepWord account in Python and generating videos at scale\n",
    "    \"\"\"\n",
    "    def __init__(self, api_key: str, secret_key: str) -> None:\n",
    "        \"\"\"Initialize a new DeepWord object. Login to your DeepWord account to generate api keys.\n",
    "        \"\"\"\n",
    "        self.session = requests.session()\n",
    "        self.session.verify = False\n",
    "        self.headers = {'api_key': api_key, 'secerat_key': secret_key, 'Content-Type': 'application/json'}\n",
    "        self._authenticate_user()\n",
    "\n",
    "    def _authenticate_user(self):\n",
    "        url = URLs.validate_token_url\n",
    "        response = self.session.post(url, headers=self.headers)\n",
    "        output = self._process_output(response.text)\n",
    "        if output['success']:\n",
    "            print('login successful')\n",
    "        else:\n",
    "            raise ValueError('Invalid api_key or secret_key')\n",
    "\n",
    "    @staticmethod\n",
    "    def _process_output(x): return json.loads(x)\n",
    "\n",
    "    @property\n",
    "    def available_credits(self) -> int:\n",
    "        \"\"\"Get the number of credits available in your DeepWord account.\n",
    "        \"\"\"\n",
    "        url = URLs.credits_url\n",
    "        response = self.session.post(url, headers=self.headers)\n",
    "        try:\n",
    "            output = self._process_output(response.text)\n",
    "            return output['available_credits']\n",
    "        except:\n",
    "            raise ValueError(response.text)\n",
    "\n",
    "    def list_videos(self) -> List[Dict]:\n",
    "        \"\"\"Get a list of all the videos you've generated using your DeepWord account.\n",
    "        \"\"\"\n",
    "        url = URLs.list_vids_url\n",
    "        response = self.session.post(url, headers=self.headers)\n",
    "        try:\n",
    "            output = self._process_output(response.text)\n",
    "            return output['data']\n",
    "        except:\n",
    "            raise ValueError(response.text)\n",
    "\n",
    "    @property\n",
    "    def _available_languages(self) -> List: return AzureDicts.langs\n",
    "\n",
    "    def _available_speakers(self, lang) -> List: return AzureDicts.speakers[lang]\n",
    "\n",
    "    def text2speech(self, text: str, language: str, speaker: str, outfile = 'text2speech.mp3') -> str:\n",
    "        if language not in self._available_languages:\n",
    "            raise ValueError(f'Language {language} not available. To see available languages print obj._available_languages')\n",
    "        \n",
    "        if speaker not in self._available_speakers(language):\n",
    "            raise ValueError(f'Invalid model for language {language}. To see available models print obj._available_speakers(language)')\n",
    "        \n",
    "        if Path(outfile).exists():\n",
    "            os.remove(f'{outfile}')\n",
    "        \n",
    "        code = AzureDicts.lang2code[language]\n",
    "        sp, gender = speaker.split(' ')\n",
    "\n",
    "        payload='{\"text\":\"%s\",\"name\":\"%s\",\"gender\":\"%s\",\"code\":\"%s\"}'% (text,sp,gender,code)\n",
    "        url = URLs.txt2speech_url\n",
    "        response = self.session.post(url, headers=self.headers,data=payload)\n",
    "\n",
    "        try:\n",
    "            decode_bytes = base64.b64decode(response.text)\n",
    "            with open(outfile, \"wb\") as wav_file:\n",
    "                wav_file.write(decode_bytes)\n",
    "            print(f\"Successfully generated audio file {outfile}\")\n",
    "            return f'{outfile}'\n",
    "        except Exception as e:\n",
    "            raise ValueError(response.text)\n",
    "\n",
    "    def download_video(self, video_id: str) -> None:\n",
    "        \"\"\"Download one of the synthetically generated videos on your DeepWord account. \n",
    "           The video id can be found using the ``list_generated_videos()`` function. The video\n",
    "           should have finished processing to be downloadable.\n",
    "           Optionally, you can use download_all_videos().\n",
    "        \"\"\"\n",
    "        url = URLs.download_vid_url + video_id\n",
    "        response = self.session.get(url, headers=self.headers)\n",
    "        if response.json()['status'] is False:\n",
    "            raise ValueError(\"Video is still processing. Unable to download it at this time.\")\n",
    "        try:\n",
    "            r = requests.get(response.json()['video_url'], stream=True)\n",
    "            with open(response.json()['video_name'], 'wb') as f:\n",
    "                for chunk in r.iter_content(chunk_size=1024): \n",
    "                    if chunk: # filter out keep-alive new chunks\n",
    "                        f.write(chunk)\n",
    "            return (f\"Successfully downloaded video {video_id}!\")\n",
    "        except Exception as e:\n",
    "            raise ValueError(response.text)\n",
    "\n",
    "    def download_all_videos(self, folder: Union[str, Path]  = 'downloaded_videos') -> None:\n",
    "        \"\"\"Download all vidoes generated with your DeepWord account. You can also pass\n",
    "        a folder or nested folders where you want the vidoes to be saved.\n",
    "        \"\"\"\n",
    "        url = URLs.list_vids_url\n",
    "        path = Path().cwd()\n",
    "        \n",
    "        folder = Path(folder)\n",
    "        folder.mkdir(parents = True, exist_ok = True)\n",
    "\n",
    "        response = self.session.post(url, headers=self.headers)\n",
    "        try:\n",
    "            for item in response.json()['data']:\n",
    "                r = requests.get(item['video_url'], stream=True)\n",
    "\n",
    "                fname1 = item['title'].replace(\".mp4\",'')+'.mp4'\n",
    "                full_path = f'{path/folder/fname1}'\n",
    "\n",
    "                with open(full_path, 'wb') as f:\n",
    "                    for chunk in r.iter_content(chunk_size=1024): \n",
    "                        if chunk: # filter out keep-alive new chunks\n",
    "                            f.write(chunk)\n",
    "            print(f\"Successfully downloaded all videos in folder {folder}!\")\n",
    "        except Exception as e:\n",
    "            raise ValueError(response.text)\n",
    "\n",
    "#     def download_youtube_video(self, url: str, types: str = 'video', folder = 'youtube'):\n",
    "#         \"\"\"Download a video from YouTube. You can also donwload an audio by providing\n",
    "#            types = 'audio'.\n",
    "#         \"\"\"\n",
    "#         folder = Path(folder) / types\n",
    "#         folder.mkdir(exist_ok = True, parents = True)\n",
    "#         if types == \"video\":\n",
    "#             pytube.YouTube(url).streams.get_highest_resolution().download(folder)\n",
    "#             print(\"downloaded youtube video successfully!\")\n",
    "#         else:\n",
    "#             yt = YouTube(url) \n",
    "#             stream = yt.streams.filter(only_audio=True).first()\n",
    "#             out_file  = stream.download(folder)\n",
    "#             base, ext = os.path.splitext(out_file)\n",
    "#             new_file = base + '_audio.mp3'\n",
    "#             os.rename(out_file, new_file)\n",
    "#             print(\"downloaded youtube audio successfully!\")\n",
    "    \n",
    "    def download_audio_samples(self):\n",
    "        \"\"\"Download all the audio samples available on the DeepWord website\n",
    "        \"\"\"\n",
    "        folder = Path().cwd() / 'audio_samples'\n",
    "        folder.mkdir(exist_ok = True)\n",
    "\n",
    "        url = URLs.api_get_audio_sample\n",
    "        response = self.session.post(url, headers=self.headers)\n",
    "        try:\n",
    "            for dic in self._process_output(response.text)['sample_audio_files']:\n",
    "                doc = self.session.get(dic['audio_url'])\n",
    "                fname = folder / (dic['title']+dic['extension'])\n",
    "                f = open(fname,\"wb\")\n",
    "                f.write(doc.content)\n",
    "                f.close()\n",
    "            return (\"Successfully downloaded all audio samples\")\n",
    "        except Exception as e:\n",
    "            raise ValueError(response.text)\n",
    "\n",
    "    def download_video_actors(self):\n",
    "        \"\"\"Download all the video actors available on the DeepWord website.\n",
    "        \"\"\"\n",
    "        folder = Path().cwd() / 'video_actors'\n",
    "        folder.mkdir(exist_ok = True)\n",
    "\n",
    "        url = URLs.api_get_video_actors\n",
    "        response = self.session.post(url, headers=self.headers)\n",
    "        try:\n",
    "            for dic in self._process_output(response.text)['sample_video_files']:\n",
    "                with self.session.get(dic['video_url'], stream=True) as r:\n",
    "                    r.raise_for_status()\n",
    "                    fname = folder / (dic['title']+dic['extension'])\n",
    "                    with open(fname, 'wb') as f:\n",
    "                        for chunk in r.iter_content(chunk_size=8192): \n",
    "                            f.write(chunk)\n",
    "            return (\"Successfully downloaded all video actors\")\n",
    "        except Exception as e:\n",
    "            raise ValueError(response.text)\n",
    "\n",
    "    def trim_video(self, video: Union[str, Path], start_time: int, end_time: int, outfile: Union[str, Path] = 'trimmed_video.mp4') -> None:\n",
    "        \"\"\"\n",
    "        Trim a video in place from start (secs) to end (secs).\n",
    "        For youtube videos you can use ``download_youtube_video`` before trimming them.\n",
    "        \"\"\"\n",
    "        start_time = to_hhmmss(int(start_time)) # 0 -> 00:00:00\n",
    "        end_time = to_hhmmss(int(end_time))\n",
    "        if \"Content-Type\" in self.headers:\n",
    "            self.headers.pop(\"Content-Type\")\n",
    "        url = URLs.trim_video\n",
    "        payload={\"start_time\": start_time,\"end_time\":end_time }\n",
    "        files = {'video': open(video,'rb')}\n",
    "        response = self.session.post(url, headers=self.headers, data=payload,files=files)\n",
    "        try:\n",
    "            r = self.session.get(response.json()['file_url'], stream=True)\n",
    "            with open(outfile, 'wb') as f:\n",
    "                for chunk in r.iter_content(chunk_size=1024): \n",
    "                    if chunk: # filter out keep-alive new chunks\n",
    "                        f.write(chunk)\n",
    "            print('Successfully trimmed video')\n",
    "            return outfile\n",
    "        except Exception as e:\n",
    "            raise ValueError(response.text)\n",
    "\n",
    "            \n",
    "    def generate_video(self, video: str, audio: str, title: str = None):\n",
    "        \"\"\"Generate a synthetic video using a video of a person talking and the audio\n",
    "           you want them to say. You can check the status of the video using\n",
    "           ``list_generated_videos`` and download it using ``download_video`` or\n",
    "           ``download_all_videos``\n",
    "        Args:\n",
    "            video (str): Video of the person you want talking.\n",
    "            audio (str): Audio you want the person to say.\n",
    "            title (str, optional): Optionally provide a title for the output. Defaults to \n",
    "                                   name of the video file.\n",
    "        Raises:\n",
    "            ValueError: If video or audio don't exist\n",
    "        \"\"\"\n",
    "        if not _exists(video): raise ValueError(f'File not found {video}')\n",
    "        if not _exists(audio): raise ValueError(f'File not found {audio}')\n",
    "        payload = {}\n",
    "        if title is not None:\n",
    "            title = Path(title).stem\n",
    "            payload={'name': title}\n",
    "        headers = {}\n",
    "        headers['api_key'] = self.headers['api_key']\n",
    "        headers['secerat_key'] = self.headers['secerat_key']\n",
    "        url = URLs.generate_vid_url\n",
    "        files = {'video_file': open(video,'rb'),'audio_file': open(audio,'rb')}\n",
    "        response = self.session.post(url, headers=headers,files=files,data=payload)\n",
    "        try:\n",
    "            return response.json()\n",
    "        except Exception as e:\n",
    "            raise ValueError(e)"
   ]
  },
  {
   "cell_type": "code",
   "execution_count": null,
   "metadata": {},
   "outputs": [
    {
     "name": "stdout",
     "output_type": "stream",
     "text": [
      "login successful\n"
     ]
    }
   ],
   "source": [
    "account = DeepWord(API_KEY, SECRET_KEY)"
   ]
  },
  {
   "cell_type": "markdown",
   "metadata": {},
   "source": [
    "## Account details"
   ]
  },
  {
   "cell_type": "code",
   "execution_count": null,
   "metadata": {},
   "outputs": [
    {
     "data": {
      "text/markdown": [
       "<h4 id=\"DeepWord.available_credits\" class=\"doc_header\"><code>DeepWord.available_credits</code><a href=\"\" class=\"source_link\" style=\"float:right\">[source]</a></h4>\n",
       "\n",
       "Get the number of credits available in your DeepWord account.\n",
       "        "
      ],
      "text/plain": [
       "<IPython.core.display.Markdown object>"
      ]
     },
     "metadata": {},
     "output_type": "display_data"
    }
   ],
   "source": [
    "show_doc(DeepWord.available_credits)"
   ]
  },
  {
   "cell_type": "code",
   "execution_count": null,
   "metadata": {},
   "outputs": [
    {
     "data": {
      "text/plain": [
       "28"
      ]
     },
     "execution_count": null,
     "metadata": {},
     "output_type": "execute_result"
    }
   ],
   "source": [
    "account.available_credits"
   ]
  },
  {
   "cell_type": "code",
   "execution_count": null,
   "metadata": {},
   "outputs": [
    {
     "data": {
      "text/markdown": [
       "<h4 id=\"DeepWord.list_videos\" class=\"doc_header\"><code>DeepWord.list_videos</code><a href=\"__main__.py#L38\" class=\"source_link\" style=\"float:right\">[source]</a></h4>\n",
       "\n",
       "> <code>DeepWord.list_videos</code>()\n",
       "\n",
       "Get a list of all the videos you've generated using your DeepWord account.\n",
       "        "
      ],
      "text/plain": [
       "<IPython.core.display.Markdown object>"
      ]
     },
     "metadata": {},
     "output_type": "display_data"
    }
   ],
   "source": [
    "show_doc(DeepWord.list_videos)"
   ]
  },
  {
   "cell_type": "code",
   "execution_count": null,
   "metadata": {},
   "outputs": [
    {
     "data": {
      "text/plain": [
       "{'email': 'blablabla@yopmail.com',\n",
       " 'thumbnail': 'video_b47y6aengckr7y8q0c.mp4',\n",
       " 'title': 'Anna',\n",
       " 'video_url': 'https://videos-deep-word123.s3.us-east-2.amazonaws.com/output_data/b47y6aengckr7y8q0c.mp4',\n",
       " 'video_duration': '52.56',\n",
       " 'video_id': 'b47y6aengckr7y8q0c',\n",
       " 'generate_date': '2021-07-17T15:53:03.000Z',\n",
       " 'output_status': 'Complete'}"
      ]
     },
     "execution_count": null,
     "metadata": {},
     "output_type": "execute_result"
    }
   ],
   "source": [
    "all_videos = account.list_videos()\n",
    "all_videos[0]"
   ]
  },
  {
   "cell_type": "code",
   "execution_count": null,
   "metadata": {},
   "outputs": [
    {
     "data": {
      "text/plain": [
       "501"
      ]
     },
     "execution_count": null,
     "metadata": {},
     "output_type": "execute_result"
    }
   ],
   "source": [
    "len(all_videos)"
   ]
  },
  {
   "cell_type": "markdown",
   "metadata": {},
   "source": [
    "## Downloading synthetically generated videos"
   ]
  },
  {
   "cell_type": "code",
   "execution_count": null,
   "metadata": {},
   "outputs": [
    {
     "data": {
      "text/markdown": [
       "<h4 id=\"DeepWord.download_video\" class=\"doc_header\"><code>DeepWord.download_video</code><a href=\"__main__.py#L80\" class=\"source_link\" style=\"float:right\">[source]</a></h4>\n",
       "\n",
       "> <code>DeepWord.download_video</code>(**`video_id`**:`str`)\n",
       "\n",
       "Download one of the synthetically generated videos on your DeepWord account. \n",
       "The video id can be found using the ``list_generated_videos()`` function. The video\n",
       "should have finished processing to be downloadable.\n",
       "Optionally, you can use download_all_videos()."
      ],
      "text/plain": [
       "<IPython.core.display.Markdown object>"
      ]
     },
     "metadata": {},
     "output_type": "display_data"
    }
   ],
   "source": [
    "show_doc(DeepWord.download_video)"
   ]
  },
  {
   "cell_type": "code",
   "execution_count": null,
   "metadata": {},
   "outputs": [
    {
     "data": {
      "text/markdown": [
       "<h4 id=\"DeepWord.download_all_videos\" class=\"doc_header\"><code>DeepWord.download_all_videos</code><a href=\"__main__.py#L100\" class=\"source_link\" style=\"float:right\">[source]</a></h4>\n",
       "\n",
       "> <code>DeepWord.download_all_videos</code>(**`folder`**:`Union`\\[`str`, `Path`\\]=*`'downloaded_videos'`*)\n",
       "\n",
       "Download all vidoes generated with your DeepWord account. You can also pass\n",
       "a folder or nested folders where you want the vidoes to be saved."
      ],
      "text/plain": [
       "<IPython.core.display.Markdown object>"
      ]
     },
     "metadata": {},
     "output_type": "display_data"
    }
   ],
   "source": [
    "show_doc(DeepWord.download_all_videos)"
   ]
  },
  {
   "cell_type": "code",
   "execution_count": null,
   "metadata": {},
   "outputs": [
    {
     "name": "stdout",
     "output_type": "stream",
     "text": [
      "Successfully downloaded all videos in folder my_videos!\n"
     ]
    }
   ],
   "source": [
    "account.download_all_videos('my_videos')"
   ]
  },
  {
   "cell_type": "code",
   "execution_count": null,
   "metadata": {},
   "outputs": [
    {
     "name": "stdout",
     "output_type": "stream",
     "text": [
      "0_.mp4\n",
      "10_.mp4\n",
      "11_.mp4\n",
      "12_.mp4\n",
      "13_.mp4\n",
      "14_.mp4\n",
      "15_.mp4\n",
      "16_.mp4\n",
      "17_.mp4\n",
      "18_.mp4\n"
     ]
    }
   ],
   "source": [
    "!ls my_videos | HEAD -n10"
   ]
  },
  {
   "cell_type": "markdown",
   "metadata": {},
   "source": [
    "## Downloading sample data"
   ]
  },
  {
   "cell_type": "code",
   "execution_count": null,
   "metadata": {},
   "outputs": [
    {
     "data": {
      "text/markdown": [
       "<h4 id=\"DeepWord.download_video_actors\" class=\"doc_header\"><code>DeepWord.download_video_actors</code><a href=\"__main__.py#L163\" class=\"source_link\" style=\"float:right\">[source]</a></h4>\n",
       "\n",
       "> <code>DeepWord.download_video_actors</code>()\n",
       "\n",
       "Download all the video actors available on the DeepWord website.\n",
       "        "
      ],
      "text/plain": [
       "<IPython.core.display.Markdown object>"
      ]
     },
     "metadata": {},
     "output_type": "display_data"
    }
   ],
   "source": [
    "show_doc(DeepWord.download_video_actors)"
   ]
  },
  {
   "cell_type": "code",
   "execution_count": null,
   "metadata": {},
   "outputs": [
    {
     "data": {
      "text/plain": [
       "'Successfully downloaded all video actors'"
      ]
     },
     "execution_count": null,
     "metadata": {},
     "output_type": "execute_result"
    }
   ],
   "source": [
    "account.download_video_actors()"
   ]
  },
  {
   "cell_type": "code",
   "execution_count": null,
   "metadata": {},
   "outputs": [
    {
     "name": "stdout",
     "output_type": "stream",
     "text": [
      "Anna.mp4    Dalton.mp4  Isaac.mp4   Karen.mp4   Mia.mp4     Richard.mp4\n",
      "Berto.mp4   Emily.mp4   James.mp4   Marcus.mp4  Micheal.mp4 Sam.mp4\n",
      "Carlos.mp4  Henry.mp4   Julia.mp4   Mary.mp4    Noelle.mp4  Trey.mp4\n"
     ]
    }
   ],
   "source": [
    "!ls video_actors"
   ]
  },
  {
   "cell_type": "code",
   "execution_count": null,
   "metadata": {},
   "outputs": [
    {
     "data": {
      "text/markdown": [
       "<h4 id=\"DeepWord.download_audio_samples\" class=\"doc_header\"><code>DeepWord.download_audio_samples</code><a href=\"__main__.py#L144\" class=\"source_link\" style=\"float:right\">[source]</a></h4>\n",
       "\n",
       "> <code>DeepWord.download_audio_samples</code>()\n",
       "\n",
       "Download all the audio samples available on the DeepWord website\n",
       "        "
      ],
      "text/plain": [
       "<IPython.core.display.Markdown object>"
      ]
     },
     "metadata": {},
     "output_type": "display_data"
    }
   ],
   "source": [
    "show_doc(DeepWord.download_audio_samples)"
   ]
  },
  {
   "cell_type": "code",
   "execution_count": null,
   "metadata": {},
   "outputs": [
    {
     "data": {
      "text/plain": [
       "'Successfully downloaded all audio samples'"
      ]
     },
     "execution_count": null,
     "metadata": {},
     "output_type": "execute_result"
    }
   ],
   "source": [
    "account.download_audio_samples()"
   ]
  },
  {
   "cell_type": "code",
   "execution_count": null,
   "metadata": {},
   "outputs": [
    {
     "name": "stdout",
     "output_type": "stream",
     "text": [
      "Amy Poehler.mp3            Mark Cuban.mp3\n",
      "Boeing CEO.mp3             Martin Scorsese.mp3\n",
      "Chamath Phalihapitiya.mp3  Michael Scott.mp3\n",
      "Chinese Instructor.mp3     Neil deGrasse Tyson.mp3\n",
      "Edward Snowden.mp3         Peyton Manning.mp3\n",
      "Elizabeth Holmes.mp3       Scottie Pippen.mp3\n",
      "Financial Advice.mp3       Shaq.mp3\n",
      "Footbal Meme.mp3           Swim Coach.mp3\n",
      "George Hotz.mp3            Tampa Bay Rays Manager.mp3\n",
      "Kevin Hart.mp3             [Korean] Bong Joon Ho.mp3\n"
     ]
    }
   ],
   "source": [
    "!ls audio_samples"
   ]
  },
  {
   "cell_type": "markdown",
   "metadata": {},
   "source": [
    "## Using text2speech\n",
    "\n",
    "One of the big advantages of using DeepWord is you don't even have to record an audio. You can use our text2speech feature to convert your text into audio. We support a **41 languages** and a bunch of speakers for each language. To see the available languages you can do"
   ]
  },
  {
   "cell_type": "code",
   "execution_count": null,
   "metadata": {},
   "outputs": [
    {
     "data": {
      "text/plain": [
       "['arabic_egypt',\n",
       " 'arabic_saudi_arabia',\n",
       " 'bulgarian',\n",
       " 'catalan',\n",
       " 'czech',\n",
       " 'welsh',\n",
       " 'danish',\n",
       " 'german_austria',\n",
       " 'german_switzerland',\n",
       " 'german_germany']"
      ]
     },
     "execution_count": null,
     "metadata": {},
     "output_type": "execute_result"
    }
   ],
   "source": [
    "account._available_languages[:10]"
   ]
  },
  {
   "cell_type": "code",
   "execution_count": null,
   "metadata": {},
   "outputs": [],
   "source": [
    "lang = 'english_us'"
   ]
  },
  {
   "cell_type": "code",
   "execution_count": null,
   "metadata": {},
   "outputs": [
    {
     "data": {
      "text/plain": [
       "['en-US-JennyNeural Female',\n",
       " 'en-US-JennyMultilingualNeural Female',\n",
       " 'en-US-GuyNeural Male',\n",
       " 'en-US-AriaNeural Female',\n",
       " 'en-US-AmberNeural Female',\n",
       " 'en-US-AnaNeural Female',\n",
       " 'en-US-AshleyNeural Female',\n",
       " 'en-US-BrandonNeural Male',\n",
       " 'en-US-ChristopherNeural Male',\n",
       " 'en-US-CoraNeural Female',\n",
       " 'en-US-ElizabethNeural Female',\n",
       " 'en-US-EricNeural Male',\n",
       " 'en-US-JacobNeural Male',\n",
       " 'en-US-MichelleNeural Female',\n",
       " 'en-US-MonicaNeural Female']"
      ]
     },
     "execution_count": null,
     "metadata": {},
     "output_type": "execute_result"
    }
   ],
   "source": [
    "speakers = account._available_speakers(lang)\n",
    "speakers"
   ]
  },
  {
   "cell_type": "code",
   "execution_count": null,
   "metadata": {},
   "outputs": [
    {
     "name": "stdout",
     "output_type": "stream",
     "text": [
      "Successfully generated audio file text2speech.mp3\n"
     ]
    },
    {
     "data": {
      "text/plain": [
       "'text2speech.mp3'"
      ]
     },
     "execution_count": null,
     "metadata": {},
     "output_type": "execute_result"
    }
   ],
   "source": [
    "text = 'I want this speaker to speak this text'\n",
    "account.text2speech(text, lang, speakers[0])"
   ]
  },
  {
   "cell_type": "code",
   "execution_count": null,
   "metadata": {},
   "outputs": [
    {
     "data": {
      "text/html": [
       "\n",
       "                <audio  controls=\"controls\" >\n",
       "                    <source src=\"data:audio/mpeg;base64,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\" type=\"audio/mpeg\" />\n",
       "                    Your browser does not support the audio element.\n",
       "                </audio>\n",
       "              "
      ],
      "text/plain": [
       "<IPython.lib.display.Audio object>"
      ]
     },
     "execution_count": null,
     "metadata": {},
     "output_type": "execute_result"
    }
   ],
   "source": [
    "play_audio('text2speech.mp3')"
   ]
  },
  {
   "cell_type": "markdown",
   "metadata": {},
   "source": [
    "## Trim videos\n",
    "\n",
    "We trim videos on our servers for you so trim videos is part of the core module and not the utils module"
   ]
  },
  {
   "cell_type": "code",
   "execution_count": null,
   "metadata": {},
   "outputs": [
    {
     "data": {
      "text/markdown": [
       "<h4 id=\"DeepWord.trim_video\" class=\"doc_header\"><code>DeepWord.trim_video</code><a href=\"__main__.py#L183\" class=\"source_link\" style=\"float:right\">[source]</a></h4>\n",
       "\n",
       "> <code>DeepWord.trim_video</code>(**`video`**:`Union`\\[`str`, `Path`\\], **`start_time`**:`int`, **`end_time`**:`int`, **`outfile`**:`Union`\\[`str`, `Path`\\]=*`'trimmed_video.mp4'`*)\n",
       "\n",
       "Trim a video in place from start (secs) to end (secs).\n",
       "For youtube videos you can use ``download_youtube_video`` before trimming them."
      ],
      "text/plain": [
       "<IPython.core.display.Markdown object>"
      ]
     },
     "metadata": {},
     "output_type": "display_data"
    }
   ],
   "source": [
    "show_doc(DeepWord.trim_video)"
   ]
  },
  {
   "cell_type": "code",
   "execution_count": null,
   "metadata": {},
   "outputs": [
    {
     "data": {
      "text/html": [
       "<video src=\"test_video.mp4\" controls  width=\"400\"  height=\"400\">\n",
       "      Your browser does not support the <code>video</code> element.\n",
       "    </video>"
      ],
      "text/plain": [
       "<IPython.core.display.Video object>"
      ]
     },
     "execution_count": null,
     "metadata": {},
     "output_type": "execute_result"
    }
   ],
   "source": [
    "fname = 'test_video.mp4'\n",
    "display_video(fname)"
   ]
  },
  {
   "cell_type": "code",
   "execution_count": null,
   "metadata": {},
   "outputs": [
    {
     "name": "stdout",
     "output_type": "stream",
     "text": [
      "Successfully trimmed video\n"
     ]
    },
    {
     "data": {
      "text/plain": [
       "'trimmed_video.mp4'"
      ]
     },
     "execution_count": null,
     "metadata": {},
     "output_type": "execute_result"
    }
   ],
   "source": [
    "account.trim_video(fname, 0, 5)"
   ]
  },
  {
   "cell_type": "code",
   "execution_count": null,
   "metadata": {},
   "outputs": [
    {
     "data": {
      "text/html": [
       "<video src=\"trimmed_video.mp4\" controls  width=\"400\"  height=\"400\">\n",
       "      Your browser does not support the <code>video</code> element.\n",
       "    </video>"
      ],
      "text/plain": [
       "<IPython.core.display.Video object>"
      ]
     },
     "execution_count": null,
     "metadata": {},
     "output_type": "execute_result"
    }
   ],
   "source": [
    "display_video('trimmed_video.mp4')"
   ]
  },
  {
   "cell_type": "markdown",
   "metadata": {},
   "source": [
    "## Creating synthetic videos"
   ]
  },
  {
   "cell_type": "code",
   "execution_count": null,
   "metadata": {},
   "outputs": [
    {
     "data": {
      "text/markdown": [
       "<h4 id=\"DeepWord.generate_video\" class=\"doc_header\"><code>DeepWord.generate_video</code><a href=\"__main__.py#L208\" class=\"source_link\" style=\"float:right\">[source]</a></h4>\n",
       "\n",
       "> <code>DeepWord.generate_video</code>(**`video`**:`str`, **`audio`**:`str`, **`title`**:`str`=*`None`*)\n",
       "\n",
       "Generate a synthetic video using a video of a person talking and the audio\n",
       "   you want them to say. You can check the status of the video using\n",
       "   ``list_generated_videos`` and download it using ``download_video`` or\n",
       "   ``download_all_videos``\n",
       "Args:\n",
       "    video (str): Video of the person you want talking.\n",
       "    audio (str): Audio you want the person to say.\n",
       "    title (str, optional): Optionally provide a title for the output. Defaults to \n",
       "                           name of the video file.\n",
       "Raises:\n",
       "    ValueError: If video or audio don't exist"
      ],
      "text/plain": [
       "<IPython.core.display.Markdown object>"
      ]
     },
     "metadata": {},
     "output_type": "display_data"
    }
   ],
   "source": [
    "show_doc(DeepWord.generate_video)"
   ]
  },
  {
   "cell_type": "code",
   "execution_count": null,
   "metadata": {},
   "outputs": [
    {
     "data": {
      "text/plain": [
       "{'status': True,\n",
       " 'message': 'Your video has been added to the queue for processing. It should be complete within 10-15 minutes',\n",
       " 'url': 'https://login.deepword.co/video/b47y6aeskikr8pl1ch'}"
      ]
     },
     "execution_count": null,
     "metadata": {},
     "output_type": "execute_result"
    }
   ],
   "source": [
    "account.generate_video('video_actors/Anna.mp4', 'audio_samples/Amy Poehler.mp3')"
   ]
  },
  {
   "cell_type": "code",
   "execution_count": null,
   "metadata": {},
   "outputs": [
    {
     "name": "stdout",
     "output_type": "stream",
     "text": [
      "Converted 00_core.ipynb.\n",
      "Converted 01_utils.ipynb.\n",
      "Converted 02_tutorials.input_types.ipynb.\n",
      "Converted 02_tutorials.sales.ipynb.\n",
      "Converted 02_tutorials.test_text2speech.ipynb.\n",
      "Converted 02_tutorials.test_video_actors.ipynb.\n",
      "Converted index.ipynb.\n"
     ]
    }
   ],
   "source": [
    "#hide\n",
    "from nbdev.export import notebook2script\n",
    "notebook2script()"
   ]
  },
  {
   "cell_type": "code",
   "execution_count": null,
   "metadata": {},
   "outputs": [],
   "source": []
  },
  {
   "cell_type": "code",
   "execution_count": null,
   "metadata": {},
   "outputs": [],
   "source": []
  }
 ],
 "metadata": {
  "kernelspec": {
   "display_name": "Python 3",
   "language": "python",
   "name": "python3"
  }
 },
 "nbformat": 4,
 "nbformat_minor": 4
}
