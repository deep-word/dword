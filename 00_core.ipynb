{
 "cells": [
  {
   "cell_type": "code",
   "execution_count": null,
   "metadata": {},
   "outputs": [],
   "source": [
    "# default_exp core"
   ]
  },
  {
   "cell_type": "markdown",
   "metadata": {},
   "source": [
    "# Core\n",
    "\n",
    "> Core class to login to your DeepWord account and generate synthetic videos"
   ]
  },
  {
   "cell_type": "code",
   "execution_count": null,
   "metadata": {},
   "outputs": [],
   "source": [
    "#exporti\n",
    "import requests\n",
    "import json\n",
    "import urllib3\n",
    "import base64\n",
    "import os,cv2\n",
    "from typing import List, Dict, Union\n",
    "from pathlib import Path\n",
    "import pytube\n",
    "from nbdev.showdoc import *\n",
    "\n",
    "from dword.utils import URLs\n",
    "\n",
    "urllib3.disable_warnings()"
   ]
  },
  {
   "cell_type": "code",
   "execution_count": null,
   "metadata": {},
   "outputs": [],
   "source": [
    "#hide\n",
    "API_KEY = os.environ['API_KEY']\n",
    "SECRET_KEY = os.environ['SECRET_KEY']"
   ]
  },
  {
   "cell_type": "code",
   "execution_count": null,
   "metadata": {},
   "outputs": [],
   "source": [
    "#export\n",
    "class DeepWord:\n",
    "    \"\"\"\n",
    "    A class for logging into your DeepWord account in Python and generating videos at scale\n",
    "    \"\"\"\n",
    "    def __init__(self, api_key: str, secret_key: str) -> None:\n",
    "        \"\"\"Initialize a new DeepWord object. Login to your DeepWord account to generate api keys.\n",
    "        \"\"\"\n",
    "        self.session = requests.session()\n",
    "        self.session.verify = False\n",
    "        self.headers = {'api_key': api_key, 'secerat_key': secret_key, 'Content-Type': 'application/json'}\n",
    "        self._authenticate_user()\n",
    "\n",
    "    def _authenticate_user(self):\n",
    "        url = URLs.validate_token_url\n",
    "        response = self.session.post(url, headers=self.headers)\n",
    "        output = self._process_output(response.text)\n",
    "        if output['success']:\n",
    "            print('login successful')\n",
    "        else:\n",
    "            raise ValueError('Invalid api_key or secret_key')\n",
    "\n",
    "    @staticmethod\n",
    "    def _process_output(x): return json.loads(x)\n",
    "\n",
    "    @property\n",
    "    def available_credits(self) -> int:\n",
    "        \"\"\"Get the number of credits available in your DeepWord account.\n",
    "        \"\"\"\n",
    "        url = URLs.credits_url\n",
    "        response = self.session.post(url, headers=self.headers)\n",
    "        try:\n",
    "            output = self._process_output(response.text)\n",
    "            return output['available_credits']\n",
    "        except:\n",
    "            raise ValueError(response.text)\n",
    "\n",
    "    def list_videos(self) -> List[Dict]:\n",
    "        \"\"\"Get a list of all the videos you've generated using your DeepWord account.\n",
    "        \"\"\"\n",
    "        url = URLs.list_vids_url\n",
    "        response = self.session.post(url, headers=self.headers)\n",
    "        try:\n",
    "            output = self._process_output(response.text)\n",
    "            return output['data']\n",
    "        except:\n",
    "            raise ValueError(response.text)\n",
    "\n",
    "    def text_to_speech(self, text: str, speaker: str = None, gender: str = None, code: str = None, outfile = 'text2speech.mp3') -> str:\n",
    "        \"Get audio from text using speaker's voice. Output will be stored as outfile\"\n",
    "        # users have to find a simple way to select a speaker like we have on the website with names\n",
    "        # convert these to set for faster checking\n",
    "        valid_speakers = [\"ar-XA-Wavenet-A\",\"ar-XA-Wavenet-B\",\"ar-XA-Wavenet-C\",\"ar-XA-Standard-A\",\"ar-XA-Standard-B\",\"ar-XA-Standard-C\",\"ar-XA-Standard-D\",\"bn-IN-Standard-A\",\"bn-IN-Standard-B\",\"yue-HK-Standard-A\",\"yue-HK-Standard-B\",\"yue-HK-Standard-C\",\"yue-HK-Standard-D\",\"cs-CZ-Wavenet-A\",\"cs-CZ-Standard-A\",\"da-DK-Wavenet-A\",\"da-DK-Wavenet-C\",\"da-DK-Wavenet-D\",\"da-DK-Wavenet-E\",\"da-DK-Standard-A\",\"da-DK-Standard-C\",\"da-DK-Standard-D\",\"da-DK-Standard-E\",\"nl-NL-Wavenet-A\",\"nl-NL-Wavenet-B\",\"nl-NL-Wavenet-C\",\"nl-NL-Wavenet-D\",\"nl-NL-Wavenet-E\",\"nl-NL-Standard-A\",\"nl-NL-Standard-B\",\"nl-NL-Standard-C\",\"nl-NL-Standard-D\",\"nl-NL-Standard-E\",\"en-AU-Wavenet-A\",\"en-AU-Wavenet-B\",\"en-AU-Wavenet-C\",\"en-AU-Wavenet-D\",\"en-AU-Standard-A\",\"en-AU-Standard-B\",\"en-AU-Standard-C\",\"en-AU-Standard-D\",\"en-IN-Wavenet-A\",\"en-IN-Wavenet-B\",\"en-IN-Wavenet-C\",\"en-IN-Wavenet-D\",\"en-IN-Standard-A\",\"en-IN-Standard-B\",\"en-IN-Standard-C\",\"en-IN-Standard-D\",\"en-GB-Wavenet-A\",\"en-GB-Wavenet-B\",\"en-GB-Wavenet-C\",\"en-GB-Wavenet-D\",\"en-GB-Wavenet-F\",\"en-GB-Standard-A\",\"en-GB-Standard-B\",\"en-GB-Standard-C\",\"en-GB-Standard-D\",\"en-GB-Standard-F\",\"en-US-Wavenet-A\",\"en-US-Wavenet-B\",\"en-US-Wavenet-C\",\"en-US-Wavenet-D\",\"en-US-Wavenet-E\",\"en-US-Wavenet-F\",\"en-US-Wavenet-G\",\"en-US-Wavenet-H\",\"en-US-Wavenet-I\",\"en-US-Wavenet-J\",\"en-US-Standard-B\",\"en-US-Standard-C\",\"en-US-Standard-D\",\"en-US-Standard-E\",\"en-US-Standard-G\",\"en-US-Standard-H\",\"en-US-Standard-I\",\"en-US-Standard-J\",\"fil-PH-Wavenet-A\",\"fil-PH-Wavenet-B\",\"fil-PH-Wavenet-C\",\"fil-PH-Wavenet-D\",\"fil-PH-Standard-A\",\"fil-PH-Standard-B\",\"fil-PH-Standard-C\",\"fil-PH-Standard-D\",\"fi-FI-Wavenet-A\",\"fi-FI-Standard-A\",\"fr-CA-Wavenet-A\",\"fr-CA-Wavenet-B\",\"fr-CA-Wavenet-C\",\"fr-CA-Wavenet-D\",\"fr-CA-Standard-A\",\"fr-CA-Standard-B\",\"fr-CA-Standard-C\",\"fr-CA-Standard-D\",\"fr-FR-Wavenet-A\",\"fr-FR-Wavenet-B\",\"fr-FR-Wavenet-C\",\"fr-FR-Wavenet-D\",\"fr-FR-Wavenet-E\",\"fr-FR-Standard-A\",\"fr-FR-Standard-B\",\"fr-FR-Standard-C\",\"fr-FR-Standard-D\",\"fr-FR-Standard-E\",\"de-DE-Wavenet-A\",\"de-DE-Wavenet-B\",\"de-DE-Wavenet-C\",\"de-DE-Wavenet-D\",\"de-DE-Wavenet-E\",\"de-DE-Wavenet-F\",\"de-DE-Standard-A\",\"de-DE-Standard-B\",\"de-DE-Standard-E\",\"de-DE-Standard-F\",\"el-GR-Wavenet-A\",\"el-GR-Standard-A\",\"gu-IN-Standard-A\",\"gu-IN-Standard-B\",\"hi-IN-Wavenet-A\",\"hi-IN-Wavenet-B\",\"hi-IN-Wavenet-C\",\"hi-IN-Wavenet-D\",\"hi-IN-Standard-A\",\"hi-IN-Standard-B\",\"hi-IN-Standard-C\",\"hi-IN-Standard-D\",\"hu-HU-Wavenet-A\",\"hu-HU-Standard-A\",\"id-ID-Wavenet-A\",\"id-ID-Wavenet-B\",\"id-ID-Wavenet-C\",\"id-ID-Wavenet-D\",\"id-ID-Standard-A\",\"id-ID-Standard-B\",\"id-ID-Standard-C\",\"id-ID-Standard-D\",\"it-IT-Wavenet-A\",\"it-IT-Wavenet-B\",\"it-IT-Wavenet-C\",\"it-IT-Wavenet-D\",\"it-IT-Standard-A\",\"it-IT-Standard-B\",\"it-IT-Standard-C\",\"it-IT-Standard-D\",\"ja-JP-Wavenet-A\",\"ja-JP-Wavenet-B\",\"ja-JP-Wavenet-C\",\"ja-JP-Wavenet-D\",\"ja-JP-Standard-A\",\"ja-JP-Standard-B\",\"ja-JP-Standard-C\",\"ja-JP-Standard-D\",\"kn-IN-Standard-A\",\"kn-IN-Standard-B\",\"ko-KR-Wavenet-A\",\"ko-KR-Wavenet-B\",\"ko-KR-Wavenet-C\",\"ko-KR-Wavenet-D\",\"ko-KR-Standard-A\",\"ko-KR-Standard-B\",\"ko-KR-Standard-C\",\"ko-KR-Standard-D\",\"ml-IN-Standard-A\",\"ml-IN-Standard-B\",\"cmn-CN-Wavenet-A\",\"cmn-CN-Wavenet-B\",\"cmn-CN-Wavenet-C\",\"cmn-CN-Wavenet-D\",\"cmn-TW-Wavenet-A\",\"cmn-TW-Wavenet-B\",\"cmn-TW-Wavenet-C\",\"cmn-CN-Standard-A\",\"cmn-CN-Standard-B\",\"cmn-CN-Standard-C\",\"cmn-CN-Standard-D\",\"cmn-TW-Standard-A\",\"cmn-TW-Standard-B\",\"cmn-TW-Standard-C\",\"nb-NO-Wavenet-A\",\"nb-NO-Wavenet-B\",\"nb-no-Wavenet-E\",\"nb-NO-Wavenet-C\",\"nb-NO-Wavenet-D\",\"nb-NO-Standard-A\",\"nb-NO-Standard-B\",\"nb-NO-Standard-C\",\"nb-NO-Standard-D\",\"nb-no-Standard-E\",\"pl-PL-Wavenet-A\",\"pl-PL-Wavenet-B\",\"pl-PL-Wavenet-C\",\"pl-PL-Wavenet-D\",\"pl-PL-Wavenet-E\",\"pl-PL-Standard-A\",\"pl-PL-Standard-B\",\"pl-PL-Standard-C\",\"pl-PL-Standard-D\",\"pl-PL-Standard-E\",\"pt-BR-Wavenet-A\",\"pt-BR-Standard-A\",\"pt-PT-Wavenet-A\",\"pt-PT-Wavenet-B\",\"pt-PT-Wavenet-C\",\"pt-PT-Wavenet-D\",\"pt-PT-Standard-A\",\"pt-PT-Standard-B\",\"pt-PT-Standard-C\",\"pt-PT-Standard-D\",\"ru-RU-Wavenet-A\",\"ru-RU-Wavenet-B\",\"ru-RU-Wavenet-C\",\"ru-RU-Wavenet-D\",\"ru-RU-Wavenet-E\",\"ru-RU-Standard-A\",\"ru-RU-Standard-B\",\"ru-RU-Standard-C\",\"ru-RU-Standard-D\",\"ru-RU-Standard-E\",\"sk-SK-Wavenet-A\",\"sk-SK-Standard-A\",\"es-ES-Wavenet-B\",\"es-ES-Standard-A\",\"es-ES-Standard-B\",\"sv-SE-Wavenet-A\",\"sv-SE-Standard-A\",\"ta-IN-Standard-A\",\"ta-IN-Standard-B\",\"te-IN-Standard-A\",\"te-IN-Standard-B\",\"th-TH-Standard-A\",\"tr-TR-Wavenet-A\",\"tr-TR-Wavenet-B\",\"tr-TR-Wavenet-C\",\"tr-TR-Wavenet-D\",\"tr-TR-Wavenet-E\",\"tr-TR-Standard-A\",\"tr-TR-Standard-B\",\"tr-TR-Standard-C\",\"tr-TR-Standard-D\",\"tr-TR-Standard-E\",\"uk-UA-Wavenet-A\",\"uk-UA-Standard-A\",\"vi-VN-Wavenet-A\",\"vi-VN-Wavenet-B\",\"vi-VN-Wavenet-C\",\"vi-VN-Wavenet-D\",\"vi-VN-Standard-A\",\"vi-VN-Standard-B\",\"vi-VN-Standard-C\",\"vi-VN-Standard-D\"]\n",
    "        # change this parameter to language, and have a dict mapping between what they select and the code\n",
    "        valid_codes = [\"ar-XA\", \"bn-IN\", \"yue-HK\", \"cs-CZ\", \"da-DK\", \"nl-NL\", \"en-AU\", \"en-IN\", \"en-GB\", \"en-US\", \"fil-PH\", \"fi-FI\", \"fr-CA\", \"fr-FR\", \"de-DE\", \"el-GR\", \"gu-IN\", \"hi-IN\", \"hu-HU\", \"id-ID\", \"it-IT\", \"ja-JP\", \"kn-IN\", \"ko-KR\", \"ml-IN\", \"cmn-CN\", \"cmn-TW\", \"nb-NO\", \"pl-PL\", \"pt-BR\", \"pt-PT\", \"ru-RU\", \"sk-SK\", \"es-ES\", \"sv-SE\", \"ta-IN\", \"te-IN\", \"th-TH\", \"tr-TR\", \"uk-UA\", \"vi-VN\"]\n",
    "        valid_genders = ['MALE','FEMALE']\n",
    "\n",
    "        if not speaker: speaker = random.choice(valid_speakers)\n",
    "        if not code: code = random.choice(valid_codes)\n",
    "        if not gender: gender = random.choice(valid_genders)\n",
    "\n",
    "        if speaker not in valid_speakers: raise ValueError(f'Invalid speaker. Got {speaker}, expected one of {valid_speakers}')\n",
    "        if code not in valid_codes: raise ValueError(f'Invalid code. Got {code}, expected one of {valid_codes}')\n",
    "        if gender not in valid_genders: raise ValueError(f'Invalid code. Got {gender}, expected one of {valid_genders}')\n",
    "\n",
    "        payload='{\"text\":\"%s\",\"name\":\"%s\",\"gender\":\"%s\",\"code\":\"%s\"}'% (text,speaker,gender,code)\n",
    "        url = URLs.txt2speech_url\n",
    "        response = self.session.post(url, headers=self.headers,data=payload)\n",
    "\n",
    "        try:\n",
    "            decode_bytes = base64.b64decode(response.text)\n",
    "            with open(outfile, \"wb\") as wav_file:\n",
    "                wav_file.write(decode_bytes)\n",
    "            return (f\"Successfully generated audio file {outfile}\")\n",
    "        except Exception as e:\n",
    "            raise ValueError(response.text)\n",
    "\n",
    "    def download_video(self, video_id: str) -> None:\n",
    "        \"\"\"Download one of the synthetically generated videos on your DeepWord account. \n",
    "           The video id can be found using the ``list_generated_videos()`` function. The video\n",
    "           should have finished processing to be downloadable.\n",
    "           Optionally, you can use download_all_videos().\n",
    "        \"\"\"\n",
    "        url = URLs.download_vid_url + video_id\n",
    "        response = self.session.get(url, headers=self.headers)\n",
    "        if response.json()['status'] is False:\n",
    "            raise ValueError(\"Video is still processing. Unable to download it at this time.\")\n",
    "        try:\n",
    "            r = requests.get(response.json()['video_url'], stream=True)\n",
    "            with open(response.json()['video_name'], 'wb') as f:\n",
    "                for chunk in r.iter_content(chunk_size=1024): \n",
    "                    if chunk: # filter out keep-alive new chunks\n",
    "                        f.write(chunk)\n",
    "            return (f\"Successfully downloaded video {video_id}!\")\n",
    "        except Exception as e:\n",
    "            raise ValueError(response.text)\n",
    "\n",
    "    def download_all_videos(self, folder: Union[str, Path]  = 'downloaded_videos') -> None:\n",
    "        \"\"\"Download all vidoes generated with your DeepWord account. You can also pass\n",
    "        a folder or nested folders where you want the vidoes to be saved.\n",
    "        \"\"\"\n",
    "        url = URLs.list_vids_url\n",
    "        path = Path().cwd()\n",
    "        \n",
    "        folder = Path(folder)\n",
    "        folder.mkdir(parents = True, exist_ok = True)\n",
    "\n",
    "        response = self.session.post(url, headers=self.headers)\n",
    "        try:\n",
    "            for item in response.json()['data']:\n",
    "                r = requests.get(item['video_url'], stream=True)\n",
    "\n",
    "                fname1 = item['title'].replace(\".mp4\",'')+'.mp4'\n",
    "                full_path = f'{path/folder/fname1}'\n",
    "\n",
    "                with open(full_path, 'wb') as f:\n",
    "                    for chunk in r.iter_content(chunk_size=1024): \n",
    "                        if chunk: # filter out keep-alive new chunks\n",
    "                            f.write(chunk)\n",
    "            print(f\"Successfully downloaded all videos in folder {folder}!\")\n",
    "        except Exception as e:\n",
    "            raise ValueError(response.text)\n",
    "\n",
    "    def download_youtube_video(self, url: str, types: str = 'video', start_time: int = None, end_time: int = None):\n",
    "        \"\"\"Download a video from YouTube. You can also donwload an audio and provide start and\n",
    "           end times to download a trimmed version.\n",
    "        \"\"\"\n",
    "        if not start_time and not end_time:\n",
    "            # there should be an if else inside this\n",
    "            # if types == 'audio' then it should download the full mp3 else mp4\n",
    "            pytube.YouTube(url).streams.get_highest_resolution().download()\n",
    "            return (\"downloaded youtube video successfully!\")\n",
    "\n",
    "        if start_time > end_time:\n",
    "            raise ValueError('Start time cannot be greater than end time')\n",
    "        \n",
    "        if (start_time is None and end_time) or (end_time is None and start_time is not None):\n",
    "            raise ValueError('Both start and end times should be provided')\n",
    "\n",
    "        start_time = to_hhmmss(int(start_time))\n",
    "        end_time = to_hhmmss(int(end_time))\n",
    "        payload = '{\"end_time\": \"%s\",\"start_time\": \"%s\",\"type\": \"%s\",\"url\": \"%s\"}' % (end_time,start_time,types,url)\n",
    "        url = URLs.download_yt_vid_url\n",
    "        response = self.session.post(url, headers=self.headers, data=payload)\n",
    "        try:\n",
    "            r = self.session.get(response.json()['video_url'], stream=True,verify=False)\n",
    "            fname = response.json()['video_url'].split(\"/\")[-1]\n",
    "            with open(fname, 'wb') as f:\n",
    "                for chunk in r.iter_content(chunk_size=1024): \n",
    "                    if chunk: # filter out keep-alive new chunks\n",
    "                        f.write(chunk)\n",
    "            print(f\"Successfully downloaded the YouTube video {fname}\")\n",
    "            return fname\n",
    "        except Exception as e:\n",
    "            raise ValueError(response.text)\n",
    "    \n",
    "    def download_audio_samples(self):\n",
    "        \"\"\"Download all the audio samples available on the DeepWord website\n",
    "        \"\"\"\n",
    "        folder = Path().cwd() / 'audio_samples'\n",
    "        folder.mkdir(exist_ok = True)\n",
    "\n",
    "        url = URLs.api_get_audio_sample\n",
    "        response = self.session.post(url, headers=self.headers)\n",
    "        try:\n",
    "            for dic in self._process_output(response.text)['sample_audio_files']:\n",
    "                doc = self.session.get(dic['audio_url'])\n",
    "                fname = folder / (dic['title']+dic['extension'])\n",
    "                f = open(fname,\"wb\")\n",
    "                f.write(doc.content)\n",
    "                f.close()\n",
    "            return (\"Successfully downloaded all audio samples\")\n",
    "        except Exception as e:\n",
    "            raise ValueError(response.text)\n",
    "\n",
    "    def download_video_actors(self):\n",
    "        \"\"\"Download all the video actors available on the DeepWord website.\n",
    "        \"\"\"\n",
    "        folder = Path().cwd() / 'video_actors'\n",
    "        folder.mkdir(exist_ok = True)\n",
    "\n",
    "        url = URLs.api_get_video_actors\n",
    "        response = self.session.post(url, headers=self.headers)\n",
    "        try:\n",
    "            for dic in self._process_output(response.text)['sample_video_files']:\n",
    "                with self.session.get(dic['video_url'], stream=True) as r:\n",
    "                    r.raise_for_status()\n",
    "                    fname = folder / (dic['title']+dic['extension'])\n",
    "                    with open(fname, 'wb') as f:\n",
    "                        for chunk in r.iter_content(chunk_size=8192): \n",
    "                            f.write(chunk)\n",
    "            return (\"Successfully downloaded all video actors\")\n",
    "        except Exception as e:\n",
    "            raise ValueError(response.text) \n",
    "\n",
    "    def generate_video(self, video: str, audio: str, title: str = None):\n",
    "        \"\"\"Generate a synthetic video using a video of a person talking and the audio\n",
    "           you want them to say. You can check the status of the video using\n",
    "           ``list_generated_videos`` and download it using ``download_video`` or\n",
    "           ``download_all_videos``\n",
    "        \"\"\"\n",
    "        if not _exists(video): raise ValueError(f'File not found {video}')\n",
    "        if not _exists(audio): raise ValueError(f'File not found {audio}')\n",
    "        payload = {}\n",
    "        if title is not None:\n",
    "            payload={'name': title}\n",
    "        self.headers.pop(\"Content-Type\", None)\n",
    "        url = URLs.generate_vid_url\n",
    "        files = {'video_file': open(video,'rb'),'audio_file': open(audio,'rb')}\n",
    "        response = self.session.post(url, headers=self.headers,files=files,data=payload)\n",
    "        try:\n",
    "            print('Generating video. This will take a few minutes.')\n",
    "            return response.json()\n",
    "        except Exception as e:\n",
    "            raise ValueError(e)"
   ]
  },
  {
   "cell_type": "code",
   "execution_count": null,
   "metadata": {},
   "outputs": [
    {
     "name": "stdout",
     "output_type": "stream",
     "text": [
      "login successful\n"
     ]
    }
   ],
   "source": [
    "account = DeepWord(API_KEY, SECRET_KEY)"
   ]
  },
  {
   "cell_type": "markdown",
   "metadata": {},
   "source": [
    "## Account details"
   ]
  },
  {
   "cell_type": "code",
   "execution_count": null,
   "metadata": {},
   "outputs": [
    {
     "data": {
      "text/markdown": [
       "<h4 id=\"DeepWord.available_credits\" class=\"doc_header\"><code>DeepWord.available_credits</code><a href=\"\" class=\"source_link\" style=\"float:right\">[source]</a></h4>\n",
       "\n",
       "Get the number of credits available in your DeepWord account.\n",
       "        "
      ],
      "text/plain": [
       "<IPython.core.display.Markdown object>"
      ]
     },
     "metadata": {},
     "output_type": "display_data"
    }
   ],
   "source": [
    "show_doc(DeepWord.available_credits)"
   ]
  },
  {
   "cell_type": "code",
   "execution_count": null,
   "metadata": {},
   "outputs": [
    {
     "data": {
      "text/plain": [
       "10014"
      ]
     },
     "execution_count": null,
     "metadata": {},
     "output_type": "execute_result"
    }
   ],
   "source": [
    "account.available_credits"
   ]
  },
  {
   "cell_type": "code",
   "execution_count": null,
   "metadata": {},
   "outputs": [
    {
     "data": {
      "text/markdown": [
       "<h4 id=\"DeepWord.list_videos\" class=\"doc_header\"><code>DeepWord.list_videos</code><a href=\"__main__.py#L38\" class=\"source_link\" style=\"float:right\">[source]</a></h4>\n",
       "\n",
       "> <code>DeepWord.list_videos</code>()\n",
       "\n",
       "Get a list of all the videos you've generated using your DeepWord account.\n",
       "        "
      ],
      "text/plain": [
       "<IPython.core.display.Markdown object>"
      ]
     },
     "metadata": {},
     "output_type": "display_data"
    }
   ],
   "source": [
    "show_doc(DeepWord.list_videos)"
   ]
  },
  {
   "cell_type": "code",
   "execution_count": null,
   "metadata": {},
   "outputs": [
    {
     "data": {
      "text/plain": [
       "{'email': 'blablabla@yopmail.com',\n",
       " 'thumbnail': 'thubnail-u5mfeqpkn6uwhsn.png',\n",
       " 'title': 'Noelle',\n",
       " 'video_url': 'https://videos-deep-word123.s3.us-east-2.amazonaws.com/output_data/u5mfeqpkn6uwhsn.mp4',\n",
       " 'video_duration': '53.952',\n",
       " 'video_id': 'u5mfeqpkn6uwhsn',\n",
       " 'generate_date': '2021-04-07T02:52:57.000Z',\n",
       " 'output_status': 'Progress'}"
      ]
     },
     "execution_count": null,
     "metadata": {},
     "output_type": "execute_result"
    }
   ],
   "source": [
    "all_videos = account.list_videos()\n",
    "all_videos[0]"
   ]
  },
  {
   "cell_type": "markdown",
   "metadata": {},
   "source": [
    "## Downloading synthetically generated videos"
   ]
  },
  {
   "cell_type": "code",
   "execution_count": null,
   "metadata": {},
   "outputs": [
    {
     "data": {
      "text/markdown": [
       "<h4 id=\"DeepWord.download_video\" class=\"doc_header\"><code>DeepWord.download_video</code><a href=\"__main__.py#L78\" class=\"source_link\" style=\"float:right\">[source]</a></h4>\n",
       "\n",
       "> <code>DeepWord.download_video</code>(**`video_id`**:`str`)\n",
       "\n",
       "Download one of the synthetically generated videos on your DeepWord account. \n",
       "The video id can be found using the ``list_generated_videos()`` function. The video\n",
       "should have finished processing to be downloadable.\n",
       "Optionally, you can use download_all_videos()."
      ],
      "text/plain": [
       "<IPython.core.display.Markdown object>"
      ]
     },
     "metadata": {},
     "output_type": "display_data"
    }
   ],
   "source": [
    "show_doc(DeepWord.download_video)"
   ]
  },
  {
   "cell_type": "code",
   "execution_count": null,
   "metadata": {},
   "outputs": [
    {
     "data": {
      "text/markdown": [
       "<h4 id=\"DeepWord.download_all_videos\" class=\"doc_header\"><code>DeepWord.download_all_videos</code><a href=\"__main__.py#L98\" class=\"source_link\" style=\"float:right\">[source]</a></h4>\n",
       "\n",
       "> <code>DeepWord.download_all_videos</code>(**`folder`**:`Union`\\[`str`, `Path`\\]=*`'downloaded_videos'`*)\n",
       "\n",
       "Download all vidoes generated with your DeepWord account. You can also pass\n",
       "a folder or nested folders where you want the vidoes to be saved."
      ],
      "text/plain": [
       "<IPython.core.display.Markdown object>"
      ]
     },
     "metadata": {},
     "output_type": "display_data"
    }
   ],
   "source": [
    "show_doc(DeepWord.download_all_videos)"
   ]
  },
  {
   "cell_type": "code",
   "execution_count": null,
   "metadata": {},
   "outputs": [
    {
     "name": "stdout",
     "output_type": "stream",
     "text": [
      "Successfully downloaded all videos in folder my_videos!\n"
     ]
    }
   ],
   "source": [
    "account.download_all_videos('my_videos')"
   ]
  },
  {
   "cell_type": "markdown",
   "metadata": {},
   "source": [
    "## Downloading sample data"
   ]
  },
  {
   "cell_type": "code",
   "execution_count": null,
   "metadata": {},
   "outputs": [
    {
     "data": {
      "text/markdown": [
       "<h4 id=\"DeepWord.download_video_actors\" class=\"doc_header\"><code>DeepWord.download_video_actors</code><a href=\"__main__.py#L176\" class=\"source_link\" style=\"float:right\">[source]</a></h4>\n",
       "\n",
       "> <code>DeepWord.download_video_actors</code>()\n",
       "\n",
       "Download all the video actors available on the DeepWord website.\n",
       "        "
      ],
      "text/plain": [
       "<IPython.core.display.Markdown object>"
      ]
     },
     "metadata": {},
     "output_type": "display_data"
    }
   ],
   "source": [
    "show_doc(DeepWord.download_video_actors)"
   ]
  },
  {
   "cell_type": "code",
   "execution_count": null,
   "metadata": {},
   "outputs": [
    {
     "data": {
      "text/plain": [
       "'Successfully downloaded all video actors'"
      ]
     },
     "execution_count": null,
     "metadata": {},
     "output_type": "execute_result"
    }
   ],
   "source": [
    "account.download_video_actors()"
   ]
  },
  {
   "cell_type": "code",
   "execution_count": null,
   "metadata": {},
   "outputs": [
    {
     "name": "stdout",
     "output_type": "stream",
     "text": [
      "ls: video_actors/eo_actors: No such file or directory\r\n"
     ]
    }
   ],
   "source": [
    "!ls video_actors/eo_actors"
   ]
  },
  {
   "cell_type": "code",
   "execution_count": null,
   "metadata": {},
   "outputs": [
    {
     "data": {
      "text/markdown": [
       "<h4 id=\"DeepWord.download_audio_samples\" class=\"doc_header\"><code>DeepWord.download_audio_samples</code><a href=\"__main__.py#L157\" class=\"source_link\" style=\"float:right\">[source]</a></h4>\n",
       "\n",
       "> <code>DeepWord.download_audio_samples</code>()\n",
       "\n",
       "Download all the audio samples available on the DeepWord website\n",
       "        "
      ],
      "text/plain": [
       "<IPython.core.display.Markdown object>"
      ]
     },
     "metadata": {},
     "output_type": "display_data"
    }
   ],
   "source": [
    "show_doc(DeepWord.download_audio_samples)"
   ]
  },
  {
   "cell_type": "code",
   "execution_count": null,
   "metadata": {},
   "outputs": [
    {
     "data": {
      "text/plain": [
       "'Successfully downloaded all audio samples'"
      ]
     },
     "execution_count": null,
     "metadata": {},
     "output_type": "execute_result"
    }
   ],
   "source": [
    "account.download_audio_samples()"
   ]
  },
  {
   "cell_type": "code",
   "execution_count": null,
   "metadata": {},
   "outputs": [
    {
     "name": "stdout",
     "output_type": "stream",
     "text": [
      "Amy Poehler.mp3            Mark Cuban.mp3\r\n",
      "Boeing CEO.mp3             Martin Scorsese.mp3\r\n",
      "Chamath Phalihapitiya.mp3  Michael Scott.mp3\r\n",
      "Chinese Instructor.mp3     Neil deGrasse Tyson.mp3\r\n",
      "Edward Snowden.mp3         Peyton Manning.mp3\r\n",
      "Elizabeth Holmes.mp3       Scottie Pippen.mp3\r\n",
      "Financial Advice.mp3       Shaq.mp3\r\n",
      "Footbal Meme.mp3           Swim Coach.mp3\r\n",
      "George Hotz.mp3            Tampa Bay Rays Manager.mp3\r\n",
      "Kevin Hart.mp3             [Korean] Bong Joon Ho.mp3\r\n"
     ]
    }
   ],
   "source": [
    "!ls audio_samples"
   ]
  },
  {
   "cell_type": "markdown",
   "metadata": {},
   "source": [
    "## Downloading YouTube videos"
   ]
  },
  {
   "cell_type": "code",
   "execution_count": null,
   "metadata": {},
   "outputs": [
    {
     "data": {
      "text/markdown": [
       "<h4 id=\"DeepWord.download_youtube_video\" class=\"doc_header\"><code>DeepWord.download_youtube_video</code><a href=\"__main__.py#L124\" class=\"source_link\" style=\"float:right\">[source]</a></h4>\n",
       "\n",
       "> <code>DeepWord.download_youtube_video</code>(**`url`**:`str`, **`types`**:`str`=*`'video'`*, **`start_time`**:`int`=*`None`*, **`end_time`**:`int`=*`None`*)\n",
       "\n",
       "Download a video from YouTube. You can also donwload an audio and provide start and\n",
       "end times to download a trimmed version."
      ],
      "text/plain": [
       "<IPython.core.display.Markdown object>"
      ]
     },
     "metadata": {},
     "output_type": "display_data"
    }
   ],
   "source": [
    "show_doc(DeepWord.download_youtube_video)"
   ]
  },
  {
   "cell_type": "code",
   "execution_count": null,
   "metadata": {},
   "outputs": [],
   "source": [
    "url = 'https://youtu.be/_81yOz-ujug'"
   ]
  },
  {
   "cell_type": "code",
   "execution_count": null,
   "metadata": {},
   "outputs": [
    {
     "data": {
      "text/plain": [
       "'downloaded youtube video successfully!'"
      ]
     },
     "execution_count": null,
     "metadata": {},
     "output_type": "execute_result"
    }
   ],
   "source": [
    "account.download_youtube_video(url)"
   ]
  },
  {
   "cell_type": "markdown",
   "metadata": {},
   "source": [
    "## Creating synthetic videos"
   ]
  },
  {
   "cell_type": "code",
   "execution_count": null,
   "metadata": {},
   "outputs": [
    {
     "data": {
      "text/markdown": [
       "<h4 id=\"DeepWord.generate_video\" class=\"doc_header\"><code>DeepWord.generate_video</code><a href=\"__main__.py#L196\" class=\"source_link\" style=\"float:right\">[source]</a></h4>\n",
       "\n",
       "> <code>DeepWord.generate_video</code>(**`video`**:`str`, **`audio`**:`str`, **`title`**:`str`=*`None`*)\n",
       "\n",
       "Generate a synthetic video using a video of a person talking and the audio\n",
       "you want them to say. You can check the status of the video using\n",
       "``list_generated_videos`` and download it using ``download_video`` or\n",
       "``download_all_videos``"
      ],
      "text/plain": [
       "<IPython.core.display.Markdown object>"
      ]
     },
     "metadata": {},
     "output_type": "display_data"
    }
   ],
   "source": [
    "show_doc(DeepWord.generate_video)"
   ]
  },
  {
   "cell_type": "markdown",
   "metadata": {},
   "source": [
    "```python\n",
    "account.generate_video('video_actors/Anna.mp4', 'audio_samples/Amy Poehler.mp3')\n",
    "```"
   ]
  },
  {
   "cell_type": "code",
   "execution_count": null,
   "metadata": {},
   "outputs": [
    {
     "name": "stdout",
     "output_type": "stream",
     "text": [
      "Converted 00_core.ipynb.\n",
      "Converted 01_utils.ipynb.\n",
      "Converted index.ipynb.\n"
     ]
    }
   ],
   "source": [
    "#hide\n",
    "from nbdev.export import notebook2script\n",
    "notebook2script()"
   ]
  },
  {
   "cell_type": "code",
   "execution_count": null,
   "metadata": {},
   "outputs": [],
   "source": []
  }
 ],
 "metadata": {
  "kernelspec": {
   "display_name": "Python 3",
   "language": "python",
   "name": "python3"
  }
 },
 "nbformat": 4,
 "nbformat_minor": 4
}
