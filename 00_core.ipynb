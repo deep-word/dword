{
 "cells": [
  {
   "cell_type": "code",
   "execution_count": null,
   "metadata": {},
   "outputs": [],
   "source": [
    "# default_exp core"
   ]
  },
  {
   "cell_type": "markdown",
   "metadata": {},
   "source": [
    "# Core\n",
    "\n",
    "> Core class to login to your DeepWord account and generate synthetic videos"
   ]
  },
  {
   "cell_type": "code",
   "execution_count": null,
   "metadata": {},
   "outputs": [],
   "source": [
    "#exporti\n",
    "import base64\n",
    "import json\n",
    "import os\n",
    "import random\n",
    "import time\n",
    "from pathlib import Path\n",
    "from typing import Dict, List, Union\n",
    "\n",
    "import cv2\n",
    "import pytube\n",
    "import requests\n",
    "import urllib3\n",
    "from pytube import YouTube\n",
    "\n",
    "from dword.utils import *\n",
    "from dword.utils import URLs, _exists, TextDicts\n",
    "from nbdev.showdoc import show_doc\n",
    "\n",
    "urllib3.disable_warnings()"
   ]
  },
  {
   "cell_type": "code",
   "execution_count": null,
   "metadata": {},
   "outputs": [],
   "source": [
    "#hide\n",
    "API_KEY = os.environ['API_KEY']\n",
    "SECRET_KEY = os.environ['SECRET_KEY']"
   ]
  },
  {
   "cell_type": "code",
   "execution_count": null,
   "metadata": {},
   "outputs": [],
   "source": [
    "#export\n",
    "class DeepWord:\n",
    "    \"\"\"\n",
    "    A class for logging into your DeepWord account in Python and generating videos at scale\n",
    "    \"\"\"\n",
    "    def __init__(self, api_key: str, secret_key: str) -> None:\n",
    "        \"\"\"Initialize a new DeepWord object. Login to your DeepWord account to generate api keys.\n",
    "        \"\"\"\n",
    "        self.session = requests.session()\n",
    "        self.session.verify = False\n",
    "        self.headers = {'api_key': api_key, 'secerat_key': secret_key, 'Content-Type': 'application/json'}\n",
    "        self._authenticate_user()\n",
    "\n",
    "    def _authenticate_user(self):\n",
    "        url = URLs.validate_token_url\n",
    "        response = self.session.post(url, headers=self.headers)\n",
    "        output = self._process_output(response.text)\n",
    "        if output['success']:\n",
    "            print('login successful')\n",
    "        else:\n",
    "            raise ValueError('Invalid api_key or secret_key')\n",
    "\n",
    "    @staticmethod\n",
    "    def _process_output(x): return json.loads(x)\n",
    "\n",
    "    @property\n",
    "    def available_credits(self) -> int:\n",
    "        \"\"\"Get the number of credits available in your DeepWord account.\n",
    "        \"\"\"\n",
    "        url = URLs.credits_url\n",
    "        response = self.session.post(url, headers=self.headers)\n",
    "        try:\n",
    "            output = self._process_output(response.text)\n",
    "            return output['available_credits']\n",
    "        except:\n",
    "            raise ValueError(response.text)\n",
    "\n",
    "    def list_videos(self) -> List[Dict]:\n",
    "        \"\"\"Get a list of all the videos you've generated using your DeepWord account.\n",
    "        \"\"\"\n",
    "        url = URLs.list_vids_url\n",
    "        response = self.session.post(url, headers=self.headers)\n",
    "        try:\n",
    "            output = self._process_output(response.text)\n",
    "            return output['data']\n",
    "        except:\n",
    "            raise ValueError(response.text)\n",
    "\n",
    "    @property\n",
    "    def _available_languages(self) -> List: return TextDicts.langs\n",
    "\n",
    "    def _available_speakers(self, lang) -> List: return TextDicts.speakers[lang]\n",
    "\n",
    "    def text2speech(self, text: str, language: str, speaker: str, outfile = 'text2speech.mp3') -> str:\n",
    "        if language not in self._available_languages:\n",
    "            raise ValueError(f'Language {language} not available. To see available languages print obj._available_languages')\n",
    "        \n",
    "        if speaker not in self._available_speakers(language):\n",
    "            raise ValueError(f'Invalid model for language {language}. To see available models print obj._available_speakers(language)')\n",
    "        \n",
    "        if Path(outfile).exists():\n",
    "            os.remove(f'{outfile}')\n",
    "        \n",
    "        code = TextDicts.lang2code[language]\n",
    "        sp, gender = speaker.split(' ')\n",
    "\n",
    "        payload='{\"text\":\"%s\",\"name\":\"%s\",\"gender\":\"%s\",\"code\":\"%s\"}'% (text,sp,gender,code)\n",
    "        url = URLs.txt2speech_url\n",
    "        response = self.session.post(url, headers=self.headers,data=payload)\n",
    "\n",
    "        try:\n",
    "            decode_bytes = base64.b64decode(response.text)\n",
    "            with open(outfile, \"wb\") as wav_file:\n",
    "                wav_file.write(decode_bytes)\n",
    "            print(f\"Successfully generated audio file {outfile}\")\n",
    "            return f'{outfile}'\n",
    "        except Exception as e:\n",
    "            raise ValueError(response.text)\n",
    "\n",
    "    def download_video(self, video_id: str) -> None:\n",
    "        \"\"\"Download one of the synthetically generated videos on your DeepWord account. \n",
    "           The video id can be found using the ``list_generated_videos()`` function. The video\n",
    "           should have finished processing to be downloadable.\n",
    "           Optionally, you can use download_all_videos().\n",
    "        \"\"\"\n",
    "        url = URLs.download_vid_url + video_id\n",
    "        response = self.session.get(url, headers=self.headers)\n",
    "        if response.json()['status'] is False:\n",
    "            raise ValueError(\"Video is still processing. Unable to download it at this time.\")\n",
    "        try:\n",
    "            r = requests.get(response.json()['video_url'], stream=True)\n",
    "            with open(response.json()['video_name'], 'wb') as f:\n",
    "                for chunk in r.iter_content(chunk_size=1024): \n",
    "                    if chunk: # filter out keep-alive new chunks\n",
    "                        f.write(chunk)\n",
    "            return (f\"Successfully downloaded video {video_id}!\")\n",
    "        except Exception as e:\n",
    "            raise ValueError(response.text)\n",
    "\n",
    "    def download_all_videos(self, folder: Union[str, Path]  = 'downloaded_videos') -> None:\n",
    "        \"\"\"Download all vidoes generated with your DeepWord account. You can also pass\n",
    "        a folder or nested folders where you want the vidoes to be saved.\n",
    "        \"\"\"\n",
    "        url = URLs.list_vids_url\n",
    "        path = Path().cwd()\n",
    "        \n",
    "        folder = Path(folder)\n",
    "        folder.mkdir(parents = True, exist_ok = True)\n",
    "\n",
    "        response = self.session.post(url, headers=self.headers)\n",
    "        try:\n",
    "            for item in response.json()['data']:\n",
    "                r = requests.get(item['video_url'], stream=True)\n",
    "\n",
    "                fname1 = item['title'].replace(\".mp4\",'')+'.mp4'\n",
    "                full_path = f'{path/folder/fname1}'\n",
    "\n",
    "                with open(full_path, 'wb') as f:\n",
    "                    for chunk in r.iter_content(chunk_size=1024): \n",
    "                        if chunk: # filter out keep-alive new chunks\n",
    "                            f.write(chunk)\n",
    "            print(f\"Successfully downloaded all videos in folder {folder}!\")\n",
    "        except Exception as e:\n",
    "            raise ValueError(response.text)\n",
    "\n",
    "#     def download_youtube_video(self, url: str, types: str = 'video', folder = 'youtube'):\n",
    "#         \"\"\"Download a video from YouTube. You can also donwload an audio by providing\n",
    "#            types = 'audio'.\n",
    "#         \"\"\"\n",
    "#         folder = Path(folder) / types\n",
    "#         folder.mkdir(exist_ok = True, parents = True)\n",
    "#         if types == \"video\":\n",
    "#             pytube.YouTube(url).streams.get_highest_resolution().download(folder)\n",
    "#             print(\"downloaded youtube video successfully!\")\n",
    "#         else:\n",
    "#             yt = YouTube(url) \n",
    "#             stream = yt.streams.filter(only_audio=True).first()\n",
    "#             out_file  = stream.download(folder)\n",
    "#             base, ext = os.path.splitext(out_file)\n",
    "#             new_file = base + '_audio.mp3'\n",
    "#             os.rename(out_file, new_file)\n",
    "#             print(\"downloaded youtube audio successfully!\")\n",
    "    \n",
    "    def download_audio_samples(self):\n",
    "        \"\"\"Download all the audio samples available on the DeepWord website\n",
    "        \"\"\"\n",
    "        folder = Path().cwd() / 'audio_samples'\n",
    "        folder.mkdir(exist_ok = True)\n",
    "\n",
    "        url = URLs.api_get_audio_sample\n",
    "        response = self.session.post(url, headers=self.headers)\n",
    "        try:\n",
    "            for dic in self._process_output(response.text)['sample_audio_files']:\n",
    "                doc = self.session.get(dic['audio_url'])\n",
    "                fname = folder / (dic['title']+dic['extension'])\n",
    "                f = open(fname,\"wb\")\n",
    "                f.write(doc.content)\n",
    "                f.close()\n",
    "            return (\"Successfully downloaded all audio samples\")\n",
    "        except Exception as e:\n",
    "            raise ValueError(response.text)\n",
    "\n",
    "    def download_video_actors(self):\n",
    "        \"\"\"Download all the video actors available on the DeepWord website.\n",
    "        \"\"\"\n",
    "        folder = Path().cwd() / 'video_actors'\n",
    "        folder.mkdir(exist_ok = True)\n",
    "\n",
    "        url = URLs.api_get_video_actors\n",
    "        response = self.session.post(url, headers=self.headers)\n",
    "        try:\n",
    "            for dic in self._process_output(response.text)['sample_video_files']:\n",
    "                with self.session.get(dic['video_url'], stream=True) as r:\n",
    "                    r.raise_for_status()\n",
    "                    fname = folder / (dic['title']+dic['extension'])\n",
    "                    with open(fname, 'wb') as f:\n",
    "                        for chunk in r.iter_content(chunk_size=8192): \n",
    "                            f.write(chunk)\n",
    "            return (\"Successfully downloaded all video actors\")\n",
    "        except Exception as e:\n",
    "            raise ValueError(response.text)\n",
    "\n",
    "    def trim_video(self, video: Union[str, Path], start_time: int, end_time: int, outfile: Union[str, Path] = 'trimmed_video.mp4') -> None:\n",
    "        \"\"\"\n",
    "        Trim a video in place from start (secs) to end (secs).\n",
    "        For youtube videos you can use ``download_youtube_video`` before trimming them.\n",
    "        \"\"\"\n",
    "        start_time = to_hhmmss(int(start_time)) # 0 -> 00:00:00\n",
    "        end_time = to_hhmmss(int(end_time))\n",
    "        if \"Content-Type\" in self.headers:\n",
    "            self.headers.pop(\"Content-Type\")\n",
    "        url = URLs.trim_video\n",
    "        payload={\"start_time\": start_time,\"end_time\":end_time }\n",
    "        files = {'video': open(video,'rb')}\n",
    "        response = self.session.post(url, headers=self.headers, data=payload,files=files)\n",
    "        try:\n",
    "            r = self.session.get(response.json()['file_url'], stream=True)\n",
    "            with open(outfile, 'wb') as f:\n",
    "                for chunk in r.iter_content(chunk_size=1024): \n",
    "                    if chunk: # filter out keep-alive new chunks\n",
    "                        f.write(chunk)\n",
    "            print('Successfully trimmed video')\n",
    "            return outfile\n",
    "        except Exception as e:\n",
    "            raise ValueError(response.text)\n",
    "\n",
    "            \n",
    "    def generate_video(self, video: str, audio: str, title: str = None):\n",
    "        \"\"\"Generate a synthetic video using a video of a person talking and the audio\n",
    "           you want them to say. You can check the status of the video using\n",
    "           ``list_generated_videos`` and download it using ``download_video`` or\n",
    "           ``download_all_videos``\n",
    "        Args:\n",
    "            video (str): Video of the person you want talking.\n",
    "            audio (str): Audio you want the person to say.\n",
    "            title (str, optional): Optionally provide a title for the output. Defaults to \n",
    "                                   name of the video file.\n",
    "        Raises:\n",
    "            ValueError: If video or audio don't exist\n",
    "        \"\"\"\n",
    "        if not _exists(video): raise ValueError(f'File not found {video}')\n",
    "        if not _exists(audio): raise ValueError(f'File not found {audio}')\n",
    "        payload = {}\n",
    "        if title is not None:\n",
    "            payload={'name': title}\n",
    "        headers = {}\n",
    "        headers['api_key'] = self.headers['api_key']\n",
    "        headers['secerat_key'] = self.headers['secerat_key']\n",
    "        url = URLs.generate_vid_url\n",
    "        files = {'video_file': open(video,'rb'),'audio_file': open(audio,'rb')}\n",
    "        response = self.session.post(url, headers=headers,files=files,data=payload)\n",
    "        try:\n",
    "            return response.json()\n",
    "        except Exception as e:\n",
    "            raise ValueError(e)"
   ]
  },
  {
   "cell_type": "code",
   "execution_count": null,
   "metadata": {},
   "outputs": [
    {
     "name": "stdout",
     "output_type": "stream",
     "text": [
      "login successful\n"
     ]
    }
   ],
   "source": [
    "account = DeepWord(API_KEY, SECRET_KEY)"
   ]
  },
  {
   "cell_type": "markdown",
   "metadata": {},
   "source": [
    "## Account details"
   ]
  },
  {
   "cell_type": "code",
   "execution_count": null,
   "metadata": {},
   "outputs": [
    {
     "data": {
      "text/markdown": [
       "<h4 id=\"DeepWord.available_credits\" class=\"doc_header\"><code>DeepWord.available_credits</code><a href=\"\" class=\"source_link\" style=\"float:right\">[source]</a></h4>\n",
       "\n",
       "Get the number of credits available in your DeepWord account.\n",
       "        "
      ],
      "text/plain": [
       "<IPython.core.display.Markdown object>"
      ]
     },
     "metadata": {},
     "output_type": "display_data"
    }
   ],
   "source": [
    "show_doc(DeepWord.available_credits)"
   ]
  },
  {
   "cell_type": "code",
   "execution_count": null,
   "metadata": {},
   "outputs": [
    {
     "data": {
      "text/plain": [
       "94"
      ]
     },
     "execution_count": null,
     "metadata": {},
     "output_type": "execute_result"
    }
   ],
   "source": [
    "account.available_credits"
   ]
  },
  {
   "cell_type": "code",
   "execution_count": null,
   "metadata": {},
   "outputs": [
    {
     "data": {
      "text/markdown": [
       "<h4 id=\"DeepWord.list_videos\" class=\"doc_header\"><code>DeepWord.list_videos</code><a href=\"__main__.py#L38\" class=\"source_link\" style=\"float:right\">[source]</a></h4>\n",
       "\n",
       "> <code>DeepWord.list_videos</code>()\n",
       "\n",
       "Get a list of all the videos you've generated using your DeepWord account.\n",
       "        "
      ],
      "text/plain": [
       "<IPython.core.display.Markdown object>"
      ]
     },
     "metadata": {},
     "output_type": "display_data"
    }
   ],
   "source": [
    "show_doc(DeepWord.list_videos)"
   ]
  },
  {
   "cell_type": "code",
   "execution_count": null,
   "metadata": {},
   "outputs": [
    {
     "data": {
      "text/plain": [
       "{'email': 'blablabla@yopmail.com',\n",
       " 'thumbnail': 'thubnail-b47y6abrm3kqbqc28t.png',\n",
       " 'title': 'Noelle',\n",
       " 'video_url': 'https://videos-deep-word123.s3.us-east-2.amazonaws.com/output_data/b47y6abrm3kqbqc28t.mp4',\n",
       " 'video_duration': '53.952',\n",
       " 'video_id': 'b47y6abrm3kqbqc28t',\n",
       " 'generate_date': '2021-06-25T02:43:03.000Z',\n",
       " 'output_status': 'Complete'}"
      ]
     },
     "execution_count": null,
     "metadata": {},
     "output_type": "execute_result"
    }
   ],
   "source": [
    "all_videos = account.list_videos()\n",
    "all_videos[0]"
   ]
  },
  {
   "cell_type": "code",
   "execution_count": null,
   "metadata": {},
   "outputs": [
    {
     "data": {
      "text/plain": [
       "5"
      ]
     },
     "execution_count": null,
     "metadata": {},
     "output_type": "execute_result"
    }
   ],
   "source": [
    "len(all_videos)"
   ]
  },
  {
   "cell_type": "markdown",
   "metadata": {},
   "source": [
    "## Downloading synthetically generated videos"
   ]
  },
  {
   "cell_type": "code",
   "execution_count": null,
   "metadata": {},
   "outputs": [
    {
     "data": {
      "text/markdown": [
       "<h4 id=\"DeepWord.download_video\" class=\"doc_header\"><code>DeepWord.download_video</code><a href=\"__main__.py#L80\" class=\"source_link\" style=\"float:right\">[source]</a></h4>\n",
       "\n",
       "> <code>DeepWord.download_video</code>(**`video_id`**:`str`)\n",
       "\n",
       "Download one of the synthetically generated videos on your DeepWord account. \n",
       "The video id can be found using the ``list_generated_videos()`` function. The video\n",
       "should have finished processing to be downloadable.\n",
       "Optionally, you can use download_all_videos()."
      ],
      "text/plain": [
       "<IPython.core.display.Markdown object>"
      ]
     },
     "metadata": {},
     "output_type": "display_data"
    }
   ],
   "source": [
    "show_doc(DeepWord.download_video)"
   ]
  },
  {
   "cell_type": "code",
   "execution_count": null,
   "metadata": {},
   "outputs": [
    {
     "data": {
      "text/markdown": [
       "<h4 id=\"DeepWord.download_all_videos\" class=\"doc_header\"><code>DeepWord.download_all_videos</code><a href=\"__main__.py#L100\" class=\"source_link\" style=\"float:right\">[source]</a></h4>\n",
       "\n",
       "> <code>DeepWord.download_all_videos</code>(**`folder`**:`Union`\\[`str`, `Path`\\]=*`'downloaded_videos'`*)\n",
       "\n",
       "Download all vidoes generated with your DeepWord account. You can also pass\n",
       "a folder or nested folders where you want the vidoes to be saved."
      ],
      "text/plain": [
       "<IPython.core.display.Markdown object>"
      ]
     },
     "metadata": {},
     "output_type": "display_data"
    }
   ],
   "source": [
    "show_doc(DeepWord.download_all_videos)"
   ]
  },
  {
   "cell_type": "code",
   "execution_count": null,
   "metadata": {},
   "outputs": [
    {
     "name": "stdout",
     "output_type": "stream",
     "text": [
      "Successfully downloaded all videos in folder my_videos!\n"
     ]
    }
   ],
   "source": [
    "account.download_all_videos('my_videos')"
   ]
  },
  {
   "cell_type": "code",
   "execution_count": null,
   "metadata": {},
   "outputs": [
    {
     "name": "stdout",
     "output_type": "stream",
     "text": [
      "Anna.mp4                 Noelle.mp4\n",
      "Carlos.mp4               first_deepword_video.mp4\n"
     ]
    }
   ],
   "source": [
    "!ls my_videos"
   ]
  },
  {
   "cell_type": "markdown",
   "metadata": {},
   "source": [
    "## Downloading sample data"
   ]
  },
  {
   "cell_type": "code",
   "execution_count": null,
   "metadata": {},
   "outputs": [
    {
     "data": {
      "text/markdown": [
       "<h4 id=\"DeepWord.download_video_actors\" class=\"doc_header\"><code>DeepWord.download_video_actors</code><a href=\"__main__.py#L163\" class=\"source_link\" style=\"float:right\">[source]</a></h4>\n",
       "\n",
       "> <code>DeepWord.download_video_actors</code>()\n",
       "\n",
       "Download all the video actors available on the DeepWord website.\n",
       "        "
      ],
      "text/plain": [
       "<IPython.core.display.Markdown object>"
      ]
     },
     "metadata": {},
     "output_type": "display_data"
    }
   ],
   "source": [
    "show_doc(DeepWord.download_video_actors)"
   ]
  },
  {
   "cell_type": "code",
   "execution_count": null,
   "metadata": {},
   "outputs": [
    {
     "data": {
      "text/plain": [
       "'Successfully downloaded all video actors'"
      ]
     },
     "execution_count": null,
     "metadata": {},
     "output_type": "execute_result"
    }
   ],
   "source": [
    "account.download_video_actors()"
   ]
  },
  {
   "cell_type": "code",
   "execution_count": null,
   "metadata": {},
   "outputs": [
    {
     "name": "stdout",
     "output_type": "stream",
     "text": [
      "Anna.mp4    Dalton.mp4  Isaac.mp4   Karen.mp4   Mia.mp4     Richard.mp4\n",
      "Berto.mp4   Emily.mp4   James.mp4   Marcus.mp4  Micheal.mp4 Sam.mp4\n",
      "Carlos.mp4  Henry.mp4   Julia.mp4   Mary.mp4    Noelle.mp4  Trey.mp4\n"
     ]
    }
   ],
   "source": [
    "!ls video_actors"
   ]
  },
  {
   "cell_type": "code",
   "execution_count": null,
   "metadata": {},
   "outputs": [
    {
     "data": {
      "text/markdown": [
       "<h4 id=\"DeepWord.download_audio_samples\" class=\"doc_header\"><code>DeepWord.download_audio_samples</code><a href=\"__main__.py#L144\" class=\"source_link\" style=\"float:right\">[source]</a></h4>\n",
       "\n",
       "> <code>DeepWord.download_audio_samples</code>()\n",
       "\n",
       "Download all the audio samples available on the DeepWord website\n",
       "        "
      ],
      "text/plain": [
       "<IPython.core.display.Markdown object>"
      ]
     },
     "metadata": {},
     "output_type": "display_data"
    }
   ],
   "source": [
    "show_doc(DeepWord.download_audio_samples)"
   ]
  },
  {
   "cell_type": "code",
   "execution_count": null,
   "metadata": {},
   "outputs": [
    {
     "data": {
      "text/plain": [
       "'Successfully downloaded all audio samples'"
      ]
     },
     "execution_count": null,
     "metadata": {},
     "output_type": "execute_result"
    }
   ],
   "source": [
    "account.download_audio_samples()"
   ]
  },
  {
   "cell_type": "code",
   "execution_count": null,
   "metadata": {},
   "outputs": [
    {
     "name": "stdout",
     "output_type": "stream",
     "text": [
      "Amy Poehler.mp3            Mark Cuban.mp3\n",
      "Boeing CEO.mp3             Martin Scorsese.mp3\n",
      "Chamath Phalihapitiya.mp3  Michael Scott.mp3\n",
      "Chinese Instructor.mp3     Neil deGrasse Tyson.mp3\n",
      "Edward Snowden.mp3         Peyton Manning.mp3\n",
      "Elizabeth Holmes.mp3       Scottie Pippen.mp3\n",
      "Financial Advice.mp3       Shaq.mp3\n",
      "Footbal Meme.mp3           Swim Coach.mp3\n",
      "George Hotz.mp3            Tampa Bay Rays Manager.mp3\n",
      "Kevin Hart.mp3             [Korean] Bong Joon Ho.mp3\n"
     ]
    }
   ],
   "source": [
    "!ls audio_samples"
   ]
  },
  {
   "cell_type": "markdown",
   "metadata": {},
   "source": [
    "## Using text2speech\n",
    "\n",
    "One of the big advantages of using DeepWord is you don't even have to record an audio. You can use our text2speech feature to convert your text into audio. We support a **41 languages** and a bunch of speakers for each language. To see the available languages you can do"
   ]
  },
  {
   "cell_type": "code",
   "execution_count": null,
   "metadata": {},
   "outputs": [
    {
     "data": {
      "text/plain": [
       "['arabic', 'bengali', 'chinese', 'czech', 'danish']"
      ]
     },
     "execution_count": null,
     "metadata": {},
     "output_type": "execute_result"
    }
   ],
   "source": [
    "account._available_languages[:5]"
   ]
  },
  {
   "cell_type": "code",
   "execution_count": null,
   "metadata": {},
   "outputs": [
    {
     "data": {
      "text/plain": [
       "'arabic'"
      ]
     },
     "execution_count": null,
     "metadata": {},
     "output_type": "execute_result"
    }
   ],
   "source": [
    "lang = account._available_languages[0]\n",
    "lang"
   ]
  },
  {
   "cell_type": "code",
   "execution_count": null,
   "metadata": {},
   "outputs": [
    {
     "data": {
      "text/plain": [
       "['ar-XA-Wavenet-A FEMALE',\n",
       " 'ar-XA-Wavenet-B MALE',\n",
       " 'ar-XA-Wavenet-C MALE',\n",
       " 'ar-XA-Standard-A FEMALE',\n",
       " 'ar-XA-Standard-B MALE',\n",
       " 'ar-XA-Standard-C MALE',\n",
       " 'ar-XA-Standard-D FEMALE']"
      ]
     },
     "execution_count": null,
     "metadata": {},
     "output_type": "execute_result"
    }
   ],
   "source": [
    "speakers = account._available_speakers(lang)\n",
    "speakers"
   ]
  },
  {
   "cell_type": "code",
   "execution_count": null,
   "metadata": {},
   "outputs": [
    {
     "name": "stdout",
     "output_type": "stream",
     "text": [
      "Successfully generated audio file text2speech.mp3\n"
     ]
    },
    {
     "data": {
      "text/plain": [
       "'text2speech.mp3'"
      ]
     },
     "execution_count": null,
     "metadata": {},
     "output_type": "execute_result"
    }
   ],
   "source": [
    "text = 'I want this speaker to speak this text'\n",
    "account.text2speech(text, lang, speakers[0])"
   ]
  },
  {
   "cell_type": "code",
   "execution_count": null,
   "metadata": {},
   "outputs": [
    {
     "data": {
      "text/html": [
       "\n",
       "                <audio  controls=\"controls\" >\n",
       "                    <source src=\"data:audio/mpeg;base64,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\" type=\"audio/mpeg\" />\n",
       "                    Your browser does not support the audio element.\n",
       "                </audio>\n",
       "              "
      ],
      "text/plain": [
       "<IPython.lib.display.Audio object>"
      ]
     },
     "execution_count": null,
     "metadata": {},
     "output_type": "execute_result"
    }
   ],
   "source": [
    "display_audio('text2speech.mp3')"
   ]
  },
  {
   "cell_type": "markdown",
   "metadata": {},
   "source": [
    "## Trim videos\n",
    "\n",
    "We trim videos on our servers for you so trim videos is part of the core module and not the utils module"
   ]
  },
  {
   "cell_type": "code",
   "execution_count": null,
   "metadata": {},
   "outputs": [
    {
     "data": {
      "text/markdown": [
       "<h4 id=\"DeepWord.trim_video\" class=\"doc_header\"><code>DeepWord.trim_video</code><a href=\"__main__.py#L183\" class=\"source_link\" style=\"float:right\">[source]</a></h4>\n",
       "\n",
       "> <code>DeepWord.trim_video</code>(**`video`**:`Union`\\[`str`, `Path`\\], **`start_time`**:`int`, **`end_time`**:`int`, **`outfile`**:`Union`\\[`str`, `Path`\\]=*`'trimmed_video.mp4'`*)\n",
       "\n",
       "Trim a video in place from start (secs) to end (secs).\n",
       "For youtube videos you can use ``download_youtube_video`` before trimming them."
      ],
      "text/plain": [
       "<IPython.core.display.Markdown object>"
      ]
     },
     "metadata": {},
     "output_type": "display_data"
    }
   ],
   "source": [
    "show_doc(DeepWord.trim_video)"
   ]
  },
  {
   "cell_type": "code",
   "execution_count": null,
   "metadata": {},
   "outputs": [
    {
     "data": {
      "text/html": [
       "<video src=\"test_video.mp4\" controls  width=\"400\"  height=\"400\">\n",
       "      Your browser does not support the <code>video</code> element.\n",
       "    </video>"
      ],
      "text/plain": [
       "<IPython.core.display.Video object>"
      ]
     },
     "execution_count": null,
     "metadata": {},
     "output_type": "execute_result"
    }
   ],
   "source": [
    "fname = 'test_video.mp4'\n",
    "display_video(fname)"
   ]
  },
  {
   "cell_type": "code",
   "execution_count": null,
   "metadata": {},
   "outputs": [
    {
     "name": "stdout",
     "output_type": "stream",
     "text": [
      "Successfully trimmed video\n"
     ]
    },
    {
     "data": {
      "text/plain": [
       "'trimmed_video.mp4'"
      ]
     },
     "execution_count": null,
     "metadata": {},
     "output_type": "execute_result"
    }
   ],
   "source": [
    "account.trim_video(fname, 0, 5)"
   ]
  },
  {
   "cell_type": "code",
   "execution_count": null,
   "metadata": {},
   "outputs": [
    {
     "data": {
      "text/html": [
       "<video src=\"trimmed_video.mp4\" controls  width=\"400\"  height=\"400\">\n",
       "      Your browser does not support the <code>video</code> element.\n",
       "    </video>"
      ],
      "text/plain": [
       "<IPython.core.display.Video object>"
      ]
     },
     "execution_count": null,
     "metadata": {},
     "output_type": "execute_result"
    }
   ],
   "source": [
    "display_video('trimmed_video.mp4')"
   ]
  },
  {
   "cell_type": "markdown",
   "metadata": {},
   "source": [
    "## Creating synthetic videos"
   ]
  },
  {
   "cell_type": "code",
   "execution_count": null,
   "metadata": {},
   "outputs": [
    {
     "data": {
      "text/markdown": [
       "<h4 id=\"DeepWord.generate_video\" class=\"doc_header\"><code>DeepWord.generate_video</code><a href=\"__main__.py#L208\" class=\"source_link\" style=\"float:right\">[source]</a></h4>\n",
       "\n",
       "> <code>DeepWord.generate_video</code>(**`video`**:`str`, **`audio`**:`str`, **`title`**:`str`=*`None`*)\n",
       "\n",
       "Generate a synthetic video using a video of a person talking and the audio\n",
       "   you want them to say. You can check the status of the video using\n",
       "   ``list_generated_videos`` and download it using ``download_video`` or\n",
       "   ``download_all_videos``\n",
       "Args:\n",
       "    video (str): Video of the person you want talking.\n",
       "    audio (str): Audio you want the person to say.\n",
       "    title (str, optional): Optionally provide a title for the output. Defaults to \n",
       "                           name of the video file.\n",
       "Raises:\n",
       "    ValueError: If video or audio don't exist"
      ],
      "text/plain": [
       "<IPython.core.display.Markdown object>"
      ]
     },
     "metadata": {},
     "output_type": "display_data"
    }
   ],
   "source": [
    "show_doc(DeepWord.generate_video)"
   ]
  },
  {
   "cell_type": "code",
   "execution_count": null,
   "metadata": {},
   "outputs": [
    {
     "data": {
      "text/plain": [
       "{'status': True,\n",
       " 'message': 'Your video has been added to the queue for processing. Please check back in 10-15 minutes',\n",
       " 'url': 'https://login.deepword.co/video/b47y6abty8kqcgcvss'}"
      ]
     },
     "execution_count": null,
     "metadata": {},
     "output_type": "execute_result"
    }
   ],
   "source": [
    "account.generate_video('video_actors/Anna.mp4', 'audio_samples/Amy Poehler.mp3')"
   ]
  },
  {
   "cell_type": "code",
   "execution_count": null,
   "metadata": {},
   "outputs": [
    {
     "name": "stdout",
     "output_type": "stream",
     "text": [
      "Converted 00_core.ipynb.\n",
      "Converted 01_utils.ipynb.\n",
      "Converted 02_tutorials.educational.ipynb.\n",
      "Converted 02_tutorials.input_types.ipynb.\n",
      "Converted 02_tutorials.sales.ipynb.\n",
      "Converted index.ipynb.\n"
     ]
    }
   ],
   "source": [
    "#hide\n",
    "from nbdev.export import notebook2script\n",
    "notebook2script()"
   ]
  },
  {
   "cell_type": "code",
   "execution_count": null,
   "metadata": {},
   "outputs": [],
   "source": []
  }
 ],
 "metadata": {
  "kernelspec": {
   "display_name": "Python 3",
   "language": "python",
   "name": "python3"
  }
 },
 "nbformat": 4,
 "nbformat_minor": 4
}
