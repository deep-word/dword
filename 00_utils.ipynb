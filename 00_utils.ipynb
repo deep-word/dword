{
 "cells": [
  {
   "cell_type": "code",
   "execution_count": null,
   "metadata": {},
   "outputs": [],
   "source": [
    "# default_exp utils"
   ]
  },
  {
   "cell_type": "markdown",
   "metadata": {},
   "source": [
    "# Utility functions\n",
    "\n",
    "> API details."
   ]
  },
  {
   "cell_type": "code",
   "execution_count": null,
   "metadata": {},
   "outputs": [],
   "source": [
    "#exporti\n",
    "import subprocess\n",
    "from subprocess import CalledProcessError\n",
    "from nbdev.showdoc import *\n",
    "from pathlib import Path\n",
    "import os"
   ]
  },
  {
   "cell_type": "code",
   "execution_count": null,
   "metadata": {},
   "outputs": [],
   "source": [
    "#exporti\n",
    "class URLs:\n",
    "    base = 'https://staging.deepword.co:3000/api'\n",
    "    credits_url = f'{base}/api_get_credits/'\n",
    "    list_vids_url = f'{base}/list_video_api/'\n",
    "    txt2speech_url = f'{base}/api_text_to_speech/'\n",
    "    download_vid_url = f'{base}/api_download_video/'\n",
    "    download_yt_vid_url = f'{base}/api_download_youtube_video/'\n",
    "    generate_vid_url = f'{base}/generate_video_api'\n",
    "    validate_token_url = f'{base}/check_apikey'\n",
    "    api_get_sample_file = f'{base}/api_get_sample_file'"
   ]
  },
  {
   "cell_type": "markdown",
   "metadata": {},
   "source": [
    "## Video utils"
   ]
  },
  {
   "cell_type": "markdown",
   "metadata": {},
   "source": [
    "Use this function to crop a video"
   ]
  },
  {
   "cell_type": "code",
   "execution_count": null,
   "metadata": {},
   "outputs": [],
   "source": [
    "#exporti\n",
    "def _file_exists(x): return Path(x).exists()"
   ]
  },
  {
   "cell_type": "code",
   "execution_count": null,
   "metadata": {},
   "outputs": [],
   "source": [
    "#export\n",
    "def trim_video(video, start, end, outfile = None):\n",
    "    \"\"\"\n",
    "    Crop a video in place from start to end. If you don't want to crop inplace, provide output filename.\n",
    "    For youtube videos you can `download_youtube_video` before cropping it\n",
    "    \"\"\"\n",
    "    raise NotImplementedError"
   ]
  },
  {
   "cell_type": "code",
   "execution_count": null,
   "metadata": {},
   "outputs": [],
   "source": [
    "#export\n",
    "def get_resolution(video):\n",
    "    \"Get the resolution of a video\"\n",
    "    if not _file_exists(video):\n",
    "        raise FileNotFoundError(f'{video} was not found, make sure you provide the correct file path')\n",
    "    else:\n",
    "        cmd = f'ffprobe -v error -select_streams v:0 -show_entries stream=width,height -of default=nw=1:nk=1 {video}'\n",
    "        try:\n",
    "            op = subprocess.check_output(cmd, shell = True)\n",
    "        except CalledProcessError as e:\n",
    "            print(e.output)\n",
    "        h,w,_ = op.decode('utf-8').split('\\n')\n",
    "        return int(h), int(w)"
   ]
  },
  {
   "cell_type": "code",
   "execution_count": null,
   "metadata": {},
   "outputs": [
    {
     "data": {
      "text/plain": [
       "(1280, 720)"
      ]
     },
     "execution_count": null,
     "metadata": {},
     "output_type": "execute_result"
    }
   ],
   "source": [
    "get_resolution('Anna.mp4')"
   ]
  },
  {
   "cell_type": "code",
   "execution_count": null,
   "metadata": {},
   "outputs": [],
   "source": [
    "#export\n",
    "def get_fps(video):\n",
    "    \"Get the fps of a video\"\n",
    "    if not _file_exists(video):\n",
    "        raise FileNotFoundError(f'{video} was not found, make sure you provide the correct file path')\n",
    "    cmd = f'ffprobe -v error -select_streams v -of default=noprint_wrappers=1:nokey=1 -show_entries stream=r_frame_rate {video}'\n",
    "    try:\n",
    "        op = subprocess.check_output(cmd, shell = True).decode('utf-8')\n",
    "    except CalledProcessError as e:\n",
    "        print(e.output)\n",
    "    op = op.strip().split('/')\n",
    "    op = list(map(int, op))\n",
    "    return round(op[0] / op[1]) if op[1] != 0 else None"
   ]
  },
  {
   "cell_type": "code",
   "execution_count": null,
   "metadata": {},
   "outputs": [
    {
     "data": {
      "text/plain": [
       "30"
      ]
     },
     "execution_count": null,
     "metadata": {},
     "output_type": "execute_result"
    }
   ],
   "source": [
    "get_fps('Anna.mp4')"
   ]
  },
  {
   "cell_type": "markdown",
   "metadata": {},
   "source": [
    "## Audio utils"
   ]
  },
  {
   "cell_type": "code",
   "execution_count": null,
   "metadata": {},
   "outputs": [],
   "source": [
    "#export\n",
    "def trim_audio(audio, start, end, outfile = None):\n",
    "    \"\"\"\n",
    "    Crop an audio in place from start to end. If you don't want to crop inplace, provide output filename.\n",
    "    \"\"\"\n",
    "    raise NotImplementedError"
   ]
  },
  {
   "cell_type": "code",
   "execution_count": null,
   "metadata": {},
   "outputs": [
    {
     "name": "stdout",
     "output_type": "stream",
     "text": [
      "Converted 00_utils.ipynb.\n",
      "Converted 01_core.ipynb.\n",
      "Converted index.ipynb.\n"
     ]
    }
   ],
   "source": [
    "#hide\n",
    "from nbdev.export import notebook2script\n",
    "notebook2script()"
   ]
  }
 ],
 "metadata": {
  "kernelspec": {
   "display_name": "Python 3",
   "language": "python",
   "name": "python3"
  }
 },
 "nbformat": 4,
 "nbformat_minor": 2
}
