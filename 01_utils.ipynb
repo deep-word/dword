{
 "cells": [
  {
   "cell_type": "code",
   "execution_count": null,
   "metadata": {},
   "outputs": [],
   "source": [
    "# default_exp utils"
   ]
  },
  {
   "cell_type": "markdown",
   "metadata": {},
   "source": [
    "# Utils\n",
    "\n",
    "> This module includes video and audio utilities to go along with the core module to make synthetic video generation a smooth experience."
   ]
  },
  {
   "cell_type": "code",
   "execution_count": null,
   "metadata": {},
   "outputs": [],
   "source": [
    "#exporti\n",
    "import time\n",
    "from pathlib import Path\n",
    "import subprocess\n",
    "from subprocess import CalledProcessError\n",
    "import os, cv2\n",
    "from typing import Union, Dict\n",
    "from pydub import AudioSegment\n",
    "import imageio\n",
    "from nbdev.showdoc import *"
   ]
  },
  {
   "cell_type": "code",
   "execution_count": null,
   "metadata": {},
   "outputs": [],
   "source": [
    "#exporti\n",
    "class URLs:\n",
    "    base = 'https://staging.deepword.co:3000/api'\n",
    "    credits_url = f'{base}/api_get_credits/'\n",
    "    list_vids_url = f'{base}/list_video_api/'\n",
    "    txt2speech_url = f'{base}/api_text_to_speech/'\n",
    "    download_vid_url = f'{base}/api_download_video/'\n",
    "    download_yt_vid_url = f'{base}/api_download_youtube_video/'\n",
    "    generate_vid_url = f'{base}/generate_video_api'\n",
    "    validate_token_url = f'{base}/check_apikey'\n",
    "    api_get_audio_sample = f'{base}/api_get_audio_sample'\n",
    "    api_get_video_actors = f'{base}/api_get_video_actors'"
   ]
  },
  {
   "cell_type": "markdown",
   "metadata": {},
   "source": [
    "## Time utils\n",
    "\n",
    "A collection of functions for time related operations."
   ]
  },
  {
   "cell_type": "code",
   "execution_count": null,
   "metadata": {},
   "outputs": [],
   "source": [
    "#export\n",
    "def to_hhmmss(x: int) -> str: \n",
    "    \"\"\"Convert time from secs (int) to hh:mm:ss (str).\n",
    "    \"\"\"\n",
    "    \n",
    "    return time.strftime(\"%H:%M:%S\", time.gmtime(x))"
   ]
  },
  {
   "cell_type": "code",
   "execution_count": null,
   "metadata": {},
   "outputs": [
    {
     "data": {
      "text/plain": [
       "'00:00:05'"
      ]
     },
     "execution_count": null,
     "metadata": {},
     "output_type": "execute_result"
    }
   ],
   "source": [
    "to_hhmmss(5)"
   ]
  },
  {
   "cell_type": "code",
   "execution_count": null,
   "metadata": {},
   "outputs": [],
   "source": [
    "assert to_hhmmss(100) == '00:01:40'"
   ]
  },
  {
   "cell_type": "code",
   "execution_count": null,
   "metadata": {},
   "outputs": [
    {
     "data": {
      "text/plain": [
       "'02:46:40'"
      ]
     },
     "execution_count": null,
     "metadata": {},
     "output_type": "execute_result"
    }
   ],
   "source": [
    "to_hhmmss(10000)"
   ]
  },
  {
   "cell_type": "code",
   "execution_count": null,
   "metadata": {},
   "outputs": [],
   "source": [
    "#export\n",
    "def to_secs(x: str) -> int:\n",
    "    \"\"\"Convert time from hh:mm:ss (str) format to seconds (int).\n",
    "    \"\"\"\n",
    "    h, m, s = x.split(':')\n",
    "    return int(h) * 3600 + int(m) * 60 + int(s)"
   ]
  },
  {
   "cell_type": "code",
   "execution_count": null,
   "metadata": {},
   "outputs": [
    {
     "data": {
      "text/plain": [
       "10000"
      ]
     },
     "execution_count": null,
     "metadata": {},
     "output_type": "execute_result"
    }
   ],
   "source": [
    "to_secs('02:46:40')"
   ]
  },
  {
   "cell_type": "code",
   "execution_count": null,
   "metadata": {},
   "outputs": [],
   "source": [
    "assert to_secs('00:00:05') == 5"
   ]
  },
  {
   "cell_type": "markdown",
   "metadata": {},
   "source": [
    "## Video utils\n",
    "\n",
    "A collection of functions for video related operations"
   ]
  },
  {
   "cell_type": "code",
   "execution_count": null,
   "metadata": {},
   "outputs": [],
   "source": [
    "#exporti\n",
    "def _exists(x): return Path(x).exists()"
   ]
  },
  {
   "cell_type": "code",
   "execution_count": null,
   "metadata": {},
   "outputs": [],
   "source": [
    "#export\n",
    "def trim_video(video, start, end, outfile = None):\n",
    "    \"\"\"\n",
    "    Crop a video in place from start to end. If you don't want to crop inplace, provide output filename.\n",
    "    For youtube videos you can `download_youtube_video` before cropping it\n",
    "    \"\"\"\n",
    "    raise NotImplementedError"
   ]
  },
  {
   "cell_type": "code",
   "execution_count": null,
   "metadata": {},
   "outputs": [],
   "source": [
    "#export\n",
    "def check_resolution(video: Union[str, Path]) -> Dict:\n",
    "    \"\"\"Check the resolution of a video. Output is in the form of height, width\n",
    "    \"\"\"\n",
    "    try:\n",
    "        vid = cv2.VideoCapture(video)\n",
    "        h, w = vid.get(cv2.CAP_PROP_FRAME_HEIGHT), vid.get(cv2.CAP_PROP_FRAME_WIDTH)        \n",
    "        return {'height': int(h), 'width': int(w)}\n",
    "    except Exception as e:\n",
    "        raise ValueError(e)"
   ]
  },
  {
   "cell_type": "code",
   "execution_count": null,
   "metadata": {},
   "outputs": [
    {
     "data": {
      "text/plain": [
       "{'height': 720, 'width': 1280}"
      ]
     },
     "execution_count": null,
     "metadata": {},
     "output_type": "execute_result"
    }
   ],
   "source": [
    "check_resolution('Anna.mp4')"
   ]
  },
  {
   "cell_type": "code",
   "execution_count": null,
   "metadata": {},
   "outputs": [],
   "source": [
    "assert check_resolution('Anna.mp4') == {'height': 720, 'width': 1280}"
   ]
  },
  {
   "cell_type": "code",
   "execution_count": null,
   "metadata": {},
   "outputs": [],
   "source": [
    "#export\n",
    "def check_fps(video: Union[str, Path]) -> float:\n",
    "    \"\"\"Get the fps of a video\n",
    "    \"\"\"\n",
    "    reader = imageio.get_reader(video)\n",
    "    fps = reader.get_meta_data()['fps']\n",
    "    return fps"
   ]
  },
  {
   "cell_type": "code",
   "execution_count": null,
   "metadata": {},
   "outputs": [
    {
     "data": {
      "text/plain": [
       "29.97"
      ]
     },
     "execution_count": null,
     "metadata": {},
     "output_type": "execute_result"
    }
   ],
   "source": [
    "check_fps('Anna.mp4')"
   ]
  },
  {
   "cell_type": "code",
   "execution_count": null,
   "metadata": {},
   "outputs": [],
   "source": [
    "assert check_fps('Anna.mp4') == 29.97"
   ]
  },
  {
   "cell_type": "markdown",
   "metadata": {},
   "source": [
    "## Audio utils\n",
    "\n",
    "A collection of functions for audio related operations"
   ]
  },
  {
   "cell_type": "code",
   "execution_count": null,
   "metadata": {},
   "outputs": [],
   "source": [
    "#export\n",
    "def change_audio_format(audio: Union[str, Path], outfile: Union[str, Path]) -> None:\n",
    "    \"\"\"Change the format of audio file. Example, converting mp3 to wav. Works with\n",
    "       all formats supported by ffmpeg.\n",
    "    \"\"\"\n",
    "    audio, outfile = Path(audio), Path(outfile)\n",
    "    ext, o_ext = audio.suffix[1:], outfile.suffix[1:]\n",
    "    f = AudioSegment.from_file(audio, ext)\n",
    "    f.export(outfile, format = o_ext)"
   ]
  },
  {
   "cell_type": "code",
   "execution_count": null,
   "metadata": {},
   "outputs": [],
   "source": [
    "change_audio_format('demo_audio.wav', 'my_audio.mp3')"
   ]
  },
  {
   "cell_type": "code",
   "execution_count": null,
   "metadata": {},
   "outputs": [],
   "source": [
    "change_audio_format('my_audio.mp3', 'another_audio.flac')"
   ]
  },
  {
   "cell_type": "code",
   "execution_count": null,
   "metadata": {},
   "outputs": [],
   "source": [
    "#export\n",
    "def trim_audio(audio: Union[str, Path], start_time: int, end_time: int, outfile: Union[str, Path] = 'trimmed_audio.mp3') -> None:\n",
    "    \"\"\"Trim an audio file. Works with all formats supported by ffmpeg.\n",
    "    \"\"\"\n",
    "    audio, outfile = Path(audio), Path(outfile)\n",
    "    ext, o_ext = audio.suffix[1:], outfile.suffix[1:]\n",
    "    f = AudioSegment.from_file(audio, ext)\n",
    "\n",
    "    start_time = start_time * 1000\n",
    "    end_time = end_time * 1000\n",
    "\n",
    "    f = f[start_time:end_time]\n",
    "    f.export(outfile, format = o_ext)"
   ]
  },
  {
   "cell_type": "code",
   "execution_count": null,
   "metadata": {},
   "outputs": [],
   "source": [
    "trim_audio('my_audio.mp3', 0, 5)"
   ]
  },
  {
   "cell_type": "code",
   "execution_count": null,
   "metadata": {},
   "outputs": [],
   "source": [
    "trim_audio('my_audio.mp3', 0, 5, 'small_audio.mp3')"
   ]
  },
  {
   "cell_type": "markdown",
   "metadata": {},
   "source": [
    "**Note**: The output can be in a different format"
   ]
  },
  {
   "cell_type": "code",
   "execution_count": null,
   "metadata": {},
   "outputs": [],
   "source": [
    "trim_audio('my_audio.mp3', 0, 5, 'small_audio.wav')"
   ]
  },
  {
   "cell_type": "code",
   "execution_count": null,
   "metadata": {},
   "outputs": [
    {
     "name": "stdout",
     "output_type": "stream",
     "text": [
      "Converted 00_utils.ipynb.\n",
      "Converted 01_core.ipynb.\n",
      "Converted index.ipynb.\n"
     ]
    }
   ],
   "source": [
    "#hide\n",
    "from nbdev.export import notebook2script\n",
    "notebook2script()"
   ]
  },
  {
   "cell_type": "code",
   "execution_count": null,
   "metadata": {},
   "outputs": [],
   "source": []
  }
 ],
 "metadata": {
  "kernelspec": {
   "display_name": "Python 3",
   "language": "python",
   "name": "python3"
  }
 },
 "nbformat": 4,
 "nbformat_minor": 2
}
