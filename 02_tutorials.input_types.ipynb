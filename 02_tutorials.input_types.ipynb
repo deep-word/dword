{
 "cells": [
  {
   "cell_type": "markdown",
   "metadata": {},
   "source": [
    "# Input types\n",
    "\n",
    "> Different ways provide video and audio inputs to DeepWord"
   ]
  },
  {
   "cell_type": "markdown",
   "metadata": {},
   "source": [
    "## Introduction\n",
    "\n",
    "To create a synthetic video using DeepWord, we need a video of a person talking, and the audio we want them to say. For both the video and audio, we provide many options to choose from. Let's log into our accounts and take a look at the different input options"
   ]
  },
  {
   "cell_type": "code",
   "execution_count": null,
   "metadata": {},
   "outputs": [],
   "source": [
    "import os\n",
    "from dword.core import DeepWord\n",
    "from nbdev import show_doc\n",
    "import random\n",
    "from IPython.display import Audio"
   ]
  },
  {
   "cell_type": "code",
   "execution_count": null,
   "metadata": {},
   "outputs": [],
   "source": [
    "#hide\n",
    "API_KEY = os.environ['API_KEY']\n",
    "SECRET_KEY = os.environ['SECRET_KEY']"
   ]
  },
  {
   "cell_type": "code",
   "execution_count": null,
   "metadata": {},
   "outputs": [
    {
     "name": "stdout",
     "output_type": "stream",
     "text": [
      "login successful\n"
     ]
    }
   ],
   "source": [
    "acc = DeepWord(API_KEY, SECRET_KEY)"
   ]
  },
  {
   "cell_type": "markdown",
   "metadata": {},
   "source": [
    "## Video inputs\n",
    "\n",
    "### Local video\n",
    "\n",
    "If you have a video on your computer, you can directly use it to generate a video using DeepWord. Just provide a path to the video and you are set."
   ]
  },
  {
   "cell_type": "markdown",
   "metadata": {},
   "source": [
    "```python\n",
    "acc.generate_video('local_video.mp4', 'sample_audio.mp3', title = 'local_output.mp4')\n",
    "```"
   ]
  },
  {
   "cell_type": "markdown",
   "metadata": {},
   "source": [
    "### Video actors\n",
    "\n",
    "If you don't have a video of a person talking with a clear background and limited body movements, you can use one of our video actors. Start by downloading our video actors"
   ]
  },
  {
   "cell_type": "code",
   "execution_count": null,
   "metadata": {},
   "outputs": [
    {
     "data": {
      "text/plain": [
       "'Successfully downloaded all video actors'"
      ]
     },
     "execution_count": null,
     "metadata": {},
     "output_type": "execute_result"
    }
   ],
   "source": [
    "acc.download_video_actors()"
   ]
  },
  {
   "cell_type": "code",
   "execution_count": null,
   "metadata": {},
   "outputs": [
    {
     "name": "stdout",
     "output_type": "stream",
     "text": [
      "Anna.mp4    Dalton.mp4  Isaac.mp4   Karen.mp4   Mia.mp4     Richard.mp4\r\n",
      "Berto.mp4   Emily.mp4   James.mp4   Marcus.mp4  Micheal.mp4 Sam.mp4\r\n",
      "Carlos.mp4  Henry.mp4   Julia.mp4   Mary.mp4    Noelle.mp4  Trey.mp4\r\n"
     ]
    }
   ],
   "source": [
    "!ls video_actors"
   ]
  },
  {
   "cell_type": "markdown",
   "metadata": {},
   "source": [
    "And then using them to generate videos."
   ]
  },
  {
   "cell_type": "markdown",
   "metadata": {},
   "source": [
    "```python\n",
    "acc.generate_video('video_actors/Julia.mp4', 'sample_audio.mp3', title = 'actor_output.mp4')\n",
    "```"
   ]
  },
  {
   "cell_type": "markdown",
   "metadata": {},
   "source": [
    "### YouTube video\n",
    "\n",
    "Finally, you can also use a video from YouTube as your input. To do so, download the YouTube video locally, trim it if necessary and then generate a video using the same."
   ]
  },
  {
   "cell_type": "markdown",
   "metadata": {},
   "source": [
    "```python\n",
    "# download youtube video\n",
    "url = 'youtube_url_of_person_talking'\n",
    "acc.download_youtube_video(url)\n",
    "\n",
    "# trim if necessary\n",
    "from dword.utils import trim_video\n",
    "trim_video('youtube_vid.mp4', 0, 10)\n",
    "\n",
    "acc.generate_video('trimmed_youtube_vid.mp4', 'sample_audio.mp3', title = 'youtube_output.mp4')\n",
    "\n",
    "```"
   ]
  },
  {
   "cell_type": "markdown",
   "metadata": {},
   "source": [
    "## Audio inputs\n",
    "\n",
    "Just like video, we have multiple options available for audio inputs to DeepWord. But before we dive into the audio options, you can also pass two video files to DeepWord."
   ]
  },
  {
   "cell_type": "markdown",
   "metadata": {},
   "source": [
    "> Tip: If you have a video that contains the audio you want your speaker to say, just pass the video as audio input to DeepWord and it will automatically extract the audio for you."
   ]
  },
  {
   "cell_type": "markdown",
   "metadata": {},
   "source": [
    "```python\n",
    "acc.generate_video('sample_video.mp4', 'another_video.mp4', title = 'two_vids_output.mp4')\n",
    "```"
   ]
  },
  {
   "cell_type": "markdown",
   "metadata": {},
   "source": [
    "### Local audio\n",
    "\n",
    "If you have an audio on your computer, you can directly use it to generate a video using DeepWord. Just provide a path to the audio and you are set."
   ]
  },
  {
   "cell_type": "markdown",
   "metadata": {},
   "source": [
    "```python\n",
    "acc.generate_video('sample_video.mp4', 'local_audio.mp3', title = 'local_output.mp4')\n",
    "```"
   ]
  },
  {
   "cell_type": "markdown",
   "metadata": {},
   "source": [
    "### Text2speech\n",
    "\n",
    "One of the best features of DeepWord is the text2speech functionality. We support **41 languages** and a variety of speakers for each language. Apart from the text you want the speaker to say, the text2speech function requires two more inputs, `language` and `speaker`."
   ]
  },
  {
   "cell_type": "code",
   "execution_count": null,
   "metadata": {},
   "outputs": [
    {
     "data": {
      "text/markdown": [
       "<h4 id=\"DeepWord.text2speech\" class=\"doc_header\"><code>DeepWord.text2speech</code><a href=\"https://github.com/deepword18/dword/tree/master/dword/core.py#L80\" class=\"source_link\" style=\"float:right\">[source]</a></h4>\n",
       "\n",
       "> <code>DeepWord.text2speech</code>(**`text`**:`str`, **`language`**:`str`, **`speaker`**:`str`, **`outfile`**=*`'text2speech.mp3'`*)\n",
       "\n"
      ],
      "text/plain": [
       "<IPython.core.display.Markdown object>"
      ]
     },
     "metadata": {},
     "output_type": "display_data"
    }
   ],
   "source": [
    "show_doc(DeepWord.text2speech)"
   ]
  },
  {
   "cell_type": "markdown",
   "metadata": {},
   "source": [
    "To see the available languages you can run"
   ]
  },
  {
   "cell_type": "code",
   "execution_count": null,
   "metadata": {},
   "outputs": [
    {
     "data": {
      "text/plain": [
       "['arabic', 'bengali', 'chinese', 'czech', 'danish', 'dutch', 'english_aus']"
      ]
     },
     "execution_count": null,
     "metadata": {},
     "output_type": "execute_result"
    }
   ],
   "source": [
    "acc._available_languages[:7]"
   ]
  },
  {
   "cell_type": "markdown",
   "metadata": {},
   "source": [
    "Each language has some `speakers` associated with it. To see the available speakers for a particular language run"
   ]
  },
  {
   "cell_type": "code",
   "execution_count": null,
   "metadata": {},
   "outputs": [
    {
     "data": {
      "text/plain": [
       "['en-AU-Wavenet-A FEMALE',\n",
       " 'en-AU-Wavenet-B MALE',\n",
       " 'en-AU-Wavenet-C FEMALE',\n",
       " 'en-AU-Wavenet-D MALE',\n",
       " 'en-AU-Standard-A FEMALE',\n",
       " 'en-AU-Standard-B MALE',\n",
       " 'en-AU-Standard-C FEMALE',\n",
       " 'en-AU-Standard-D MALE']"
      ]
     },
     "execution_count": null,
     "metadata": {},
     "output_type": "execute_result"
    }
   ],
   "source": [
    "acc._available_speakers('english_aus')"
   ]
  },
  {
   "cell_type": "markdown",
   "metadata": {},
   "source": [
    "Once you have your language and speaker, you can use text2speech as follows"
   ]
  },
  {
   "cell_type": "code",
   "execution_count": null,
   "metadata": {},
   "outputs": [
    {
     "data": {
      "text/plain": [
       "'en-AU-Standard-B MALE'"
      ]
     },
     "execution_count": null,
     "metadata": {},
     "output_type": "execute_result"
    }
   ],
   "source": [
    "text = 'Creating synthetic videos has never been easier thanks to DeepWord\\'s powerful api'\n",
    "language = 'english_aus'\n",
    "\n",
    "available_speakers = acc._available_speakers('english_aus')\n",
    "speaker = random.choice(available_speakers)\n",
    "speaker"
   ]
  },
  {
   "cell_type": "code",
   "execution_count": null,
   "metadata": {},
   "outputs": [
    {
     "data": {
      "text/plain": [
       "'Successfully generated audio file text2speech.mp3'"
      ]
     },
     "execution_count": null,
     "metadata": {},
     "output_type": "execute_result"
    }
   ],
   "source": [
    "acc.text2speech(text, language, speaker)"
   ]
  },
  {
   "cell_type": "code",
   "execution_count": null,
   "metadata": {},
   "outputs": [
    {
     "data": {
      "text/html": [
       "\n",
       "                <audio  controls=\"controls\" >\n",
       "                    <source src=\"data:audio/mpeg;base64,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\" type=\"audio/mpeg\" />\n",
       "                    Your browser does not support the audio element.\n",
       "                </audio>\n",
       "              "
      ],
      "text/plain": [
       "<IPython.lib.display.Audio object>"
      ]
     },
     "execution_count": null,
     "metadata": {},
     "output_type": "execute_result"
    }
   ],
   "source": [
    "Audio('text2speech.mp3')"
   ]
  },
  {
   "cell_type": "markdown",
   "metadata": {},
   "source": [
    "### Youtube audio\n",
    "\n",
    "Finally, you can also use the audio of a YouTube video. To do so, download the youtube audio, trim it if necessary and then use it to generate a video"
   ]
  },
  {
   "cell_type": "markdown",
   "metadata": {},
   "source": [
    "```python\n",
    "# download youtube audio\n",
    "url = 'youtube_url'\n",
    "acc.download_youtube_video(url, types = 'audio')\n",
    "\n",
    "# trim if necessary\n",
    "from dword.utils import trim_audio\n",
    "trim_audio('youtube_audio.mp3', 10, 30)\n",
    "\n",
    "acc.generate_video('sample_video.mp4', 'trimmed_youtube_audio.mp3', title = 'youtube_output.mp4')\n",
    "\n",
    "```"
   ]
  },
  {
   "cell_type": "code",
   "execution_count": null,
   "metadata": {},
   "outputs": [],
   "source": []
  }
 ],
 "metadata": {
  "kernelspec": {
   "display_name": "Python 3",
   "language": "python",
   "name": "python3"
  }
 },
 "nbformat": 4,
 "nbformat_minor": 4
}
