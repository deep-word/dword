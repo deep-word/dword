{
 "cells": [
  {
   "cell_type": "markdown",
   "metadata": {},
   "source": [
    "# Input types\n",
    "\n",
    "> Different ways provide video and audio inputs to DeepWord"
   ]
  },
  {
   "cell_type": "markdown",
   "metadata": {},
   "source": [
    "## Introduction\n",
    "\n",
    "To create a synthetic video using DeepWord, we need a video of a person talking, and the audio we want them to say. For both the video and audio, we provide many options to choose from. Let's log into our accounts and take a look at the different input options"
   ]
  },
  {
   "cell_type": "code",
   "execution_count": null,
   "metadata": {},
   "outputs": [],
   "source": [
    "import os\n",
    "from dword.core import DeepWord\n",
    "from dword.utils import play_audio\n",
    "from nbdev import show_doc\n",
    "import random"
   ]
  },
  {
   "cell_type": "code",
   "execution_count": null,
   "metadata": {},
   "outputs": [],
   "source": [
    "#hide\n",
    "API_KEY = os.environ['API_KEY']\n",
    "SECRET_KEY = os.environ['SECRET_KEY']"
   ]
  },
  {
   "cell_type": "code",
   "execution_count": null,
   "metadata": {},
   "outputs": [
    {
     "name": "stdout",
     "output_type": "stream",
     "text": [
      "login successful\n"
     ]
    }
   ],
   "source": [
    "acc = DeepWord(API_KEY, SECRET_KEY)"
   ]
  },
  {
   "cell_type": "markdown",
   "metadata": {},
   "source": [
    "## Video inputs\n",
    "\n",
    "### Local video\n",
    "\n",
    "If you have a video on your computer, you can directly use it to generate a video using DeepWord. Just provide a path to the video and you are set."
   ]
  },
  {
   "cell_type": "markdown",
   "metadata": {},
   "source": [
    "```python\n",
    "acc.generate_video('local_video.mp4', 'sample_audio.mp3', title = 'local_output')\n",
    "```"
   ]
  },
  {
   "cell_type": "markdown",
   "metadata": {},
   "source": [
    "### Video actors\n",
    "\n",
    "If you don't have a video of a person talking with a clear background and limited body movements, you can use one of our video actors. Start by downloading our video actors"
   ]
  },
  {
   "cell_type": "code",
   "execution_count": null,
   "metadata": {},
   "outputs": [
    {
     "data": {
      "text/plain": [
       "'Successfully downloaded all video actors'"
      ]
     },
     "execution_count": null,
     "metadata": {},
     "output_type": "execute_result"
    }
   ],
   "source": [
    "acc.download_video_actors()"
   ]
  },
  {
   "cell_type": "code",
   "execution_count": null,
   "metadata": {},
   "outputs": [
    {
     "name": "stdout",
     "output_type": "stream",
     "text": [
      "Anna.mp4    Dalton.mp4  Isaac.mp4   Karen.mp4   Mia.mp4     Richard.mp4\n",
      "Berto.mp4   Emily.mp4   James.mp4   Marcus.mp4  Micheal.mp4 Sam.mp4\n",
      "Carlos.mp4  Henry.mp4   Julia.mp4   Mary.mp4    Noelle.mp4  Trey.mp4\n"
     ]
    }
   ],
   "source": [
    "!ls video_actors"
   ]
  },
  {
   "cell_type": "markdown",
   "metadata": {},
   "source": [
    "And then using them to generate videos."
   ]
  },
  {
   "cell_type": "markdown",
   "metadata": {},
   "source": [
    "```python\n",
    "acc.generate_video('video_actors/Julia.mp4', 'sample_audio.mp3', title = 'actor_output')\n",
    "```"
   ]
  },
  {
   "cell_type": "markdown",
   "metadata": {},
   "source": [
    "## Audio inputs\n",
    "\n",
    "Just like video, we have multiple options available for audio inputs to DeepWord. But before we dive into the audio options, you can also pass two video files to DeepWord."
   ]
  },
  {
   "cell_type": "markdown",
   "metadata": {},
   "source": [
    "> Tip: If you have a video that contains the audio you want your speaker to say, just pass the video as audio input to DeepWord and it will automatically extract the audio for you."
   ]
  },
  {
   "cell_type": "markdown",
   "metadata": {},
   "source": [
    "```python\n",
    "acc.generate_video('sample_video.mp4', 'another_video.mp4', title = 'two_vids_output')\n",
    "```"
   ]
  },
  {
   "cell_type": "markdown",
   "metadata": {},
   "source": [
    "### Local audio\n",
    "\n",
    "If you have an audio on your computer, you can directly use it to generate a video using DeepWord. Just provide a path to the audio and you are set."
   ]
  },
  {
   "cell_type": "markdown",
   "metadata": {},
   "source": [
    "```python\n",
    "acc.generate_video('sample_video.mp4', 'local_audio.mp3', title = 'local_output')\n",
    "```"
   ]
  },
  {
   "cell_type": "markdown",
   "metadata": {},
   "source": [
    "### Text2speech\n",
    "\n",
    "One of the best features of DeepWord is the text2speech functionality. We support **41 languages** and a variety of speakers for each language. Apart from the text you want the speaker to say, the text2speech function requires two more inputs, `language` and `speaker`."
   ]
  },
  {
   "cell_type": "code",
   "execution_count": null,
   "metadata": {},
   "outputs": [
    {
     "data": {
      "text/markdown": [
       "<h4 id=\"DeepWord.text2speech\" class=\"doc_header\"><code>DeepWord.text2speech</code><a href=\"https://github.com/deepword18/dword/tree/master/dword/core.py#L79\" class=\"source_link\" style=\"float:right\">[source]</a></h4>\n",
       "\n",
       "> <code>DeepWord.text2speech</code>(**`text`**:`str`, **`language`**:`str`, **`speaker`**:`str`, **`outfile`**=*`'text2speech.mp3'`*)\n",
       "\n"
      ],
      "text/plain": [
       "<IPython.core.display.Markdown object>"
      ]
     },
     "metadata": {},
     "output_type": "display_data"
    }
   ],
   "source": [
    "show_doc(DeepWord.text2speech)"
   ]
  },
  {
   "cell_type": "markdown",
   "metadata": {},
   "source": [
    "To see the available languages you can run"
   ]
  },
  {
   "cell_type": "code",
   "execution_count": null,
   "metadata": {},
   "outputs": [
    {
     "data": {
      "text/plain": [
       "['arabic', 'bengali', 'chinese', 'czech', 'danish', 'dutch', 'english_aus']"
      ]
     },
     "execution_count": null,
     "metadata": {},
     "output_type": "execute_result"
    }
   ],
   "source": [
    "acc._available_languages[:7]"
   ]
  },
  {
   "cell_type": "markdown",
   "metadata": {},
   "source": [
    "Each language has some `speakers` associated with it. To see the available speakers for a particular language run"
   ]
  },
  {
   "cell_type": "code",
   "execution_count": null,
   "metadata": {},
   "outputs": [
    {
     "data": {
      "text/plain": [
       "['en-AU-Wavenet-A FEMALE',\n",
       " 'en-AU-Wavenet-B MALE',\n",
       " 'en-AU-Wavenet-C FEMALE',\n",
       " 'en-AU-Wavenet-D MALE',\n",
       " 'en-AU-Standard-A FEMALE',\n",
       " 'en-AU-Standard-B MALE',\n",
       " 'en-AU-Standard-C FEMALE',\n",
       " 'en-AU-Standard-D MALE']"
      ]
     },
     "execution_count": null,
     "metadata": {},
     "output_type": "execute_result"
    }
   ],
   "source": [
    "acc._available_speakers('english_aus')"
   ]
  },
  {
   "cell_type": "markdown",
   "metadata": {},
   "source": [
    "Once you have your language and speaker, you can use text2speech as follows"
   ]
  },
  {
   "cell_type": "code",
   "execution_count": null,
   "metadata": {},
   "outputs": [
    {
     "data": {
      "text/plain": [
       "'en-AU-Standard-C FEMALE'"
      ]
     },
     "execution_count": null,
     "metadata": {},
     "output_type": "execute_result"
    }
   ],
   "source": [
    "text = 'Creating synthetic videos has never been easier thanks to DeepWord\\'s powerful api'\n",
    "language = 'english_aus'\n",
    "\n",
    "available_speakers = acc._available_speakers('english_aus')\n",
    "speaker = random.choice(available_speakers)\n",
    "speaker"
   ]
  },
  {
   "cell_type": "code",
   "execution_count": null,
   "metadata": {},
   "outputs": [
    {
     "name": "stdout",
     "output_type": "stream",
     "text": [
      "Successfully generated audio file text2speech.mp3\n"
     ]
    },
    {
     "data": {
      "text/plain": [
       "'text2speech.mp3'"
      ]
     },
     "execution_count": null,
     "metadata": {},
     "output_type": "execute_result"
    }
   ],
   "source": [
    "acc.text2speech(text, language, speaker)"
   ]
  },
  {
   "cell_type": "code",
   "execution_count": null,
   "metadata": {},
   "outputs": [
    {
     "data": {
      "text/html": [
       "\n",
       "                <audio  controls=\"controls\" >\n",
       "                    <source src=\"data:audio/mpeg;base64,//NExAASgoIIAAhGuWQAIxzBMYxskQAKMY8AJAWCY/yAvT/+D//13/RELdz/+8Qvy3d47xEQvQq/on7v90d3c/8q5xE47/Q4GHu4ZmOzaAMzPzeBj+vnEeBU7EoaUHSc//NExAkQ2AYUAAhGAEoaDodJPKw15X/u7uCoKluIsKgqWPA08SrKjDy5IRCwdY7GhIGh4CGBUFREeDRUFXCUseEoBtUHeVIKhAgBAx4WjRAgines5CCOogEAxTKHA/QT//NExBgRKHH0AEjESAwQS5eGBOD7wHWOMNE4fKHz8MQwJ3z/KK1B/4Pv6nagwJwQAa3xOH0esHBspfv3z8UiXf7UjQN9HIQr9UgPHlXyGOj8FsFwTQj4pZPC6m2DnE3H//NExCYa8epcAHvQmBkwLwp3JWNZcJsSz01AgqCJp7ks8gBcIw4ETIFE4os/l3ucs+3gyU4qXuXFDJYGhhYuwNzyDOJcgXtJFz5Mp////J+Cb6n/RVIhACIBBLEnY3iQ//NExA0Uqb6IAFPGlNv21tUHSmORKBjkuCQBBylF2BbvVM+RPhq9hg/qjqYDpcysgMM1CTuxFnZZNTPakuZcMt8mFg/BDgjaFxEWCIC//////NKjxgejfQQ9CpSA6xXC//NExA0T2cKMAHvGlbHNRJg6r9leWlvCwxq6IoRXRITpLaLKZRBR2jhJahy4c7OVcZ7kel+wsihrnP8vk//72ZIZH8dSpLGIghKGWBLOT1WtqvDIIEQMrMbWAVySHZ1b//NExBAVOXqIAN5KlahgnPrzd4AYB3DL676Q7A8/MQJL4c4weq6qg7coeb1cymEUZ4sJFYfnsdT9b2UgW4gd5CUNrP///ql8TH2PAUHWmGnztv/+x1BSdYXUdc4whdVW//NExA4V8ZqoANYSlUTqAlo9SftzG7W9f2l1jZ3Uz1lGmlSnKloYw/dJWy3J2ZJvEDArRitEKAQQEjiAABiEILt//3//////579hmt3sLRtYGEQgi9Ju//+4nLhD2EQM//NExAkUscKwANNelawjQBntzyAwQRC4pJbel/pKf1o6y7r97AVUPtbiTI/zjV6KIMn24thkE/mbY+Y8XdP8fO/96992t9tUsWW/jxLUgU3neo9sYMXO//3EhGVTPdOt//NExAkR2cKsAMnWlGR0w4p2HRXo6OhhH//////52qGqLx2kIDsllYIo8AKjeZMcShBpH3KKN/4mP6fM8rNO6j0Dlryw0qUQGOndVf//xWmvztmGU7De0CgRFeHD4FD7//NExBQSIcKsANFalf/////qZIuFFywkQqImgQg9h4D+ElGQHLHuTDpIjEKButSSCNlfq+izukcLE0GTYwaCxrvF//1tF+L3vrREzK01e4rD8wGzRMEXU3r////sniSs//NExB4R0cK0AMyWlBPNDZx0kgignF6ZSO0JJWaKiMi1iD0Ht/fz0zuu2XWzKmUvUJq2JSzqVfcLwQmycASxux1gNoWo0PZeHI3bVsheq/WnmefvtpZJDNnmRPYsd0Vi//NExCkRqZ68AGtYlYQkNKlPiyrHZBTq3Pq51G5mfvmZzG/WbQiJygxaMvgKo0bgPpfN2UNIBuhwHl3HbRrUbK0VJ6qnbsqF0m5tdGqhMioMOmkXZJzSA0yIjAEFRE2q//NExDUSmbLAAGtSlF3oGbbTl9yUqvN++N4+Doxa5w9D0jXrQEJgA3HtlHRPIUkYanYPCIJ1Ffr9Hb/5PT9TppUWHIdQ1IahGkaXQoA/xnJi6bkhCiitVl6utfN71rM0//NExD0SgcK4AJFYld7Hdb6u61eY45ZR3dz/7rCSGNkvy5T7iAVEIk58uUL+3//////+8wp3G7KyudhxFgjzxkiMVKmmtv6HMzsDhBu26jU/zb4r8W+qbrV7qM8ziFG8//NExEYSOcawAMielQNyFP+mmskPDZnKGZ6egiVNwCFouKfb//////+cxNDYnGxsdolD0BECMTh6H8B0GyPZKMSalW3Rrn/i/qK+dU1a7pknWWG32+n1i2RQmxziarL6//NExFARgcqgAMiWlD0ZncX42X/////2UIo8ta/ytv36/+T/9XUPXheyxjw8J3s5ozd6jqF2uFzU7AcNrCfiBCA4bJ6FBxULhvbkggBECxSwMbSBOvQrKwEx6DSDdnrc//NExF0UYkKgAHhSuL//////gQzNIEzGQCz//7d7C/8/////8ffv3CV+61nVXSZkkjWRNrFREfDxMZSps0UIwWRTcw1j7VcqYFZx7A6eEMl01c9T8Vcl0xlJOTQ1fvaz//NExF4TykakAFhSuGjmcvBICEudST0P/+//sqxxbGh9ngL8kGA1kZAEZjqNs01oo5hMFRBOdVsRfR/1VjhTtio1nFa3jyfG5HOyHue3rx2pCcMvvFo2PMTwt5rej6aE//NExGEaOh6YANtemfo8W14uAWFQu02bAGEigMY5HnSZzTUwxY0Ig2T1gQKAS4dyMzJwDMGQytBjy/pfo/UpNSmUqGUwYDh2AIWp0scpIAVaYzSkfW9KBhHwHEBhTuOR//NExEshohKEANtymLlrGTNOYC8seo5LMLvk0O5Y3duDbpbNariyhPKfxpI09cXStXXFKSrdiTU8q2XMex2Tfj+u6pgGkWD+utX5+NS8sBAgBT+hUiDWTI7QmmY1LUFo//NExBcXecqUANtelKBfBwCNorZi+JILRjSr//////2xCtZ9OcyeFeGM+TyrExTCcHqMpXMzDElQ2fFs69a6/xa3/3az6N8TvXrc+veMwhM6b/8zuS+kbdMUVBQwhGs4//NExAwT0cJ8AO0KlEABBwUKOEISNmlYyCz2mTolk3AioC0o2J5igT4AoAONI0vIM5i/1/3+1vRW+JP5v/7//qS0yhYAIHsDP+VIm9v///rVh6AG8YKIhEIieaVuJ+RF//NExA8V2dp4AOPEmIcMSIMg0JITk5RUKJ87bsty+BJE2gtlcqZhQ2Lr1tf53TWNYpmJr436aj/e1V3qRb////X/153FTCzCoowWpz1nLRQ/BAhckcr8sdQ0h6ctg7rM//NExAoVCyKgAMBKvKxMS9wXZk1bnaSy//z9dyM1LX////////2/6e2RTnTPXJkZTjA5QPuUPmJRRRUqc6BweRomLiAosjCYfFwHAMXVGAceHAAAAEECVf7yETVv//////NExAgTwyKsAAgWvP/////r/n4/9/8VO75a9S2qaLDRMxemccatYZEebJyy5w+OwkLHnDvHYcIziw+UFZQJw+DtHSCcGFk+VBUSyAAoVnQH5Ygf//8v///////////9//NExAwRYx64AAgWvf/z//9RdnnxrTEJsNGvRiTBzt0ponIe1I8fTk3s4fJpnpnjw5QG4pHuSosBOBJHJoO0Sl58Qy0zVlX1BQkEYn8xAOBc/CO1n//////X/tmzNUNj//NExBkRyyK0AEgOvNQxZx5w8wklHOc1SlTD2NNMLujjo4LjBsNh4eQUllIAOFw1AGPFIZHx0Wj40IOqy/OOOONNUunfWenkZuuCgQPCLC4AGD+phja//s+dLHcCHPl1//NExCQRMMagANKKcP+/VGf61lIoxX/4jEQlUDShKAhE/sdRdiEioeAgkLAUVsv1ircRAhlZQBASHzXUgNXkwIC5WAG3aEUSTYfJh5Iap////VZ3aj3MAQBAIOJAlAuE//NExDISOcaIAOGOlWYuc6dv/+cprHG7f/+a7o5RDhxyyZ771QTRCAiiutxTdKE0X3Oq/THSpS91X9e4lcezk0uhjAgJcLyRir/1LQXJ5IA7h7kCgyF6TEpYWUVCj9/T//NExDwSSbp0ANtUlaf///7VViI08gPtguyqdBn7SjBghMDkwWOQkDTAIBNIQ822sgccl7QUw5lwOFzA6068bR0ta2vv///hrVR3HjYCAhZWDFEpUqP2/////9urGOGF//NExEUR4b5oAOLElWLZSltSEIItgKAgGgyLahjFALBo69aGJYpv1CzFvD0WUFnOKFL2Yf9Y4eaah9NAqKaK8wgmKj3idKcMVOD6WFHNl1GGJHAiaAfgkcSNBQNkhIDF//NExFAReEZsAEpSJHbfc+yIup+vSyUo1mIhDizkV2osetu9dTkdU3rV620dZ02v/0+dLTtV5uxm0Rr6fV22pTdGpY6MczqLIQpaizB608a9jKLKAAhCJyhEVNETyQRp//NExF0SqxZ8ABiEuZ/7zSaKehomgygyD4uTIDT5tBV6pcmfbKSmUaBBn9m02EAyIBlzP6t60tjYQDKGClXPKrBiiZlC40dh8GCDASuX2psVAEFWLA/LmGnnnrZejtrR//NExGUQiPKQABjGcDVXygFApnjSyz4kgzSkRugbh+fuH/pN/+/9f8fxT9IQZoB9f/i+2hXf6moGUlatS9NINfKZDUUbAlSEESQuTiuYu2r0n63rRptFnh3tUPjYHCg3//NExHUSUbKkAMHQlIOjvVONck1iqRAHzdA1MTytVzxzf/X89/pV8MPNk//9PjFt2KJRcSdXxuIdQRSCKmVRu3Of+/X99tVXmmiIG5e55aSjRJGDFVSGrkOm4+WmLTkG//NExH4SQbq0AMUWlNU1zPPHf9/sRZLnH6QSx1X/zp030cJyZfkLLgumXzFDMAXYni02dfWrr9aX/v6LCZ/JLROq0WbZkij6EhTy1FkQCRoluNs5n/1v/3xqp3qpgqyt//NExIgRMbq0AMUWlaSX09O1OiEh+pgT5Ch+l8ANixKaMFEA6F6IoQ077///00c50Qz9/r5j/yL4WIjuo5f9CXm/myFYgiFZKaB+yzYpQhhHZYu4yixc9xhiFrNlhHDO//NExJYRQdKgAMtMlRE8PaEK3ZvRJU5jFTawbvDJB1RDQFDY1ay2c/////5zmTyY8Dg9BoNBWDwHgPBIFZ8KHSewubqRASRq9z7/Xv5D1l3KTE/die29sjiNavTGTVxW//NExKQVWiKMAHqQmdkquzKMYIk6lNmv63OsePVP+qr//J2BoDMQps6Oh/QL6ctRwC03t/////oQkJA+snmIesrWFHC1hPhYj2BaB0AaAQQTRAqhZFriPIsF9TGqX+fj//NExKEYEkqYAMnSuDn53m2d0gxHyojuTp9FfxvF3NqGEEFV/DChcp1aNxW8HHDvAisouw1f/////////Xw+hPoy8PUPI8TtYEeAckwHSq3FDXjld7XG/8W/t///mvzm//NExJMVmdqgANKemL8PnzNh7qTeoQddWu8hqJrtbgwdCEzqFWA44Ci3spioeBhAOh0jqX/////Vo6x3EcRkOwToYo8AqQnQcoe4wKkjYxZJSX//XpOiovLARI9CV0jV//NExI8R6cqgAMhelHTlyCIiURkjESN6AJh812oziDEU+QQFDs+QhO97TIUcH5A5xhkh2EAdtQwGg1jEIMtC4Tm0nmEmpupiv+4MrUQj8jzJ4Gf8IvsRh78M8dcfH8dD//NExJoRia5sAMFalAKofnwGDD/ZM2FiGdm6Jl8kLGzc8JYkXTm4kL7n7i9DfgKY/IhLLwsCcuAnGbygQluQKVUBzn2Nw9VOnkq9PY6U3pkdsDQ4sT21H7Yp2xX0u/hx//NExKYSgaZUAElQlajyGwKhTtM1FBDyxs8rtTszCuJrRdtkT94/1LCreBE4nVNLcp1H/8v8B0Lcr+bD6Iq2M/zuRRXsxsl+CuPdDmJmzq08F7HeuNmZhYWG8bMr308H//NExK8hqhpsAGMemHiNDZ74ZFa/WD6WJFhkYmt+iDCckTYrz3Q2ZXszlRggOOMRa4q35hxpqxYFm1tmiSOLxjg1iQIKtvqJSaCy7Yqdcy2vvNY0a1r63vclhgVWWv6v//NExHsgEiZoAHvemPvZ17WmKr8fh9YAABAYRtFhGYmxUdzSOLjSCKC6sS9/+idu81HkPh0PAaAjQeAggOtAIBIAx9gOFBQCAxTpMYx5ultzjcsRznOhAgcRhgwm3e/L//NExE0WGeqIAMlSmN85ZOobpe28QlTddf7S1R0Bl2XVQDGFiIczCYUBKtLvRRiowXZZqv/r//+ZSgIHRGEPE7rM0JjWTAgBURZDlF4FLGCuc5rdHEbSkp4xe7e5b1vH//NExEcbIeaQAOFwmVSc1jT1pbJI+4jUH7ed8YhAEMyp+JBnnBs/huGI9Yl8l7ItTxMl/93G0s0rVArSM2MemVWmx2cn///////n52uS+q7DbQYw5Q905RAbOQuKnYk7//NExC0VKcqkANBwle9LVZRHZbHPpr+6tnHHL//lXHHlqM0t6afn4zXoKezjdu1M8srrsdL/oWfH1MYf5VQ4gCCpwsmgBH6+YIACP//////7fIECUhVTACJc8dkDoOQP//NExCsSAbqIAMFWlAeh1B9Lh2k0krHtrXd3xHMcbdyiTDxsvUONrRqR/UYT3Nk6nphGAfCoPNhcTSUgPMwLCXez///////nMs7UyuyCKwb5bHoQwuquOw9TyQMx2Hgr//NExDYXQcqEAMnelS8VLslWxxk1R/u8SkDMeHKtyMraz4TjG3s8CRbiX8JYPlcVgnbv+v/KlUjhsRBjLfiI1Kpmmo/oC/////////zi24T9OH+iS/hyDjH+UxJycPtr//NExCwSecKcANCelUqG9HwI2o955sU1fV8XxilH7jaO+dQLwrRN4vEIM//5I0+ZgodDn7bpfNmh6GMvoJ7/////////+NWu8U6NbEmHOUBLk6f5BWGKwMjlaHaFPrMa//NExDURubKcANCelfj5t80t49pY2HWJaRPBjPA7sP/j7ril8OAkqcZNYZoIQYCLvnicP/////////pE9GBUQ35pl6ZUUXQmB+oU4t8aHl/auqZ9v/b/6pXdaPN2vbON//NExEERmbakANCelfm9m05ylf1t8XO5Qjp51AuVTjvIudaZWALEENHNJ///vRT3uY3srhN3LyUePGJFDyWFgbAknDF0Ocs7hsuv7uN9RfLpeb3rFt1S0pkvumv1/9zk//NExE0ScbKsAMqWlSuVUOLq9jZUUnFShe4BYibMSYbV1dtBmWTZsgmTZkqYJscytTqtFKgmEgCAAIhQBCAeKxzfvnqyDZkEyi6CIIvRbGVl6f/TRMNbbBnnGFm1J4kh//NExFYSAY64AMTKlCTuDMg5s/f95vrGMSpe9Sfs1ozpyt5Nf1///z8HNAODz3D83La+r/+K7llJPFVIGmAi5mugUXQp//Z3O9kifNi40Zs25o2WDiNSIHAy0HqJHc9c//NExGERcYa8AMvQlF02PJA5Dc84tkqaOv/3ogrYAxVBEAlKIvm7aNiDncEKUIILCxZkbX9XRz0cT7Oq/9rpn8YCRrv6fZRjdc5QyFYKWkXFp6NQVC6COBfkgbHnDXV9//NExG4SSea4AMNKmXvrqRmIgaEJwzEKaeSptp103JzUcUmGEBNc/v9boqnKQOKU1f/SW2GDd0Rq8pEI1m5QyEwJ5GbrqW0bL1IRDHoDAhpGHcVy9DO3N6CI6AICo0Sg//NExHcRyeK0AMqUmFnJn9df/38fJsQ4tLlPd1//XzWi1NPpjtT/ukoOMzRABEhlWlIJIsDsOAimD6qP9v27sa7mCtjDgCA+NBO0w16D3lRMg0AXfYvDY3VPnn1P9/H7//NExIIR+fa0AMKQmGtla49LrB/NVIJOlR7p/MNqEDzHkpfejSr/9DCYtLkB8CFDpGoQHlw/I1MmMVv//V/q1hscYUDU0LZj28s7hBfpRjUxM0rARCJt9Rtem/8///2z//NExI0UsfKoANHWmIlmmyrb6lV1rVjQvj6xr6trWZpK+/5iIMGEE+OlxnqeNDqfxj7AcOTLfiKRooJKfo///9GtXkmQmaIQzBFvQpEQpSaRFwRMIgtAVPvLrf////f8//NExI0Tcd6oAMnemHJSkmh2PWRWWOqirldFOIJfWfBCck/wwXiBELBit6SFlDRX6NJTN4BSuCogSFAwGxZsTnKllkMxXe1/////n///////////5/96Ypimvn//fxW///NExJIXqaaMANtSlKax/9ah0mh5s/kgzdzeRWN45t6fUjDAtEZmG0QnavPZUSxoSsfpiK1ZeH/V8lTnZxvuRe9JhUIE745noecwr49ZgFgXCpTZfyFs4uZK2CI53auO//NExIYg8yZ8ANBevBQFl0kfiszTNVDGNktD9s1/jpgQAvg8n1/jzf/1/v/4/3jP1umPh5/WlM2xbWKSYlvaeBBr2u8V/NJSHRmY3B4r1+Z+bSbpZRKddE4VWVY1l9UC//NExFUh0yaIAEhevJVAu37gfMQ0T7Jyhh1vEnEZVtBD/IQYLC8E5JoXEeQ6R/jCmEDEwN8XiEMJrDwLVMtmVdVv0JFBoNFAAHhWEBe9siI8Td0Mikqn45dzxhgfxAeE//NExCAaUyKcADoKvFoKJIz3SK3up64MISXt7Po2nzVagyRFG2M5dPT9tSot3YylageDws5RUhr1KhkczoZWQzFKVHKgedQFAuJDw6K0MJB4WQBgMHWV+Mm4OCLb6+rQ//NExAkTibqoAHpSlat8AODZ1i2lLQTe3m+GPsjxKH+3kcShemxIggTytcpDCBRBNYUHmkCpOeFDAB10cGAoaQQJLlNeW+GbnqHm+EWGNxLC06q6AlwUPKyU1Fw0TZBp//NExA0TybasAGpSlLcqSWcDy8dbkncMgfXbfeZa7fgQY1A8SKmWF02FTpsngKuQDrB1kiFIXWCJlEmgTUf2/vqexy9i653u3Vv6dMFWzFXoA9xLEKmRBSZxEHU47snF//NExBARMVK8AFPMlV7bIbK7j/bZr40yX1qPeHH0r392cpWzN7s7THH2yZMQMweSFBjjB7mcvUuW8+/d90HK3Wvx6x3tWwIp9fzC3Od0VS0+VNL2lU26W7LsrXa7Gysb//NExB4Q+ULAAG4ScdrbYneCEmhPTWJ/vn8V8r6ur0oTzY1UXlG3kjLy/z3sh2Al2bv28c0rtKAAZC66IpwKF21qkjiKraCW1xrFbYtflh165kt/VU43GYDyOawBa/GX//NExC0SCaa0AJvQlOTK5KRcqYP0UGzRAcrPcXxt+3FzHxB0qMODtNWmbRBvJZhczRAJSWKM3D/LCuor8AsJxtDurfzTebzBWJtCbm/6m6l4YVzCnqVv/+yJ/6///768//NExDcTaxaoAHqEuP3ep330bshPTP1PqICMghRc4AxiVAxah+THhWBq7KNL///////P/FT/+/+q+8/E221Td16adkxFIfM4gsqP5Q4sPwZSUOJ7z7iOslBw8Nr2kxAP//NExDwW2x6cABgWvaCWPwoDEQYgwJAGB6DcURuIQEw0CIsHeKgQwPD4aMEV/x/9/////////////////33zqGudY45HnIdOc1BscOurlCQ4eNSI8PUJNGw2GxQ5gfOP//NExDMR0xaoAAhOuJBziIyhxpcRRUBIAkWuRGxUBotkVecp5WFRmUak5mgUDUvrR2/xr+daIt2l///6BSP////////V6d1v/l/VjFKVH1KY0xuWUrIZy5nQws9CoYzq//NExD4R4v6QAMBKuVlMpZnVgGFSm6W5NU7kmEQZnKULCamjDRgvMHUgUGtClMfBdJcupGYlw2u5OJhmX6aH/q1yo0HILBAXHHOJENof//////QjKNOPDgm4gDX5tf7q//NExEkRob6AANtKlYBwGPhIquuUwyQaQFLhde2DcBsFhgaLGQaLUo2dav/1upzCHCBwRDxyCkQOe1Q+d0iAojkEAAZ51FOnyffQUjCoRBc4zNpV/9dkgFFtbfXTIxTE//NExFUSMb6cANNKlR5aWy2OhaoBfRJyPLcvmj60360+mhe1BJ6dY3K7KX4vgxKM8FPIZEg6ZH+0/z0UrmnK5LGPxEKhgSalY388eI/j51ibOMVbHGBEa2Rz0rICkZJ4//NExF8ZQcagANSelWxwxkdB+v/99QQUGHagqAJrxO1VJwN4AxyizrMTf3+n6Lp63Zp3hPn2QyHoNotieSy3E8mBTrIqAhAaNiF77jB/qKdwhUttqp2qlC4ulTFwPhmT//NExE0T8bq0AMtSla+f7fUG6GAaKczApQwuT6bjwHAU8cG781/Yg3nvsOp25pEgEZMzK/ucszM5YYAKCZkJHRNU7Z+8Yzf5qo6VhgRAR0r3RChq1f/+5kIGd1tWZgUS//NExFAREZrAAInMlFyHvyOQZAFWscgrE3UlropK7bHOs8OaVaaL/yTdr1EERZUoSBFMrJIrUcqtf1H/JU3yhQ+AaOnsnhV0GuZalzyAEMTg11NpFL44JADCKAI81RJk//NExF4RwaqwAMKQlGWLbKsgy9JSaRFLCDHRhIPCDzOv3RVfVUIYxJxiA7D9s7W+KqULh0UM/SS1uirv2abhADETIrAQ39KMBDUSjbEGGpu+T8JY4R8Zjn+r3G+8yquH//NExGoROSaEANTKcHh6V6LW4EsfIk4cji/vjLPb5vnO/9Vlc+8pHUgtiM28mw2IYyZvrW/T++6U+YcfL+PSG/kq/36R/ff/v9/+G/3rF4b+9Rnv/YrCIA7l3ljUGyBU//NExHgawgqYANPemOJ/A617EKVUpUNtbWy2p5m+PlgZt6y80Tp3FxduDpbXG23jD91+bu1m3OHuw+nPwWTucZxmCCtrN3b175pzXZLCVMTvbqdlwdvynR2+Z369M/Sr//NExGAaCgakAMvYmbbWbXdaDWju1f1qmulWwICSSrS1ZQE1OI0HEyYYEwVCFrqJ1j5Nq9pKFr2sOQ9KR6MJAYW9fQyPRysYwiHQBHKxjG+VvzPiIeDxokHYif2Fiqqz//NExEoSCZKYAMoKlNIAAEChlRMaXEgAkIhcHBC6zBxjmjgYJQcY+nol0CQDXHW3aQxKm8vnRCCBaA8FiQM260IIAmUPkTAtkHM0IQoTBYuZG+WVWyNqr0tyDAqSmghb//NExFQSkK5UAN6GTBUACBdkcPzlas301SueFuxgUCoS2/GLs/vKxnSZ09zGnr1rLtymm3rCJu/HKssgtr8vyhiUuW/diIQ48eKy6cTI/HWG9RkwByFIW9UF8JY2ue6P//NExFwhsfKAAN4emBwpDjMETcRjjv6KdyUgtiahGg7hx2CsCHi8SlM2q/j0bGTV394ASBg5kqb//JD8eAYiyRGhoILLTCQRw3qZYAD8B5QUq+m6L9t1mSW60akkTh82//NExCgbQeKcANtemTJMeo7h5koTEIJ0OhWMa7H2hSohKgRY/W6PCZ0Ii2eKB/maSmd1u24x3FudtzKfafO1gYHNrhPb31HiWhYmnmjQ4hjFW///Z7DthuRjXZ0IZngM//NExA4Smb6oANKYlXokvQt8BEaY9v////MzM1s7iccTy6YXj7GYkAcIRKZJBma0Snz2Uu+9XO2003mrXyaXpaV1rtV72vrZezX/1t6q7oLLKsaGKDvTsvGhKLHb6/////NExBYRubakANhelf/////gyxYyvRqYay/kmY2ldDceMzpcLL1tjq9xjYpbHvb/O66rEi/Fnk8+4cbyi0L/7MNBwjasx4pgQdXtOpKpZY42gXQn///////G/eGqe8fE//NExCIRkbKgANCelJEKYizEWOyp/Ewb2u79UPtYYLY3uv+tfOcZxJDtaFDx8Zjno2r9ZpOJh018QDx5qWXpdpkIjDmPcYm2FCUwRhaeqP///x/P8Kmp2B6HSgTjwogE//NExC4SYbKQANnWlZMPWPQD4uNSSatYlTnO//+a3Oci1zh5O9nQUFrW8HvGhp900DH1swmyMFAEoUlzDRVZ0tdXdwo7IOEm/////7+7b3fPTv8wgCDLgmsASDpmZaDt//NExDcRmbKQANnMlRj7+333e9ibQCDDzCAQZPX/3BLNtTagJ6iaI9IzEEIlmYQh3bT///8zMzM5jaxyVggK/hKwNBIIY8OqS4SwaB4TDNYeH/PdeWJ7L/nNHlJ4yPNZ//NExEMR8a6oANFYlS5r9YDt//mXUpI2k8erA+vAzKWkkxlaI1MP///////nXrir29HF8liSOCEoYXsnRivCXsLe3pzbd55oNfmlfWuPGxaHtUvZdLUm8tsUm2r//Fgc//NExE4SWbqoAMhelT9IoeYQcnajocF15TE4EeF/////////8Y+KxVtXnonU6RA6i+F8J+cCXUbOxSriE4yXjWnrX4zrOdW1eK8jOMHdZIIl/f/CbTJRrfQdAvEeBwLQ//NExFcSQa6gANhelZ1Moqu0HzD////////+f6azPo71W/J6LwONHrsMEhwQRhOXKqRj2C+zPXVs/O84x7bpW16P7PrVj7Q6/86kTHhqG5UXfIdQ00HSAh+OMKFds7////NExGESQbacANFelf////6XrnMr5KwYjg1GOsGkSoT4eaEGihpQqiGqYcrLiNXWN//X/3n+1bfxZrb3vc2lat7zgpXA8ndOGEDjQ4hatCrGmMSP/Qv////9GiM6qAod//NExGsSkcKYANtelWmFlrDz0cpd2///X0om1dv18hGyE1OedTnc7kU5GQOC5xAUOfOKSMgcY52D4ueJgOBw+KKMAhGcgo4gKEFICBxoFa4YhhACYDEjkQF8hgao+4Es//NExHMYWxqYANFKvUYn2RMv////qkIV/f/6////79v6bz6fG6feLbpX/W/TOKVzmlIurv540tYCxDo+eVrCnUdr1jNWjes3zuanZkZGJbFaE6zYfmOer5WPVErB+oWw//NExGQhOx6MAHhevafwWEsbUEREOgkRwhIwskWEWgD+BTi3QEkEMOxUiZlvGMpdsH//////+6/////////////3//38/PVRxcTMRfbNC0ocdchShUsf0UlD7HpQ0/Jp//NExDIUGxqsAAhWvGuUGptJ1o7ySsrZKHo4gUmheBoYDsHYVsMR2iYh4XXeuwSQAEmQp+MXkWHd+L7rXbf/////6UZCIhBSigQTF3RjuR4mL/////27M3f/vZDGq2Uq//NExDQY4yKkAMFKvMRFStdlEg8AwdKUjxIWVw8PKyGURDxjh0OisBQ6JgUBQURQIgCCMYPD0KAoAgokZcvlUpEIQXHQpQ9f4ocN9DRWbeVUoIxaL1Pb/v///POKnkAq//NExCMageKUANKemDGT43zoEwAkxOTJEPAOxOgtJOkPcjTURCRxHhVjnaXdPT4pq+83+M+98/CxW+H6oZ4UWdJvnk0JsrHA4rsix5Rar/+3sa2V/7tTgcDOW3QdATXp//NExAwVMdacANlemaM3ClnQ7DzOACHtOX/////Shn7PNQeSHjwQaTAwhUDaJsboOUg5NzxMpDmNah2exL/H1/8b/+J/+56jXc1E9a9xU7Gl+G28pm3/+48Fqu8BgRoS//NExAoR+cKsANFWlG13OOxgxRJzBAUEwJ/////YyKecN2PXYOknGCTDMkgigqMh3j2Q4/EDBOefrqf+v//d8Uav3wdQp6VKLJuU//1T/clZK9A6Mx4GaTHnSoFMAaBc//NExBUQWZq4AMNQlTyb9f/63q2rMNMo1W3NNpYYmyRQs8ccDoVDkQDg4s6quP//jSpqKSRxZB0/Vf7xpaXdHg6a/LeLsBHmdQ2HEAC2BaTArIvs66269auq6zqKJQhi//NExCYR+Z6sAMSQlapRLNO13E9EmwSSHoDg8D4VB0TLcrHfz//1yqZRzUJpwXbKIOQIrgWkIjbMVBZ/kDg3ScuiVHaQVnUMCf5pv/f//3v9oUTPNovs3tHsKHIxggIa//NExDEQ+TqMAMPGcA6iWBwc9j6qsUaaak9/6VqSUi/MQV4sYSE3DirWNukJ9fMSz/flxlr76pjR2eLGOg1Z+1K3e1X3vsjl2yzKmjUvRP/9W2bc7qq2LLp+33r22VWu//NExEARqvJ8AHhEuY5wU6IAK1rMQLQEpGxmKC4BNlLOnOkYZfnZ+1AQFARgMbPeia7XTIdXZyq/diWpOzK59K+tv0qs7PdS7HbZLberfbS3pY/IVjpoLY2QDsmUTWEh//NExEwRswJ8ABhEuRv6b2LUYFBoaerxMTdyE6OefV97Kc2RN3Nzou7mXXN/w+WWCJ6eCGhcwG5c0UeJ2MFEhT/ldiCf/3Lq6SMUJzoS3jTREUEmbJ6N/AucIm7cQbmX//NExFgRgVqIAElGlLwUeei9uJu/fqcyx1T09v8MMMKTLDHPPuecw/eecrbXfCe9mMfct7tNMEGHk0xaf/gmmHwHLvEAYB9RMCFAGHy7//RV/n4ptXJdM3hFNTaOx5Lw//NExGUVSU6kAMYMlOFjyCNTaPAsBqVJF5W8UnuS63OWqmE5J8ZRUuxCjjkOWX+jzOIEK4ID8O5kWD15Y/ry++L6o1ZxEQDCE9LA1CAeqjlBvb3Gjg8v3rKxzH0ViRDm//NExGIbAbqoAMYYlKQmPLVjOwBVi5T/5V+saeANUap/jzUONgmOKn5hd6U5yt6jj1qLEh9+OfNFib7k5EQmWSQiVVRvdqNvxhBNaUUcSiRiZSI6quRJp54rfbu6vG82//NExEkT8bbAAHsSlUovtwtOja3yKJWGYBGhnSbHSFroeMskFIj1bMXd8/63DQPVfuo5NZikNiVlJsDCSkhlE5zKIULQaFcHmDIQI1UQnUaSTdmZcvUpRu2e1KWFEEqW//NExEwTsaq8AIoSlfdH9f/9NilmM0zwCboxwqpNtNBIlNGp+o46f//+Zna8yy6uXlBOPJVOh5XVQiCMC6SyoRyLq9KIKhn2nuet9Ztlpps3PZvjTOWu3HHK/mUrIQyJ//NExFASWba0AMnYlO9Stpb0CRT6Sh5J87aDlMzmY4DRpOBxDlNdaf///atqNRLD8OwOcB1AloXUyTKIRY1YyNzWixkilS3bRZaVTqmJdNDbJI+mg50Fa/zjcfVmNnHg//NExFkUQcKYANNalDAiAZfhdUwHTN6FkaH+lIgYiTVArCbA7yo4UgtwO4cRnVf//+q7I+UxYiQWAUVUOqz///9+pWo4CjnYWDyKONlVzfnKAkmjHEzEAwhKt4x6Ydfn//NExFsSCdKAANtKlWq4+SWRAQqkYeee3Io1L39pv3Vv93+vpzyvKyIXKLhGHcfFT8po/+t+sFb6aane/rNip9b7r4zE5YhaotpCCW4q2JiEbb76WVjGx2dzKMeCMUTo//NExGUReN5sANZGcGzSpcnFGRUmjpU/GEOq3s4Q9yjuX6z5f8///Wf//5dQ3YQ/v/Nh/NRjz/Tbq/156QGKyFkjCYrJ6hi4YivNJjpMI0aPcphdteaOUEGI9hCZGTzI//NExHIhWx6IAHpSvcVk7ESMnhaQoYIHaXDZYAgYYUEV/+04kEQUBXCZrIxPCFEGGQmIQgoKS5XE9Gkf/y/X/+8//////5gU/pmmKY3mPWkO94ETNX9r0hudas8krAlY//NExD8gSyKcAChevAqFIwK+Ob6UiIQXBvWGNeVLgpm1iVCnZ0yj4ivbNs/T8aRub7xT0Ok01JEJWQ4iGdNl8RZ9lYhaKJwuVCpLnIywoir////////////7fe5eh2MW//NExBARoxK4AUAoAWzK14mVnKw8VKIj2dyBwTFQ6gMw0OiqggkLoqDCiRjgKCmHjRUwCkUQYWLiRzAMAw0RAUOMPUqny+Aogn/+//6//26v/60FoJI/q/01LIg/jCj0//NExBwZquZ8AYVoATJaKklVsh/y+JKQyoJ6F9EmHuOIzEEEtSNh2kqdSJpoapE4ka9anZLjEC9D3GMICO4Y4BKjlGFH0WAxynkqSJ0erLYkki8kovH87f+/Ux97IU/9//NExAgT4nKoAYFoACdf/2qb//13//TahZA6ZbaCDXMSimbnzczLGHiWCUk8Y5LBcBlat0PlRALhJlrl9Nas3BXxNRrDiRMiQN05t/hh/4EEIGJB9dRHB2cYyg8EhmVE//NExAsUSlawAcc4ADW/////////9//0mmjxxrnD1ipg6OOaRcfGzmjYmJInLswEg2D0fHBkRgjFhcBQljAjEjxqY4pIHK6sskVCpVIrGsed2fSq1lnBZcwmFUn0qDWI//NExAwSUf6gAMCMmTyQ7Uht7xBbf///62csi1n7f/5/8yoeDfdNjN///9vx5llaamkWSSs4idLk1l70LpJmPz6KVrKKUvNN5v6q7csjoMHPqahVSBkY4zEBKbEQRRZy//NExBUSYeaQANHKmBkFgFBab1b//+cbOeNhsSWaa3mbVjGMJNq2qo/+hn8poeDxjDACBkDwk8yB4WuHWEoTgrjaYmucwUJMX8TlEIzIEdwwg2NlRA4gDg5TUs64DfOg//NExB4PyF5cAVsQAKxvpKIemZ2s//0A09P//7bYdIqQHR0GhYKlWBoijiJp5NUzlE8luahh7FJkVmHYctN1gSXZZ++ksW3kERf/J8YwaBV/8i6aCJv/6DDnk0SCx8Dg//NExDEeCypUAZqYAP+/lxZMA3PGTNA9f/qZPe8k1hgAMsCdCTFnkmB7f//qQ/wwsHKCOw94GxwG7BokTHWI7EAy5////38uE4RM0ccDObuowLhOKq2J5kJzjzHmKgXZ//NExAsVKmK4AY04AK7G7f////t+fpRZ3V590TvnI9DNtVcurIacs9CYjK4mnHshYiNTzy8wgI5Yw8nMMHwlG5AcFg8MHEDTRoLygIBMSLFzzf8wlHzN0i8LOMjhqF+Q//NExAkRYcawAdQ4AC5EU4eVD5Li//////+rlSARhEGBwfAPAYQEgUCQNx8iOCWNDRHF5lNP/VZhhqOYs4dMMOQfFwkenrNVYaX//4nIKksQRnf8bQTVr+5aN/////////NExBYSMcawAMhelf/+sGkVhYCXMZ0DgGATplPRJi7qhmQzalvM32e2pne//vf/zSa96wHWWpumn9rOHQw3af/90gkyzFoacgybaFRd8JN//////9KQsNx/qCiUIMC5//NExCASadq0AMFemQY7Sj1YX040phXK6LGrCfan+dWp8+2q61EiapWI5wqRm6G/i7liXn0S2v5qqo4QCu5OTTcjBgDj8u8QS//////////xuvkczeS6Ep5XF9LCK8j2//NExCkSKcqsAMielWLadMCNaFG3v2tj///OrW3iNCfZxt6wun1NvWGJuXHl9/c2uhcwBVKqxBKkUFIFjnSUrX66IcD5zjiT/////w6W9cta2pJVuHkfQSiOdA8Qo7nx//NExDMSAcJwAMnWlW2HN/r//4dNORunS3Rg2pxs9W/im+vL6xMtDgKAb9SE/XIEzd1/aNuaN06hPS4Az5OMBiM56pmT9eJ/oiInDCABO79Qr+8Lrmn6O5/xOgY6KBBQ//NExD4R+Z5oAGJGlCAYPwI7U7//0dK7fmcQCBgKAnhgglCGEaMiQyRkhtAMnyogLGBcb6CLS1p7qmwOEaPCiq6G1o6ZGsLvFKE127p/nVIYMDg0MJCKAIo0u32//6qL//NExEkSeZqEABpGlBemcn+nkqIWfcVtUccaw3TvjFO3GkZVki44EQ1RIIeUKDyYbeRLCpFsibalO3b/srZrezqtNXi0wSAoRImFWi9bEAUkw80UV20qy/sy9ReMziJw//NExFISGRaAAHsScHsywcKLDrQigw0/DIiQFg8IbM4s5hhX7LnIoBXzHo8mh1nVkttX3////RrYgKM7yBxup/U5zocXQoHGOJPid9P/zwyWgLy0VutJS5x44vJS61DD//NExFwSOYKUANPKlE1nNPc3EKxij5UDG8G8AGGF0rZo0BWOF//b/6MfU8RCxY/HCbeZ6FFjymBEWORCojnuQAKkYeX/3yVkCAkbl3tIQmnig484mgVAsPWQ/OCbJs5i//NExGYSYZKoAMvOlGgkgQ6LmBgZBwJOhRvV/QtrLAXJnHUEZk6/dug8LTndRCYiGKULGYrUJMXfWv/86pCGCC9r6DFW04w5cFtBpJ+s1fzNlVrE2IS6Tj6CwQ3MA79S//NExG8SKaasAMtOlDdDEpOBBjGYoW7k7+pOsrqjiIFFHGCOkszPsUH5Wv/fZQ2wLqyztTQWENXsvxNkmNGhfx4v46R8VBoyiMI4kMe4wQAvX+t+40RavHQAGnSDAdGX//NExHkQ4ZawANNKlDpM/+v9M38CxKN0pJltdjHxZt56usuXYuvgyhTVSWrBcjdkxegOysAcBD6DbJgupmHZT6nR55adsoPnrkOQWjHN1lf41qGkYLTTMpQfA0PEWS31//NExIgSYcaoAMnQlA8SrLEpVyyV1fsQnxtiGqVMv5IRnomrKsYCl11qnkJ/979v6f9fpRlxrf///v/mP8fePP80pukSWfWca3TUkTLGzyQXkR5mzxk3RjjRJY015JlZ//NExJERaS6IAM0QcBWNnkZGCK5nOhd2xDHBsbVWc7EaCw/XCEKd3HPwnAcAch+nWdhYGBFmWiDoG4gI0sscthGwMYm6bOimIiq3jO6BTMzbP/5db7f///////P///////NExJ4hyyJ4AHievM/V/il84xrx/SaXd60w8u5wM4ixnzyE8ZG2r56p3iLNeMlEshFVZs81CxtxL30ilN4v6FNko1z6fnOejQexKz8MU6j6N8KAPNUiqMI2jFV4VYh5//NExGkhKyaQABhevAgQESZQBCAzQYwgB4FsJQBzE9EgJeFWRTBElj3+Ucs//////////6//8b/up17z/K2tW9PjWwIlV54sVi6KqXumpw6tzks0dZKilC2WRE2LGhLJ//NExDcToyKwAAgSvApSEJKpOwqNgiJQs0TTYIsyiaIqXZVapTXX4BMvwCONk///////////////mNUtdWzOVEUVbQAjjQKgsIs4iHRZah0VKUsrGMpSlERWgk4dZVKj//NExDsRmu6MABhKuZUM5VaVFFWBT8TRirXNCxCQioGBkwQI22h7bGTZ7h6IShjQfUNKkyB6SEIHhBdIH7/2QyC1w6cpx2w9P3dtHbP8///wySehgPiM/Wf3bSYYT0+q//NExEcRsZ5gABmMlOvT/Ze2hkQxMB0djRcOxFiPiRWqQ4WvMNKSk6vAoTCKYj/Ql4VBzVl8iACAXkeiIfkOMG4kFSKhDPhTuT5fVakKkm6FoYjD1IWMcnh0KhlfQM2U//NExFMguh50AGMemBJF3A7InIjaZcj/cSEWOWBfsbI50eNjhjXzR/XdMZxv6rvGrbpLsuHGCzcdFafZKenEUEoGF/OfBiT4rRovkuGJWLKVeYn5XVGZcOFBXqICymvm//NExCMaYbacAFselW0+nBQcbx2E46w1y7y7iuSs3SIuVcoD9QolJNznLYLOU1HFXqUl+VBVC21/a64ZM7iKRdqprV6WVcCeIcjLGiv2M6dxFXnF6wgzfr6zf/lsuOno//NExAwR2aK0AGpYlVJ0LeKyDKI07hTl3wY4iq79lmVo3s84tx+NcauREMUHWlY0Nh9JpwhoDrt9jq9N2p3XKfZ6G9Jf7Yp9SvAED2sPNlRmdYmJJ9oVv1MlAwJFzZKj//NExBcR4YK4ADpSleooHmKL0ICSmiphVHvM14u1m7hs8LE+tnBEKy4eRkKipFqslsjb721Lq7UBheiS36rqCuS3DqfagCw/xALSlLpGBPGjEwUMtIY01EhjOjgY6ITk//NExCISGYa4AGvQlBVhfaRYTcPi9v2i/m7g4tseMB4xShpojFMhYxrgdTYyZNnNepz9NfPlj0QMDWfAo9PGMxU6xAE/Vr5tUoVahUS8h4Oyc0VcjxhKfWmpVbt8X/P///NExCwRGYa4AGvQlP818jadSAmM6IDgTryOOWnEaipIH7TJsurrF6a1pAG9FaAf0GxqL7niUTnxGB4yVPkx3L5NkwXXpMIig7IO9gFxbOPMu/////+bqjoh5gkmE0Gw//NExDoScYasAI4OlEqGoFCR00NHHmlRi9Ne5C7//sOyfGtHzOKoxlMNNCQBdPlcGlgUmRMUiK3AzaBfY5Y6yGA22JNE8ZE9aie////6edjo4XOMhYWHTyZp5Y8aOmRN//NExEMSMYagANTOlFhlyN8TKv/9EgKtdtiMGbPa69muMLjgCxmCGkmBVQBYMXBjxkAMm+BvEIGOEVENKqNz/W3////9e42Wg8LuVOrCzY3EU8xDSYcVpqr+dpWTJcU8//NExE0RYZKUANUOlEWrAXMxeH3yAp43I0TUiA0wIiGXIGSJAACMiNSaIsLkI8qlxBNJBakf////+lpWXdllvIBNAyAQGLAwuAcZzlXEOAowCUCVU2A4iEslmlxDODiL//NExFoRiYaUANTElaPgkwJ0UyoeQwomI4SNLqJqpUzUzVf///+nwoIRXYnY1h8tSRfplkCCowVHmuKHyr862a6UmcogjHIeZmWdLNByvUZCm+XbNeRc3Jh8DQwrGs00//NExGYROYKUAHtGldhjTBYYBpFh04o8NYwwQM2sv0yPk3PffsfLusYadIJKCiEnBNXIJX87Ykf/TUn8zZUJw/zPYv6nyWZKJgCWYUykrx9aRMpyBi3Kk6qQzkDKcyQe//NExHQRWUqUABDGlKsiIWr/+v1/b/X/tS3qnTqrK1lbo5LosMW9hNRlu5N0mGxt6DgYjppubbB3FtTEGhHYpWo5H3RVWe2rCK1yPTYzK9KBlnGpfP0oURFhgFHgVK73//NExIERwx6UAAjEvCkvmUqHbP//89hJT1rs5Ll4krgNUeEXUJgmBnntZllM4iX3MubSzsd+N9aeQXIu4sawowdOBW7/8WHmN8EAUFXqIB8H3kDhQWOmTg5jLUX/1MjA//NExI0RqZKQAEjGlBlRQpJUwMBDL8TEngLAmWJFjIpA5QYakw9sdpRQIEJaHtCPidRTNfV//////o6s6KYyKZ3dm2KBPcOQUOh0c6DxQ0pyFf3cjpcqlcAwENMOVg3M//NExJkQaHaQAMaeSDGh8uiXLMGCTNQYL2USTDcLSse4qgUYOcbHiKX11///////+qJYSRoNLQrZ71Ds6AiocqA3IKP7BuZp/mccDgmUUaVBlFwacEpVCMFMNJQeLJRD//NExKoSEbqQAOSElNAPQATCQQjlGCJM4AJAiBOikTL7//////+q7yBDMQWt2ECzvEoyKyHMMxUCnqQxoRBlYgfQ/9wU8+UylMGG0HLqQZMShgcdK/DVAXcA2QTcI8IY//NExLQSMc6IANtElTJFYzI4NvmJLjvKROEXJsnziSDf////+S6IRBzuUEwU4GOYgA5iMjrHMqHQhTKqHiSEqIBdPf+/MfeIBOIFXgDeuGKGgtjaO48uYBWpbkgl0tjc//NExL4TOeaMANtEmT96mhb8RTC4/7l15XL4bt/Ul9vNye/vH/j///5d+JIRys9KLBCEGtkp7pPS3W5Oyx+GGGa8FSTNevjC/58oVvpIHKu7WDUOEV9jAAW+1vii0v7f//NExMQU6dKUANzElaVm0up86L6TKCasZqzsKs2YjIoZ1MOPNFS4TVewR7UaYm3MjbiTnrI1gqJCBACxKjCYeLyiUdKXVl4lJzRg+kwuFG6oZggUeTtw7mT1lnfj5iNh//NExMMV6ZagAH6MlU5KBDgu84mGjCSnyUDZgdD2oyNmZ0X1PUtSqSS1UVUkksmq4mMZERAxphkE9ggFbbJKIkz8yYG2ZdKWx8c9yr166dT60G8xlaMZPbV/6v/9P/qv//NExL4Z+bqoAH4SlTANBF45RZWUPJ2GJAtLtt////l/4x9uPnl2XBQLCNwpCbYaRA0KjipReSzU4ylPP79e/KNqyWxCy1CS0QqEoNVV/95qYReJqZkt0+Zov6xeeU0l//NExKkUKaq4AIwSlWEkZ//////+Pc0bTUbToD4Mh1h6RIgIyEvIEdKhskei4b1zzur2tUtrbOnjY81kJUlIo2nUdayhJTFdlYAs2biSATpqAbVQGkMJA2NCdiJE86jZ//NExKsRWbKsAMnSlC/////6mmEjiQig9Gw+AKLTh4AYAo8qRmGy9N///+HcCwU0KFYqfHIgRNgpgYi7O0hJ5p4txmDyc4jGww3G0XGM71S+PflMufwqIcy/6livvFAK//NExLgRgb6YANCWlC77uZgDUqQBLAJyHlxY4nvSgnCMl0mCn06qvtqVu2Cyfdn+abmXQmhC1RIHRIsMER2JYjvcd2o3e9lkLK9CERzY2RHPRzAmBMnqyQteEtCPB4AY//NExMURGSpwANQOcT2DcR0is8L4HwcGwJk8zAgIiI/YWLNXur3zhRMnDn8vQkR2Jath+4cBRW9IX4vlhZy/6T15vTsu4Hh4AAFiIQAaLefJ//47vX8fr6f152yx1q+a//NExNMRoSo4AHvGcI8EQDyWJ6hpkIpxY6QDCVpN45/v37kxNZ7v21mmo23mhTWS0icVTs/wzA4CdSjLM4UgvCJMY+FWK4NQkikAeyAEsJkL8W1oCoJoTFDnSPGInW5n//NExN8hef5sAHsYmXK6uUCTg4Vrkcq7TaFqAxzoJAYpcGXTUy6vW+o+L1+/48pwOAwJxEOQ3/+u6lWacXAIID8/Gs6jFFe2rWoQ8TnDT63JXFV0o1HM//tR+W9OtXV5//NExKwhke54AFvemEjQek0T2DU4MhENSSbSmJ2Ek2Ywqh+merfVzc27/crXmo63TW21m/DlsNZafZLMmgmIZgcyMDwWUi9z6IIw9zWGpys7Mc1K21p//n4hXjValE+R//NExHgTwaqcAGJYlWYrUfJCk4iTkFJRR2l7Zy2owhSLIWjVdtDH9WaHAVk8D0tWlYfhssSGuWxvuqHmOzuG5aRNgND9SVpV/9ZxQeKYMOfcwJw8fEoBv1K3ZCF6//////NExHwY0dKYAMnelP//+oSceNi8ij6PQuUFY/GbzQdIJA+FZabGq6jDyq8zXP/PduTte7QTjZlJdPAV/8q6dwJC5pyxZqhvvQQGmJdgGRnv/////+e6hW5gOcOsckLA//NExGsRkb6gANKWlYi41RwkiQ8YKkWPi3TVlkghznnT7qWZkYpGakCQSWeOG6AdI7b/7hKwcunlFpao+dd+3eaq5BQZ7//////MDRlmB4Wg8UzM2BBAspEcxYuxiGjz//NExHcSOcacANKglRIggmgxtbU/M0qrkNToMP63QMjh9kFOfv/eTdUDIin/NNUP8CKBUg7YCMSXoz+3/T/09CugPy0mckQqo5S6Po5Q9EqPUlSXEeNqZ5JRKoM81+/R//NExIERcdagANFkmDRHUSyFdA2ozj3tXf//lD83oajaaBwkN/FIMAhkFY5H2GNcnP3T28N4fhh9QASm+gAvWCCCEeYzfu639f/pM+MCuhpgHpAyAGHutsSOLhMoWf/l//NExI4Rqb6gANHalI9b08BjLWoaPLjAyFWOcYr2Gc83yc7DFofiNQ7KkLyRBNlEwKl9vVMbz//m0czHBhR0HDiwF1DxJHRioJQiJPkm5mXF1gTctphXotBCHj9niItT//NExJoRMTq4AM4McC0/D8FpVGajcPJ8kBMQB0CqdPUtukfG/9///X3shY0wuPCkwLDQ8XFBYTMLiWUKoOuWOUxR5rkK/kLbAXAKphBgLLzAA1He+OTV07KJ0YnH1L3p//NExKgQwUq8AHvElfNO+xgUEGlVSWKi/G7z//////87Q3cSTbC8ghUSjDy5AkxgkBo8SyYko45M3eodMP5BsNYeWUEsVeNLyW3AT4P1QsAY6ATKsAZBE2pphA0nfvF///NExLgSWY64AGvOlPv/v//+i5xEqnAyEDgCmIEAFERoTAIGEwDHAxA4HWmW2v/dZ+R7y3qbLLiCqaVZ3YatbjCtsC00dQNfnKCQhS6qUQKB1VjS2mh3mscv/+///vna//NExMER6ZK0AF4OlaH0MgEMyAIZBATHGOHBxQHEjsHBMoRV+RTbwA8dtJFxRNZuxuOJByKq56BGEbAYx3IJgAUBOSIZSmGK6XSEWv8b7Z///////m+J/idghbiAxRG1//NExMwRqYq4AGvKlVHIWRgw2QRRyUltK6XjClrQd6VIgsscch1dcXHJ6H9lErHRObIqBkMZfWMF+mvUJbsujCY6rVFbLc3WxuShmHr+v//tZlrvjPDSVmkLI201iNDG//NExNgSCY64AH4KlZiVWotkZNpMyJjhqKq9NtACMLFDWI0vI1QwOcJNB70XamTAAeSWyKQ8rVMBVP2QUlDYQ70JWGIiU26JAdPmK88H/wnXlmLyrkg8+YKmJMgQnFMi//NExOISIYq8AFvMlWLRx9Mp6o+dmizjnUUPSE7C9FX/IDPWRIig10nX3NfeijVW8KWsEzCTOVVNGzJX7XDjJeJrsUK0iD1o79Uyt38kf3b86alTpiL4qnrAP2d6rkJd//NExOwVOaK4AG4SlXUka8trbj68uPir76b5sKSaDJNFxJmz0tQDkdSAMqlDkeLMbqgGlnk2MibJdOX1bWilze4Xyv0jVbp47e7pdVvqm5ZmaCybkMiGLLCfzeFTXz94//NExOoViZ64AGvSlK6xqFardaOxwaQYw2X5qtYH2yhQgVjLEmqCGkOdABrO6309XXWt9HvnOFrcqGx4bKNqPg5UtKpjocVYhxNJHMN0614hbY5sqagxGzVc2+IHxafc//NExOYV+bK4AHvelIpXrZDXm98i3tYjuf2ne1f/zOzLeayiMOrCFsXrkkVYCgeBKpIr7aurX0u+nyW3z+tK1F5UD8OZVxCqKyA/HeSwcQrxynUjDtQ5+4rE997rXGvm//NExOESUZ68AGqelUx40Gy6jPVOlWttXnsWC+yC1KrVC3Q/YXN3Lww1wngLJNtLhEWHIiYTBOGhN7v/sbm/bWbbVmJkxPSUvCU9MS8YlYtJcOVo5ASQBCfW1zdrWa9O//NExOoU+bqsAItelNdne+sB8uuleOYpmzLtmmlBQjnFhIDhU09XrBIfbqmDJobEAVMMAUAgQkkH1TNVEd9FKpb6odTp31tWGicnx3SqYvpAbCNb3wIxVElq+QR1639n//NExOkVSa6kAMNelM65jC5cvaPjoyTO2cXPWtrFgB5zO0PVExxEAMUcWURCLdiamr8khQ7HloJLbe/eWnLc3G2u7/f9lHbqvXUkFc0oKlI1QUDTRszW/X/qu7Wc5V9v//NExOYTaa6QAMqYlKS+kgqGlUfv/+j///1qesIBM3I8QDMZGiXhgSjymqcFowIiYOi5VNI4v1pmNqvSjcflEhgKSPBCSEoBARIFcOptA4aBsiGjwbDTDqmqHuakljL0//NExOsVcaZYAOHYlXetA4TMYPbRVt+y6mRqI1D4JmF0MJcWOT0Vn3yqHOZl50vtJnta5DZR4bGED5eQC0i+6t4BT3LET2ctjX3z7raTo+ISf7KYjejoVw1CCw+s11cp//NExOgT2ZpAAMmMlH0bChykz9WkPvU6alJIUXs8hUswEHQsWQ1MF5tqpFyGSq5md4TQEQvZ6OTIQMUwjMWSdcYkpxsj4eTvk5J3vrtK38sbhHbqWf8y6l3OP9H4TnnM//NExOsUkNIcAMoGcDlJma03leYcuqSJQTI/NRKfx+91CSQGBih0iAxhFNxbHvJc15///f08RxyYSVK3aF8bH+l+vZmS/p3d/1H0P3/qCK94Pcrj5Nz97t71cWV5pekA//NExOsUIRoEABjGcYgxrcw/++Mdb/aV6YeIBSIiUiRlkCy5A2m6d3UyKlPX+c7GOUyk6cAgPUXRdMh6Up5OaZ+de5w/JGzfkL4ZNg/dF7O+pnnUMkKc87hCInOkjZWv//NExO0WmsoEAEDGudp5f+SWC6t9rcGKnvINFfv1RACw5wkgCQrWMscMy2tRHypwlF4ksoCHdqkZceKm3kCAfAAFY5IgA8CHB805ZpjEVrRJxd4RqKLKTqF2mDKXDZml//NExOUSUE4UABiMJVtsC8ih6scn2oUssYMBmYlE6cXqmYbAuhoYIgRDtVnrrVX5efGUz+3DdykfmP1f/5v3/Xt8i/GUqYurJlCFJRU2xthC/u6mTiOhITEr/TVzElTI//NExO4WMp4QAEjGuYfR7texYbKfX3oqwG9CKYw7DC98WYwZZLIlr7uOu4xg3LiY6Nv1VrKnOqpVcEgEDAcs63uMFCWNIcaSbqT3YNyGd2+f9f70MqZJmMqkLYt22dIk//NExOgS4EocAMsGJII3HlHTlgaONUUadcVl0C64EWYoCx8glgiVQ8Xh2RXgZCrlqeilUupxS1xhIDoHCweFVUSekXsPRnwaDYmldG+n79aP13dzqooucYaYfCgiQusp//NExO8dEqYYAOmGuT6h49BAXW699Ta4DFVNecW9SzIwspRqwPw2QY9sIVaaiNVgRIAhWkNz4xCBLxcOl1BF7V2x/3PlfL/+/q9CZmpwE7oB0Ix63B5wuTIjelbyaP6t//NExM0TmSokANnEcL8Kr8OlCL/XvlPP00PNf0y7JOcP4t7sd5C3XB/CSp+HQcIzmZwEhOzSYpM7Um2wc0d00MW3/+3Z7PZ2OpTVFT4NbROkuMNCpAUcXUxTBwgMlWsU//NExNETCOYkAOlEcPWBWC05QITDQ/FZCVD5VxdoNrSVNGXp9iPXjBZwQu5GAGCiajT8Z16GQ5mAcNZ2OZvpt9c02ZqOcsGlYWgeKjS/GjYospkp0H1vF9qvLbdi3Nib//NExNcTmrIkANiGuV//zcdfvRt9jebaTb5cl4rxlzf9bX92XAGYKCIADGHKhi1QkKPXHlYxFvQxBdTEhIIEQ4I3B9YXD5U/PKWthNqHrJHwTLKYHkJ2LoPcy2x6W1nn//NExNsTuQooAOHEcDmlWrtY/ZQI013HgIrcjAwJBAKRT2SAJmZnnMKEPqok2q0+vSQjOUNSA6o46pm5lNQRPvNn+bJ+UNTfI0fIjRTNpC7XR96RPpnUpIRZNlxXe7w7//NExN8T+P4kANiEcQL9P5IPrz4D7u5LaK/ruukViGJmsVpE0JDEizibzIYUJ/fb5UBGRqx/swpY7vAxxlGQ9lPSp3hUsp6/5Z/DKFN1fca5x/qTWWtd3L7vrbpeYRht//NExOIRaDYYAHvEBNgmv3Uqrc2jnUy3tmqzdNOo6ihGDCzZpCLSLn2a73Irps2IWNWvRDIgY++EMcF7/Kn/wqeReZU5mfORbl+acKWSv1tjOGzrC22spHMvQuidAteV//NExO8WUp4MADDGueHXUCMcCj+Lyf8GtErCfelJqBxIiSBgpEijHIUXSsLaSk/rSRYRxO6vc7BDMw5X7a2VZjcm41cpsSSrgtv5n7+TlR850W2Zs+r9I2nYIIzUinsW//NExOgTmc4QADBGlTOWhLsGK7/Zi7cG7jaD9/v9Vd22A8lzIRwSZ9bSM5ddJuUXW49S5xoqOw6GWxaa5S55T5HuoMr0+cOEZTrRSNDKU5OW3i5awt+dMiunPrZ9fiM8//NExOwVAmIMADDGueZV11QymvbMlprIHwSbUVEr0gqqlSzI4CNgoKQ1CeIRmSaRlyPEocInVsjWsXSRSXmq5WRHqip776dFI7LamhL1zacytY1z2RbvWUefVluBvzW6//NExOsViloEADDGuerK7n/9lYRLk3Ishsg5C45i5QWmZTbhl0u9yyljIZkY0+gtyXyKkZ0zy7rDMoc4WR20u3bN/qEQMiRsLDtKHzWBOEtTlPbO7EbiTi+7iTNQsBkh//NExOcVCtoEADDGuS2+TQRI9TUwT34hWaptYzaEwowaiVI1UpxmiGOYqHkfIukmqof/wKpHubuOZJksPPAS+kRGxtysz23bBqcSZIx7uuZFFVjgO+znHzYyRRJAIKev//NExOUSMloEABhEuTDSRybQVUd+oU2cBCLqCUibYqrziknvpGHvwtzjVX+fhsFO3lMTTzkijspyfBtsl/e7H8ZfLaWnl5GfopQ8iLncFJ5/Vh87ZL2uczhwiS+prmbd//NExO8VUoX4ABjGuXzUhiKJ86W4/31sECfngz2RqrsyzBpzLc0B6mZEFhJoyt051z7rJESsLLwunvq+tcz2c7eOW6tcHl5ezay/N8y+HZln8GdNtRFwEMBY8h6vWo0t//NExOwWEkHwABjGuWWZkNpc/Iaqg7qxijA5sMsnjEyvLCWUPLWzpiuMbBayoxGR4kJjIIFQaZQfREUq+SQ7RZZJWMWUMwpMLX1s7GWQM6o12W3Uj13hlsekYlSyXKQL//NExOYT6vH0ABjGucujTHIgzmpCgXbkRkVHwgNrCYqUnI3D01hI2WZcNuSzM9GHVizUgWh8pZlFM1auhqeh/P+Zw+0mLj0qRlpbFP970JpsU2cvDfmY9MQNTlmz0ykq//NExOkSiGHwAAiGKZ+qmHF0ui/utIO/K3dNVS07jGZHNl0eRxRZDDKnaMnEESkMgkIwqIyU0THNpfNflWwj+lQx8caLHIqR0mMu6KntfNu+VY4yGQUvyu0zKH0oZSTq//NExPEXQr3oABDGuaHepeGTl5KcP/IVirOqalsYVGUMa/8hqsarFn+saMYVG6X2NqQYmZSb/6sarFjf+0bUgzqtI9tSDEzVYev1Y1WLGq/PaqTGFLWH6w1BGCwpuuyi//NExOcTycX0ABjGlcGElRN8S5JUJIq7LhUkNBpMQU1FMy4xMDCqqqqqqqqqqqqqqqqqqqqqqqqqqqqqqqqqqqqqqqqqqqqqqqqqqqqqqqqqqqqqqqqqqqqqqqqqqqqq//NExOoUSwX0ABBGuaqqqqqqqqqqqqqqqqqqqqqqqqqqqqqqqqqqqqqqqqqqqqqqqqqqqqqqqqqqqqqqqqqqqqqqqqqqqqqqqqqqqqqqqqqqqqqqqqqqqqqqqqqqqqqq//NExOsVMk3EABjGuaqqqqqqqqqqqqqqqqqqqqqqqqqqqqqqqqqqqqqqqqqqqqqqqqqqqqqqqqqqqqqqqqqqqqqqqqqqqqqqqqqqqqqqqqqqqqqqqqqqqqqqqqqqqqqq\" type=\"audio/mpeg\" />\n",
       "                    Your browser does not support the audio element.\n",
       "                </audio>\n",
       "              "
      ],
      "text/plain": [
       "<IPython.lib.display.Audio object>"
      ]
     },
     "execution_count": null,
     "metadata": {},
     "output_type": "execute_result"
    }
   ],
   "source": [
    "play_audio('text2speech.mp3')"
   ]
  }
 ],
 "metadata": {
  "kernelspec": {
   "display_name": "Python 3",
   "language": "python",
   "name": "python3"
  }
 },
 "nbformat": 4,
 "nbformat_minor": 4
}
