{
 "cells": [
  {
   "cell_type": "markdown",
   "metadata": {},
   "source": [
    "# Input types\n",
    "\n",
    "> Different ways provide video and audio inputs to DeepWord"
   ]
  },
  {
   "cell_type": "markdown",
   "metadata": {},
   "source": [
    "## Introduction\n",
    "\n",
    "To create a synthetic video using DeepWord, we need a video of a person talking, and the audio we want them to say. For both the video and audio, we provide many options to choose from. Let's log into our accounts and take a look at the different input options"
   ]
  },
  {
   "cell_type": "code",
   "execution_count": null,
   "metadata": {},
   "outputs": [],
   "source": [
    "import os\n",
    "from dword.core import DeepWord\n",
    "from dword.utils import play_audio\n",
    "from nbdev import show_doc\n",
    "import random"
   ]
  },
  {
   "cell_type": "code",
   "execution_count": null,
   "metadata": {},
   "outputs": [],
   "source": [
    "#hide\n",
    "API_KEY = os.environ['API_KEY']\n",
    "SECRET_KEY = os.environ['SECRET_KEY']"
   ]
  },
  {
   "cell_type": "code",
   "execution_count": null,
   "metadata": {},
   "outputs": [
    {
     "name": "stdout",
     "output_type": "stream",
     "text": [
      "login successful\n"
     ]
    }
   ],
   "source": [
    "acc = DeepWord(API_KEY, SECRET_KEY)"
   ]
  },
  {
   "cell_type": "markdown",
   "metadata": {},
   "source": [
    "## Video inputs\n",
    "\n",
    "### Local video\n",
    "\n",
    "If you have a video on your computer, you can directly use it to generate a video using DeepWord. Just provide a path to the video and you are set."
   ]
  },
  {
   "cell_type": "markdown",
   "metadata": {},
   "source": [
    "```python\n",
    "acc.generate_video('local_video.mp4', 'sample_audio.mp3', title = 'local_output.mp4')\n",
    "```"
   ]
  },
  {
   "cell_type": "markdown",
   "metadata": {},
   "source": [
    "### Video actors\n",
    "\n",
    "If you don't have a video of a person talking with a clear background and limited body movements, you can use one of our video actors. Start by downloading our video actors"
   ]
  },
  {
   "cell_type": "code",
   "execution_count": null,
   "metadata": {},
   "outputs": [
    {
     "data": {
      "text/plain": [
       "'Successfully downloaded all video actors'"
      ]
     },
     "execution_count": null,
     "metadata": {},
     "output_type": "execute_result"
    }
   ],
   "source": [
    "acc.download_video_actors()"
   ]
  },
  {
   "cell_type": "code",
   "execution_count": null,
   "metadata": {},
   "outputs": [
    {
     "name": "stdout",
     "output_type": "stream",
     "text": [
      "Anna.mp4    Dalton.mp4  Isaac.mp4   Karen.mp4   Mia.mp4     Richard.mp4\n",
      "Berto.mp4   Emily.mp4   James.mp4   Marcus.mp4  Micheal.mp4 Sam.mp4\n",
      "Carlos.mp4  Henry.mp4   Julia.mp4   Mary.mp4    Noelle.mp4  Trey.mp4\n"
     ]
    }
   ],
   "source": [
    "!ls video_actors"
   ]
  },
  {
   "cell_type": "markdown",
   "metadata": {},
   "source": [
    "And then using them to generate videos."
   ]
  },
  {
   "cell_type": "markdown",
   "metadata": {},
   "source": [
    "```python\n",
    "acc.generate_video('video_actors/Julia.mp4', 'sample_audio.mp3', title = 'actor_output.mp4')\n",
    "```"
   ]
  },
  {
   "cell_type": "markdown",
   "metadata": {},
   "source": [
    "## Audio inputs\n",
    "\n",
    "Just like video, we have multiple options available for audio inputs to DeepWord. But before we dive into the audio options, you can also pass two video files to DeepWord."
   ]
  },
  {
   "cell_type": "markdown",
   "metadata": {},
   "source": [
    "> Tip: If you have a video that contains the audio you want your speaker to say, just pass the video as audio input to DeepWord and it will automatically extract the audio for you."
   ]
  },
  {
   "cell_type": "markdown",
   "metadata": {},
   "source": [
    "```python\n",
    "acc.generate_video('sample_video.mp4', 'another_video.mp4', title = 'two_vids_output.mp4')\n",
    "```"
   ]
  },
  {
   "cell_type": "markdown",
   "metadata": {},
   "source": [
    "### Local audio\n",
    "\n",
    "If you have an audio on your computer, you can directly use it to generate a video using DeepWord. Just provide a path to the audio and you are set."
   ]
  },
  {
   "cell_type": "markdown",
   "metadata": {},
   "source": [
    "```python\n",
    "acc.generate_video('sample_video.mp4', 'local_audio.mp3', title = 'local_output.mp4')\n",
    "```"
   ]
  },
  {
   "cell_type": "markdown",
   "metadata": {},
   "source": [
    "### Text2speech\n",
    "\n",
    "One of the best features of DeepWord is the text2speech functionality. We support **41 languages** and a variety of speakers for each language. Apart from the text you want the speaker to say, the text2speech function requires two more inputs, `language` and `speaker`."
   ]
  },
  {
   "cell_type": "code",
   "execution_count": null,
   "metadata": {},
   "outputs": [
    {
     "data": {
      "text/markdown": [
       "<h4 id=\"DeepWord.text2speech\" class=\"doc_header\"><code>DeepWord.text2speech</code><a href=\"https://github.com/deepword18/dword/tree/master/dword/core.py#L79\" class=\"source_link\" style=\"float:right\">[source]</a></h4>\n",
       "\n",
       "> <code>DeepWord.text2speech</code>(**`text`**:`str`, **`language`**:`str`, **`speaker`**:`str`, **`outfile`**=*`'text2speech.mp3'`*)\n",
       "\n"
      ],
      "text/plain": [
       "<IPython.core.display.Markdown object>"
      ]
     },
     "metadata": {},
     "output_type": "display_data"
    }
   ],
   "source": [
    "show_doc(DeepWord.text2speech)"
   ]
  },
  {
   "cell_type": "markdown",
   "metadata": {},
   "source": [
    "To see the available languages you can run"
   ]
  },
  {
   "cell_type": "code",
   "execution_count": null,
   "metadata": {},
   "outputs": [
    {
     "data": {
      "text/plain": [
       "['arabic', 'bengali', 'chinese', 'czech', 'danish', 'dutch', 'english_aus']"
      ]
     },
     "execution_count": null,
     "metadata": {},
     "output_type": "execute_result"
    }
   ],
   "source": [
    "acc._available_languages[:7]"
   ]
  },
  {
   "cell_type": "markdown",
   "metadata": {},
   "source": [
    "Each language has some `speakers` associated with it. To see the available speakers for a particular language run"
   ]
  },
  {
   "cell_type": "code",
   "execution_count": null,
   "metadata": {},
   "outputs": [
    {
     "data": {
      "text/plain": [
       "['en-AU-Wavenet-A FEMALE',\n",
       " 'en-AU-Wavenet-B MALE',\n",
       " 'en-AU-Wavenet-C FEMALE',\n",
       " 'en-AU-Wavenet-D MALE',\n",
       " 'en-AU-Standard-A FEMALE',\n",
       " 'en-AU-Standard-B MALE',\n",
       " 'en-AU-Standard-C FEMALE',\n",
       " 'en-AU-Standard-D MALE']"
      ]
     },
     "execution_count": null,
     "metadata": {},
     "output_type": "execute_result"
    }
   ],
   "source": [
    "acc._available_speakers('english_aus')"
   ]
  },
  {
   "cell_type": "markdown",
   "metadata": {},
   "source": [
    "Once you have your language and speaker, you can use text2speech as follows"
   ]
  },
  {
   "cell_type": "code",
   "execution_count": null,
   "metadata": {},
   "outputs": [
    {
     "data": {
      "text/plain": [
       "'en-AU-Standard-B MALE'"
      ]
     },
     "execution_count": null,
     "metadata": {},
     "output_type": "execute_result"
    }
   ],
   "source": [
    "text = 'Creating synthetic videos has never been easier thanks to DeepWord\\'s powerful api'\n",
    "language = 'english_aus'\n",
    "\n",
    "available_speakers = acc._available_speakers('english_aus')\n",
    "speaker = random.choice(available_speakers)\n",
    "speaker"
   ]
  },
  {
   "cell_type": "code",
   "execution_count": null,
   "metadata": {},
   "outputs": [
    {
     "name": "stdout",
     "output_type": "stream",
     "text": [
      "Successfully generated audio file text2speech.mp3\n"
     ]
    },
    {
     "data": {
      "text/plain": [
       "'text2speech.mp3'"
      ]
     },
     "execution_count": null,
     "metadata": {},
     "output_type": "execute_result"
    }
   ],
   "source": [
    "acc.text2speech(text, language, speaker)"
   ]
  },
  {
   "cell_type": "code",
   "execution_count": null,
   "metadata": {},
   "outputs": [
    {
     "data": {
      "text/html": [
       "\n",
       "                <audio  controls=\"controls\" >\n",
       "                    <source src=\"data:audio/mpeg;base64,//NExAARWoH4AAhEuWQAb8YxjZcAFMbgApAmAEcCPIAPAMY3m4Fr/+hCNnzndT09CfOehG5CTuhGkr8j5zvTU7oQmc+ocDD3YdDzw9oAjugf4GqXwX/BfhFf6CiuHf03//NExA0SeAIAABBGuaKCxXArHgVlwq75vNKndN+MlZNO/4T/fi7mQ3rpwVg4F/J8J+LoXccgqLBhRSQUC9BTQkkFdFEjnZNf9iXT+phB7tKtzcYtIYgsgfviU3JrMBCI//NExBYQ8aIIABGGlFtOXAMdKwwzpd4pmj+gdiEPKxPFEPCf7DRwiiwimOAFhwYT+71f/8omop/vGkHr5O3yiw/84PEMBcD2JuzT5Po/Dpu8hIfkvYZnHBSNC0wCUzjS//NExCUayaJQAGYMlL2wGEpnKnGwBYkRgekoYcpLAOcasgLGNO89NiADWAEPpDPSBNPf//JNPWhDGwyMcHT0ECJogGyYfKaZP//aX/Rz5cH2uxGq/Y8oeWQLIGYtV7rG//NExAwUiW50AD4MlLyWvAMcmZ1rTAGKheJa4wATPX69C96WkrymzAcNxGzvBCLlyJUF2uHZjxRXEEIf1nffDs2PdvXw0PggIp8sF5Fn////5PXV59IlPiwIYnEUWE9x//NExAwTQSqIAGPecY2ya39fiDvbUf5/GguQWIQlVF9IKSZCUapUJUTAh8Nag7Y3OPEvZ5Lqmca+tY3nW4Vc6zNXKQzNo2NoCV+Hr2Lc7ZfYhDlAqSpymLDGsDMEck08//NExBIWySKYANZwcDDT8bzK3vsXJZn9yHOTbcHzzUoEKaFT/sAAjiKiGj6ln1Y3HhwtWXjc6FMoYZIO0l7ff//7/4Yf+7f63f0FjCpnq////9HpbbUq7/3mr1FZSrDB//NExAkUgSKoANSycMBo9mMMAXJGL4/p8+qRxOk6QIEjC0kZWQueHgrhdYSEQjfGCAhhbzcWIkQy1HEdFa9PcryD/w5/6x3uvW3Xm7+xhgZ/////+in/08EWqukUtXFT//NExAoUSU6wAMYelb1lE7W9UvP/////9Y/2ls1qFdsMUTPgEZk0MISAeKbZAYUpm043AvVuATAZlWxDIO8Nk2vDt4kF9K/bYmE5XWoE3eIkG4n4Vf/UBWLscPILdRja//NExAsR2WK0AMSelfil7UNF//q6SGXmOCvCTHCKjMAMkOw4FqYDSLsTlubB8P3kr5kmwwUth/aGxuPlbtbgN9fAh5+5sMks/0r/+J3viKIt7q+SuF64X0DjMwq9XU1z//NExBYSWV68AMSelBrMB2IizxnA48jRjQI2T40S4S2m24r8xygnVkiZgRYcXNsuWNNds6e6pZ3jeI3zLpJ6/XX/q3fhGvvLwRnUEAdBTJ9Mfz6r5zmesnkkBuEIam4C//NExB8SOU64AHzYlCggMWSJgSQSpaKBR/Vh8mhF2NpQbNWL69zC4jp5xlWVX5E1RhddbBtDkORiqYyh5EmiHkwTIS4LpRI51Van0U81dSBGn0xBYPMQwgohOGxk+WxE//NExCkSKV7AAIySlEiCjdxITjioZDYrQi7kiIu35umul4aTOgdQKYh0bn9V5SPUBcZIoMADgmEUiDYyYOk77auz3MnSPkomeGOB2gQUaQLRBFi4oXZKpqvHkHR2PNIS//NExDMSgVa8AJQYlXRKBJmraurzL0Vmj92qV+uNoVDuviUa/d1+3MuVAs2lyf0yZAksZCyitv/rZT5mcZ5DUD8SSwOycApYHZo6jqlenCqixOXAPCCRUx8Sj4qurY1q//NExDwRuTKsAMQYcd6FsGGxTZbjX78a3dekYbuTHBwUYiAnS/ktIlUDyyXj5rf//SiETyxAXBYAsRChnCxz1972FBbTQFcAhwIg5maFpmr2c6lO+ZylKduUmFf8bMdV//NExEgRyXqMANHYlf52UtTmKIyNlNmI3EFLeOzP//+qHDzjhIIlB2MHLgD2XWQMPn47Hhk8bB4VwWJIkEJMYoy5y/4f/plyZ9zaQKKVZHcwwrozyoSq/ltPRcUsc81J//NExFMSSY6gANHYlUfTWm6LXp3vA////+ZWUBS1lhmkfj7aG1XGjAjtIxUjhsEaZY64S2ZIc1rQf/bX1PWrxVwm5tNJiiM64aYylcrswIChlT1oyGTThlIFBb+lgFnc//NExFwR2ZKkAMielbEI/7at2ztpztVHvEUsMOpYWBIAx8dROIjWVL7/ef////xjkr9aQimMULP//9r1LUrcqCgKambDRorsxpIPJG0wCoDFvjIQJf2dPLee3/xMVzMw//NExGcRGY6YANiSlKtWKr/HrTM1wULULA2CI5RU2BgNh9f//////////a/NVHdJ4ag6RY2lVYLYcXgPy80PRCMGUrBupAFgVf0ANezyzxx3+J65zQQm8b/+eH////////NExHUS2laAANoEuP///yof/5P+6hUL9QY5ATvQKtyQIGPBdGRk85kZJyASajSgjEj0BgjDcbQQWLgXa4rmIwMDBJ0woAA8bKCiBI4LmzgYNtow3PEc53OfLt196hAw//NExHwfow5sANhSuZowhVlABJgOcAGFE8QZNCtv///+Mcxj//////x/jO/ilt528lf4mhseHmJWOF375kYYyco/nsynOzwC2KCIxpFz7g4rtmPCqvEwaGsghkJ1uVBf//NExFAhKxqEAJhevTSJOdVvX7Wr2fLErD8g3UJplwbNk/R7xVQIR14Y2yJpWQYa5Q9vW1Q1MisQjDntQONIEs869l/////qQ2WP/////5mfyZnsn/p2VnabPOvQOsn9//NExB4Z6xqgAAhYvJy1E68romSZDYsMvlNwvVLDxLJx6tEsE0ou7ScleLY8UWSjiIpWP/RwnZdRDL1hZYQy46oujorq+XY2kJpLj9KuXwqrM07W2s/tzoAFAwQghT////NExAkSArq4ABBGuf//Ito//////////LhUrfvP6Rn/sgEQVnBoHLMmC0lomGGkCo6MaMpBuMa1VVVhwzlGpATMgowUFsrs7wlxve8UbRKa6k8cCSg8YESAlA98olmb//NExBQSkdKoAMlElC//+6RMYEQ8KDRYCOHzsd8jSK4RnZkKh///cpmdw4NYtqN+rWXNDCnKpOhpTsqw8GlpW5/6OpXGsm2lA0l7hNeXuYmBSKbELgexpL//3//q1OG0//NExBwRsYKgANIQlFg1FQ+AVBaFR4sywsIPMFwEzSSg9EhARKMZr////+4a+WdBZnFVd//9yqXVUlERIVUyMgEDkQ5HkwMrARdEVFQcok39qvqxwGXMDi0+e1W/Wv15//NExCgSWQKMANlYcHXuexExGXgKFFEAUBx0P7RZH/64qdARH///Qs6NOCQofUqtHywSomp2GK3hqoMwEzxTgubX0HuD1kf0fRkeOjjMzV1muI3/x/bNcbxy+tCmEOQp//NExDEQ4QKAANnecLT2OLMILf////6VuqW4kWgE6aqkXOZguqn4ArLxIAHfyEC32my7ut//+VxdIBXwfOXAJACF35z/////P9X6f9v9XOtSaMte1Cc53QlTnJIqYcWc//NExEASYrJwAMBEuT+MpzH/ng6AqIpFFhwBRAdaAdpuhaEXl/PQtiyVQQUDHQ0RTawvo+9TPBY1N2Mui6faxffCdMPilnu5t3VRlOezybebVrt5cvFJ0s6Oa7c5ro+q//NExEkeUx54ABjSvE8xGbJ0oEiBQkpiLZBJNQgviNFUZJEppy5GiEhG09UnCkxWgM7aC14o04NyRmIW3Oo86inunNhB5E9PT9GiimDBABxcpsk/SqK6OZlMdPvvb/P8//NExCIYEwaUABlMue7Q++00tjLiIxp+d//4d6//+ZsZf++Gt2idchjnrfZPT28+JJ0xmOG0vlkGcydOXiGGDdfdtvM5et+igPCGKt6r1ocxWDLbtPfUCpAV3P+uTRn///NExBQQ6W60AMHQlH15iuyuYKAABOE4li889/5eHeCBSnYQwAhhg0XPd30/TuU3eEgUMQEHH///qqo/Rd/dYTZyeFJSLyUYNBZVHinem9bm///pv5xnGIuZlOwKtLil//NExCMWkYK4AMvelAsLsegBUcextN5WPFWBDGI5HirMjQcaVuhkXK6w4T3hvNXjvJX73cFvVd+n7wGBYjwIAt////qV/2rLfAcsnCWhpZ2rCFW/6ujqWtRqU44QE6Qn//NExBsSUYLAAHtelB8BTSCZmDnnMm9q7DC5lUqqKEcjSoehrS3tryTMW8HU26wZa7kvp8xSzvM6tCoV/6RAU9vICFvQuVpGwLjcf4lqm/9LMjZ1qNi6SAK0MskAnwWo//NExCQSSXqoAMNYlXitB7rWtPNHzJJQCUbmIcmsAhAePo65XLT1rWmZnLey724utoaq/K6MFd2CAu8qAoZch3TP3hj2//n6sYUIoEAFBsQCMJwfxynP+bMIoTcQAIDS//NExC0SAYaoAMHYlEYSAHhwciWuNH7LLa38zf6TO+wsq2ZxUo5jl//TofUENRqsZbCKiea1hl///8448wHwOhaA0FoBgfnokiUoheHx8egjwzAsg2GkfYuSuPY1s5/V//NExDgR8Ya4AMHYlcvkbLTCM9Oy8ioXWH+PSu782EBQOQN+cHosa/o4SAqaLVr6t///2VnJQujDgJk3ImRcXFWC2oyOYRem5zZavoate4+M1/rqurYti23r3UKNWDAn//NExEMRqYKYAMqeldXi0sV9RkQbGwe/AbMIZGYeW8bMMFwRhgoOAsRk0DeE5z5/HM0r7oZYIR9N3Z5ik8E0iCoBoxQHeUocVUMrn7jZ2197p9V7158K4GHX6YpaEBDY//NExE8ScWpUANDWlWLQGCwPBGFZzg41AL4Oiy+FQ2RzVftNvSkQxWF0OB+ztqQL4Lgh+nM6H6fY3b13Fo/fRKljXVUn52k4PzC6SJIfmDbH0WfSFtjVDZpa+Yifu9W8//NExFgesbZgAMPYlJnEmMDuY4X0iey+jNRQaTc7J0dHR0cpKFIYGScIDHMWEXidlUNiDEbwq0AEuDnPwwSIiIRDBQ1dLeRbpdkdaaNbbprXCibdqHJ7DiYUNek5Vyqr//NExDAdgZ5kANPMlAZr6YlVBzqmLRAg5xIsMwoK1ndq+5VZPztTz/To54p5/pjSM+RrQsBpKo6e3vtI0OXRFS70EYbSdQgisJKHGiI8aSJhp4+OPqF3AOpoSG3OaVQF//NExA0RmT5wANDGcCWKARfLfmLQH7fzV7yIIKokKCCigfXryi4RAZ0y4XedOIc8g7s1E6RAFnC48hR//+j6NiqrNvaTdQrkxHQ6TaW141quNkMgwoT6MaDH1tQxY1T///NExBkYeV6IANveleP6f0p4zy6gb4cdzUhbGAuGk4ZA3xMDoeFsLgnUeTA1RcBbAEgZjMchoKhXskS8kSBpn22F8JYyNZzqZQNpkQIkB5ERr9e69FX/pyIhalhU7GMN//NExAoU8WKgANNelbLI+IR8v3zn/ttUqkklWZEEqHkCRBfRPh+ACIHRfKdKqYnQCOdCnB/kJUxfy1bWzzYox775D4jowz+cT4LmhSsUZiOqHOzyhJCd3nHx4qMQYFdg//NExAkSIXaoAMneldmW/PNo536z///zdFYUgaACBIIHC8UoThseqtV6GHqPSyuaBcmiVQ2it280d2yoYNISHPoLCnYra3eC1QqS4bW7XpDkAV4qLGO1AEk3zK4U21HQ//NExBMR4XqQANHYlWSW///84ko1FIjAuF58qixgsjmaoBEUjFx4pceGESQwYghWOWbtcvt+nJ9iWfxVRLKL1/l1ylJVAgcjplFQBOTBBYwfZ8kuoMmMfr///7aGDBXL//NExB4W8YKQANiwlUD940av4ouxhjrswgB8ajcFYX1R/JhggTDGB5ythbixZ+HVcd4HtbO3BlbiBcL3CIjd3mQ6IsO9CIPrUltp7yJqxSRAQN1WYv0ktUva/////889//NExBUSQXakANBwlVu1EXvnnDp7E61+1YZW8MjYLlFB0rO4cbjKI3L3uxp41qjhiYsODLG7rrcWbky/KKnlxxTH+ZA14DYkkh8BWpoUC1////54cWLDgcJPqsxF5oP4//NExB8SGYasAJielP92+QtgRpPC2CTCxqpwOZU3QlUYu1PXCCysmUMLc9olFttLzaA3V82Y6v+Z7iu6Mxcc8pGnUz7G79P//7NTN5PHvDbGUPcfohkTbElO6SNdHQeQ//NExCkRkXq4AMNYlfigWRzG1GVKKO8NaVO4PNk6tDiLj6qLDqHrvUSQKv/DLUC8m1qwWSIVrL/u1Tj3Uz/r9bshWfJQTwdpKCWB3E1GISQmRkRTWpcnJVjbIAxkCG0x//NExDUSqXrAAMNSlVnWPdRzblFeaaBdCjRJemr1bPaXFtX/79y9Uh2wz9kqq48l/C8A7FQ9+ZyZ7Or/esskhHwrBOLwKwiKsMVmrbW+lYqwqwVHheZQge1LeszPbFrd//NExD0SaVK8AMMYlW6xh59BtFsMnRlu1+r5plv0vVbKLgBJISF2ICKAMxU/Zns/ay24cEmIHwpBuWCsOqkp9d3+/p1mKi49IqGALxTgOTpmd3p6bVZfowh1jgXvPEC9//NExEYR0Va4AHsYlORq/CQbiG3bwXxNCICXTMxbMYM1oatU3evjeamp4zI0FiHmEpLcI69boDJHy9+ax9uYSDdobAOhBj2ISRQlPD6YytM7C6jkkF9ag7TV+CJDEFPU//NExFESiVqwAMPWlDKIKWmyMfFKhA1mrIlpTxcfPxvGs++sxpC+oEYBujxNlBLLXNEtq2K/8qLHBSdPBIPLPfXza//hGSy7oSV5vqjV6h0g4gCShbKuFdgt8M1uQo0A//NExFkRoU6sAMPSlcTvtNlOW7OP6yyx1lvHHLK6OIAJJHZwKToCUZVdraZ2bW1n0yN0ejatI4SXUQ3hVQUL4/5fltvFBqCS6yfKja4AqwHOMD0mW5NtV3j+m//8BR44//NExGUSQQKYAM4YcQYNmcv/9kzL/////P8vMpZHy8p3BujqyjiXFhxw7KLDmUSE8dBGLiFQMXA8YQHHCDcsSmm8RHYRRUHzLmqON6hqERzioDDxUz/////GIv////////NExG8XKp6QAMFGuP///XEVUVytom7epNoHBLKUCwgPhBAsG7huRMFlEMRWSjyHcJgFw7LSB4OIWcA/MF7MPPERjbuXGg3LcWUYDSmQ8cRVDxtoUYIlWPg5shn///Ow//NExGUYOtqUAChQubchP//2+v/+voqqXd7KyqiXqguzHFwUrlNUjCQ11dg6HUKweQBQQWI5hIVQaxWMMHjUEhZSGQYKPDwCVQJgEqIi0K4qJ4ppcqQogghKq+3/SjCO//NExFcR+pKkAACKuONwOEIaAsPhgaKinN3PnOH2FwOJihTKhNn//WjkQyFLZUyoZ7HMpTDw6HckSI5ENODSHi5ioOpgZpYOR53I1dnqLWqSQMrCPW5tjqYhcA7B0JYN//NExGITSdaYABnKmEKKPAxnGZ86+d0Y7vnTwfabO8YBcCVuEfUS/X01U+boEsUCQTRrSGxd5Lhiz5m5uu+OP5QMixV7y5wyNA5FRRrv9KjonQPAhRS2iRXwRi8jR56H//NExGcX0WaYAHvWlARl0r6JiRxDgcgTBC3c/YinaDmFPX5/yixJVtgLqhJKzqCBg21Sql00qPNcfGq0fxNxVlqSc85wTwGR5gkeJi4pJjxAMMMd8JuJf/2DCg9J25b9//NExFoWOQ6kAH5ecPecp8D2PptFrZwaIcJBAPsUUXo42dklus/PomB55HaRJqQgGaKpFhmNrSl4UW3vnHgUtR3tduCcSjauJpnOW8+B6Hnw60JQuGS5NyP//+hoAVX///NExFQUmSK0AHxecI78GttXQzeWbB4PAknNJk1yuVFuusW9f8fOsGR8diMPRNEoBV3qLluW+ZmerzTzZ6tfMdZU6GnSx6gr7DFv///dTNrV/2jen/J8R4u4bB0bFDUz//NExFQREQ60AMPYcMMqr//7OURFXAEFeY3/8rSiJlR///9f9/e2l5GV90bRkO7nSjQ52Azoc1TKYacWKYEEIgc7syDghD4EZtrpoZwJrCtF8fBTLw0lA///////7a5q//NExGITco6kAMFEuLeJKw8xVRTKiiKMcxlGIAYKweDWAYePHFDwyHTGGoh0HoJFcaQhCFE4U62V9vJ/teTAJhOELROcKMDHMmXM+738P///////oXpmlZSmhjQolylZ//NExGcQ4o6kAGgKuUBATGDOJMUBYplDCjlQxQwFMYxoVnujwxsXrgbh3H+N42q5AIXQ0H0TTbIIIRAamA50RzBIK89eVXu2P/7/cvX179AAsofh63u9vPd25MLPRpQD//NExHYRGq6EAMAEuQGF7ZNCM//////////1sxGLu8EQoeECMMzhCAZHfVKzRgIFFjNYprfaYeJjoEaaPgYAYyl5YmYE5/P/6f1//zmdDVO5q6BWNiDbFaywqVbLwGY5//NExIQT8lZ4ANmEuc0lGX9RK5FlNFZNUidv////////+V0KhlYOK8okQgkomFyIKEFyOanmllFYF6TATzpgYbCwsIaQmSwdbvGn/zP2YmZAYLQFgPF4kAvGRIKED6nI//NExIcW+mKAANvKuaI7VwYQkJMMCRJcUUKHVn//rP//57VzUdmkDM2P//9KNKnmtKrvIkNRz4INJOmsrFGVX8sih4KbhbWXwkMxj3WNv7M/j+duVSmBsoZom6pgPqQA//NExH4TyX6YANHSlFTHogOWtpDZAY6r9J0Oo/7LHIpnPiTKWDlnETFsGxgJIIjkS2jK9a06r/tfr7ljtxerD9PnZwht9KrR3esoZtZaowxmiYj1zz+SuwEiH/+/Ji6V//NExIEgmZKYAM4wlClV7qZLcWYZKiVCJtfKYk4sk7GTigVMlHytu5z7lveNne4lLKkklcvmm4qfLRHCAdQwowb/RowhwKj6A1OOlkroVIMeiJzqgMNpyEJwcSUF7WQn//NExFEhIZKgAMZwlMGrI9hINIGUy5iUcxdyhlDzzsOPi/TxW5C1JwmZtUbqw1WqBYq1yFU26Uk//+lyqlORSTX/2yO3uCVLJy8mW0/JN4Me56RN/8/4+cWp5FBE0wOT//NExB8TMWLAAMPYldN0sZqBnBbkIYy/LuuxPzZukCpjh7H1moAJzQvH8urbPyl/Gvq1Hu73pWYozvX8ZotY82MUNAYR6hr/ZQ1NR9Svt/G/Z9u1GFlhNzOhqQJyqZRX//NExCUS0U6sAMPSlUYrc2siHUjVhK4y0sTXALGlUKFEiWRNKsxQ7GJCSwuKrUlnxYz5VeRoZGHHwA444QNDHvJlB9i8yDh56NBpYc3CBfG2dmbyrR5vqpUk7bnQXS9q//NExCwRgQZ8ANPQcL36//r0iuRyPUmPpNJBgWCIYaLf/////2poxmqEGMSKAzYZGmmPn7WgYOShwhCdmKoNDYyaaoMD8gt169dxlLIdc0kdB57NUOYVYO5JxW+U8WYg//NExDkfeX6IANZelEp4xyxclNH+qrPjOFJKuFl9EhqsCcFIZDrJ4oHjIr/JFeVhwirDDSDwegXNiRiHx9w2Bw3mFE5//f/5ClLdWMbRitH/0P/TdWg7oVHybs3GuICB//NExA4VQVaoANYYlNkBLr6qbXu51ctc5AtmWKKtMdh3BEAAJX7MrBrpjE7nIuZ17Gv3SZYW9d4GNHAkEevJivVnWLU1VL8JqqODAlmUSg9PpGJq7qSglPtbEdgCLobc//NExAwRaUqgAMsMlUMuAOih2bH1l2a16awGSYSUjbINROAMvOTK+PbNXa5tZ758BQCgFOKCjUTlz3/nmkTQCEzJyeggUFVokmMDxROEkbMyQDUsFQkDiLMGwMfgqA6Y//NExBkR+O5IAOvOcWgNiyEjAEodK85yxbe0sXLYW1Kt5BT4SwoCYRSotO1/7mjyCkcLmoqqXfy9Lvl0lS8woRCu8YITIomAHhsjoJNBhAUBgQwoSBQxZlIA5bX0n73v//NExCQbOWJkANsSlHuwZksG5eLEAIDiBteHAsHM3WHbzJYucRRtBQ9JEeAGaisSJvegtJi25ztumFBQhFcpMQFDCiAMAgJw+GC59Nlfs/W/P5DnKdf/pnSYrTSogNHg//NExAoUeVakANPYlWgYCWHV0zWR3q71r///G/4EKHhjisj1pNBEocdoh6KLAc6Fx/ifYWvADgBry2HA6FcSy3jnWcpTbucvgq8tEstpHTNXmHlp+v/JsEgjz7BXQB+t//NExAsUsWqsAMtelcKdBhSUayf/6220ThdJE1JgmQ4iWC3D+seIeC9QEPKZIq00yfHkqS2GCqYTYV0eMfizr5iamws9MotFQ4rGqIiqq7jUHNK6Yv/TZGzTTwnHJN18//NExAsRuYqwAMCelSNLDVMdN////qV3A9mNNRKISOlZsrSTM7eZhyub4WxicHqHsr+j9lvhotVlOF64p1m3I2R/hWQt5nisrf7QgkKzWPM8OMbUthqHRYDO/U/+/6tR//NExBcSEYakANFYlXUyKJAMLGRiCWSmaBMiIKQGxuJw1gNEUAwcnBmatP006ezVubi7Nge+1YG46uPreZVVv9ZQcYm608BNBH6a8wkDJ2coJBra/YPOvjKcdbXbSfBN//NExCERYQaIANFScAs256Z1yrJOGjUQFD5gmJRzE1hIr/liZZ///7VAyAZEGQ4PJKXLatxmoMmcygchDKwrMwkZIhWMATgXFyARH93ttO8v/N+EyCDQrNoEaPT8FrQ///NExC4RoSaMANqScFZySmAOKogbJ1rRt2DjTmQU4iPYFv///rX6i26aCRgIxhXkdkTJZqzIBklkOeasv/7+P/86vlxgRFRZzXKPam1R6gVy/VzRFPhrP4Tc96tT88IL//NExDoR+TqUAMtecTQKP6w48yz4nu+QAydM/JsM5RJvB17YyMvD8FJr5XQrf///exmF3KBasTahjVqdRwZkgqXyEGshYxDtbz5QUztxiRXe2CJiBLnMS/ltf6gx+Ksf//NExEUSEXqcAMFelHf/+ur84i0CCB0KCw7ftdIvdmebF/Auv///oj5sC6XVz80G46UkvrZdVO3DkMpMG4HQc5f1Ur0Nhq9Wx1x3kdyhub2mokzG+kr6P/LNmJX9wYlD//NExE8SmY6cANCelQUSjn4QELoCDOTRzp9Wez6G0KowCl4GYNkxEEENCaWhqHUgDzdQTUGDzr3D2PkL4uWvIoPfLzy4VNv94Bw89jKTD2o4Exe9ZaEloWOrdsvWE3yQ//NExFcPgXagAMgYlTsQodYXg3Bxx0eQc33ZPGlCTtXKoulrzQ4s08z2DWyVnmcYVZA03//6Ut1HjBA+tdvQqIngnVeGy9j9Z81////58GsbWE6sjdNZJK4YJtrCGD/W//NExGwQuW6YANgelCIdScb4rk81JuDmLaHiDiI1xHF47bmN//8ueHuWoxXt3EwSyNyAcXnKAo+z0Edtc7////7aKhjIZCgKBQ6IgCBRAPFEnMLOVkm//la3/rXstJLr//NExHwR2WaYANhelHvo+xtjGKg02GAiLmE6xZxxFkuqpmgHvjwfEchhUmjQiz///////9L6s8l5tWVCyig84Mtgg5DCse44c44kQWwsRDqQovcTqwgABcOGU71u6a0w//NExIcRyiKcANFKmAcFQpj8GqCWJw6bt////////rX///Syv/yeTSQjHclDyurnYiIcDcgN0IJYxAlkiCJQgU5ECI6u7AwfuvRGXdf7sEAUxWK+yAJOeDMabR9nUz1///NExJIPQqqcAJAKuP///+uYiMMB4bBfC/PJBXFsfj4GwkFwiQCgmj4Zi3b9JN7/CWgwRBgegLicJxFF0oggbU/z8pcHRMWNh39VWVqrNjVnNFZhhGX5jh4v5uG/H4Mv//NExKgQepqgAIhEuDwiBY7ldarH5THCYNd6gMTwxbhReQAQWrTb9H///TpqPop4O6lBCS6kzeZYXI3jD6w8xHoMGnT8DICC2LTJU7bWssq8u59S7hTRB2c6FibKJHFY//NExLkbCoagAMKQuFq0zctrROmDB5Pc9/9QNiVINlA0QVimtbdS6v1dp1m0Cd4xkonqnYCFQ1t8PT//vo1DC1RWL4+EYuq3knNVmZAyy0ZjQDkQTWMMVZYjEN8EXIa9//NExJ8ZkYaUANnwlExG3cFwz5I+LvHelOc6BhGgOAUlteD0HFZjV8w8///4qeTI1f/bP5DVhoDqEWb7gAQ6GozTQwMhqDf+1ab3mczC7jyJhRGsN4zbzfLTOT2e9dly//NExIsWyY6cANnelIN9i4zoW0kkZKKRvcHkZ1q9LesPPgQ7WhqLTBzvVMi/aGDoc///FmM0qv5bTtalSugC/N0xC9jI9xrbAlbvMPX9v/v+3+cekBmgSE9ePFEK6fy2//NExIIWCYqoAMtelMtK9VC4hdNKYBTJYA0kKg2Zcs+X+eUvso/ylK4IsIjWXGVPDpD//36zCK1huohhLPuQ+ylarSWYFlgziYjlMCki6P/qS/w4qHQfByQHwLhg9dv4//NExHwUwY6oAMPSlPlYaVQVNPCYj/qrIlRE91Dvf+5aGRUwljipUEDxTQ8WRJcugLNROo4zE8gy9XX//7wEv///L2l/+37WXLOjnajSfp17WRN7LRN0VUVXdCJVyFqd//NExHwSQQaQANNQcBw5lUW4QYsIx3Oglmi3w6BfZLEFKloBNgkRwljZa////2z6DTsrav/p5PZkd/+1ez9Kz+mf6/RGb3Iur1V2OpCMdDnlOeIK5bnEw1TqhKDBCIMM//NExIYR0rqEAKBEuWelRdokgPxKD4PaJ4QtFYgCnTpl//+ejCzHkK1/p/Wh10Y/fT/s7WNoy9Xzo/p1RO9NtFfRGtZFdmdlMWzqiGY1zmYKiUaO/Yo/4bgrXHy17jBD//NExJESItKMAGiKuWWFU6R7F5tPQFIjD+pjv2pFyq9QNYpT4+v/f++Feo8jfLmnk6S9/DtEclkahBQTF1NF4OwCBhGr//37O0TIGf//5cvFYbnFOoSt/lpa1uooA/W5//NExJsRGp6gABiEuXJWy1ZIH7KRHAAahT6kfGK28H2gTyTM0N2nV0iTNHJoAXkGfBqFTAqv1t53U65kex+dBcNy0I4HwcQye02xktr5vk/edvmzmr39jwFgQM///+v9//NExKkTMYasAMPKlDy6E9WVyxswwBSEHFswR9aSluqcdJFcoESIkLSI6GkGqh2lYcZcUQRfNnnH6Pmx0dhkMC1I1OmpPaq+piGN+Pm6bWn+tpXOnlkmKdh1nUlB0Lbi//NExK8WwX60AMPYlBsurb+cf0+K+8bGd4lSDkngKpospSLbeguUWPzB+RfqCsTBOIg4A4V0Zf1tx69q0pHM1mbT1aN0ykOplf29Y5dQeemcispn4HMGzyTH3zURW7k1//NExKcRoYLIAEwWlJ3+2kgPAnDyPizx02sdotOotXR87Z5eIxcOwpfLw7Rnv4yto9b2um1pdJHAQPCx1VKpKkVZjQ0ExmigHdysHNTNPO0Vm//yzZ58Eki51q7z+2Ul//NExLMSEYLEAGvYlWVvAIBC4OY0qeRNz80JK1A0gSh0qMBqxbhn//+HFYuRF67KwYiuUQDxt+wCjZDiZcIGdAKwRfKHvrZ1aXeUj6tQ1hYuv9WVhoCjnDowowPD2cSa//NExL0RgV64AHrYlWf/////////+/9WMlgQpAmUc8qwYZF2QUSUpAvibBnHi/i3v//N+7+9Qmku/0WeHAeFg3AXER/IQhDD3RITIMuBRP/m9E705/4reyz92IDgF7gr//NExMoRQRaUAMmMcAX3wKChQeTCUWPFD4p0HFi7A3HkU8ClSHANDEFKe0F73aAJfn8CB4+B6RGfO07//VV83pTtSJVnt8r161X/3+qpqooLi4KaPG3JFp/cWq7Wwy6W//NExNgRekZwANlEuf5mcmZr02ykusRbHM88cyZrD6MrPIZ6uCQxojjHgTSqP5giMw4Vkg1qBAGik0K49CGHRYRkwt+0yceTQBz5kkNvuRswi8kScM04ExHWNFjH1/lh//NExOUbykp8AHoQuXsrqHcrbXX3OPcV5eYfeZsMFgAA///rdCgQUZWRb6P/2+v//j6/1/X7tFxrV4VYGIbxmn99wb7hxWp9mMrGFnnV8Beb0JjUbFSrLrbOrzoishOj//NExMgiOuaMADIYuYD/LI302xLaBMcxJlfCV7LnEVhamDKMkvGTjjd+vJBDZW+9MeR/JNM4VrAewqVj7rqHfx5p+////CGv////////////5b/+uz59/7z3zX9TXntc//NExJIdOwqcAACeuVWagtqh+zkqJjcckickDLk0iYuqmco5Iio62NljUca5hGFUFdOucUDt86r///////a+GuuZVdpXJaakVQWlRBEVnUofQsIQLnhxVhUYMEoLRCAW//NExHAR2rKoAABMuQ+aw5FrKD6TWsVtRVRWnNDpB6r2SKlDDuouHb9LS+LV/2Y2ABuQG5/T3K//C4gARhFAy3fOcd+n8wY6Of/v//ilGxkbInb1fH7HHpq6fclZVvNN//NExHsRyrZwAAAQuVqjj3hOKuMjLOSAQwvHbzTLm7wrHlX8dcE4VF7PFOq6v0PYi3nWvOo7zWNUVlWxWUp+2MmmxWPNXpHh7vD3jN8v8VvvVKXf7/18a9M7hxw8usRG//NExIYg6w54AAjeuTQ98Ww8B9nkIeqnGPvGdY/9q93PMcGwGJABJ1TVui2BuJKGdhf722mdnK2pFFjLDZ4cnTkK1EfGzyEuWsAWVsBeYoAtIQzAiVyaZl49LTLdlh8e//NExFUgmwqQAHiYuOXpEm6FJjLVGF0rI23GzqmtWta+fa2XY2a9jOR5arF5zctdr5rW0/8/8/j0pVXW1ksulaQQ8DMGVMDgow3eXZ9r//+eaKhFLkxaCoB4rK7f0jBw//NExCUQ8cKcAMnKlISCwBvWt/pOSwg4qrscynas1WSjlYwigedYCJ3e763GaRMizMAVZUxMeNOkbRrEZxHKH7nov//rRZZidGCGGJQLIChEoOIPRsXzDd3/cWOwwKqQ//NExDQR+WqQANNSlQVJl1q8trav/PKVKwTIcQmdXPk2rWAFvYKM1jcAS+5zupuAYUHmgLpmReK6J1o3P///8G1ovA6IEDw5AhHgAo3PI1Wz6rtXOWCmJHaRVWzn9b2r//NExD8R0W5sANLMlfY2WsFI5ptCqgKBDABlPrDc1meTQeaMGtU1CVjVKyMjgkYE4sTS6S7mXU0PY01g8Narljx4kK9VhYqKU+/rhIKsexDOvs2o1V7E9esS01FgSZsl//NExEoROE4oAVwQAC0zxKunYYvNrHefj2T4fm60/2pnS+a/QQ5SLQZbJ4z/ZNTrcZc1FlhfwQQHB/TTdBDGAOWmOcMaTYAh/zM3KxACobk2boC4RzgFIhBlBS4XCDIA//NExFghGypQAZiAAK//6Hd0NTLGALjGRFBi3lYiZODmEMHYYf/+7PQ+3xzD5QKBUK5FyDmiC1nT6lnA9sL7nQgBAZxAAocJwQgD1DpgaN////X/DHuBABEWNALgHkQd//NExCYZghKkAdRYABVoGltNz/ZxcDgB5ODwif6mTSnwcik3WSDmSB89Avjtu6HviH00lMKU1HGR/o/VsuG9P66k+wIvIBYPrdNdHej/mWuXXQHlCVI2m6HYkHcf///6//NExBMRSW68AMKelaVNLkRGDRBdAcdbUKFxn8eRWxl2XK4tiUcDiOSK2ZW84u88CXWWykRuZNMh1w4bc7lIVf76q+VsUSgMpKa6yZ3eu////5tBGYqBIAw9j+HI6ATP//NExCARsXawANHYlQcRwJC8esJThHEQVgJLXiSfooURy8SmbryyYVH0eghULiaI8B/QBf3WTkpnjaCcEF00MRdf+Hdf///+zoYO+cTYY1GQAlpO0OYzQYEUXJCNE5QE//NExCwSoXKoANielBXZJWvClcoElnKqhpHZDqUZeDCQStSbdPGEKf//RpX69kwYJPBu5gnQ3yAgKULKFg0m/d///9qFSrFBjWhGkSJBoobyOip0fSOSZoJ86lEki9J1//NExDQSeXaUANCelcW1xziNJPir1xXaqu4w4D53NmCwuLTbxKlM3SEwQGQgMGJRkNE8w4GVTgIExSUyq+hyo///6thjlMrSmKTiMMiECREPOFQKiyJXEU81XJVfuNUi//NExD0RkWpoAOCSlCq5KtPESbpEZaoMAmCAjTBzDkMTlgAyAQHjCGAFNGlOUPY7KG2ioM9EmKuC6kIFCbEja5TvttVNZTuvYEbiD2daj0GgafZtqL1u0W3Uz66v+1ld//NExEkSKEYkAPaMJJCsMn+DiqldmcyjDlyO5GOZ+oTm3sIIMXYmUBAMIGF5E8mE28nPV29/bLYHC7uiGFBGmBEp2fURm+9Z75hAtMwgEAoJ5AQAwMdSo4p05X6FO4nQ//NExFMYwWZgAMJMlCcPw+QQJCZDBBYfWHtTpepOKEQ83hDBbyxjcPALxJnk4RLRmywbX2pYiskEIgOmkKIMsBQkbTEo3pl7mUnEWNsxhFJrDjCMiXRnGcNh+CxMIxEB//NExEMf0vJ0AHpQuWAPPceKwh5wqUexhhBLB1jA9iDqtrMXiKanrruPSevi4mL+OXaYm/T5nT+IeKd6Tvhb51eOrmPrxr1CJZXtlfIXIHmJkGrnzaCn1UzPvPusWfcR//NExBYSqUqYAMtMlJADYKChLCgTQi4FHJwwgwhdJRZwzTTTbV/////fwxkM6Cs6bvsvsXoQQQdAb6P///////9K/UlSlb2NLAhFikwqKZf5iDIboTy6Zq3xDdbTJRKc//NExB4RuVawAMvMlaM8xGQ0CEKWeHH3H9Pr+n+N///t/dQ9Itmzr7Z+yEAAW4QBpCyeMQiJ/ynPkkY8ZhTQIjCfAJU4nu1nGsZw3Krp9MqleASL1P9VTZv/T/7//x8j//NExCoQEVrAAHvQlbLPFYQtYprv0nIJBscDYNB0Uh6nwUVV/7kZ51Sn6gqESTjXG1SOY+Yvvr99uIbpzGehxBUNAF4mx5rlwpW3zf/6+zO3ryR0xVuLn37fk1/rXohF//NExDwSMWK8AMPYlaMFoSxniY0Xe05jepn/1C9XVjdxCy43igkJhUJgNrbVWUkkhfjmlEPZAbi6H/EAiLmRVXQToNX8uoKjabwdXjE1tZnzMhutmbG0DIfMNFjt2zvZ//NExEYRuWq8AMQSlRD/uyLWCeFVmAClagEyglV0jD92ramasddAfI+Dw5ILgUxZ4wjJjIwNDBTr+8yTMxk02dIoWYvznN+da5jNMHRZlc0lI1HVjL9q/4Ln9LYTNrEF//NExFISEWK8AMSSlYSrRJ3gWXT57jGv/811j62pTpO5InaSAK0/TKFtVLAn3WKRs1riV68o5SulVlOvLwn0upJ4LK9g4ywzf+RUUyzL+OF4VdNYMMUStZwbsyJMLLwg//NExFwSeTawAMPecUJEQmHHf+csqMAqCUwE4dnlxyXh2lrHq1r01zoYrQuLrHTuat4Cu/WcR7j5OGJx5TEHyGufrVQWmCI4WEVFU////59f////////73E3HJ+xgoiA//NExGUR8RKIAMqYcPh+7i4jigvQKxHDsXKDxRdyFFziYMsyHcXPDirkURT5OMkOxFuzHgsXebtDHLFz8Xe6tHIPdEM6RNJf0l4nF7ABCvaZv////zX//////////+8z//NExHAXmwqYAChQuZ3zWnHmu8U8JGgEixpWGo4Utqf+nxL1teZIo1VNrzhZGN3nVVZ58xuHXPl0d9POd5k1GV1+FCm9RWqtcCDuC7OPjVX//38hQkL////6smn+ZWK2//NExGQSgsagAAhMuYcOoIjRAeHUdqylIAwuHUeZy6h0hblY2U38ppUcqKiPiKJtLKKKuyS7JUov85Luw+nXx8miqasVbShoCkRGMFhKMYSWtRioOMo2sKmX3DzDEh9d//NExG0SMnpgADBKuc1582txoAMXEsQuF2nxzMywIice8wpKlOXHWui6CbD3Hqc+YXXPhwWuJ+dZB0QJh9GXHJeS7ueWNIZC3QIYwWwE+Bt4aiHq/IqbnibPjGEUIgaJ//NExHcSGDIQAU8YANvRMiqLILRfFxjNCwhUB7I0235ikgggxUGGKEJYN2GMxc5FVN36jUzNi46S6ZfPGRqThUNU//2tdb21pGbueNjx9FB0v//VUggybt262NzTAkuA//NExIEggwJsAY+IAYj8UjzGFf7IExG0gN3OTEOSh94U/mDoOJd1Scp7fJKTOKy9wf8iDMVOIYrxbzTQtngw3+/m8sk8RgORGOQ3zLjKNzhTOnULW4kSA4a1Ak2ztWnB//NExFIaAbqMAdh4AJLbjfWvrWPj5/vnd73zKFxGOez/RcrKkIWzIQhuRnK3F6oJNYu+5eOQp2HB8JSK3mDgLY6L1TeUOuu+7uUlLTMQZmXvZ2utc6LQGOm9AqgDaRpt//NExD0fwkaUAM4OuSQWH8hzCV08kjzl3H4YUxBiDTYHfd1JVlN6ZiDmGnDhAcPD4rEsSRqRLDYgMJZt19kvrUw5HZ///6dzGUo6dlPP/N7RI6aIsXKOrCDTxCl4Y59A//NExBEV2Va0AH4SlNQaIEGU9cpI1WcvHdPLK0OQbFY+ppL1VxwEifBDGmjT1UcvtcgvVFrwoqKAQFYUZKHoMIlI5KF3UP71Lz1UXCpu7///7blKfLUlTViUKrFBnBOo//NExAwSSV7AAI4WlZMgQ4E0ZNW/VDa1Unfj0XlTO2guC+SFLWW8Ws/0WfnHCx31+Dvk1sDlRIStTJrWr6ktlr5dELc1quhQnF7VfLUf8fkZKE5BNC/vCShIHK5r3jt2//NExBURkWK4AKZQlFZFG/I4Q/j3ChK4J1eUJyiU993n1ufq9+RnQHNQCaqHAnNEDsuJTzNC5gq6M6PkdMLV1lqLs/F4bqG4KUOggfhy9IFaF152rNtrj3QAOiNTjDLn//NExCERyVKwAKZQldJOw13aKm3zv/z/3/9+vvgu3BpYwC0QFbuKaTsLsSMo4KvYi9Ogqv+vRZvTIrDYpFMqDwloh6ADjH2Ae4oxwXZRFmg2BD6FJB5SFQHJJ1ZeSo7V//NExCwSgVqwAMSSlWv////m96jIgJi5h+k6FeCS7FKKmDJ9pCa1pwot+/28dWsphJ8EEeMbKKHHGFCdMWgIPD5D4hIHaGgAiw7JZDHg6YipPOmYaNbVf////y/TbiwL//NExDUScU6kAMySlARRAcEkzOqX2kMhg2wAsWhKCgeToqMZCVSYQEJNtofxLTeQawBJAFR6gNoH1hO48lwJstn6hLdN92rW0bFdb////////av+zlSadaMTm+ZlrgGc//NExD4SYU6QAHvMlNUOfo37P//////+qplgAwTCEz1vRkUYzCSRVc4j5SIX/nv52V2Tg3BXRdVQfQTCAD0Iy3tbW1S9vev+n7dfv3fedlpj9WM8MMMauPEN/Ce9P7FI//NExEcSGRaMAAhGcWSV8+dc7Nz8+n01YOxKRBCUXAVhGZe5lsUefpUB6Sgo9YkboeYgEmvFkEBympeGEM+/KazJDFalyCcWaxLL1oNNBUc0BAsO1g/CEKwOATAKgGIz//NExFERQVaYAAjGlDAaDhAmsHCxkXbtLfaruqpn5375P7NlPLXzWbRUNAIUebRsjxqJQWPGRRbgdji1ly//+nVqszq3X/26la00IQTiysyIYHCUzzUx2VofGDJvsoAq//NExF8R0UqYAHmGlBD9wE4rwy4rcpFwuGZsg7qSXZX///////clEnqLhsoeHZ4wRbSBwK2FA4LPTHQ1CvusjpH4A1FlBmGxySRIfOHmATpGQui/gNkLkEUBvDKJg9UC//NExGoRmW6UANQQlEV091f////6EmJg5B6SGgvGS4bcH0YJMIojDILjDw5UJyZt/bJKhCEHjL5HXgREG9QfBaiYsTTp+CciyAdFVMYJRHorFx1p+r/////////+usiY//NExHYRaXqQANNOlHgmKQyJyAmGzmIWIyIYtqqtmbRtQZpn/Jp8qUWHhRTE1YXHhQgrQxZIgQxw0T5IBQLFDoI4IUOLGwdEADATwVSfLlBR9Bf/////////vq06ISAS//NExIMRwXqMANQSlYaMoBc0/HpTxboE1KER5ZJYyYLo39RX///6Vfqu5dzFgFHYDLTgGNMYGQTAkg1RxXYYBCC9BSZlR6c6lc4XMgRU4OTpYGDGhBFryE9AO0p7Vh3X//NExI8VkZKIANySlM86+eevz7///////98QKQKIgeBfw1ZdEgWZflaealuqtLil3ra0u1zapmKAzDBP8nSyStCmpYewAU//+hFEZkrkIf+n7Vg6swSKxONrSHnyRZl7//NExIsecZaEAN6elGNspVhrUBSymqSeJrC0M08j4tcgteBcVaBd9izE4NSHdqEP/KLPc9fv/0/3rN1eh6Hp8ghOFwIwwGghSUUqpmZJNQmDOlw4Q26MkGSO4K5bXLeZ//NExGQcKZqcANZelGf80dVYhf//+0urZHL/pPrwjNrcsdNcbgDRiG4gfFyLyPs7LLWP545Y2uVqOo7UzQNOfpVFSx8yEbhQEtTCMXa+XMc+81UryuUSG81+Srr45T8T//NExEYY0YqwAVnAAVN2qC/cp+54at1sr/LNPVjFPHb8DRuOU0pzt4ipavbvXa7QqPF2AsMNHkqYQiCjhtcmBIRoyTMzVnLmGf6/dXVK2XvOwzzWV5GwMe385G0yiaDK//NExDUfYcawAZnAACM08AkTkgI7G8nMTXVWcmNTziMLTlee46bXnWaG1/GpN3q0NuxLYtOUdLchyMUePJXnEIei3M////5vLLn///KOP+VV5w34oSrfH4lS+mWzRgsU//NExAoUaXqkAdl4ASVBwW6waLstsS7Ktz////v//f9t4rI+yplOqS7EjJcdrYW5nVr5tUK5Yj9Q2RJiEj9esRzO6wt2+bV1vWN/GN1rWurWxWLiLaVPYwgT6EZDvAlW//NExAsR8Q5sAMNecQcIyIHFMOg0wExHwpl01al9H6kt11/8yOZyqRpJ8OJjiK6G96djuJ/KqzW4sV9yPt/klViy/1xIrJ8KbvWsZkTwbAeHXRxChKdd9U2jUHvvsZ/r//NExBYRgU5IAGGMlB5MHSDDAGcEAY8AEQuUzCEfxFED9PHkBYcBlIpxEY6D39iH1No0QEhBwQOSmg/7K/CTiyNCfDiEwJ3HD2LwnKJW9tYxrT9Xx6yHIiQb5hl/FLYD//NExCMaac5wAEvYlAydhhpxxVErk4siYigJ5LXhwLNEeq58vGpm9E/Uzrrb5xzb5ILbx4kMDxy/MvM2c/fpm+sncpXX5pvsOCBP9gn2oL//p/9KpIgFgGgDmI2JIWpK//NExAwViZ6EAMPQlJCMEjsvr3oOrV3//nWPbcGksXLYlUylSSn0TssZlGK0H+7MEQhDhYIg9QUEG5DtQaostHPBkRBZtuQcXHddqta/S2ljjoxLb//01a1ohFCIG+pK//NExAgSIUqcANKYlAgsLZeVRBxy7ky6Uz2aP//9lUmPUoIEwAcF4IsWhLEIAQBjpwJGvNEsmXA4aPozhZyy52/fmKUi6jr7gsQ9g9SF/F8HmrvUPSf8ckJsqzMDd9////NExBISCXq0AMKelf/5k8iUUiIBuAcH4tnumFCr3FikSD2AiDlYkcmDgZNoQ4x6T6iw5JpodI7BW1HkT0j4Y45Z2ar/oL+k9GPNIBmi7dRS//////1sSOcHQaDcKMkh//NExBwRYYK4AMqelXg5aqyeIwP5WZDYh2J1EqSGuWdtl07nkxmM6iQmeOknVuyUYHkR3E2fyssVhgI4Q4DvUlyLDTS///+2lME0zccR8KAmzKWNWx0rhuztjcYJwFiH//NExCkR8YK0AJteleJMjjBw1NFt312qed3RgeIp45s7BRKv2xQN6lj1A8b/z5gxHab4SK2lRPXaf////WkgmxgQBPyUCUHCAILicHaA6J7bZ8+JYkFgGKEW1xESK3m7//NExDQSOY68AMNYlNmb1tSxozDMalk49CKblmT9bB6Pl/6+yWsYMM/wAcynOWyqb7Z///8puNDpIJ5oN4exwHsA5o9gklpQJnpNlSUzEVAyqCEUaBkyyWl6117mxhlw//NExD4SeYrAAHrSlaXihVhRM6opSvEXjP/L7t+5GMYJVzDhAlXrGChsqfir+G+9pMZuWdf+ahhuETpJfEtRqjwpqXWf//XzFFqJgwGZEpBwvEJb12kcS50D6GO1jM6Y//NExEcSGWbAAMYQlXKV/8fu39Q/qP0VGoM6YB2LFepLuno9Z2brrvSwOHZ9ikRnG9cqGp65l3H8Mv////9sk0MHB0HoKSUMPpb7t5eGLMINcYeLjUVhe9KgfOkSWTsf//NExFESQV64AMYQlcuC9AvDcDGiZtZk1ql60twn+RwXjXWrnDNSlvfzW//n///////9T7SGBVGTDskb2py2PdRaNEhlAQybg2lBn4r+bt3X56tO3VzfAsjEAS1xGFwq//NExFsR2Wa0AJZSlZr8B1JUQDXYKjfaGFmQ7I9Yd/v8/f///////+6wo9dAGEAFo6JmcpSKr7YZREw+jiIsQJI4TqXidHWuDNi6gAoJorMmEXLSa1PaitKwxT6umDJU//NExGYSaWqwAH4SlTW+NArz/Letf/////////7+JpDZBQkHUWHoj89/NKHjxRoxMCsgRlOFdiH15PZtku0LIAlBUNJVUB/Yu16mt7tzrP3VUceZbSCqwi1X8h2jr518//NExG8RsXa0AF5MlPP/7/P///s7s90WRBBMoZ/mP/dS9iUySSkCwkHhqfb04W5eq3tB4D0XBleJMyvOfO0tFQ2NS+gdeDGbtBUWgR7YKitvmF7Dm/51FdyongP0BJBo//NExHsRgWa0AF4MlHo402uknj73lnUXU4bZMlGlmpuD909SDqF8HWtT5jY1MRGag/v5y786Wra3hXjNCW1vcCUKIlyWJApkhM+hU1f6zWbcHVWSdUvXaz4j6szWruZY//NExIgRYWqwAE4QlWg5NMrxsbiCJKm0rlTP3sCsGy0cCy0YekitaejXcq3e48x5qt2Fli0rj9mJSoxqkpOA8oLz41GzfvlPAQyc/FcrNMcsXI0a+sa4RJGijv///8WS//NExJURsRKkAGYecdI7Q0FxRqRbfmZv1rJ+wx2LYPpPJVUwsXrFl+7W3WsCNvbEzxKpMvA6jkP7C26ccX8z1hTFlEqUSqNKqA5NxdDw61yD0sg2R/3N//oaYzy6cEaE//NExKETeRKUAH4ecAqDFlw+hXWmaAkbElApGt62W3t602na9OTNS8B661cJRam2s97V3TKPtMeTGV2F1iR4tDq5ItXr+dgrZ/93VzqqCwyQCsdezKN1MwbMNghGDCpb//NExKYT4Q6EAMPecLr+mzn51ZYBjTSMmo1vzskJVaJK3Y9FQVOrc6HZV0FYd4aqEoKjZKpGjsLTrrxEEgKAeIv/K4rsqitLuHcfj98vi/iJRJeRfsUaffn5ci/jLlF+//NExKkQ4RZwAGMYcG/Lzuu8k0lxomO/H4vHhT0rssv67vwvi6xl3G/H4WT8Xd8b82sZdi1MQU1FMy4xMDBVVVVVVVVVVVVVVVVVVVVVVVVVVVVVVVVVVVVVTEFNRTMu//NExLgR+Q4oAEnMcDEwMFVVVVVVVVVVVVVVVVVVVVVVVVVVVVVVVVVVVVVVVVVVVVVVVVVVVVVVVVVVVVVVVVVVVVVVVVVVVVVVVVVVVVVVVVVVVVVVVVVVTEFNRTMu//NExMMRMAXUAADGATEwMFVVVVVVVVVVVVVVVVVVVVVVVVVVVVVVVVVVVVVVVVVVVVVVVVVVVVVVVVVVVVVVVVVVVVVVVVVVVVVVVVVVVVVVVVVVVVVVVVVVTEFNRTMu//NExKwAAANIAAAAADEwMFVVVVVVVVVVVVVVVVVVVVVVVVVVVVVVVVVVVVVVVVVVVVVVVVVVVVVVVVVVVVVVVVVVVVVVVVVVVVVVVVVVVVVVVVVVVVVVVVVVTEFNRTMu//NExKwAAANIAAAAADEwMFVVVVVVVVVVVVVVVVVVVVVVVVVVVVVVVVVVVVVVVVVVVVVVVVVVVVVVVVVVVVVVVVVVVVVVVVVVVVVVVVVVVVVVVVVVVVVVVVVVTEFNRTMu//NExKwAAANIAAAAADEwMFVVVVVVVVVVVVVVVVVVVVVVVVVVVVVVVVVVVVVVVVVVVVVVVVVVVVVVVVVVVVVVVVVVVVVVVVVVVVVVVVVVVVVVVVVVVVVVVVVVTEFNRTMu//NExKwAAANIAAAAADEwMFVVVVVVVVVVVVVVVVVVVVVVVVVVVVVVVVVVVVVVVVVVVVVVVVVVVVVVVVVVVVVVVVVVVVVVVVVVVVVVVVVVVVVVVVVVVVVVVVVVTEFNRTMu//NExKwAAANIAAAAADEwMFVVVVVVVVVVVVVVVVVVVVVVVVVVVVVVVVVVVVVVVVVVVVVVVVVVVVVVVVVVVVVVVVVVVVVVVVVVVVVVVVVVVVVVVVVVVVVVVVVVTEFNRTMu//NExKwAAANIAAAAADEwMFVVVVVVVVVVVVVVVVVVVVVVVVVVVVVVVVVVVVVVVVVVVVVVVVVVVVVVVVVVVVVVVVVVVVVVVVVVVVVVVVVVVVVVVVVVVVVVVVVVTEFNRTMu//NExKwAAANIAAAAADEwMFVVVVVVVVVVVVVVVVVVVVVVVVVVVVVVVVVVVVVVVVVVVVVVVVVVVVVVVVVVVVVVVVVVVVVVVVVVVVVVVVVVVVVVVVVVVVVVVVVVTEFNRTMu//NExKwAAANIAAAAADEwMFVVVVVVVVVVVVVVVVVVVVVVVVVVVVVVVVVVVVVVVVVVVVVVVVVVVVVVVVVVVVVVVVVVVVVVVVVVVVVVVVVVVVVVVVVVVVVVVVVVTEFNRTMu//NExKwAAANIAAAAADEwMFVVVVVVVVVVVVVVVVVVVVVVVVVVVVVVVVVVVVVVVVVVVVVVVVVVVVVVVVVVVVVVVVVVVVVVVVVVVVVVVVVVVVVVVVVVVVVVVVVVTEFNRTMu//NExKwAAANIAAAAADEwMFVVVVVVVVVVVVVVVVVVVVVVVVVVVVVVVVVVVVVVVVVVVVVVVVVVVVVVVVVVVVVVVVVVVVVVVVVVVVVVVVVVVVVVVVVVVVVVVVVVTEFNRTMu//NExKwAAANIAAAAADEwMFVVVVVVVVVVVVVVVVVVVVVVVVVVVVVVVVVVVVVVVVVVVVVVVVVVVVVVVVVVVVVVVVVVVVVVVVVVVVVVVVVVVVVVVVVVVVVVVVVVTEFNRTMu//NExKwAAANIAAAAADEwMFVVVVVVVVVVVVVVVVVVVVVVVVVVVVVVVVVVVVVVVVVVVVVVVVVVVVVVVVVVVVVVVVVVVVVVVVVVVVVVVVVVVVVVVVVVVVVVVVVVTEFNRTMu//NExKwAAANIAAAAADEwMFVVVVVVVVVVVVVVVVVVVVVVVVVVVVVVVVVVVVVVVVVVVVVVVVVVVVVVVVVVVVVVVVVVVVVVVVVVVVVVVVVVVVVVVVVVVVVVVVVVTEFNRTMu//NExKwAAANIAAAAADEwMFVVVVVVVVVVVVVVVVVVVVVVVVVVVVVVVVVVVVVVVVVVVVVVVVVVVVVVVVVVVVVVVVVVVVVVVVVVVVVVVVVVVVVVVVVVVVVVVVVVTEFNRTMu//NExKwAAANIAAAAADEwMFVVVVVVVVVVVVVVVVVVVVVVVVVVVVVVVVVVVVVVVVVVVVVVVVVVVVVVVVVVVVVVVVVVVVVVVVVVVVVVVVVVVVVVVVVVVVVVVVVVTEFNRTMu//NExKwAAANIAAAAADEwMFVVVVVVVVVVVVVVVVVVVVVVVVVVVVVVVVVVVVVVVVVVVVVVVVVVVVVVVVVVVVVVVVVVVVVVVVVVVVVVVVVVVVVVVVVVVVVVVVVVTEFNRTMu//NExKwAAANIAAAAADEwMFVVVVVVVVVVVVVVVVVVVVVVVVVVVVVVVVVVVVVVVVVVVVVVVVVVVVVVVVVVVVVVVVVVVVVVVVVVVVVVVVVVVVVVVVVVVVVVVVVVTEFNRTMu//NExKwAAANIAAAAADEwMFVVVVVVVVVVVVVVVVVVVVVVVVVVVVVVVVVVVVVVVVVVVVVVVVVVVVVVVVVVVVVVVVVVVVVVVVVVVVVVVVVVVVVVVVVVVVVVVVVVTEFNRTMu//NExKwAAANIAAAAADEwMFVVVVVVVVVVVVVVVVVVVVVVVVVVVVVVVVVVVVVVVVVVVVVVVVVVVVVVVVVVVVVVVVVVVVVVVVVVVVVVVVVVVVVVVVVVVVVVVVVVTEFNRTMu//NExKwAAANIAAAAADEwMFVVVVVVVVVVVVVVVVVVVVVVVVVVVVVVVVVVVVVVVVVVVVVVVVVVVVVVVVVVVVVVVVVVVVVVVVVVVVVVVVVVVVVVVVVVVVVVVVVVTEFNRTMu//NExKwAAANIAAAAADEwMFVVVVVVVVVVVVVVVVVVVVVVVVVVVVVVVVVVVVVVVVVVVVVVVVVVVVVVVVVVVVVVVVVVVVVVVVVVVVVVVVVVVVVVVVVVVVVVVVVVTEFNRTMu//NExKwAAANIAAAAADEwMFVVVVVVVVVVVVVVVVVVVVVVVVVVVVVVVVVVVVVVVVVVVVVVVVVVVVVVVVVVVVVVVVVVVVVVVVVVVVVVVVVVVVVVVVVVVVVVVVVVTEFNRTMu//NExKwAAANIAAAAADEwMFVVVVVVVVVVVVVVVVVVVVVVVVVVVVVVVVVVVVVVVVVVVVVVVVVVVVVVVVVVVVVVVVVVVVVVVVVVVVVVVVVVVVVVVVVVVVVVVVVVTEFNRTMu//NExKwAAANIAAAAADEwMFVVVVVVVVVVVVVVVVVVVVVVVVVVVVVVVVVVVVVVVVVVVVVVVVVVVVVVVVVVVVVVVVVVVVVVVVVVVVVVVVVVVVVVVVVVVVVVVVVVVVVVVVVV//NExKwAAANIAAAAAFVVVVVVVVVVVVVVVVVVVVVVVVVVVVVVVVVVVVVVVVVVVVVVVVVVVVVVVVVVVVVVVVVVVVVVVVVVVVVVVVVVVVVVVVVVVVVVVVVVVVVVVVVVVVVV//NExKwAAANIAAAAAFVVVVVVVVVVVVVVVVVVVVVVVVVVVVVVVVVVVVVVVVVVVVVVVVVVVVVVVVVVVVVVVVVVVVVVVVVVVVVVVVVVVVVVVVVVVVVVVVVVVVVVVVVVVVVV\" type=\"audio/mpeg\" />\n",
       "                    Your browser does not support the audio element.\n",
       "                </audio>\n",
       "              "
      ],
      "text/plain": [
       "<IPython.lib.display.Audio object>"
      ]
     },
     "execution_count": null,
     "metadata": {},
     "output_type": "execute_result"
    }
   ],
   "source": [
    "play_audio('text2speech.mp3')"
   ]
  }
 ],
 "metadata": {
  "kernelspec": {
   "display_name": "Python 3",
   "language": "python",
   "name": "python3"
  }
 },
 "nbformat": 4,
 "nbformat_minor": 4
}
