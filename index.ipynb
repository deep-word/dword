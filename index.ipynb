{
 "cells": [
  {
   "cell_type": "code",
   "execution_count": null,
   "metadata": {},
   "outputs": [],
   "source": [
    "#hide\n",
    "%load_ext autoreload\n",
    "%autoreload 2"
   ]
  },
  {
   "cell_type": "code",
   "execution_count": null,
   "metadata": {},
   "outputs": [],
   "source": [
    "from dword.core import DeepWord"
   ]
  },
  {
   "cell_type": "code",
   "execution_count": null,
   "metadata": {},
   "outputs": [],
   "source": [
    "#hide\n",
    "from dword.config import API_KEY, SECRET_KEY\n",
    "from nbdev import show_doc"
   ]
  },
  {
   "cell_type": "markdown",
   "metadata": {},
   "source": [
    "# Welcome to dword\n",
    "\n",
    "> An amazing library to create synthetic videos"
   ]
  },
  {
   "cell_type": "markdown",
   "metadata": {},
   "source": [
    "## Installation"
   ]
  },
  {
   "cell_type": "markdown",
   "metadata": {},
   "source": [
    "1. Install the dword library"
   ]
  },
  {
   "cell_type": "markdown",
   "metadata": {},
   "source": [
    "```\n",
    "pip install dword\n",
    "```"
   ]
  },
  {
   "cell_type": "markdown",
   "metadata": {},
   "source": [
    "2. Make sure you have [ffmpeg installed.](https://ffmpeg.org/download.html)"
   ]
  },
  {
   "cell_type": "markdown",
   "metadata": {},
   "source": [
    "## Quick start\n",
    "\n",
    "### Step 1: Use api keys to login\n",
    "\n",
    "Start by [logging into your DeepWord account](https://login.deepword.co/user/signin) and generating API keys\n",
    "\n",
    "![test_image](images/api_key.png)\n",
    "\n",
    "Use these keys to login to your account in Python"
   ]
  },
  {
   "cell_type": "code",
   "execution_count": null,
   "metadata": {},
   "outputs": [
    {
     "name": "stdout",
     "output_type": "stream",
     "text": [
      "login successful\n"
     ]
    }
   ],
   "source": [
    "acc = DeepWord(API_KEY, SECRET_KEY)"
   ]
  },
  {
   "cell_type": "markdown",
   "metadata": {},
   "source": [
    "### Step 2: Start creating videos\n",
    "\n",
    "**That's it!!!** Now you can start creating videos. We have many options for choosing a video or an audio. Possible pipelines for each is shown below"
   ]
  },
  {
   "cell_type": "markdown",
   "metadata": {},
   "source": [
    "## Pipelines for videos\n",
    "\n",
    "The main function in ``dword`` is the ``generate_video`` function. It's what we will use to generate synthetic videos. All we need is a video of the person we want talking and the audio we want them to say."
   ]
  },
  {
   "cell_type": "code",
   "execution_count": null,
   "metadata": {},
   "outputs": [
    {
     "data": {
      "text/markdown": [
       "<h4 id=\"DeepWord.generate_video\" class=\"doc_header\"><code>DeepWord.generate_video</code><a href=\"https://github.com/deepword18/dword/tree/master/dword/core.py#L219\" class=\"source_link\" style=\"float:right\">[source]</a></h4>\n",
       "\n",
       "> <code>DeepWord.generate_video</code>(**`video`**:`str`, **`audio`**:`str`, **`title`**:`str`=*`None`*)\n",
       "\n",
       "Generate a synthetic video using a video of a person talking and the audio\n",
       "   you want them to say. You can check the status of the video using\n",
       "   ``list_generated_videos`` and download it using ``download_video`` or\n",
       "   ``download_all_videos``\n",
       "\n",
       "Args:\n",
       "    video (str): Video of the person you want talking.\n",
       "    audio (str): Audio you want the person to say.\n",
       "    title (str, optional): Optionally provide a title for the output. Defaults to\n",
       "                           name of the video file.\n",
       "\n",
       "Raises:\n",
       "    ValueError: If video or audio don't exist"
      ],
      "text/plain": [
       "<IPython.core.display.Markdown object>"
      ]
     },
     "metadata": {},
     "output_type": "display_data"
    }
   ],
   "source": [
    "show_doc(DeepWord.generate_video)"
   ]
  },
  {
   "cell_type": "markdown",
   "metadata": {},
   "source": [
    "For the video, we have 3 options\n",
    "### Option 1: Local video file\n",
    "\n",
    "You can have a file downloaded locally. In that case you just need to pass the path to the file to the ``generate_video`` function"
   ]
  },
  {
   "cell_type": "markdown",
   "metadata": {},
   "source": [
    "```python\n",
    "acc.generate_video('videos/local_vid.mp4', audio, outfile)\n",
    "```"
   ]
  },
  {
   "cell_type": "markdown",
   "metadata": {},
   "source": [
    "### Option2: YouTube video\n",
    "\n",
    "You can use a YouTube video as the input to the generate video function. For this, you will have to first download the YouTube video and then use it as a local video like we did in the example above. For this, we will use the ``download_youtube_video`` function. You can also provide a start_time and an end_time to crop the video before downloading"
   ]
  },
  {
   "cell_type": "code",
   "execution_count": null,
   "metadata": {},
   "outputs": [
    {
     "data": {
      "text/markdown": [
       "<h4 id=\"DeepWord.download_youtube_video\" class=\"doc_header\"><code>DeepWord.download_youtube_video</code><a href=\"https://github.com/deepword18/dword/tree/master/dword/core.py#L162\" class=\"source_link\" style=\"float:right\">[source]</a></h4>\n",
       "\n",
       "> <code>DeepWord.download_youtube_video</code>(**`url`**:`str`, **`types`**:`str`=*`'video'`*, **`start_time`**:`int`=*`None`*, **`end_time`**:`int`=*`None`*)\n",
       "\n",
       "Download a video from YouTube. You can also donwload an audio and provide start and\n",
       "   end times to download a trimmed version.\n",
       "\n",
       "Args:\n",
       "    url (str): url of the video you want to download.\n",
       "    types (str, optional): [description]. Defaults to 'video'.\n",
       "    start_time (int, optional): Start time in seconds. Defaults to None.\n",
       "    end_time (int, optional): End time in seconds. Defaults to None.\n",
       "\n",
       "Raises:\n",
       "    ValueError: If start time is provided but end time is not or the other way round.\n",
       "    ValueError: If start time is greater than end time.\n",
       "    ValueError: If end time is greater than the length of the YouTube video.\n",
       "\n",
       "Returns:\n",
       "    fname (str): filename of the downloaded video"
      ],
      "text/plain": [
       "<IPython.core.display.Markdown object>"
      ]
     },
     "metadata": {},
     "output_type": "display_data"
    }
   ],
   "source": [
    "show_doc(DeepWord.download_youtube_video)"
   ]
  },
  {
   "cell_type": "code",
   "execution_count": null,
   "metadata": {},
   "outputs": [
    {
     "data": {
      "text/plain": [
       "'downloaded youtube video successfully!'"
      ]
     },
     "execution_count": null,
     "metadata": {},
     "output_type": "execute_result"
    }
   ],
   "source": [
    "url = 'https://youtu.be/QNE2bmCuhMY'\n",
    "acc.download_youtube_video(url = url)"
   ]
  },
  {
   "cell_type": "code",
   "execution_count": null,
   "metadata": {},
   "outputs": [],
   "source": [
    "# acc.download_youtube_video(url, start_time=\"00:00:01\", end_time=\"00:00:03\")"
   ]
  },
  {
   "cell_type": "code",
   "execution_count": null,
   "metadata": {},
   "outputs": [],
   "source": []
  }
 ],
 "metadata": {
  "kernelspec": {
   "display_name": "Python 3",
   "language": "python",
   "name": "python3"
  }
 },
 "nbformat": 4,
 "nbformat_minor": 2
}
