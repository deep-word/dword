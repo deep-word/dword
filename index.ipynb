{
 "cells": [
  {
   "cell_type": "code",
   "execution_count": null,
   "metadata": {},
   "outputs": [],
   "source": [
    "#hide\n",
    "%load_ext autoreload\n",
    "%autoreload 2"
   ]
  },
  {
   "cell_type": "code",
   "execution_count": null,
   "metadata": {},
   "outputs": [],
   "source": [
    "#hide\n",
    "import os\n",
    "from nbdev import show_doc"
   ]
  },
  {
   "cell_type": "markdown",
   "metadata": {},
   "source": [
    "# Welcome to dword\n",
    "\n",
    "> An amazing library to create synthetic videos"
   ]
  },
  {
   "cell_type": "markdown",
   "metadata": {},
   "source": [
    "## Installation"
   ]
  },
  {
   "cell_type": "markdown",
   "metadata": {},
   "source": [
    "Install the dword library"
   ]
  },
  {
   "cell_type": "markdown",
   "metadata": {},
   "source": [
    "```python\n",
    "pip install dword\n",
    "```"
   ]
  },
  {
   "cell_type": "markdown",
   "metadata": {},
   "source": [
    "Make sure you have [ffmpeg installed](https://ffmpeg.org/download.html)."
   ]
  },
  {
   "cell_type": "markdown",
   "metadata": {},
   "source": [
    "## Quick start\n",
    "\n",
    "### Step 1: Use api keys to login\n",
    "\n",
    "Start by [logging into your DeepWord account](https://login.deepword.co/user/signin) and generating API keys\n",
    "\n",
    "![test_image](images/api_key.png)\n",
    "\n",
    "Use these keys to login to your DeepWord account via the Python api"
   ]
  },
  {
   "cell_type": "code",
   "execution_count": null,
   "metadata": {},
   "outputs": [],
   "source": [
    "#hide\n",
    "API_KEY = os.environ['API_KEY']\n",
    "SECRET_KEY = os.environ['SECRET_KEY']"
   ]
  },
  {
   "cell_type": "code",
   "execution_count": null,
   "metadata": {},
   "outputs": [],
   "source": [
    "from dword.core import DeepWord"
   ]
  },
  {
   "cell_type": "code",
   "execution_count": null,
   "metadata": {},
   "outputs": [
    {
     "name": "stdout",
     "output_type": "stream",
     "text": [
      "login successful\n"
     ]
    }
   ],
   "source": [
    "acc = DeepWord(API_KEY, SECRET_KEY)"
   ]
  },
  {
   "cell_type": "markdown",
   "metadata": {},
   "source": [
    "Now, make sure that you have enough credits available to generate synthetic videos."
   ]
  },
  {
   "cell_type": "code",
   "execution_count": null,
   "metadata": {},
   "outputs": [
    {
     "data": {
      "text/plain": [
       "9942"
      ]
     },
     "execution_count": null,
     "metadata": {},
     "output_type": "execute_result"
    }
   ],
   "source": [
    "acc.available_credits"
   ]
  },
  {
   "cell_type": "markdown",
   "metadata": {},
   "source": [
    "### Step 2: Start creating videos\n",
    "\n",
    "**That's it!!!!**\n",
    "\n",
    "You can now start creating synthetic videos. All you need is a video of the person talking and the audio you want them to say. In this quick start tutorial, we will use a video and audio we already have. \n",
    "\n",
    "To learn more about different ways to use video and audio, refer our [tutorial here](https://deep-word.github.io/dword/tutorials.input_types)."
   ]
  },
  {
   "cell_type": "code",
   "execution_count": null,
   "metadata": {},
   "outputs": [
    {
     "name": "stdout",
     "output_type": "stream",
     "text": [
      "Generating video. This will take a few minutes.\n"
     ]
    },
    {
     "data": {
      "text/plain": [
       "{'status': True,\n",
       " 'message': 'Your video has been added to the queue for processing. Please check back in 10-15 minutes',\n",
       " 'url': 'https://staging.deepword.co/video/u5mjcy5ko9e23m1'}"
      ]
     },
     "execution_count": null,
     "metadata": {},
     "output_type": "execute_result"
    }
   ],
   "source": [
    "acc.generate_video('Anna.mp4', 'my_audio.mp3', title = 'first_deepword_video.mp4')"
   ]
  },
  {
   "cell_type": "markdown",
   "metadata": {},
   "source": [
    "> Important: The video can take a few minutes to generate. You can find the status of the video by retrieving a list of all videos on your account"
   ]
  },
  {
   "cell_type": "code",
   "execution_count": null,
   "metadata": {},
   "outputs": [
    {
     "data": {
      "text/plain": [
       "{'email': 'blablabla@yopmail.com',\n",
       " 'thumbnail': 'video_u5mjcy5ko9e23m1.mp4',\n",
       " 'title': 'first_deepword_video.mp4',\n",
       " 'video_url': 'https://videos-deep-word123.s3.us-east-2.amazonaws.com/output_data/u5mjcy5ko9e23m1.mp4',\n",
       " 'video_duration': '30.0000',\n",
       " 'video_id': 'u5mjcy5ko9e23m1',\n",
       " 'generate_date': '2021-05-04T02:04:26.000Z',\n",
       " 'output_status': 'Queued'}"
      ]
     },
     "execution_count": null,
     "metadata": {},
     "output_type": "execute_result"
    }
   ],
   "source": [
    "acc.list_videos()[-1]"
   ]
  },
  {
   "cell_type": "markdown",
   "metadata": {},
   "source": [
    "Once the status changes from 'Queued' to 'Completed' you can either use `acc.download_video` or `acc.download_all_videos` to download your video."
   ]
  },
  {
   "cell_type": "code",
   "execution_count": null,
   "metadata": {},
   "outputs": [
    {
     "name": "stdout",
     "output_type": "stream",
     "text": [
      "Successfully downloaded all videos in folder downloaded_videos!\n"
     ]
    }
   ],
   "source": [
    "acc.download_all_videos()"
   ]
  },
  {
   "cell_type": "code",
   "execution_count": null,
   "metadata": {},
   "outputs": [],
   "source": []
  }
 ],
 "metadata": {
  "kernelspec": {
   "display_name": "Python 3",
   "language": "python",
   "name": "python3"
  }
 },
 "nbformat": 4,
 "nbformat_minor": 2
}
